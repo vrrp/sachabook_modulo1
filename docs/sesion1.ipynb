{
  "nbformat": 4,
  "nbformat_minor": 0,
  "metadata": {
    "colab": {
      "provenance": [],
      "toc_visible": true
    },
    "kernelspec": {
      "name": "python3",
      "display_name": "Python 3"
    },
    "language_info": {
      "name": "python"
    }
  },
  "cells": [
    {
      "cell_type": "markdown",
      "source": [
        "# **Programación Básica con Python**"
      ],
      "metadata": {
        "id": "aF6cju-OqrtS"
      }
    },
    {
      "cell_type": "markdown",
      "source": [
        "# **I. Conceptos básicos de programación**"
      ],
      "metadata": {
        "id": "CUBz2hqKAPmI"
      }
    },
    {
      "cell_type": "markdown",
      "source": [
        "Los conceptos básicos de programación son los fundamentos esenciales que permiten entender y escribir código en cualquier lenguaje de programación. Estos conceptos son la base para desarrollar software y resolver problemas mediante la creación de instrucciones que una computadora puede ejecutar. A continuación, se definen y describen los principales conceptos básicos de programación:"
      ],
      "metadata": {
        "id": "GRr6VtxMzbZM"
      }
    },
    {
      "cell_type": "markdown",
      "source": [
        "## 1.1. Tipos de datos"
      ],
      "metadata": {
        "id": "mB3WDxVwkysc"
      }
    },
    {
      "cell_type": "markdown",
      "source": [
        "- **Definición**: Los tipos de datos especifican qué tipo de valor puede almacenar una variable, como números enteros, decimales, cadenas de texto o valores booleanos (verdadero/falso).\n",
        "\n",
        "- **Descripción**: Los tipos de datos determinan las operaciones que se pueden realizar con una variable. Por ejemplo, no puedes sumar directamente un número y una palabra.\n",
        "\n",
        "**Tipos básicos de datos**:\n",
        "- Entero (`int`): `42`\n",
        "- Flotante (`float`): `3.14`\n",
        "- Cadena (`string`): `\"Hola\"`\n",
        "- Booleano (`bool`): `True` o `False`\n",
        "- Especial (`NoneType`): `None`\n",
        "\n"
      ],
      "metadata": {
        "id": "t4dSPCNStrMU"
      }
    },
    {
      "cell_type": "markdown",
      "source": [
        "Ejemplos de datos tipo Entero (`int`) y Flotande (`float`)"
      ],
      "metadata": {
        "id": "5BvTVf5rDW5Z"
      }
    },
    {
      "cell_type": "code",
      "source": [
        "dato_int = 25\n",
        "dato_float= 20.000001\n",
        "\n",
        "print(type(dato_int))\n",
        "print(dato_int)"
      ],
      "metadata": {
        "colab": {
          "base_uri": "https://localhost:8080/"
        },
        "id": "UIsCEIlIgbdk",
        "outputId": "cc1c77e5-b2e1-49a8-8b10-a9682dee5501"
      },
      "execution_count": null,
      "outputs": [
        {
          "output_type": "stream",
          "name": "stdout",
          "text": [
            "<class 'int'>\n",
            "25\n"
          ]
        }
      ]
    },
    {
      "cell_type": "markdown",
      "source": [
        "Ejemplo de datos tipo cadena de caracteres (`str`)"
      ],
      "metadata": {
        "id": "4rCfX3zf6z01"
      }
    },
    {
      "cell_type": "code",
      "source": [
        "dato_str1 = \"hola\"\n",
        "dato_str2 = \"mundo\"\n",
        "dato_str3 = \"2024\"\n",
        "\n",
        "print(type(dato_str1))\n",
        "print(dato_str1)"
      ],
      "metadata": {
        "colab": {
          "base_uri": "https://localhost:8080/"
        },
        "id": "qAPgJG_a6xzp",
        "outputId": "fbee37fe-f394-4b2d-81dd-c05025040638"
      },
      "execution_count": null,
      "outputs": [
        {
          "output_type": "stream",
          "name": "stdout",
          "text": [
            "<class 'str'>\n",
            "hola\n"
          ]
        }
      ]
    },
    {
      "cell_type": "markdown",
      "source": [
        "Ejemplo de datos tipo booleano"
      ],
      "metadata": {
        "id": "tGYV0Ui_69MY"
      }
    },
    {
      "cell_type": "code",
      "source": [
        "dato_bool1 = True\n",
        "dato_bool2 = False\n",
        "\n",
        "print(type(dato_bool1))\n",
        "print(dato_bool1)\n"
      ],
      "metadata": {
        "colab": {
          "base_uri": "https://localhost:8080/"
        },
        "id": "H-spLSVi69WD",
        "outputId": "9ada897d-540f-4cb4-faf4-856a5fd0da25"
      },
      "execution_count": null,
      "outputs": [
        {
          "output_type": "stream",
          "name": "stdout",
          "text": [
            "<class 'bool'>\n",
            "True\n"
          ]
        }
      ]
    },
    {
      "cell_type": "markdown",
      "source": [
        "Ejemplo de datos tipo especial.\n",
        "En Python, `None` es un tipo de dato especial que representa la ausencia de un valor o un valor nulo. No es lo mismo que 0, una cadena vacía (`\"\"`), o `False`."
      ],
      "metadata": {
        "id": "uc-hX3vI7GRK"
      }
    },
    {
      "cell_type": "code",
      "source": [
        "data_none= None\n",
        "\n",
        "print(data_none)\n",
        "print(type(data_none))"
      ],
      "metadata": {
        "colab": {
          "base_uri": "https://localhost:8080/"
        },
        "id": "Nmu3rRDu7GZG",
        "outputId": "cef289eb-777f-472e-ebcd-32b979536951"
      },
      "execution_count": null,
      "outputs": [
        {
          "output_type": "stream",
          "name": "stdout",
          "text": [
            "None\n",
            "<class 'NoneType'>\n"
          ]
        }
      ]
    },
    {
      "cell_type": "markdown",
      "source": [
        "## 1.2. Variables"
      ],
      "metadata": {
        "id": "AEbfwTi24CVY"
      }
    },
    {
      "cell_type": "markdown",
      "source": [
        "- **Definición**: Una variable es un espacio en la memoria de la computadora que almacena un valor, el cual puede cambiar durante la ejecución de un programa.\n",
        "\n",
        "- **Descripción**: Las variables tienen un nombre y un tipo de dato (como números, texto o booleanos). Actúan como contenedores para guardar información que el programa usará o modificará.\n",
        "\n",
        "- **Ejemplo**: En Python, `edad = 25` define una variable llamada `edad` con el valor 25."
      ],
      "metadata": {
        "id": "-zRN63ZZ5yV4"
      }
    },
    {
      "cell_type": "markdown",
      "source": [
        "## 1.3. Operadores matemáticos"
      ],
      "metadata": {
        "id": "l2BtGorVeBy5"
      }
    },
    {
      "cell_type": "markdown",
      "source": [
        "En Python, los operadores matemáticos son símbolos especiales que se utilizan para realizar operaciones aritméticas sobre valores (llamados operandos). Estos operadores permiten ejecutar cálculos, manipular números y construir expresiones matemáticas complejas."
      ],
      "metadata": {
        "id": "RUX6Of-cGbo0"
      }
    },
    {
      "cell_type": "code",
      "source": [
        "# suma\n",
        "suma = dato_int + dato_float\n",
        "\n",
        "# exponencial\n",
        "exponente = 5**2\n",
        "\n",
        "# division\n",
        "cociente = 9/5\n",
        "cociente_entero = 9//5\n",
        "residuo = 9%5\n",
        "\n",
        "print(\"suma =\",suma)\n",
        "print(type(suma))\n",
        "print(\"exponente = \",exponente)\n",
        "print(\"cociente =\", cociente)\n",
        "print(\"cociente_entero =\", cociente_entero)\n",
        "print(\"residuo =\",residuo)"
      ],
      "metadata": {
        "colab": {
          "base_uri": "https://localhost:8080/"
        },
        "id": "Rs-wkNHggoys",
        "outputId": "44579cc2-216d-465f-80ff-cf5402383a6f"
      },
      "execution_count": null,
      "outputs": [
        {
          "output_type": "stream",
          "name": "stdout",
          "text": [
            "suma = 45.000001\n",
            "<class 'float'>\n",
            "exponente =  25\n",
            "cociente = 1.8\n",
            "cociente_entero = 1\n",
            "residuo = 4\n"
          ]
        }
      ]
    },
    {
      "cell_type": "markdown",
      "source": [
        "## 1.4. Importar paquetes o librerías en Python"
      ],
      "metadata": {
        "id": "wP734_5vw62H"
      }
    },
    {
      "cell_type": "markdown",
      "source": [
        "En Python, las librerías y los paquetes son conceptos fundamentales que permiten organizar, reutilizar y compartir código. Aunque a menudo se usan indistintamente, tienen significados técnicos específicos.\n",
        "\n",
        "* **Paquetes**: Un paquete es una forma de organizar módulos de Python en directorios (carpetas). Un directorio se considera un paquete si contiene un archivo llamado` __init__.py`. Este archivo, que puede estar vacío, le dice a Python que el directorio debe ser tratado como un paquete. Los paquetes se utilizan para agrupar módulos relacionados y crear una estructura jerárquica, lo que facilita la gestión de proyectos grandes.\n",
        "\n",
        "* **Librerías**: Una librería (o biblioteca) es un término más general que se refiere a una colección de código ya escrito que puedes usar en tu propio programa. Las librerías de Python se distribuyen comúnmente como paquetes, pero el término \"librería\" se enfoca en la funcionalidad que proporcionan. Por ejemplo, **Pandas** y **Numpy** son librerías muy populares que se instalan como paquetes.\n",
        "\n",
        ":::{figure} https://github.com/vrrp/sachabook_modulo1/blob/main/docs/images/preambulo/cajaHerramientas.png?raw=true\n",
        ":name: fig:cajaHerramientas\n",
        ":align: center\n",
        "\n",
        ":::\n",
        "\n",
        "```\n",
        "paquete:\n",
        "        aplicacion_01\n",
        "        aplicacion_02\n",
        "        . . . . . . .\n",
        "        aplicacion_n\n",
        "```\n",
        "\n",
        "Formas de importar un paquete y sus aplicaciones\n",
        "\n",
        "**Primera forma**\n",
        "```\n",
        "import paquete as pp\n",
        "\n",
        "var = paquete.aplicacion_01(arg)\n",
        "```\n",
        "\n",
        "**Segunda forma**\n",
        "```\n",
        "import paquete as pp\n",
        "\n",
        "var = pp.aplicacion_01(arg)\n",
        "```\n",
        "\n",
        "**Tercera forma**\n",
        "```\n",
        "from paquete import (aplicacion_01, aplicacion_04)\n",
        "\n",
        "var_01 = aplicacion_01(arg)\n",
        "var_02 = aplicacion_04(arg)\n",
        "```"
      ],
      "metadata": {
        "id": "bkPfUbC42jFm"
      }
    },
    {
      "cell_type": "code",
      "source": [
        "import math\n",
        "import numpy as np\n",
        "\n",
        "pi_math = math.pi\n",
        "pi_np = np.pi\n",
        "print(pi_math)\n",
        "print(pi_np)\n",
        "\n",
        "n_euler_math = math.e\n",
        "n_euler_np = np.e\n",
        "print(n_euler_math)\n",
        "print(n_euler_np)"
      ],
      "metadata": {
        "colab": {
          "base_uri": "https://localhost:8080/"
        },
        "id": "Z1ub1j7NhJb2",
        "outputId": "c8a11413-73eb-4d2e-bb24-71b7a40f265d"
      },
      "execution_count": null,
      "outputs": [
        {
          "output_type": "stream",
          "name": "stdout",
          "text": [
            "3.141592653589793\n",
            "3.141592653589793\n",
            "2.718281828459045\n",
            "2.718281828459045\n"
          ]
        }
      ]
    },
    {
      "cell_type": "markdown",
      "source": [
        "## 1.5. Funciones algebraicas\n",
        "\n",
        "Una función algebraica es un tipo de función matemática que puede ser definida mediante operaciones algebraicas básicas: suma, resta, multiplicación, división, potenciación (con exponentes racionales) y radicación. En otras palabras, son funciones que se pueden expresar a través de un número finito de estas operaciones, a partir de la variable independiente\n",
        "\n",
        "Las funciones que no se pueden construir de esta manera se conocen como funciones trascendentes, y estas incluyen las funciones trigonométricas (seno, coseno), exponenciales y logarítmicas."
      ],
      "metadata": {
        "id": "Yy8UfA4DBHRK"
      }
    },
    {
      "cell_type": "markdown",
      "source": [
        "**Exponencial**\n",
        "\n",
        "$ y=f(x) = b^{x}$"
      ],
      "metadata": {
        "id": "Xav56FXZETpG"
      }
    },
    {
      "cell_type": "code",
      "source": [
        "y1 = n_euler_math**n_euler_np\n",
        "print(y1)"
      ],
      "metadata": {
        "id": "_nexlWVTET2J",
        "colab": {
          "base_uri": "https://localhost:8080/"
        },
        "outputId": "f738d198-d130-435c-8d7b-bbdf93610db3"
      },
      "execution_count": null,
      "outputs": [
        {
          "output_type": "stream",
          "name": "stdout",
          "text": [
            "15.154262241479259\n"
          ]
        }
      ]
    },
    {
      "cell_type": "markdown",
      "source": [
        "**Valor absoluto**\n",
        "\n",
        "si: $x<0, y = f(x) = |x| = (-1) \\times x$\n",
        "\n",
        "si: $x>0, y = f(x) = |x| = x$"
      ],
      "metadata": {
        "id": "RZtdvnjKE7ZK"
      }
    },
    {
      "cell_type": "code",
      "source": [
        "# funcion valor absoluto\n",
        "y2 = np.abs(-1*dato_int)\n",
        "print(y2)"
      ],
      "metadata": {
        "id": "QpI6EKXnE7nX",
        "colab": {
          "base_uri": "https://localhost:8080/"
        },
        "outputId": "25631c79-8cce-41b2-fde1-046fa59ef3d0"
      },
      "execution_count": null,
      "outputs": [
        {
          "output_type": "stream",
          "name": "stdout",
          "text": [
            "25\n"
          ]
        }
      ]
    },
    {
      "cell_type": "markdown",
      "source": [
        "**Raíz cuadrada**\n",
        "\n",
        "$y=f(x) = \\sqrt{x} = x^{\\frac{1}{2}}$"
      ],
      "metadata": {
        "id": "GnO__b5bFuUq"
      }
    },
    {
      "cell_type": "code",
      "source": [
        "#funcion raiz cuadrada\n",
        "y3 = np.sqrt(dato_int)\n",
        "print(y3)"
      ],
      "metadata": {
        "id": "Rk1RlquPFuga",
        "colab": {
          "base_uri": "https://localhost:8080/"
        },
        "outputId": "f4707ba2-cdab-4add-e799-4840b64a1eae"
      },
      "execution_count": null,
      "outputs": [
        {
          "output_type": "stream",
          "name": "stdout",
          "text": [
            "5.0\n"
          ]
        }
      ]
    },
    {
      "cell_type": "markdown",
      "source": [
        "**Raiz general**\n",
        "\n",
        "y = f(x) = $\\sqrt[n]{x^m}= \\frac{m}{n}$"
      ],
      "metadata": {
        "id": "VGTKdjsyGadG"
      }
    },
    {
      "cell_type": "code",
      "source": [
        "y4 = 125**(1/3)\n",
        "print(y4)"
      ],
      "metadata": {
        "id": "WWjWS8rpGam-",
        "colab": {
          "base_uri": "https://localhost:8080/"
        },
        "outputId": "6f8e8883-3a76-4617-aeb7-b0ce072f208b"
      },
      "execution_count": null,
      "outputs": [
        {
          "output_type": "stream",
          "name": "stdout",
          "text": [
            "4.999999999999999\n"
          ]
        }
      ]
    },
    {
      "cell_type": "markdown",
      "source": [
        "**Logaritmo**\n",
        "\n",
        "$y = log_{b}x $\n",
        "\n",
        "$x = b^y$"
      ],
      "metadata": {
        "id": "B470V5e_HgNt"
      }
    },
    {
      "cell_type": "code",
      "source": [
        "# funcion logaritmo de 10 en base 10\n",
        "y5 = np.log10(10)\n",
        "print(y5)\n",
        "\n",
        "# funcion logaritmo de 2 en base 2\n",
        "y6 = np.log2(2)\n",
        "print(y6)\n",
        "\n",
        "# funcion logaritmo de e en base e\n",
        "y7 = np.log(n_euler_np)\n",
        "print(y7)"
      ],
      "metadata": {
        "colab": {
          "base_uri": "https://localhost:8080/"
        },
        "id": "8WLUCF5phBaA",
        "outputId": "e96c3e35-abed-4da1-8e92-5a0837c8dac6"
      },
      "execution_count": null,
      "outputs": [
        {
          "output_type": "stream",
          "name": "stdout",
          "text": [
            "1.0\n",
            "1.0\n",
            "1.0\n"
          ]
        }
      ]
    },
    {
      "cell_type": "markdown",
      "source": [
        "## 1.6. Operadores de comparación\n",
        "Los operadores de comparación son símbolos que se utilizan en la programación y las matemáticas para comparar dos valores. Estos operadores evalúan la relación entre los valores y devuelven un resultado booleano: `True` (verdadero) si la comparación es correcta, o `False` (falso) si no lo es. Son fundamentales en la lógica de control de flujo, ya que determinan el camino que debe seguir un programa, por ejemplo, en sentencias if, else o while."
      ],
      "metadata": {
        "id": "sre1z5_3eRLu"
      }
    },
    {
      "cell_type": "code",
      "source": [
        "# operadores relacionales\n",
        "# comparacion (==)\n",
        "comp01 = dato_int == dato_float\n",
        "\n",
        "# diferencia (!=)\n",
        "comp02 = dato_int != dato_float\n",
        "\n",
        "# mayor que  (>)\n",
        "comp03 = dato_int > dato_float\n",
        "\n",
        "# menor que  (<)\n",
        "comp04 = dato_int < dato_float\n",
        "\n",
        "# mayor o igual que  (>=)\n",
        "comp05 = dato_int >= dato_float\n",
        "\n",
        "# menor o igual que  (<=)\n",
        "comp06 = dato_int <= dato_float\n",
        "\n",
        "print(type(comp01), comp01)\n",
        "print(type(comp02), comp02)\n",
        "print(type(comp03), comp03)\n",
        "print(type(comp04), comp04)\n",
        "print(type(comp05), comp05)\n",
        "print(type(comp06), comp06)"
      ],
      "metadata": {
        "colab": {
          "base_uri": "https://localhost:8080/"
        },
        "id": "T87u0UAkgt_9",
        "outputId": "f317b0b7-f249-4d61-c052-851c16c8b7a3"
      },
      "execution_count": null,
      "outputs": [
        {
          "output_type": "stream",
          "name": "stdout",
          "text": [
            "<class 'bool'> False\n",
            "<class 'bool'> True\n",
            "<class 'bool'> True\n",
            "<class 'bool'> False\n",
            "<class 'bool'> True\n",
            "<class 'bool'> False\n"
          ]
        }
      ]
    },
    {
      "cell_type": "markdown",
      "source": [
        "## 1.7. Estrucuturas de Control I: Condicionales `if`, `else` y `elif`"
      ],
      "metadata": {
        "id": "MgDuU21Uebv3"
      }
    },
    {
      "cell_type": "markdown",
      "source": [
        "Las estructuras de control en Python son construcciones de programación que permiten modificar el flujo de ejecución de un programa. En lugar de ejecutar las instrucciones de forma secuencial de arriba a abajo, estas estructuras dirigen el programa para que tome decisiones, repita acciones o ejecute bloques de código específicos.\n",
        "\n",
        "Las estructuras de control condicionales también denominadas estructuras de selección, permiten que el programa tome decisiones. El bloque de código sólo se ejecuta si se cumple una condición específica."
      ],
      "metadata": {
        "id": "8r9g7WPoO1FJ"
      }
    },
    {
      "cell_type": "code",
      "source": [
        "# condicionales: if, elif, else\n",
        "var = 23\n",
        "\n",
        "if type(var)==int:\n",
        "  print(\"var es entero\")\n",
        "  print(\"segunda accion de if\")\n",
        "else:\n",
        "  print(\"var no es un numero entero\")"
      ],
      "metadata": {
        "colab": {
          "base_uri": "https://localhost:8080/"
        },
        "id": "Rwi9Vu8Jhdpn",
        "outputId": "a7f3ee00-ae9c-42ac-a266-bc9d9576de12"
      },
      "execution_count": null,
      "outputs": [
        {
          "output_type": "stream",
          "name": "stdout",
          "text": [
            "var es entero\n",
            "segunda accion de if\n"
          ]
        }
      ]
    },
    {
      "cell_type": "code",
      "source": [
        "# condicionales: if, elif, else\n",
        "a = 7\n",
        "b = 7\n",
        "\n",
        "if a > b:\n",
        "    print(\"(1)\", a,\">\",b ,a > b)\n",
        "\n",
        "elif a < b:\n",
        "    print(\"(2)\", a,\"<\",b ,a < b)\n",
        "\n",
        "elif a == b:\n",
        "    print(\"(3)\", a,\"==\",b ,a == b)"
      ],
      "metadata": {
        "colab": {
          "base_uri": "https://localhost:8080/"
        },
        "id": "eBWy8gcrhlDi",
        "outputId": "df50a9aa-eb9e-41ec-83aa-85dbae62c148"
      },
      "execution_count": null,
      "outputs": [
        {
          "output_type": "stream",
          "name": "stdout",
          "text": [
            "(3) 7 == 7 True\n"
          ]
        }
      ]
    },
    {
      "cell_type": "markdown",
      "source": [
        "## 1.8. Funciones: Parte I\n",
        "\n",
        "En Python, una función es un bloque de código reutilizable que realiza una tarea específica. Se define con la palabra clave `def`, seguida del nombre de la función y paréntesis (). Las funciones pueden recibir datos como parámetros y devolver un resultado\n",
        "\n"
      ],
      "metadata": {
        "id": "NnfLSuLUe1Gn"
      }
    },
    {
      "cell_type": "markdown",
      "source": [
        "**Ejemplo**: Implementar una función `area_cuadrado` para determinar el área de un cuadrado, ecuación {eq}`eq:areaCuadrado`.\n",
        "\n",
        "\n",
        ":::{math}\n",
        ":name: eq:areaCuadrado\n",
        " ac = l^{2}\n",
        ":::"
      ],
      "metadata": {
        "id": "tEpVd2RWbowb"
      }
    },
    {
      "cell_type": "code",
      "source": [
        "def area_cuadrado(lado):\n",
        "  area = lado**2\n",
        "  return area"
      ],
      "metadata": {
        "id": "tmrVYVakhvNa"
      },
      "execution_count": null,
      "outputs": []
    },
    {
      "cell_type": "code",
      "source": [
        "ac1 = area_cuadrado(4)\n",
        "print(ac1)"
      ],
      "metadata": {
        "colab": {
          "base_uri": "https://localhost:8080/"
        },
        "id": "J8r4mgz31cH8",
        "outputId": "4dcc4050-b3cd-4c9a-fec2-18447d29d5ec"
      },
      "execution_count": null,
      "outputs": [
        {
          "output_type": "stream",
          "name": "stdout",
          "text": [
            "16\n"
          ]
        }
      ]
    },
    {
      "cell_type": "markdown",
      "source": [
        "**Ejemplo**: Implementar la función convert_temp para convertir valores de temperatura de grados Celsius a la escala Kelvin y Fahrenheit, ecuaciones  {eq}`eq:c2k` y  {eq}`eq:c2f`, respectivamente.\n",
        "\n",
        ":::{math}\n",
        ":name: eq:c2k\n",
        " K = °C + 273.15\n",
        ":::\n",
        "\n",
        ":::{math}\n",
        ":name: eq:c2f\n",
        " F = \\frac{9}{5}\\times°C +32\n",
        ":::"
      ],
      "metadata": {
        "id": "fF-4tWY6dO7e"
      }
    },
    {
      "cell_type": "code",
      "source": [
        "def convert_temp(tc, tipo):\n",
        "  if tipo==\"K\":\n",
        "    temp = tc + 273.15\n",
        "\n",
        "  elif tipo==\"F\":\n",
        "    temp = 9/5*tc + 32\n",
        "\n",
        "  return temp\n"
      ],
      "metadata": {
        "id": "Kr4PZNR0h3VW"
      },
      "execution_count": null,
      "outputs": []
    },
    {
      "cell_type": "code",
      "source": [
        "convert_temp(100, \"F\")\n"
      ],
      "metadata": {
        "colab": {
          "base_uri": "https://localhost:8080/"
        },
        "id": "Y3_tOBH1h63y",
        "outputId": "60f0ec24-e929-4406-80f1-4c92e30a6db4"
      },
      "execution_count": null,
      "outputs": [
        {
          "output_type": "execute_result",
          "data": {
            "text/plain": [
              "212.0"
            ]
          },
          "metadata": {},
          "execution_count": 254
        }
      ]
    },
    {
      "cell_type": "code",
      "source": [
        "temp_F = convert_temp(100, \"F\")"
      ],
      "metadata": {
        "id": "whKO3swBd0Sh"
      },
      "execution_count": null,
      "outputs": []
    },
    {
      "cell_type": "code",
      "source": [
        "print(temp_F)"
      ],
      "metadata": {
        "colab": {
          "base_uri": "https://localhost:8080/"
        },
        "id": "m93li4wAd7E4",
        "outputId": "83b92d26-d9d5-4f5b-ff6a-349ad81c7e3a"
      },
      "execution_count": null,
      "outputs": [
        {
          "output_type": "stream",
          "name": "stdout",
          "text": [
            "212.0\n"
          ]
        }
      ]
    },
    {
      "cell_type": "markdown",
      "source": [
        "# **II. Estructura de datos**\n",
        "Una **estructura de datos** es una forma de organizar y almacenar información en la memoria de una computadora para que pueda ser utilizada de manera eficiente. En Python, estos objetos permiten manejar colecciones de datos, facilitando tareas como buscar, ordenar, insertar y eliminar elementos."
      ],
      "metadata": {
        "id": "QBDDGo6Zcokb"
      }
    },
    {
      "cell_type": "markdown",
      "source": [],
      "metadata": {
        "id": "14aaXz81hSMT"
      }
    },
    {
      "cell_type": "markdown",
      "source": [
        "## 2.1. Cadenas\n",
        "En Python, una cadena es una secuencia inmutable de caracteres. Esto significa que una vez que se crea una cadena, su contenido no se puede cambiar. Las cadenas se utilizan para representar texto, como nombres, oraciones, o cualquier otro tipo de dato textual."
      ],
      "metadata": {
        "id": "IL9t0pqGiGXp"
      }
    },
    {
      "cell_type": "code",
      "source": [
        "# Estructuras tipo cadena de caracteres\n",
        "var_cadena = \"las estaciones del año son: verano, otoño, invierno y primavera\"\n",
        "\n",
        "print(var_cadena)\n",
        "print(len(var_cadena))\n",
        "\n",
        "print(var_cadena[3:14])\n",
        "print(type(var_cadena))"
      ],
      "metadata": {
        "colab": {
          "base_uri": "https://localhost:8080/"
        },
        "id": "mMBHEIG-sR44",
        "outputId": "ceba5509-c4df-42f0-d09e-13e5ed1fb14c"
      },
      "execution_count": null,
      "outputs": [
        {
          "output_type": "stream",
          "name": "stdout",
          "text": [
            "las estaciones del año son: verano, otoño, invierno y primavera\n",
            "63\n",
            " estaciones\n",
            "<class 'str'>\n"
          ]
        }
      ]
    },
    {
      "cell_type": "code",
      "source": [
        "departamentos_peru = \"algunos departamentos de Perú son: Lima, Ica, Arequipa y Tacna\"\n",
        "\n",
        "print(departamentos_peru)\n",
        "print(len(departamentos_peru))\n",
        "print(departamentos_peru[35:39])\n",
        "print(type(departamentos_peru))\n"
      ],
      "metadata": {
        "colab": {
          "base_uri": "https://localhost:8080/"
        },
        "id": "KUrTh14d6Vhf",
        "outputId": "60107fd9-d8ed-48b5-c9a9-bc3e4792313d"
      },
      "execution_count": null,
      "outputs": [
        {
          "output_type": "stream",
          "name": "stdout",
          "text": [
            "algunos departamentos de Perú son: Lima, Ica, Arequipa y Tacna\n",
            "62\n",
            "Lima\n",
            "<class 'str'>\n"
          ]
        }
      ]
    },
    {
      "cell_type": "code",
      "source": [
        "separar_frase = departamentos_peru.split(\" \")\n",
        "\n",
        "print(separar_frase)\n",
        "print(type(separar_frase))"
      ],
      "metadata": {
        "colab": {
          "base_uri": "https://localhost:8080/"
        },
        "id": "n5IHBFQH8zWy",
        "outputId": "5d7cfb08-13ca-4369-aa9b-ad6f6105e021"
      },
      "execution_count": null,
      "outputs": [
        {
          "output_type": "stream",
          "name": "stdout",
          "text": [
            "['algunos', 'departamentos', 'de', 'Perú', 'son:', 'Lima,', 'Ica,', 'Arequipa', 'y', 'Tacna']\n",
            "<class 'list'>\n"
          ]
        }
      ]
    },
    {
      "cell_type": "markdown",
      "source": [
        "## 2.2. Listas\n",
        "Las listas son colecciones ordenadas y mutables, lo que significa que puedes añadir, eliminar o modificar elementos después de su creación. Son muy versátiles y se usan comúnmente para almacenar elementos del mismo tipo, aunque pueden contener datos de diferentes tipos."
      ],
      "metadata": {
        "id": "WWIUrs0NiN_g"
      }
    },
    {
      "cell_type": "code",
      "source": [
        "# listas\n",
        "lista_01 = [\"hola\", 2024, \"mundo\", 2024.5]\n",
        "\n",
        "print(lista_01)\n",
        "print(len(lista_01))\n",
        "print(lista_01[0])\n",
        "\n",
        "lista_01[3]= \"Peru 2025\"\n",
        "print(lista_01)\n",
        "\n",
        "print(type(lista_01[1]))"
      ],
      "metadata": {
        "colab": {
          "base_uri": "https://localhost:8080/"
        },
        "id": "VTi4J4S8sai7",
        "outputId": "d5181679-29d6-463b-cd77-c1381a14f3ba"
      },
      "execution_count": null,
      "outputs": [
        {
          "output_type": "stream",
          "name": "stdout",
          "text": [
            "['hola', 2024, 'mundo', 2024.5]\n",
            "4\n",
            "hola\n",
            "['hola', 2024, 'mundo', 'Peru 2025']\n",
            "<class 'int'>\n"
          ]
        }
      ]
    },
    {
      "cell_type": "markdown",
      "source": [
        "Operaciones con listas"
      ],
      "metadata": {
        "id": "tadKhSASLNSM"
      }
    },
    {
      "cell_type": "code",
      "source": [
        "lista_02 = [12,3,3,2]\n",
        "\n",
        "lista_03 = [1,2,3,4]"
      ],
      "metadata": {
        "id": "NizPnfLPUjQu"
      },
      "execution_count": null,
      "outputs": []
    },
    {
      "cell_type": "markdown",
      "source": [
        "Concatenar o juntar dos listas"
      ],
      "metadata": {
        "id": "xho-RPtsM6E5"
      }
    },
    {
      "cell_type": "code",
      "source": [
        "suma_lista23 = lista_02 + lista_03\n",
        "print(suma_lista23)"
      ],
      "metadata": {
        "colab": {
          "base_uri": "https://localhost:8080/"
        },
        "id": "uxBHNK6fU0Pb",
        "outputId": "1859f8ac-01a8-49a8-8c1d-0cbbfac48323"
      },
      "execution_count": null,
      "outputs": [
        {
          "output_type": "stream",
          "name": "stdout",
          "text": [
            "[12, 3, 3, 2, 1, 2, 3, 4]\n"
          ]
        }
      ]
    },
    {
      "cell_type": "markdown",
      "source": [
        "reproducir una lista"
      ],
      "metadata": {
        "id": "z0hNYMcvNABE"
      }
    },
    {
      "cell_type": "code",
      "source": [
        "prod_lista23 = 3* lista_03\n",
        "print(prod_lista23)"
      ],
      "metadata": {
        "colab": {
          "base_uri": "https://localhost:8080/"
        },
        "id": "aCRXt9PpWAaX",
        "outputId": "4fd0ddb2-9737-49c5-9877-f9124ba27666"
      },
      "execution_count": null,
      "outputs": [
        {
          "output_type": "stream",
          "name": "stdout",
          "text": [
            "[1, 2, 3, 4, 1, 2, 3, 4, 1, 2, 3, 4]\n"
          ]
        }
      ]
    },
    {
      "cell_type": "markdown",
      "source": [
        "Agregar o insertar datos nuevos en una lista"
      ],
      "metadata": {
        "id": "hQ7_4bc6MbyS"
      }
    },
    {
      "cell_type": "code",
      "source": [
        "lista_02.append(10)\n",
        "print(lista_02)"
      ],
      "metadata": {
        "colab": {
          "base_uri": "https://localhost:8080/"
        },
        "id": "zd16t3DMMb__",
        "outputId": "db49916f-1598-4745-a4d4-77fbb3615968"
      },
      "execution_count": null,
      "outputs": [
        {
          "output_type": "stream",
          "name": "stdout",
          "text": [
            "[12, 3, 3, 2, 10]\n"
          ]
        }
      ]
    },
    {
      "cell_type": "code",
      "source": [
        "lista_02.append(\"hola tierra\")\n",
        "lista_02.append(\"2024\")\n",
        "print(lista_02)"
      ],
      "metadata": {
        "colab": {
          "base_uri": "https://localhost:8080/"
        },
        "id": "3L6jZh1hMidd",
        "outputId": "3a5a18ce-7d11-49d0-fd40-9cdefe4f0945"
      },
      "execution_count": null,
      "outputs": [
        {
          "output_type": "stream",
          "name": "stdout",
          "text": [
            "[12, 3, 3, 2, 10, 'hola tierra', '2024']\n"
          ]
        }
      ]
    },
    {
      "cell_type": "markdown",
      "source": [
        "Insertar o agregar un dato nuevo en una posición específica de una lista"
      ],
      "metadata": {
        "id": "-GClABMlNN-m"
      }
    },
    {
      "cell_type": "code",
      "source": [
        "lista_02.insert(6, \"siempre feliz\")\n",
        "\n",
        "print(lista_02)"
      ],
      "metadata": {
        "colab": {
          "base_uri": "https://localhost:8080/"
        },
        "id": "nlWDQPN3NOJx",
        "outputId": "e62074b7-0a53-49c7-8d32-b70c320f0711"
      },
      "execution_count": null,
      "outputs": [
        {
          "output_type": "stream",
          "name": "stdout",
          "text": [
            "[12, 3, 3, 2, 10, 'hola tierra', 'siempre feliz', '2024']\n"
          ]
        }
      ]
    },
    {
      "cell_type": "markdown",
      "source": [
        "## 2.3. Array 1D\n",
        "\n",
        "Un array 1D de NumPy es una estructura de datos fundamental en la biblioteca NumPy de Python, diseñada para almacenar una colección de elementos del mismo tipo de datos, como números enteros o de punto flotante. A diferencia de las listas estándar de Python, los arrays de NumPy están optimizados para operaciones matemáticas y científicas, lo que los hace significativamente más rápidos y eficientes en el manejo de grandes volúmenes de datos numéricos."
      ],
      "metadata": {
        "id": "2rcDNJfWiRDN"
      }
    },
    {
      "cell_type": "code",
      "source": [
        "import numpy as np\n",
        "\n",
        "# array 1D: np.array()\n",
        "array_meses_num = np.array([1,2,3,4,5,6,7,8,9,10,11,12])\n",
        "\n",
        "print(array_meses_num)\n",
        "print(type(array_meses_num))\n",
        "print(len(array_meses_num))"
      ],
      "metadata": {
        "colab": {
          "base_uri": "https://localhost:8080/"
        },
        "id": "X29sQVzotB-K",
        "outputId": "b6163648-b77e-4502-f319-6cbb09caf803"
      },
      "execution_count": null,
      "outputs": [
        {
          "output_type": "stream",
          "name": "stdout",
          "text": [
            "[ 1  2  3  4  5  6  7  8  9 10 11 12]\n",
            "<class 'numpy.ndarray'>\n",
            "12\n"
          ]
        }
      ]
    },
    {
      "cell_type": "markdown",
      "source": [
        "Generar un array usando la función `arange` del paquete Numpy"
      ],
      "metadata": {
        "id": "XjG0KtU2RnCX"
      }
    },
    {
      "cell_type": "code",
      "source": [
        "# array 1D: np.arange(val_i, num_vals, incremento)\n",
        "array_arange01 = np.arange(-20, 10, 0.5)\n",
        "\n",
        "print(array_arange01)\n",
        "print(len(array_arange01))"
      ],
      "metadata": {
        "colab": {
          "base_uri": "https://localhost:8080/"
        },
        "id": "pAlNpDNktd4p",
        "outputId": "83102b09-7577-4844-a2d0-02beef53f329"
      },
      "execution_count": null,
      "outputs": [
        {
          "output_type": "stream",
          "name": "stdout",
          "text": [
            "[-20.  -19.5 -19.  -18.5 -18.  -17.5 -17.  -16.5 -16.  -15.5 -15.  -14.5\n",
            " -14.  -13.5 -13.  -12.5 -12.  -11.5 -11.  -10.5 -10.   -9.5  -9.   -8.5\n",
            "  -8.   -7.5  -7.   -6.5  -6.   -5.5  -5.   -4.5  -4.   -3.5  -3.   -2.5\n",
            "  -2.   -1.5  -1.   -0.5   0.    0.5   1.    1.5   2.    2.5   3.    3.5\n",
            "   4.    4.5   5.    5.5   6.    6.5   7.    7.5   8.    8.5   9.    9.5]\n",
            "60\n"
          ]
        }
      ]
    },
    {
      "cell_type": "markdown",
      "source": [
        "Generar un array usando la función `zeros` del paquete Numpy"
      ],
      "metadata": {
        "id": "oRJpsh_MRwhK"
      }
    },
    {
      "cell_type": "code",
      "source": [
        "# array 1D: np.zeros()\n",
        "array_zeros01 = np.zeros(4)\n",
        "\n",
        "print(array_zeros01)\n",
        "print(type(array_zeros01))\n",
        "print(len(array_zeros01))\n",
        "print(np.ndim(array_zeros01))\n",
        "print(np.shape(array_zeros01))"
      ],
      "metadata": {
        "colab": {
          "base_uri": "https://localhost:8080/"
        },
        "id": "RP4QqQk_tvZ6",
        "outputId": "1b532566-4c06-4234-dc86-9b19c947cb55"
      },
      "execution_count": null,
      "outputs": [
        {
          "output_type": "stream",
          "name": "stdout",
          "text": [
            "[0. 0. 0. 0.]\n",
            "<class 'numpy.ndarray'>\n",
            "4\n",
            "1\n",
            "(4,)\n"
          ]
        }
      ]
    },
    {
      "cell_type": "markdown",
      "source": [
        "Remplazar todos los valores de un array con valores `nan`"
      ],
      "metadata": {
        "id": "VfrD9NmXSDt3"
      }
    },
    {
      "cell_type": "code",
      "source": [
        "array_zeros01[...] = np.nan\n",
        "print(array_zeros01)"
      ],
      "metadata": {
        "colab": {
          "base_uri": "https://localhost:8080/"
        },
        "id": "9w6OPKyrO8Nx",
        "outputId": "64a9e76b-5c93-4d14-b7ba-58a08ce977be"
      },
      "execution_count": null,
      "outputs": [
        {
          "output_type": "stream",
          "name": "stdout",
          "text": [
            "[nan nan nan nan]\n"
          ]
        }
      ]
    },
    {
      "cell_type": "markdown",
      "source": [
        "Editar array `nan` con datos numéricos"
      ],
      "metadata": {
        "id": "MlTCdwqyO76A"
      }
    },
    {
      "cell_type": "code",
      "source": [
        "print(lista_01[1])\n",
        "\n",
        "array_zeros01[2]= lista_01[1]\n",
        "print(array_zeros01)"
      ],
      "metadata": {
        "colab": {
          "base_uri": "https://localhost:8080/"
        },
        "id": "TkXPdKTWSD5P",
        "outputId": "8aef3d19-e8f6-46b7-b491-5c1f2a485295"
      },
      "execution_count": null,
      "outputs": [
        {
          "output_type": "stream",
          "name": "stdout",
          "text": [
            "2024\n",
            "[  nan   nan 2024.   nan]\n"
          ]
        }
      ]
    },
    {
      "cell_type": "markdown",
      "source": [
        "Operaciones con arrays."
      ],
      "metadata": {
        "id": "8ni6TgWLVwgQ"
      }
    },
    {
      "cell_type": "code",
      "source": [
        "prod_escalar = 2*array_meses_num\n",
        "print(prod_escalar)"
      ],
      "metadata": {
        "colab": {
          "base_uri": "https://localhost:8080/"
        },
        "id": "1hzJaV-oVwpe",
        "outputId": "ae74eb79-694a-411d-c7fb-e56bce4da950"
      },
      "execution_count": null,
      "outputs": [
        {
          "output_type": "stream",
          "name": "stdout",
          "text": [
            "[ 2  4  6  8 10 12 14 16 18 20 22 24]\n"
          ]
        }
      ]
    },
    {
      "cell_type": "markdown",
      "source": [],
      "metadata": {
        "id": "ADMYySbWWHHt"
      }
    },
    {
      "cell_type": "code",
      "source": [
        "temp_aire = np.arange(10, 35, 0.5)\n",
        "print(temp_aire)"
      ],
      "metadata": {
        "colab": {
          "base_uri": "https://localhost:8080/"
        },
        "id": "Q2NDFzNRm0QB",
        "outputId": "36069c93-3992-4a65-c1c6-fef88414a09f"
      },
      "execution_count": null,
      "outputs": [
        {
          "output_type": "stream",
          "name": "stdout",
          "text": [
            "[10.  10.5 11.  11.5 12.  12.5 13.  13.5 14.  14.5 15.  15.5 16.  16.5\n",
            " 17.  17.5 18.  18.5 19.  19.5 20.  20.5 21.  21.5 22.  22.5 23.  23.5\n",
            " 24.  24.5 25.  25.5 26.  26.5 27.  27.5 28.  28.5 29.  29.5 30.  30.5\n",
            " 31.  31.5 32.  32.5 33.  33.5 34.  34.5]\n"
          ]
        }
      ]
    },
    {
      "cell_type": "markdown",
      "source": [
        "Generar fechas dato usando la función `date_range` del paquete Pandas."
      ],
      "metadata": {
        "id": "iwseHD-HWIhp"
      }
    },
    {
      "cell_type": "code",
      "source": [
        "# importar pandas\n",
        "import pandas as pd\n",
        "\n",
        "#fechas = pd.date_range(start='1984-01-01', end='1984-01-30', freq='D')\n",
        "fechas = pd.date_range(start='1984-01-01', periods=len(temp_aire), freq='D')\n",
        "#fechas = pd.date_range(start=pd.to_datetime('today'), periods=len(temp_aire), freq='D').sttftime('%Y-%m-%d')\n",
        "print(fechas)"
      ],
      "metadata": {
        "colab": {
          "base_uri": "https://localhost:8080/"
        },
        "id": "33Aen7mfTgD1",
        "outputId": "c48f9cd2-b813-4a4d-dd62-aa62e7e597e4"
      },
      "execution_count": null,
      "outputs": [
        {
          "output_type": "stream",
          "name": "stdout",
          "text": [
            "DatetimeIndex(['1984-01-01', '1984-01-02', '1984-01-03', '1984-01-04',\n",
            "               '1984-01-05', '1984-01-06', '1984-01-07', '1984-01-08',\n",
            "               '1984-01-09', '1984-01-10', '1984-01-11', '1984-01-12',\n",
            "               '1984-01-13', '1984-01-14', '1984-01-15', '1984-01-16',\n",
            "               '1984-01-17', '1984-01-18', '1984-01-19', '1984-01-20',\n",
            "               '1984-01-21', '1984-01-22', '1984-01-23', '1984-01-24',\n",
            "               '1984-01-25', '1984-01-26', '1984-01-27', '1984-01-28',\n",
            "               '1984-01-29', '1984-01-30', '1984-01-31', '1984-02-01',\n",
            "               '1984-02-02', '1984-02-03', '1984-02-04', '1984-02-05',\n",
            "               '1984-02-06', '1984-02-07', '1984-02-08', '1984-02-09',\n",
            "               '1984-02-10', '1984-02-11', '1984-02-12', '1984-02-13',\n",
            "               '1984-02-14', '1984-02-15', '1984-02-16', '1984-02-17',\n",
            "               '1984-02-18', '1984-02-19'],\n",
            "              dtype='datetime64[ns]', freq='D')\n"
          ]
        }
      ]
    },
    {
      "cell_type": "markdown",
      "source": [
        "## 2.4. Data Frame"
      ],
      "metadata": {
        "id": "22w0kI61s6yv"
      }
    },
    {
      "cell_type": "markdown",
      "source": [
        "Un **DataFrame** es una estructura de datos bidimensional, similar a una hoja de cálculo o a una tabla de una base de datos. Se compone de filas y columnas, donde cada columna puede tener un tipo de dato diferente (números, texto, booleanos, etc.) y cada fila representa una observación o registro. Es uno de los objetos más importantes de Pandas y la base para el análisis y la manipulación de datos en Python.\n",
        "\n",
        "---\n",
        "\n",
        "**Descripción y características clave**\n",
        "\n",
        "* **Estructura de tabla**: Un DataFrame se parece a una tabla de Excel o a un `SELECT` de una base de datos. Tiene **etiquetas de columna** (nombres para cada columna) y un **índice de fila** que permite acceder a los registros.\n",
        "\n",
        "* **Heterogeneidad de datos**: A diferencia de los arrays de NumPy, donde todos los elementos deben ser del mismo tipo, cada columna en un DataFrame puede contener datos de un tipo distinto. Esto lo hace ideal para trabajar con datos del mundo real, que suelen ser una mezcla de números, texto, fechas, etc.\n",
        "\n",
        "* **Manipulación de datos**: Pandas ofrece un conjunto de herramientas muy eficientes para trabajar con DataFrames, permitiendo realizar operaciones como:\n",
        "    * **Filtrado y selección**: Se pueden seleccionar filas o columnas basándose en condiciones específicas.\n",
        "    * **Limpieza de datos**: Manejar valores faltantes (`NaN`), eliminar duplicados o corregir errores.\n",
        "    * **Análisis**: Realizar cálculos estadísticos (media, mediana, desviación estándar), agrupar datos, y unirlos con otros DataFrames.\n",
        "    * **Entrada y salida (I/O)**: Es muy fácil leer datos desde archivos (CSV, Excel, JSON) y escribir resultados en los mismos formatos.\n",
        "\n",
        "En resumen, el DataFrame de Pandas simplifica la manipulación y el análisis de datos complejos, proporcionando una estructura intuitiva y herramientas potentes para que los científicos de datos y los analistas trabajen de forma productiva."
      ],
      "metadata": {
        "id": "zK_5BChGxm2l"
      }
    },
    {
      "cell_type": "code",
      "source": [
        "# crear data frame\n",
        "df = pd.DataFrame()\n",
        "\n",
        "print(df)"
      ],
      "metadata": {
        "colab": {
          "base_uri": "https://localhost:8080/"
        },
        "id": "sZjbkvLNsgKb",
        "outputId": "6383e439-2023-4de1-a7f4-44c75416cf9c"
      },
      "execution_count": null,
      "outputs": [
        {
          "output_type": "stream",
          "name": "stdout",
          "text": [
            "Empty DataFrame\n",
            "Columns: []\n",
            "Index: []\n"
          ]
        }
      ]
    },
    {
      "cell_type": "markdown",
      "source": [
        "Insertar datos de `fechas` en el data frame `df`"
      ],
      "metadata": {
        "id": "awHtCv2SXFEj"
      }
    },
    {
      "cell_type": "code",
      "source": [
        "df[\"fecha\"]= fechas\n",
        "print(df)"
      ],
      "metadata": {
        "colab": {
          "base_uri": "https://localhost:8080/"
        },
        "id": "hEhKL7kdNV5m",
        "outputId": "20918b5b-f647-441c-edae-536a07d38dca",
        "collapsed": true
      },
      "execution_count": null,
      "outputs": [
        {
          "output_type": "stream",
          "name": "stdout",
          "text": [
            "        fecha\n",
            "0  1984-01-01\n",
            "1  1984-01-02\n",
            "2  1984-01-03\n",
            "3  1984-01-04\n",
            "4  1984-01-05\n",
            "5  1984-01-06\n",
            "6  1984-01-07\n",
            "7  1984-01-08\n",
            "8  1984-01-09\n",
            "9  1984-01-10\n",
            "10 1984-01-11\n",
            "11 1984-01-12\n",
            "12 1984-01-13\n",
            "13 1984-01-14\n",
            "14 1984-01-15\n",
            "15 1984-01-16\n",
            "16 1984-01-17\n",
            "17 1984-01-18\n",
            "18 1984-01-19\n",
            "19 1984-01-20\n",
            "20 1984-01-21\n",
            "21 1984-01-22\n",
            "22 1984-01-23\n",
            "23 1984-01-24\n",
            "24 1984-01-25\n",
            "25 1984-01-26\n",
            "26 1984-01-27\n",
            "27 1984-01-28\n",
            "28 1984-01-29\n",
            "29 1984-01-30\n",
            "30 1984-01-31\n",
            "31 1984-02-01\n",
            "32 1984-02-02\n",
            "33 1984-02-03\n",
            "34 1984-02-04\n",
            "35 1984-02-05\n",
            "36 1984-02-06\n",
            "37 1984-02-07\n",
            "38 1984-02-08\n",
            "39 1984-02-09\n",
            "40 1984-02-10\n",
            "41 1984-02-11\n",
            "42 1984-02-12\n",
            "43 1984-02-13\n",
            "44 1984-02-14\n",
            "45 1984-02-15\n",
            "46 1984-02-16\n",
            "47 1984-02-17\n",
            "48 1984-02-18\n",
            "49 1984-02-19\n"
          ]
        }
      ]
    },
    {
      "cell_type": "markdown",
      "source": [
        "Insertar datos de temperatura del aire (`temp_aire`) en el data frame `df`"
      ],
      "metadata": {
        "id": "ZejSYoOyXPfA"
      }
    },
    {
      "cell_type": "code",
      "source": [
        "df[\"temperatura\"]= temp_aire\n",
        "print(df.head(n=5))"
      ],
      "metadata": {
        "colab": {
          "base_uri": "https://localhost:8080/"
        },
        "id": "C8eU86tPusdh",
        "outputId": "5c82ef6d-b26f-4c35-af48-f9a278e3b234",
        "collapsed": true
      },
      "execution_count": null,
      "outputs": [
        {
          "output_type": "stream",
          "name": "stdout",
          "text": [
            "       fecha  temperatura\n",
            "0 1984-01-01         10.0\n",
            "1 1984-01-02         10.5\n",
            "2 1984-01-03         11.0\n",
            "3 1984-01-04         11.5\n",
            "4 1984-01-05         12.0\n"
          ]
        }
      ]
    },
    {
      "cell_type": "markdown",
      "source": [
        "Estimar la humedad relativa (`hr`) en función de datos de temperatura del aire (`temp_aire`) e insertar el resultado en el data frame `df`"
      ],
      "metadata": {
        "id": "dwf6kCfPXGTb"
      }
    },
    {
      "cell_type": "code",
      "source": [
        "hr = 2.5*temp_aire +5.6\n",
        "\n",
        "df[\"humedad_relativa\"] = hr\n",
        "print(df.head(n=5))"
      ],
      "metadata": {
        "colab": {
          "base_uri": "https://localhost:8080/"
        },
        "id": "pkeLi8AVuDUZ",
        "outputId": "273cd436-ad3e-47bc-9a85-e526c98a9597",
        "collapsed": true
      },
      "execution_count": null,
      "outputs": [
        {
          "output_type": "stream",
          "name": "stdout",
          "text": [
            "       fecha  temperatura  humedad_relativa\n",
            "0 1984-01-01         10.0             30.60\n",
            "1 1984-01-02         10.5             31.85\n",
            "2 1984-01-03         11.0             33.10\n",
            "3 1984-01-04         11.5             34.35\n",
            "4 1984-01-05         12.0             35.60\n"
          ]
        }
      ]
    },
    {
      "cell_type": "code",
      "source": [
        "# numero total de elementos o medidas del data frame\n",
        "print(df.size)\n",
        "\n",
        "# dimensiones del data frame\n",
        "print(df.shape)\n",
        "\n",
        "# nombres de las columnas\n",
        "print(df.columns)"
      ],
      "metadata": {
        "colab": {
          "base_uri": "https://localhost:8080/"
        },
        "id": "lBC0WyGgvVMG",
        "outputId": "f8c45271-e40b-4c1a-c509-3426b9cf2eac"
      },
      "execution_count": null,
      "outputs": [
        {
          "output_type": "stream",
          "name": "stdout",
          "text": [
            "150\n",
            "(50, 3)\n",
            "Index(['fecha', 'temperatura', 'humedad_relativa'], dtype='object')\n"
          ]
        }
      ]
    },
    {
      "cell_type": "markdown",
      "source": [
        "## 2.5. Estructuras de Control II: bucle `for`"
      ],
      "metadata": {
        "id": "tKuin15-RkUC"
      }
    },
    {
      "cell_type": "markdown",
      "source": [
        "Las estructuras de control tipo bucle (o loop) en Python son construcciones de código que permiten ejecutar un bloque de instrucciones de manera repetida. Su propósito principal es automatizar tareas que deben realizarse múltiples veces, ya sea un número fijo de veces o hasta que se cumpla una condición específica."
      ],
      "metadata": {
        "id": "KTX7dQmKDPGB"
      }
    },
    {
      "cell_type": "markdown",
      "source": [
        "El bucle `for` se utiliza para iterar sobre una secuencia de elementos, como una lista, una tupla, un diccionario o una cadena de texto. La iteración se detiene automáticamente una vez que se han procesado todos los elementos de la secuencia."
      ],
      "metadata": {
        "id": "AM-t_yri1Ox7"
      }
    },
    {
      "cell_type": "markdown",
      "source": [
        "Control de flujo: **for**\n",
        "\n",
        "\n",
        "```\n",
        "for arg01 in arg02:\n",
        "    aplicacion_01\n",
        "    aplicacion_02\n",
        "       ........\n",
        "    aplicacion_n\n",
        "```\n",
        "\n"
      ],
      "metadata": {
        "id": "H9rNgj31c4-W"
      }
    },
    {
      "cell_type": "markdown",
      "source": [
        "**Ejemplo**: Uso de del bucle `for` en estructura de datos lista"
      ],
      "metadata": {
        "id": "SDjLM8cl2YNI"
      }
    },
    {
      "cell_type": "markdown",
      "source": [
        "\n",
        "\n",
        "```\n",
        "lista_01 = [\"hola\", 2024, \"mundo\", 2024.5]\n",
        "              |       |      |       |\n",
        "              v       v      v       v\n",
        "              0       1      2       3\n",
        "```\n",
        "\n"
      ],
      "metadata": {
        "id": "QrA6T2SKbE3K"
      }
    },
    {
      "cell_type": "code",
      "source": [
        "print(lista_01[0])\n",
        "print(lista_01[1])"
      ],
      "metadata": {
        "id": "z3-iN5_pRyAE",
        "colab": {
          "base_uri": "https://localhost:8080/"
        },
        "outputId": "6d79e527-3741-4147-f318-461de4ba20d9"
      },
      "execution_count": null,
      "outputs": [
        {
          "output_type": "stream",
          "name": "stdout",
          "text": [
            "hola\n",
            "2024\n"
          ]
        }
      ]
    },
    {
      "cell_type": "code",
      "source": [
        "n_elem = len(lista_01)\n",
        "print(n_elem)"
      ],
      "metadata": {
        "colab": {
          "base_uri": "https://localhost:8080/"
        },
        "id": "HAr8xAB7cUHX",
        "outputId": "87ddcab4-2ca3-4ee1-d4ae-3906d50763b4"
      },
      "execution_count": null,
      "outputs": [
        {
          "output_type": "stream",
          "name": "stdout",
          "text": [
            "4\n"
          ]
        }
      ]
    },
    {
      "cell_type": "code",
      "source": [
        "for i in range(n_elem):\n",
        "  print(lista_01[i])"
      ],
      "metadata": {
        "colab": {
          "base_uri": "https://localhost:8080/"
        },
        "id": "vsoq3omzcULQ",
        "outputId": "05a35a60-1dd3-4094-b44f-c5b90a901391"
      },
      "execution_count": null,
      "outputs": [
        {
          "output_type": "stream",
          "name": "stdout",
          "text": [
            "hola\n",
            "2024\n",
            "mundo\n",
            "Peru 2025\n"
          ]
        }
      ]
    },
    {
      "cell_type": "markdown",
      "source": [
        "Analisis exploratorio y procesamiento de la variable `lista_01`"
      ],
      "metadata": {
        "id": "lv1VC4gvaEI6"
      }
    },
    {
      "cell_type": "code",
      "source": [
        "for i in range(n_elem):\n",
        "  if type(lista_01[i])==int:\n",
        "    lista_01[i]= str(lista_01[i])\n",
        "    print(lista_01[i])"
      ],
      "metadata": {
        "colab": {
          "base_uri": "https://localhost:8080/"
        },
        "id": "RJ2yVwNAaEUH",
        "outputId": "c191c953-b1dd-44f5-d495-7787dccd2c56"
      },
      "execution_count": null,
      "outputs": [
        {
          "output_type": "stream",
          "name": "stdout",
          "text": [
            "2024\n"
          ]
        }
      ]
    },
    {
      "cell_type": "code",
      "source": [
        "print(lista_01)"
      ],
      "metadata": {
        "colab": {
          "base_uri": "https://localhost:8080/"
        },
        "id": "40BVDJbaa58R",
        "outputId": "c63059c9-c8e5-4510-acdb-2c2df07ff8bd"
      },
      "execution_count": null,
      "outputs": [
        {
          "output_type": "stream",
          "name": "stdout",
          "text": [
            "['hola', '2024', 'mundo', 'Peru 2025']\n"
          ]
        }
      ]
    },
    {
      "cell_type": "markdown",
      "source": [
        "**Ejemplo**: Uso de del bucle `for` en estructura de datos Data Frame"
      ],
      "metadata": {
        "id": "NeKCOlxQppdf"
      }
    },
    {
      "cell_type": "code",
      "source": [
        "print(df.head(n=5))"
      ],
      "metadata": {
        "id": "TuKPfR1xpqRw",
        "colab": {
          "base_uri": "https://localhost:8080/"
        },
        "outputId": "c2b26596-434a-4d26-9736-a63838f61b80"
      },
      "execution_count": null,
      "outputs": [
        {
          "output_type": "stream",
          "name": "stdout",
          "text": [
            "       fecha  temperatura  humedad_relativa\n",
            "0 1984-01-01         10.0             30.60\n",
            "1 1984-01-02         10.5             31.85\n",
            "2 1984-01-03         11.0             33.10\n",
            "3 1984-01-04         11.5             34.35\n",
            "4 1984-01-05         12.0             35.60\n"
          ]
        }
      ]
    },
    {
      "cell_type": "code",
      "source": [
        "print(df.describe())"
      ],
      "metadata": {
        "colab": {
          "base_uri": "https://localhost:8080/"
        },
        "id": "kKPihKDx3SRd",
        "outputId": "164b18cd-4f85-44da-8782-8ab26475e92b"
      },
      "execution_count": null,
      "outputs": [
        {
          "output_type": "stream",
          "name": "stdout",
          "text": [
            "                     fecha  temperatura  humedad_relativa\n",
            "count                   50     50.00000         50.000000\n",
            "mean   1984-01-25 12:00:00     22.25000         61.225000\n",
            "min    1984-01-01 00:00:00     10.00000         30.600000\n",
            "25%    1984-01-13 06:00:00     16.12500         45.912500\n",
            "50%    1984-01-25 12:00:00     22.25000         61.225000\n",
            "75%    1984-02-06 18:00:00     28.37500         76.537500\n",
            "max    1984-02-19 00:00:00     34.50000         91.850000\n",
            "std                    NaN      7.28869         18.221725\n"
          ]
        }
      ]
    },
    {
      "cell_type": "code",
      "source": [
        "# Usando un bucle for (menos eficiente para DataFrames grandes)\n",
        "estaciones = []\n",
        "\n",
        "for data in df[\"temperatura\"]:\n",
        "  if data > 28:\n",
        "    estaciones.append(\"verano\")\n",
        "  else:\n",
        "    estaciones.append(np.nan)"
      ],
      "metadata": {
        "id": "L86xShZf5xsR"
      },
      "execution_count": null,
      "outputs": []
    },
    {
      "cell_type": "code",
      "source": [
        "print(estaciones)"
      ],
      "metadata": {
        "colab": {
          "base_uri": "https://localhost:8080/"
        },
        "id": "GBz1z_SQblZX",
        "outputId": "e0d44625-4e89-4d0e-d4ed-b66e182d3a47"
      },
      "execution_count": null,
      "outputs": [
        {
          "output_type": "stream",
          "name": "stdout",
          "text": [
            "[nan, nan, nan, nan, nan, nan, nan, nan, nan, nan, nan, nan, nan, nan, nan, nan, nan, nan, nan, nan, nan, nan, nan, nan, nan, nan, nan, nan, nan, nan, nan, nan, nan, nan, nan, nan, nan, 'verano', 'verano', 'verano', 'verano', 'verano', 'verano', 'verano', 'verano', 'verano', 'verano', 'verano', 'verano', 'verano']\n"
          ]
        }
      ]
    },
    {
      "cell_type": "code",
      "source": [
        "print(df.head(n=5))"
      ],
      "metadata": {
        "colab": {
          "base_uri": "https://localhost:8080/"
        },
        "id": "8ZNlBcg2cEOx",
        "outputId": "142c43fd-7386-471b-bbfe-f6d202359945"
      },
      "execution_count": null,
      "outputs": [
        {
          "output_type": "stream",
          "name": "stdout",
          "text": [
            "       fecha  temperatura  humedad_relativa\n",
            "0 1984-01-01         10.0             30.60\n",
            "1 1984-01-02         10.5             31.85\n",
            "2 1984-01-03         11.0             33.10\n",
            "3 1984-01-04         11.5             34.35\n",
            "4 1984-01-05         12.0             35.60\n"
          ]
        }
      ]
    },
    {
      "cell_type": "code",
      "source": [
        "df[\"estacion\"] = estaciones"
      ],
      "metadata": {
        "id": "Pc9l-6MIbj24"
      },
      "execution_count": null,
      "outputs": []
    },
    {
      "cell_type": "code",
      "source": [
        "print(df)"
      ],
      "metadata": {
        "colab": {
          "base_uri": "https://localhost:8080/"
        },
        "id": "8RiWTjeicknx",
        "outputId": "6f503f37-cf6e-4494-ca56-d2dcf125c226"
      },
      "execution_count": null,
      "outputs": [
        {
          "output_type": "stream",
          "name": "stdout",
          "text": [
            "        fecha  temperatura  humedad_relativa estacion\n",
            "0  1984-01-01         10.0             30.60      NaN\n",
            "1  1984-01-02         10.5             31.85      NaN\n",
            "2  1984-01-03         11.0             33.10      NaN\n",
            "3  1984-01-04         11.5             34.35      NaN\n",
            "4  1984-01-05         12.0             35.60      NaN\n",
            "5  1984-01-06         12.5             36.85      NaN\n",
            "6  1984-01-07         13.0             38.10      NaN\n",
            "7  1984-01-08         13.5             39.35      NaN\n",
            "8  1984-01-09         14.0             40.60      NaN\n",
            "9  1984-01-10         14.5             41.85      NaN\n",
            "10 1984-01-11         15.0             43.10      NaN\n",
            "11 1984-01-12         15.5             44.35      NaN\n",
            "12 1984-01-13         16.0             45.60      NaN\n",
            "13 1984-01-14         16.5             46.85      NaN\n",
            "14 1984-01-15         17.0             48.10      NaN\n",
            "15 1984-01-16         17.5             49.35      NaN\n",
            "16 1984-01-17         18.0             50.60      NaN\n",
            "17 1984-01-18         18.5             51.85      NaN\n",
            "18 1984-01-19         19.0             53.10      NaN\n",
            "19 1984-01-20         19.5             54.35      NaN\n",
            "20 1984-01-21         20.0             55.60      NaN\n",
            "21 1984-01-22         20.5             56.85      NaN\n",
            "22 1984-01-23         21.0             58.10      NaN\n",
            "23 1984-01-24         21.5             59.35      NaN\n",
            "24 1984-01-25         22.0             60.60      NaN\n",
            "25 1984-01-26         22.5             61.85      NaN\n",
            "26 1984-01-27         23.0             63.10      NaN\n",
            "27 1984-01-28         23.5             64.35      NaN\n",
            "28 1984-01-29         24.0             65.60      NaN\n",
            "29 1984-01-30         24.5             66.85      NaN\n",
            "30 1984-01-31         25.0             68.10      NaN\n",
            "31 1984-02-01         25.5             69.35      NaN\n",
            "32 1984-02-02         26.0             70.60      NaN\n",
            "33 1984-02-03         26.5             71.85      NaN\n",
            "34 1984-02-04         27.0             73.10      NaN\n",
            "35 1984-02-05         27.5             74.35      NaN\n",
            "36 1984-02-06         28.0             75.60      NaN\n",
            "37 1984-02-07         28.5             76.85   verano\n",
            "38 1984-02-08         29.0             78.10   verano\n",
            "39 1984-02-09         29.5             79.35   verano\n",
            "40 1984-02-10         30.0             80.60   verano\n",
            "41 1984-02-11         30.5             81.85   verano\n",
            "42 1984-02-12         31.0             83.10   verano\n",
            "43 1984-02-13         31.5             84.35   verano\n",
            "44 1984-02-14         32.0             85.60   verano\n",
            "45 1984-02-15         32.5             86.85   verano\n",
            "46 1984-02-16         33.0             88.10   verano\n",
            "47 1984-02-17         33.5             89.35   verano\n",
            "48 1984-02-18         34.0             90.60   verano\n",
            "49 1984-02-19         34.5             91.85   verano\n"
          ]
        }
      ]
    },
    {
      "cell_type": "markdown",
      "source": [
        "## 2.6. Funciones: Parte II"
      ],
      "metadata": {
        "id": "47u68zUVR0Gf"
      }
    },
    {
      "cell_type": "code",
      "source": [
        "df[\"temp_K\"] = convert_temp(df[\"temperatura\"], \"K\")"
      ],
      "metadata": {
        "id": "_syZMVXVR1Gj"
      },
      "execution_count": null,
      "outputs": []
    },
    {
      "cell_type": "code",
      "source": [
        "print(df.head(n=5))"
      ],
      "metadata": {
        "colab": {
          "base_uri": "https://localhost:8080/"
        },
        "id": "4dzrb8D0eGQP",
        "outputId": "4f9b7b95-f6d6-4340-aa3d-1ca94f9840e5"
      },
      "execution_count": null,
      "outputs": [
        {
          "output_type": "stream",
          "name": "stdout",
          "text": [
            "       fecha  temperatura  humedad_relativa estacion  temp_K\n",
            "0 1984-01-01         10.0             30.60      NaN  283.15\n",
            "1 1984-01-02         10.5             31.85      NaN  283.65\n",
            "2 1984-01-03         11.0             33.10      NaN  284.15\n",
            "3 1984-01-04         11.5             34.35      NaN  284.65\n",
            "4 1984-01-05         12.0             35.60      NaN  285.15\n"
          ]
        }
      ]
    },
    {
      "cell_type": "markdown",
      "source": [
        "# **III. Referencias**\n",
        "\n",
        "**Libros y manuales**\n",
        "\n",
        "- Libro de estadisitica con python\n",
        "\n",
        "  https://www.editorial-sciela.org/index.php/sciela/article/view/16/49\n",
        "\n",
        "- Introducción a la teoria de probabilidades\n",
        "\n",
        "  https://ciladi.org/wp-content/uploads/Version_final_Introduccion-Probabilidad-Python-vf_Bayas-3.pdf\n",
        "\n",
        "- Guía practica de análsis exploratorio de python\n",
        "\n",
        "  https://datos.gob.es/sites/default/files/doc/file/guia_eda_python.pdf\n",
        "\n",
        "\n",
        "**Cursos en linea**\n",
        "\n",
        "- Estadística W3School:\n",
        "\n",
        "  https://www.w3schools.com/statistics/index.php\n",
        "\n",
        "- Estadística con python:\n",
        "\n",
        "  https://docs.python.org/es/3/library/statistics.html\n",
        "\n",
        "- Kaggle:\n",
        "\n",
        "  https://www.kaggle.com/code/saurav9786/statistics-for-data-scientists\n",
        "\n",
        "**Aplicaciones IA**\n",
        "\n",
        "- Gemini iA\n",
        "\n",
        "  https://gemini.google.com\n",
        "\n",
        "- DeepSeek\n",
        "\n",
        "  https://www.deepseek.com/\n",
        "\n",
        "- Chat GPT\n",
        "\n",
        "  https://chatgpt.com/\n",
        "\n",
        "- Claude IA\n",
        "\n",
        "  https://claude.ai/\n",
        "\n",
        "- Julius IA:\n",
        "\n",
        "  https://julius.ai\n",
        "\n"
      ],
      "metadata": {
        "id": "soydKrE0mpsQ"
      }
    }
  ]
}