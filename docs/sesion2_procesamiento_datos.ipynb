{
  "nbformat": 4,
  "nbformat_minor": 0,
  "metadata": {
    "colab": {
      "provenance": [],
      "toc_visible": true
    },
    "kernelspec": {
      "name": "python3",
      "display_name": "Python 3"
    },
    "language_info": {
      "name": "python"
    }
  },
  "cells": [
    {
      "cell_type": "markdown",
      "source": [
        "# **Manejo, Preprocesamiento y Procesamiento de datos**"
      ],
      "metadata": {
        "id": "2HH0qrj7ogO9"
      }
    },
    {
      "cell_type": "markdown",
      "source": [
        "# **I. Gestión de directorios y archivos en la nube**"
      ],
      "metadata": {
        "id": "s7BplYqWcu3v"
      }
    },
    {
      "cell_type": "markdown",
      "source": [
        "## **1.1. Montar Google drive a Colaboratory**"
      ],
      "metadata": {
        "id": "6IVpqO5tairu"
      }
    },
    {
      "cell_type": "markdown",
      "source": [
        "```\n",
        "from google.colab import drive\n",
        "drive.mount('/content/drive')\n",
        "```"
      ],
      "metadata": {
        "id": "aGhbrTOz7v11"
      }
    },
    {
      "cell_type": "markdown",
      "source": [
        "## **1.2. Explorar contenido de Google Drive**"
      ],
      "metadata": {
        "id": "bnyJGs2hEm1B"
      }
    },
    {
      "cell_type": "markdown",
      "source": [
        "El paquete `os` (del inglés \"operating system\") en Python proporciona una forma de interactuar con el sistema operativo subyacente. Permite realizar tareas dependientes del sistema operativo, como la gestión de archivos y directorios, la manipulación de rutas, la ejecución de comandos del sistema, entre otras.\n",
        "\n",
        "* **Navegación por el sistema de archivos:** Listar el contenido de un directorio (`os.listdir()`).\n",
        "\n",
        "*   **Gestión de directorios y archivos:** Puedes crear, eliminar, renombrar directorios y archivos. Por ejemplo, os.`mkdir()` para crear un directorio, `os.remove()` para eliminar un archivo, `os.rename()` para renombrar.\n",
        "\n"
      ],
      "metadata": {
        "id": "XMr9QY3pGg-V"
      }
    },
    {
      "cell_type": "code",
      "source": [
        "import os\n",
        "\n",
        "ruta_drive =\"/content/drive/MyDrive/\"\n",
        "\n",
        "print(os.listdir(ruta_drive))"
      ],
      "metadata": {
        "colab": {
          "base_uri": "https://localhost:8080/"
        },
        "id": "9N8i2JBS1Ybm",
        "outputId": "d2ff2133-d01c-470b-df0f-064c42324839"
      },
      "execution_count": 2,
      "outputs": [
        {
          "output_type": "stream",
          "name": "stdout",
          "text": [
            "['apuntespdf', 'Osystemgoes', 'dhn', 'latex', 'maestria_met', 'models', 'igp', 'grupo_unmsm', 'make_books_latex', 'make_paper', 'proyectos', 'tools', 'varios', 'documentos', 'cursos_talleres', 'datasample', 'utec', 'fiware', 'Classroom', 'ingles', 'work_job', 'Postulaciones', 'serie de tiempo', 'Google Earth', 'contaminantes_atmosfericos', 'inventario_csv', 'informes', 'Shapes', 'actividades_TDR', 'book_cluster', 'resultados', 'oefa_control_calidad', 'wrfchem_app', 'sacha', 'Colab Notebooks', 'consultorias_pagos', 'EstadisticaIA2025', 'Google AI Studio', 'Estadistica2025_estudiantes', 'Estadistica2025_Tareas_estudiantes', 'Técnicas de Datos: Anemia y Biomedicina\\n.gdoc', 'Metodología bioestadística para análisis anemia\\n.gdoc', 'Análisis bioestadístico anemia con Python.\\n.gdoc', 'SKMBT_36325020412510.pdf', 'Estadistica4Finanzas', 'Documento sin título.gdoc', 'agroexportacion_peru', 'Bruce-Gedeck-Estadistica-Practica-para-Ciencia-de-Datos-con-R-y-Python.pdf', 'Bioestadistica', 'Base_datos', 'Ciencia_datos_pythonAI', 'Introduccion-Colab(actualizado).rtf.gdoc', 'clase_jose.ipynb', 'Untitled0.ipynb', 'estadistica_python_ai_modulo1']\n"
          ]
        }
      ]
    },
    {
      "cell_type": "markdown",
      "source": [
        "El bloque de código de la siguiente celda permite visualizar el contenido de Google Drive enumerada de manera vertical."
      ],
      "metadata": {
        "id": "p7GP_RGsMMWx"
      }
    },
    {
      "cell_type": "code",
      "source": [
        "lista_dir_drive = os.listdir(ruta_drive)\n",
        "n_elem = len(lista_dir_drive)\n",
        "print(f\"Numero de elementos: {n_elem}\")\n",
        "\n",
        "for i in range(n_elem):\n",
        "  print(f\"({i}) {lista_dir_drive[i]}\")"
      ],
      "metadata": {
        "colab": {
          "base_uri": "https://localhost:8080/"
        },
        "id": "UmaMZ1tKbTPY",
        "outputId": "aaec7040-e58a-4279-8ed1-3fefb834eb65"
      },
      "execution_count": 3,
      "outputs": [
        {
          "output_type": "stream",
          "name": "stdout",
          "text": [
            "Numero de elementos: 55\n",
            "(0) apuntespdf\n",
            "(1) Osystemgoes\n",
            "(2) dhn\n",
            "(3) latex\n",
            "(4) maestria_met\n",
            "(5) models\n",
            "(6) igp\n",
            "(7) grupo_unmsm\n",
            "(8) make_books_latex\n",
            "(9) make_paper\n",
            "(10) proyectos\n",
            "(11) tools\n",
            "(12) varios\n",
            "(13) documentos\n",
            "(14) cursos_talleres\n",
            "(15) datasample\n",
            "(16) utec\n",
            "(17) fiware\n",
            "(18) Classroom\n",
            "(19) ingles\n",
            "(20) work_job\n",
            "(21) Postulaciones\n",
            "(22) serie de tiempo\n",
            "(23) Google Earth\n",
            "(24) contaminantes_atmosfericos\n",
            "(25) inventario_csv\n",
            "(26) informes\n",
            "(27) Shapes\n",
            "(28) actividades_TDR\n",
            "(29) book_cluster\n",
            "(30) resultados\n",
            "(31) oefa_control_calidad\n",
            "(32) wrfchem_app\n",
            "(33) sacha\n",
            "(34) Colab Notebooks\n",
            "(35) consultorias_pagos\n",
            "(36) EstadisticaIA2025\n",
            "(37) Google AI Studio\n",
            "(38) Estadistica2025_estudiantes\n",
            "(39) Estadistica2025_Tareas_estudiantes\n",
            "(40) Técnicas de Datos: Anemia y Biomedicina\n",
            ".gdoc\n",
            "(41) Metodología bioestadística para análisis anemia\n",
            ".gdoc\n",
            "(42) Análisis bioestadístico anemia con Python.\n",
            ".gdoc\n",
            "(43) SKMBT_36325020412510.pdf\n",
            "(44) Estadistica4Finanzas\n",
            "(45) Documento sin título.gdoc\n",
            "(46) agroexportacion_peru\n",
            "(47) Bruce-Gedeck-Estadistica-Practica-para-Ciencia-de-Datos-con-R-y-Python.pdf\n",
            "(48) Bioestadistica\n",
            "(49) Base_datos\n",
            "(50) Ciencia_datos_pythonAI\n",
            "(51) Introduccion-Colab(actualizado).rtf.gdoc\n",
            "(52) clase_jose.ipynb\n",
            "(53) Untitled0.ipynb\n",
            "(54) estadistica_python_ai_modulo1\n"
          ]
        }
      ]
    },
    {
      "cell_type": "markdown",
      "source": [
        "Definir la función **`explorar_drive`** para explorar de manera más eficiente y rápida las carpertas y sub carpetas que se encuentran en Google Drive."
      ],
      "metadata": {
        "id": "AEJM8QCGMN-p"
      }
    },
    {
      "cell_type": "code",
      "source": [
        "def explorar_drive(nombre_carpeta):\n",
        "  import os\n",
        "  ruta_drive =\"/content/drive/MyDrive/\"\n",
        "  contenido_carpeta = os.listdir(ruta_drive + nombre_carpeta)\n",
        "  n_elem = len(contenido_carpeta)\n",
        "\n",
        "  print(f\"Ruta: {ruta_drive + nombre_carpeta}\")\n",
        "  print(f\"Numero de elementos: {n_elem}\")\n",
        "\n",
        "  for i in range(n_elem):\n",
        "    print(f\"({i}) {contenido_carpeta[i]}\")"
      ],
      "metadata": {
        "id": "aNuxVIPfz5ZD"
      },
      "execution_count": 4,
      "outputs": []
    },
    {
      "cell_type": "markdown",
      "source": [
        "Forma de usar la función `explorar_drive` para explorar el contenido de Google Drive."
      ],
      "metadata": {
        "id": "iq1aFj94NzAP"
      }
    },
    {
      "cell_type": "code",
      "source": [
        "explorar_drive(\"Base_datos\")"
      ],
      "metadata": {
        "id": "gwV0Nozaf1TK",
        "colab": {
          "base_uri": "https://localhost:8080/"
        },
        "outputId": "a7d99ae2-66ad-4ef6-ebf7-27793c035c7a"
      },
      "execution_count": 5,
      "outputs": [
        {
          "output_type": "stream",
          "name": "stdout",
          "text": [
            "Ruta: /content/drive/MyDrive/Base_datos\n",
            "Numero de elementos: 4\n",
            "(0) fuente_de_datos.gdoc\n",
            "(1) shapes\n",
            "(2) biomedicina\n",
            "(3) meteorologia\n"
          ]
        }
      ]
    },
    {
      "cell_type": "code",
      "source": [
        "explorar_drive(\"Ciencia_datos_pythonAI/\")"
      ],
      "metadata": {
        "colab": {
          "base_uri": "https://localhost:8080/"
        },
        "id": "5hynQSmi1KxH",
        "outputId": "9cce8e60-bd23-4998-f96d-7142d1ed0060"
      },
      "execution_count": 6,
      "outputs": [
        {
          "output_type": "stream",
          "name": "stdout",
          "text": [
            "Ruta: /content/drive/MyDrive/Ciencia_datos_pythonAI/\n",
            "Numero de elementos: 3\n",
            "(0) Modulo_01\n",
            "(1) Modulo_02\n",
            "(2) Modulo_03\n"
          ]
        }
      ]
    },
    {
      "cell_type": "markdown",
      "source": [
        "# **II. Importar base de datos**"
      ],
      "metadata": {
        "id": "3zD6DHn3PVt6"
      }
    },
    {
      "cell_type": "markdown",
      "source": [
        "**¿Qué es una base de datos?**\n",
        "\n",
        "Una base de datos es una colección organizada de información o datos estructurados, que normalmente se almacena electrónicamente en un sistema de computadora. Esencialmente, es un sistema diseñado para almacenar, gestionar y recuperar grandes cantidades de información de manera eficiente."
      ],
      "metadata": {
        "id": "HLrKfg_XQmJy"
      }
    },
    {
      "cell_type": "markdown",
      "source": [
        "pregunta para gemini: efinir, describir, detallar y comparar tipos de datos cuantitativos y cualitativos. Finalmente dar tres ejemplos de cada uno de ellos."
      ],
      "metadata": {
        "id": "9B11_2x8Q-aa"
      }
    },
    {
      "cell_type": "markdown",
      "source": [
        "**Datos Cuantitativos:**\n",
        "* **Definición:** Los datos cuantitativos (discretos ó contínuos) son aquellos que se pueden medir y expresar numéricamente. Responden a la pregunta \"¿cuánto?\" o \"¿cuántos?\". Estos datos se pueden someter a operaciones matemáticas y análisis estadísticos.\n",
        "\n",
        "* **Descripción:** Son datos numéricos que representan magnitudes, cantidades, frecuencias, etc. Tienen un orden natural y distancias significativas entre sus valores.\n",
        "\n"
      ],
      "metadata": {
        "id": "Szor2deNRg0-"
      }
    },
    {
      "cell_type": "markdown",
      "source": [
        "**Datos Cualitativos:**\n",
        "* **Definición:**Los datos cualitativos son aquellos que describen cualidades, características o atributos. No se pueden medir numéricamente de manera significativa. Responden a la pregunta \"¿cómo?\" o \"¿qué tipo?\".\n",
        "\n",
        "* **Descripción:**  Son datos que representan categorías o etiquetas. No tienen un orden numérico inherente y las operaciones matemáticas no suelen ser aplicables a menos que se codifiquen."
      ],
      "metadata": {
        "id": "DRvLnBijSc9J"
      }
    },
    {
      "cell_type": "markdown",
      "source": [
        "**Comparación entre Datos Cuantitativos y Cualitativos:**\n",
        "\n",
        "\n",
        "| Característica       | Datos Cuantitativos                     | Datos Cualitativos                       |\n",
        "| :------------------- | :-------------------------------------- | :--------------------------------------- |\n",
        "| **Naturaleza**       | Numérica, medible                       | Categórica, descriptiva                  |\n",
        "| **Responde a**       | ¿Cuánto? ¿Cuántos?                      | ¿Cómo? ¿Qué tipo?                        |\n",
        "| **Operaciones Mat.** | Sí (suma, promedio, etc.)               | No (a menos que se codifiquen)           |\n",
        "| **Orden**            | Sí, orden natural                       | Nominal: No; Ordinal: Sí (jerarquía)     |\n",
        "| **Análisis Típico**  | Estadísticas descriptivas (media, desv. estándar), regresión, etc. | Frecuencias, proporciones, análisis de texto, etc. |\n",
        "| **Visualización**    | Histogramas, líneas, dispersión         | Barras, circulares                       |\n",
        "| **Objetividad**      | Generalmente objetivo                   | Puede ser subjetivo                      |"
      ],
      "metadata": {
        "id": "jf46-eaXSnmp"
      }
    },
    {
      "cell_type": "markdown",
      "source": [
        "## **2.1. Importar archivos en formato EXCEL**"
      ],
      "metadata": {
        "id": "_MN3nCnzzj8x"
      }
    },
    {
      "cell_type": "markdown",
      "source": [
        "Las mediciones de temperatura del aire, humedad relativa y radiación solar (variables ambientales), realizadas por una estación meteorológica en un punto geográfico específico son datos **cuantitativos contínuos**"
      ],
      "metadata": {
        "id": "KeSq-hArsvdt"
      }
    },
    {
      "cell_type": "code",
      "source": [
        "excel_data_file = \"/content/drive/MyDrive/Base_datos/meteorologia/data_estacion_madrid.xlsx\""
      ],
      "metadata": {
        "id": "5RkDFeXl2rlH"
      },
      "execution_count": 7,
      "outputs": []
    },
    {
      "cell_type": "code",
      "source": [
        "# immportando el archivo Excel\n",
        "import pandas as pd\n",
        "\n",
        "df_met = pd.read_excel(excel_data_file)\n",
        "print(df_met)"
      ],
      "metadata": {
        "colab": {
          "base_uri": "https://localhost:8080/"
        },
        "id": "mdhJrUxZ3_A0",
        "outputId": "ba5f0ad7-03d3-4bbb-bacb-9fce96404e86"
      },
      "execution_count": 8,
      "outputs": [
        {
          "output_type": "stream",
          "name": "stdout",
          "text": [
            "     Unnamed: 0      fecha  temp_aire         hr   rxn_solar\n",
            "0             0 2021-01-01   3.625000  73.583333   99.833333\n",
            "1             1 2021-01-02   1.329167  60.625000   74.333333\n",
            "2             2 2021-01-03   1.920833  63.958333  101.500000\n",
            "3             3 2021-01-04   3.433333  57.791667  101.958333\n",
            "4             4 2021-01-05   0.445833  69.541667  106.666667\n",
            "..          ...        ...        ...        ...         ...\n",
            "329         329 2021-11-26   5.562500  69.875000   87.833333\n",
            "330         330 2021-11-27   5.500000  61.500000   93.041667\n",
            "331         331 2021-11-28   4.783333  60.291667  117.750000\n",
            "332         332 2021-11-29  10.112500  61.541667  108.750000\n",
            "333         333 2021-11-30   6.691667  74.000000  102.958333\n",
            "\n",
            "[334 rows x 5 columns]\n"
          ]
        }
      ]
    },
    {
      "cell_type": "markdown",
      "source": [
        "## **2.2. Importar archivos en formato CSV**"
      ],
      "metadata": {
        "id": "5fqV67DEq17A"
      }
    },
    {
      "cell_type": "markdown",
      "source": [
        "* <a href=\"https://www.datosabiertos.gob.pe\">Plataforma Nacional de Datos Abiertos</a>.\n",
        "\n",
        "* Datos para caso estudio: <a href=\"https://www.datosabiertos.gob.pe/dataset/anemia\">Anemia</a>."
      ],
      "metadata": {
        "id": "PW-FSPUKxefL"
      }
    },
    {
      "cell_type": "code",
      "source": [
        "csv_data_file = \"/content/drive/My Drive/Base_datos/biomedicina/TB_DIGTEL_ANEMIA_TRATAMIENTOS.csv\"\n",
        "\n",
        "df_anemia = pd.read_csv(csv_data_file)\n",
        "print(df_anemia)"
      ],
      "metadata": {
        "colab": {
          "base_uri": "https://localhost:8080/"
        },
        "id": "cBH4mFsl4mgr",
        "outputId": "f6242290-b2b6-4d21-bf10-ec8715214e65"
      },
      "execution_count": 9,
      "outputs": [
        {
          "output_type": "stream",
          "name": "stdout",
          "text": [
            "       Sexo  id_persona  Edad Tipo_edad  id_ubigeo  Fecha_atencion    Etapa  \\\n",
            "0         F    41031388    20         A        NaN        20230208  18a-29a   \n",
            "1         F    40489600     2         A     1128.0        20230107  00a-11a   \n",
            "2         M    40315865     1         A        NaN        20230207  00a-11a   \n",
            "3         F    38917347    19         D     1460.0        20210511  00a-11a   \n",
            "4         M    40507941     3         A     1668.0        20230224  00a-11a   \n",
            "...     ...         ...   ...       ...        ...             ...      ...   \n",
            "248888    M     9206744     6         A     1631.0        20230119  00a-11a   \n",
            "248889    M    25824229     4         A      163.0        20210528  00a-11a   \n",
            "248890    F    19472530     6         A     1161.0        20230107  00a-11a   \n",
            "248891    F    33840534     4         A      242.0        20210412  00a-11a   \n",
            "248892    F    19486739    84         A     1703.0        20230525     60a+   \n",
            "\n",
            "        Diagnostico Tipo_Dx  Lab  id_eess  \n",
            "0          99199.17       D  SF3     5942  \n",
            "1          99199.17       D  SF3     6856  \n",
            "2          99199.17       D  SF1    27109  \n",
            "3          99199.17       D  SF1       16  \n",
            "4          99199.17       D   TA     2978  \n",
            "...             ...     ...  ...      ...  \n",
            "248888     99199.17       D  SF2     3263  \n",
            "248889     99199.17       D  SF1     1819  \n",
            "248890     99199.17       D  SF2     5217  \n",
            "248891     99199.17       D  SF1     1812  \n",
            "248892     99199.17       D  SF1     3161  \n",
            "\n",
            "[248893 rows x 11 columns]\n"
          ]
        }
      ]
    },
    {
      "cell_type": "markdown",
      "source": [
        "# **III. Procesamiento básico de datos**"
      ],
      "metadata": {
        "id": "X6MawcGyc2Pu"
      }
    },
    {
      "cell_type": "markdown",
      "source": [
        "## **3.1. Análisis exploratorio de datos ambientales**"
      ],
      "metadata": {
        "id": "wvcZH4Hhrrss"
      }
    },
    {
      "cell_type": "markdown",
      "source": [
        "El Análisis Exploratorio de Datos (EDA) es una metodología para analizar conjuntos de datos y resumir sus características principales, a menudo usando medidas estadísticas y métodos visuales. El objetivo del EDA es comprender los datos, descubrir patrones, detectar anomalías y probar hipótesis antes de realizar un modelado formal. No es un enfoque formal de modelado estadístico, sino más bien una filosofía para ver y comprender los datos.\n",
        "\n",
        "**¿En qué consiste el EDA?**\n",
        "\n",
        "* **Resumen de datos:** Calcular estadísticas descriptivas (media, mediana, desviación estándar, cuartiles, etc.) para comprender la distribución y las características centrales de las variables.\n",
        "\n",
        "* **Visualización de datos:** Crear gráficos y parcelas (histogramas, diagramas de caja, diagramas de dispersión, etc.) para identificar patrones, relaciones, valores atípicos y la forma de las distribuciones.\n",
        "\n",
        "* **Identificación de valores faltantes:** Detectar y cuantificar la presencia de valores nulos o faltantes en el conjunto de datos.\n",
        "\n",
        "* **Detección de valores atípicos:** Identificar observaciones que se desvían significativamente de otras observaciones y que podrían indicar un error de medición o una característica inusual del fenómeno que se está estudiando.\n",
        "\n",
        "* **Análisis de relaciones entre variables:** Explorar cómo se relacionan las diferentes variables entre sí (correlaciones, tablas de contingencia).\n",
        "\n",
        "* **Limpieza de datos:** Aunque el EDA se centra en la exploración, a menudo revela problemas de calidad de datos que deben abordarse, como valores incorrectos o formatos inconsistentes.\n",
        "\n",
        "\n"
      ],
      "metadata": {
        "id": "FBjIMz8sq2JM"
      }
    },
    {
      "cell_type": "markdown",
      "source": [
        "**Métodos en Python y Pandas para EDA:**\n",
        "\n",
        "Pandas es la biblioteca fundamental en Python para la manipulación y análisis de datos, y ofrece numerosos métodos para realizar EDA:\n",
        "\n",
        "*   **`.head()` y `.tail()`:** Muestran las primeras o últimas filas del DataFrame, respectivamente, para obtener una vista rápida de los datos.\n",
        "*   **`.info()`:** Proporciona un resumen conciso del DataFrame, incluyendo el índice, los tipos de datos de las columnas, el número de valores no nulos y el uso de memoria.\n",
        "*   **`.describe()`:** Genera estadísticas descriptivas (conteo, media, desviación estándar, mínimo, cuartiles, máximo) para las columnas numéricas. Se puede usar `.describe(include='all')` para incluir columnas no numéricas.\n",
        "*   **`.shape`:** Atributo que devuelve una tupla que representa las dimensiones del DataFrame (número de filas, número de columnas).\n",
        "*   **`.columns`:** Atributo que devuelve un objeto Index que contiene los nombres de las columnas.\n",
        "*   **`.value_counts()`:** Para Series, devuelve una Serie que contiene los recuentos de valores únicos. Útil para variables categóricas.\n",
        "*   **`.unique()` y `.nunique()`:** Devuelven los valores únicos en una Serie y el número de valores únicos, respectivamente.\n",
        "*   **`.isnull()` / `.isna()` y `.sum()`:** Se utilizan en combinación para contar los valores faltantes por columna.\n",
        "*   **`.duplicated()` y `.drop_duplicates()`:** Ayudan a identificar y eliminar filas duplicadas.\n",
        "*   **`.corr()`:** Calcula la correlación de Pearson (por defecto) entre las columnas numéricas.\n",
        "*   **`.groupby()`:** Permite agrupar datos por una o más columnas para realizar análisis agregados.\n",
        "\n",
        "Además de pandas, bibliotecas como **Matplotlib** y **Seaborn** son esenciales para la visualización de datos en el EDA."
      ],
      "metadata": {
        "id": "_arAaEMWuWQu"
      }
    },
    {
      "cell_type": "code",
      "source": [
        "print(df_met.info())"
      ],
      "metadata": {
        "colab": {
          "base_uri": "https://localhost:8080/"
        },
        "id": "N6J5wL5ORaz9",
        "outputId": "22b5f00b-41a2-45a2-fb84-a07a6832c270"
      },
      "execution_count": 10,
      "outputs": [
        {
          "output_type": "stream",
          "name": "stdout",
          "text": [
            "<class 'pandas.core.frame.DataFrame'>\n",
            "RangeIndex: 334 entries, 0 to 333\n",
            "Data columns (total 5 columns):\n",
            " #   Column      Non-Null Count  Dtype         \n",
            "---  ------      --------------  -----         \n",
            " 0   Unnamed: 0  334 non-null    int64         \n",
            " 1   fecha       334 non-null    datetime64[ns]\n",
            " 2   temp_aire   334 non-null    float64       \n",
            " 3   hr          334 non-null    float64       \n",
            " 4   rxn_solar   334 non-null    float64       \n",
            "dtypes: datetime64[ns](1), float64(3), int64(1)\n",
            "memory usage: 13.2 KB\n",
            "None\n"
          ]
        }
      ]
    },
    {
      "cell_type": "code",
      "source": [
        "# Contar valores nulos por columna usando isna()\n",
        "valores_nulos_por_columna = df_met.isna().sum()\n",
        "print(\"Valores nulos por columna:\")\n",
        "print(valores_nulos_por_columna)\n",
        "\n",
        "# Contar el total de valores nulos en todo el DataFrame\n",
        "total_valores_nulos = df_met.isna().sum().sum()\n",
        "print(f\"\\nTotal de valores nulos en el DataFrame: {total_valores_nulos}\")"
      ],
      "metadata": {
        "colab": {
          "base_uri": "https://localhost:8080/"
        },
        "id": "ItouTtetiLzf",
        "outputId": "b3ce4eab-da77-4e11-e039-40d3fec6c44c"
      },
      "execution_count": 11,
      "outputs": [
        {
          "output_type": "stream",
          "name": "stdout",
          "text": [
            "Valores nulos por columna:\n",
            "Unnamed: 0    0\n",
            "fecha         0\n",
            "temp_aire     0\n",
            "hr            0\n",
            "rxn_solar     0\n",
            "dtype: int64\n",
            "\n",
            "Total de valores nulos en el DataFrame: 0\n"
          ]
        }
      ]
    },
    {
      "cell_type": "code",
      "source": [
        "nombres_columnas_met = df_met.columns.values.tolist()\n",
        "print(nombres_columnas_met)\n",
        "print(type(nombres_columnas_met))"
      ],
      "metadata": {
        "colab": {
          "base_uri": "https://localhost:8080/"
        },
        "id": "-VPZIWTK6Y-L",
        "outputId": "2e0bf9ef-c4a4-4a77-984b-7041b76caf3a"
      },
      "execution_count": 12,
      "outputs": [
        {
          "output_type": "stream",
          "name": "stdout",
          "text": [
            "['Unnamed: 0', 'fecha', 'temp_aire', 'hr', 'rxn_solar']\n",
            "<class 'list'>\n"
          ]
        }
      ]
    },
    {
      "cell_type": "code",
      "source": [
        "met_interes = df_met[[ \"rxn_solar\", \"hr\", \"temp_aire\"]]\n",
        "print(met_interes)"
      ],
      "metadata": {
        "colab": {
          "base_uri": "https://localhost:8080/"
        },
        "id": "A3HeB8b06wvi",
        "outputId": "0ef114b1-f817-4b36-97c4-8cac6eb5d19a"
      },
      "execution_count": 13,
      "outputs": [
        {
          "output_type": "stream",
          "name": "stdout",
          "text": [
            "      rxn_solar         hr  temp_aire\n",
            "0     99.833333  73.583333   3.625000\n",
            "1     74.333333  60.625000   1.329167\n",
            "2    101.500000  63.958333   1.920833\n",
            "3    101.958333  57.791667   3.433333\n",
            "4    106.666667  69.541667   0.445833\n",
            "..          ...        ...        ...\n",
            "329   87.833333  69.875000   5.562500\n",
            "330   93.041667  61.500000   5.500000\n",
            "331  117.750000  60.291667   4.783333\n",
            "332  108.750000  61.541667  10.112500\n",
            "333  102.958333  74.000000   6.691667\n",
            "\n",
            "[334 rows x 3 columns]\n"
          ]
        }
      ]
    },
    {
      "cell_type": "code",
      "source": [
        "print(met_interes.describe())"
      ],
      "metadata": {
        "colab": {
          "base_uri": "https://localhost:8080/"
        },
        "id": "Dz37IytN9-wC",
        "outputId": "e083ce20-2632-41ce-9019-a8c7a60ec85c"
      },
      "execution_count": 14,
      "outputs": [
        {
          "output_type": "stream",
          "name": "stdout",
          "text": [
            "        rxn_solar          hr   temp_aire\n",
            "count  334.000000  334.000000  334.000000\n",
            "mean   207.164172   57.978917   15.556999\n",
            "std     96.113257   17.174558    7.641851\n",
            "min     14.583333   23.583333   -4.841667\n",
            "25%    130.625000   45.031250   10.026042\n",
            "50%    199.625000   57.937500   14.929167\n",
            "75%    293.416667   70.885417   21.714583\n",
            "max    369.958333  100.000000   31.920833\n"
          ]
        }
      ]
    },
    {
      "cell_type": "code",
      "source": [
        "print(met_interes.describe()[\"hr\"])"
      ],
      "metadata": {
        "colab": {
          "base_uri": "https://localhost:8080/"
        },
        "id": "NJI7ywNO7uMZ",
        "outputId": "bf6b63b8-0e06-4867-a644-c1cf5936f052"
      },
      "execution_count": 15,
      "outputs": [
        {
          "output_type": "stream",
          "name": "stdout",
          "text": [
            "count    334.000000\n",
            "mean      57.978917\n",
            "std       17.174558\n",
            "min       23.583333\n",
            "25%       45.031250\n",
            "50%       57.937500\n",
            "75%       70.885417\n",
            "max      100.000000\n",
            "Name: hr, dtype: float64\n"
          ]
        }
      ]
    },
    {
      "cell_type": "code",
      "source": [
        "std_hr = met_interes.describe()[\"hr\"][\"std\"]\n",
        "p75_hr = met_interes.describe()[\"hr\"][\"75%\"]\n",
        "print(std_hr)\n",
        "print(p75_hr)\n",
        "suma = std_hr + p75_hr\n",
        "print(suma)\n",
        "\n",
        "producto= std_hr * p75_hr\n",
        "print(producto)"
      ],
      "metadata": {
        "colab": {
          "base_uri": "https://localhost:8080/"
        },
        "id": "pDcS-A9a7yQm",
        "outputId": "92f3d85e-1256-48ee-e22c-e5a233dbbf27"
      },
      "execution_count": 16,
      "outputs": [
        {
          "output_type": "stream",
          "name": "stdout",
          "text": [
            "17.174557680329734\n",
            "70.88541666666667\n",
            "88.0599743469964\n",
            "1217.4256772358733\n"
          ]
        }
      ]
    },
    {
      "cell_type": "code",
      "source": [
        "fil_rxs = df_met[(df_met[\"rxn_solar\"]>=300) & (df_met[\"rxn_solar\"]<=360)]\n",
        "\n",
        "print(fil_rxs)\n",
        "print(fil_rxs.shape)"
      ],
      "metadata": {
        "colab": {
          "base_uri": "https://localhost:8080/"
        },
        "id": "b6fPBNiIq4tT",
        "outputId": "a09a745f-4e3d-4af4-81df-f8ac8665dc69"
      },
      "execution_count": 17,
      "outputs": [
        {
          "output_type": "stream",
          "name": "stdout",
          "text": [
            "     Unnamed: 0      fecha  temp_aire         hr   rxn_solar\n",
            "106         106 2021-04-17   8.916667  43.416667  308.916667\n",
            "107         107 2021-04-18  10.641667  46.458333  304.708333\n",
            "123         123 2021-05-04  14.425000  62.541667  331.375000\n",
            "124         124 2021-05-05  17.350000  47.083333  330.166667\n",
            "125         125 2021-05-06  18.420833  47.000000  331.791667\n",
            "..          ...        ...        ...        ...         ...\n",
            "223         223 2021-08-12  29.416667  35.291667  306.500000\n",
            "227         227 2021-08-16  27.720833  23.583333  306.416667\n",
            "228         228 2021-08-17  24.191667  32.375000  311.125000\n",
            "231         231 2021-08-20  26.283333  40.041667  300.791667\n",
            "232         232 2021-08-21  26.433333  27.208333  302.541667\n",
            "\n",
            "[71 rows x 5 columns]\n",
            "(71, 5)\n"
          ]
        }
      ]
    },
    {
      "cell_type": "code",
      "source": [
        "print(df_met)\n",
        "\n",
        "print(df_met.loc[1,\"hr\"])\n",
        "print(df_met.iloc[1,3])   # [fila, columna] indexacion considerando todo el data frame"
      ],
      "metadata": {
        "colab": {
          "base_uri": "https://localhost:8080/"
        },
        "id": "O1XjQZncB57V",
        "outputId": "4fa594bd-600a-4410-8a4b-ef4c236512a9"
      },
      "execution_count": 19,
      "outputs": [
        {
          "output_type": "stream",
          "name": "stdout",
          "text": [
            "     Unnamed: 0      fecha  temp_aire         hr   rxn_solar\n",
            "0             0 2021-01-01   3.625000  73.583333   99.833333\n",
            "1             1 2021-01-02   1.329167  60.625000   74.333333\n",
            "2             2 2021-01-03   1.920833  63.958333  101.500000\n",
            "3             3 2021-01-04   3.433333  57.791667  101.958333\n",
            "4             4 2021-01-05   0.445833  69.541667  106.666667\n",
            "..          ...        ...        ...        ...         ...\n",
            "329         329 2021-11-26   5.562500  69.875000   87.833333\n",
            "330         330 2021-11-27   5.500000  61.500000   93.041667\n",
            "331         331 2021-11-28   4.783333  60.291667  117.750000\n",
            "332         332 2021-11-29  10.112500  61.541667  108.750000\n",
            "333         333 2021-11-30   6.691667  74.000000  102.958333\n",
            "\n",
            "[334 rows x 5 columns]\n",
            "60.625\n",
            "60.625\n"
          ]
        }
      ]
    },
    {
      "cell_type": "markdown",
      "source": [
        "## **3.2. Control de calidad de datos ambientales**"
      ],
      "metadata": {
        "id": "APMFfOeVrGTq"
      }
    },
    {
      "cell_type": "markdown",
      "source": [
        "### **3.2.1. Preprocesamiento de datos**"
      ],
      "metadata": {
        "id": "mCVB8sLUjDrh"
      }
    },
    {
      "cell_type": "code",
      "source": [],
      "metadata": {
        "id": "0vY9K1zFliYf"
      },
      "execution_count": 20,
      "outputs": []
    },
    {
      "cell_type": "markdown",
      "source": [
        "### **3.2.2. Procesamiento de datos**"
      ],
      "metadata": {
        "id": "8BgRso-wljH8"
      }
    },
    {
      "cell_type": "code",
      "source": [],
      "metadata": {
        "id": "5Viq7CT5ljcI"
      },
      "execution_count": 20,
      "outputs": []
    },
    {
      "cell_type": "code",
      "source": [
        "fil_temp_aire = df_met[(df_met[\"temp_aire\"]>=-1) & (df_met[\"temp_aire\"]<=5)]\n",
        "\n",
        "print(fil_temp_aire)\n",
        "print(fil_temp_aire.shape)"
      ],
      "metadata": {
        "id": "eBvfzoeqimNe",
        "colab": {
          "base_uri": "https://localhost:8080/"
        },
        "outputId": "18729413-3590-48ec-9153-608ba311faaa"
      },
      "execution_count": 20,
      "outputs": [
        {
          "output_type": "stream",
          "name": "stdout",
          "text": [
            "     Unnamed: 0      fecha  temp_aire         hr   rxn_solar\n",
            "0             0 2021-01-01   3.625000  73.583333   99.833333\n",
            "1             1 2021-01-02   1.329167  60.625000   74.333333\n",
            "2             2 2021-01-03   1.920833  63.958333  101.500000\n",
            "3             3 2021-01-04   3.433333  57.791667  101.958333\n",
            "4             4 2021-01-05   0.445833  69.541667  106.666667\n",
            "5             5 2021-01-06  -0.045833  69.000000  106.625000\n",
            "6             6 2021-01-07  -0.708333  82.416667   14.583333\n",
            "9             9 2021-01-10   0.829167  84.916667  117.791667\n",
            "14           14 2021-01-15   0.466667  79.791667  116.208333\n",
            "15           15 2021-01-16   0.425000  78.541667  124.291667\n",
            "16           16 2021-01-17   0.462500  72.041667  127.958333\n",
            "17           17 2021-01-18   2.366667  76.166667  122.291667\n",
            "18           18 2021-01-19   1.379167  83.750000  123.083333\n",
            "19           19 2021-01-20   2.333333  95.625000   35.166667\n",
            "326         326 2021-11-23   4.512500  85.791667   38.541667\n",
            "327         327 2021-11-24   4.395833  85.041667   78.750000\n",
            "331         331 2021-11-28   4.783333  60.291667  117.750000\n",
            "(17, 5)\n"
          ]
        }
      ]
    },
    {
      "cell_type": "code",
      "source": [
        "import numpy as np\n",
        "\n",
        "df_met.loc[1,\"hr\"]= np.nan\n",
        "df_met.iloc[4,3]= np.nan\n",
        "\n",
        "df_met.loc[1,\"temp_aire\"]= np.nan\n",
        "print(df_met)"
      ],
      "metadata": {
        "colab": {
          "base_uri": "https://localhost:8080/"
        },
        "id": "a5n-0I2XBxK_",
        "outputId": "ca2f0dbf-1655-4988-f39e-cc9817da231e"
      },
      "execution_count": 21,
      "outputs": [
        {
          "output_type": "stream",
          "name": "stdout",
          "text": [
            "     Unnamed: 0      fecha  temp_aire         hr   rxn_solar\n",
            "0             0 2021-01-01   3.625000  73.583333   99.833333\n",
            "1             1 2021-01-02        NaN        NaN   74.333333\n",
            "2             2 2021-01-03   1.920833  63.958333  101.500000\n",
            "3             3 2021-01-04   3.433333  57.791667  101.958333\n",
            "4             4 2021-01-05   0.445833        NaN  106.666667\n",
            "..          ...        ...        ...        ...         ...\n",
            "329         329 2021-11-26   5.562500  69.875000   87.833333\n",
            "330         330 2021-11-27   5.500000  61.500000   93.041667\n",
            "331         331 2021-11-28   4.783333  60.291667  117.750000\n",
            "332         332 2021-11-29  10.112500  61.541667  108.750000\n",
            "333         333 2021-11-30   6.691667  74.000000  102.958333\n",
            "\n",
            "[334 rows x 5 columns]\n"
          ]
        }
      ]
    },
    {
      "cell_type": "code",
      "source": [
        "def encontrar_nan(df):\n",
        "    # Verificar valores NaN en cada columna\n",
        "    nan_por_columna = df.isna().sum()\n",
        "\n",
        "    # Verificar valores NaN en todo el DataFrame\n",
        "    total_nan = df.isna().sum().sum()\n",
        "\n",
        "    # Mostrar resultados\n",
        "    print(\"DataFrame original:\")\n",
        "    print(\"\\nValores NaN por columna:\")\n",
        "    print(nan_por_columna)\n",
        "    print(f\"\\nTotal de valores NaN en el DataFrame: {total_nan}\")"
      ],
      "metadata": {
        "id": "LCHGAGMWLU85"
      },
      "execution_count": 22,
      "outputs": []
    },
    {
      "cell_type": "code",
      "source": [
        "encontrar_nan(df_met)"
      ],
      "metadata": {
        "colab": {
          "base_uri": "https://localhost:8080/"
        },
        "id": "8DZ4wGmYwkIC",
        "outputId": "fa98a689-2bc0-4dfb-83d1-3471eaf4ee79"
      },
      "execution_count": 23,
      "outputs": [
        {
          "output_type": "stream",
          "name": "stdout",
          "text": [
            "DataFrame original:\n",
            "\n",
            "Valores NaN por columna:\n",
            "Unnamed: 0    0\n",
            "fecha         0\n",
            "temp_aire     1\n",
            "hr            2\n",
            "rxn_solar     0\n",
            "dtype: int64\n",
            "\n",
            "Total de valores NaN en el DataFrame: 3\n"
          ]
        }
      ]
    },
    {
      "cell_type": "code",
      "source": [
        "encontrar_nan(df_anemia)"
      ],
      "metadata": {
        "id": "dqMy6L5mwohD",
        "colab": {
          "base_uri": "https://localhost:8080/"
        },
        "outputId": "4dfc701c-4950-435b-b3f3-9b70db73c66c"
      },
      "execution_count": 24,
      "outputs": [
        {
          "output_type": "stream",
          "name": "stdout",
          "text": [
            "DataFrame original:\n",
            "\n",
            "Valores NaN por columna:\n",
            "Sexo                 0\n",
            "id_persona           0\n",
            "Edad                 0\n",
            "Tipo_edad            0\n",
            "id_ubigeo         5783\n",
            "Fecha_atencion       0\n",
            "Etapa                0\n",
            "Diagnostico          0\n",
            "Tipo_Dx              0\n",
            "Lab                  0\n",
            "id_eess              0\n",
            "dtype: int64\n",
            "\n",
            "Total de valores NaN en el DataFrame: 5783\n"
          ]
        }
      ]
    },
    {
      "cell_type": "code",
      "source": [
        "df_interpolado = df_met.interpolate() # method: linear\n",
        "#df_interpolado = df.interpolate(method=\"spline\", order=2) # method: polynomial, spline\n",
        "\n",
        "print(df_interpolado)"
      ],
      "metadata": {
        "colab": {
          "base_uri": "https://localhost:8080/"
        },
        "id": "RkdXRVCoJyJW",
        "outputId": "9af78c4c-4b66-4fdd-ebd2-7ee2dc648f00"
      },
      "execution_count": 25,
      "outputs": [
        {
          "output_type": "stream",
          "name": "stdout",
          "text": [
            "     Unnamed: 0      fecha  temp_aire         hr   rxn_solar\n",
            "0             0 2021-01-01   3.625000  73.583333   99.833333\n",
            "1             1 2021-01-02   2.772917  68.770833   74.333333\n",
            "2             2 2021-01-03   1.920833  63.958333  101.500000\n",
            "3             3 2021-01-04   3.433333  57.791667  101.958333\n",
            "4             4 2021-01-05   0.445833  63.395833  106.666667\n",
            "..          ...        ...        ...        ...         ...\n",
            "329         329 2021-11-26   5.562500  69.875000   87.833333\n",
            "330         330 2021-11-27   5.500000  61.500000   93.041667\n",
            "331         331 2021-11-28   4.783333  60.291667  117.750000\n",
            "332         332 2021-11-29  10.112500  61.541667  108.750000\n",
            "333         333 2021-11-30   6.691667  74.000000  102.958333\n",
            "\n",
            "[334 rows x 5 columns]\n"
          ]
        }
      ]
    },
    {
      "cell_type": "markdown",
      "source": [
        "## **3.3. Análisis exploratorio de datos biomédicos**"
      ],
      "metadata": {
        "id": "k2OIVOM_6sJT"
      }
    },
    {
      "cell_type": "code",
      "source": [
        "print(df_anemia.info())"
      ],
      "metadata": {
        "colab": {
          "base_uri": "https://localhost:8080/"
        },
        "id": "tRnkolkxSP9H",
        "outputId": "b8614500-6b26-4879-a49a-6c30250abfd8"
      },
      "execution_count": 26,
      "outputs": [
        {
          "output_type": "stream",
          "name": "stdout",
          "text": [
            "<class 'pandas.core.frame.DataFrame'>\n",
            "RangeIndex: 248893 entries, 0 to 248892\n",
            "Data columns (total 11 columns):\n",
            " #   Column          Non-Null Count   Dtype  \n",
            "---  ------          --------------   -----  \n",
            " 0   Sexo            248893 non-null  object \n",
            " 1   id_persona      248893 non-null  int64  \n",
            " 2   Edad            248893 non-null  int64  \n",
            " 3   Tipo_edad       248893 non-null  object \n",
            " 4   id_ubigeo       243110 non-null  float64\n",
            " 5   Fecha_atencion  248893 non-null  int64  \n",
            " 6   Etapa           248893 non-null  object \n",
            " 7   Diagnostico     248893 non-null  float64\n",
            " 8   Tipo_Dx         248893 non-null  object \n",
            " 9   Lab             248893 non-null  object \n",
            " 10  id_eess         248893 non-null  int64  \n",
            "dtypes: float64(2), int64(4), object(5)\n",
            "memory usage: 20.9+ MB\n",
            "None\n"
          ]
        }
      ]
    },
    {
      "cell_type": "code",
      "source": [
        "df_anemia_interes_ordenado = df_anemia.sort_values(by=\"Fecha_atencion\")\n",
        "print(df_anemia_interes_ordenado)"
      ],
      "metadata": {
        "id": "YeSQS7ewxiZ8",
        "colab": {
          "base_uri": "https://localhost:8080/"
        },
        "outputId": "96a3eeb9-8a24-4cf5-87b3-b0cf43f5319a"
      },
      "execution_count": 27,
      "outputs": [
        {
          "output_type": "stream",
          "name": "stdout",
          "text": [
            "       Sexo  id_persona  Edad Tipo_edad  id_ubigeo  Fecha_atencion    Etapa  \\\n",
            "188769    M    13815163     6         M      636.0        20210101  00a-11a   \n",
            "239800    F    33892383     3         A      604.0        20210101  00a-11a   \n",
            "207352    F    29311370     6         M      959.0        20210101  00a-11a   \n",
            "206101    F    30962033     5         M      893.0        20210101  00a-11a   \n",
            "194656    F    23040846     6         M     1247.0        20210101  00a-11a   \n",
            "...     ...         ...   ...       ...        ...             ...      ...   \n",
            "177519    M    40636027     6         M     1496.0        20230731  00a-11a   \n",
            "198759    M    24004832     3         A     1018.0        20230731  00a-11a   \n",
            "140464    M    40293673    11         M     1317.0        20230731  00a-11a   \n",
            "156284    M    40307755    10         M      919.0        20230731  00a-11a   \n",
            "178689    F    35619327     2         A     1492.0        20230731  00a-11a   \n",
            "\n",
            "        Diagnostico Tipo_Dx  Lab  id_eess  \n",
            "188769     99199.17       D   TA    23157  \n",
            "239800     99199.17       D  SF1     7064  \n",
            "207352     99199.17       D  SF1      975  \n",
            "206101     99199.17       D   TA     4082  \n",
            "194656     99199.17       D  SF1     4767  \n",
            "...             ...     ...  ...      ...  \n",
            "177519     99199.17       D   TA     7374  \n",
            "198759     99199.17       D  SF1     3441  \n",
            "140464     99199.17       D  SF2     5738  \n",
            "156284     99199.17       D  SF5      755  \n",
            "178689     99199.17       D  SF2      175  \n",
            "\n",
            "[248893 rows x 11 columns]\n"
          ]
        }
      ]
    },
    {
      "cell_type": "markdown",
      "source": [
        "## **3.4. Control de calidad de datos biomédicos**"
      ],
      "metadata": {
        "id": "6cDcAGRS60_b"
      }
    },
    {
      "cell_type": "markdown",
      "source": [
        "### **3.4.1. Preprocesamiento de datos**"
      ],
      "metadata": {
        "id": "j543De9il_Am"
      }
    },
    {
      "cell_type": "code",
      "source": [],
      "metadata": {
        "id": "0GLMHHe_mDZy"
      },
      "execution_count": 27,
      "outputs": []
    },
    {
      "cell_type": "markdown",
      "source": [
        "### **3.4.2. Procesamiento de datos**"
      ],
      "metadata": {
        "id": "-2U7Zwl7mB04"
      }
    },
    {
      "cell_type": "code",
      "source": [],
      "metadata": {
        "id": "8WVefUawmCaA"
      },
      "execution_count": 27,
      "outputs": []
    },
    {
      "cell_type": "code",
      "source": [],
      "metadata": {
        "id": "XOwNHRK-61Hf"
      },
      "execution_count": 27,
      "outputs": []
    },
    {
      "cell_type": "markdown",
      "source": [
        "# **IV. Referencias**\n",
        "\n",
        "**Libros y manuales**\n",
        "\n",
        "- Libro de estadisitica con python\n",
        "\n",
        "  https://www.editorial-sciela.org/index.php/sciela/article/view/16/49\n",
        "\n",
        "- Introducción a la teoria de probabilidades\n",
        "\n",
        "  https://ciladi.org/wp-content/uploads/Version_final_Introduccion-Probabilidad-Python-vf_Bayas-3.pdf\n",
        "\n",
        "- Guía practica de análsis exploratorio de python\n",
        "\n",
        "  https://datos.gob.es/sites/default/files/doc/file/guia_eda_python.pdf\n",
        "\n",
        "\n",
        "**Cursos en linea**\n",
        "\n",
        "- Estadística W3School:\n",
        "\n",
        "  https://www.w3schools.com/statistics/index.php\n",
        "\n",
        "- Estadística con python:\n",
        "\n",
        "  https://docs.python.org/es/3/library/statistics.html\n",
        "\n",
        "- Kaggle:\n",
        "\n",
        "  https://www.kaggle.com/code/saurav9786/statistics-for-data-scientists\n",
        "\n",
        "**Aplicaciones IA**\n",
        "\n",
        "- Gemini iA\n",
        "\n",
        "  https://gemini.google.com\n",
        "\n",
        "- DeepSeek\n",
        "\n",
        "  https://www.deepseek.com/\n",
        "\n",
        "- Chat GPT\n",
        "\n",
        "  https://chatgpt.com/\n",
        "\n",
        "- Claude IA\n",
        "\n",
        "  https://claude.ai/\n",
        "\n",
        "- Julius IA:\n",
        "\n",
        "  https://julius.ai\n",
        "\n"
      ],
      "metadata": {
        "id": "soydKrE0mpsQ"
      }
    }
  ]
}