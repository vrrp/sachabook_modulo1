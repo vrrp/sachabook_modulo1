{
 "cells": [
  {
   "cell_type": "markdown",
   "metadata": {
    "id": "2HH0qrj7ogO9"
   },
   "source": [
    "# **Manejo, Preprocesamiento y Procesamiento de datos**"
   ]
  },
  {
   "cell_type": "markdown",
   "metadata": {
    "id": "NRGjfR4KPodW"
   },
   "source": [
    "| Etapa                | Objetivo principal                | Ejemplos                                     |\n",
    "| -------------------- | --------------------------------- | -------------------------------------------- |\n",
    "| **Manejo**           | Administración y control de datos | Almacenamiento, seguridad, bases de datos    |\n",
    "| **Preprocesamiento** | Preparar datos para el análisis   | Analisis exploratorio, control de calidad, normalización, codificación        |\n",
    "| **Procesamiento**    | Extraer conocimiento de los datos | Estadística, machine learning, visualización |\n"
   ]
  },
  {
   "cell_type": "markdown",
   "metadata": {
    "id": "fFxYSvHMQDCz"
   },
   "source": [
    "Estos tres procesos son interdependientes y forman parte del flujo de trabajo en cualquier proyecto de análisis de datos o ciencia de datos."
   ]
  },
  {
   "cell_type": "markdown",
   "metadata": {
    "id": "s7BplYqWcu3v"
   },
   "source": [
    "# **I. Gestión de directorios y archivos en la nube**"
   ]
  },
  {
   "cell_type": "markdown",
   "metadata": {
    "id": "_WGFJhlgMkIQ"
   },
   "source": [
    "La gestión de archivos y directorios en Google Drive es el proceso de organizar, proteger y compartir información digital en la nube, aprovechando sus funciones de colaboración en tiempo real, control de versiones, permisos de acceso y sincronización multiplataforma, lo que facilita el trabajo individual y grupal de manera eficiente."
   ]
  },
  {
   "cell_type": "markdown",
   "metadata": {
    "id": "6IVpqO5tairu"
   },
   "source": [
    "## **1.1. Montar Google drive a Colaboratory**"
   ]
  },
  {
   "cell_type": "markdown",
   "metadata": {
    "id": "Siwin-CeSZZM"
   },
   "source": [
    "Montar Google Drive en Colab es el proceso mediante el cual el entorno de ejecución de Colab obtiene acceso autorizado a los archivos de Google Drive, de forma que se pueden leer, escribir y modificar archivos durante la sesión."
   ]
  },
  {
   "cell_type": "code",
   "execution_count": 1,
   "metadata": {
    "colab": {
     "base_uri": "https://localhost:8080/"
    },
    "collapsed": true,
    "id": "flR_83SGDY9E",
    "outputId": "9b665c3c-507c-43f5-ba0e-58eead845639"
   },
   "outputs": [
    {
     "ename": "ModuleNotFoundError",
     "evalue": "No module named 'imp'",
     "output_type": "error",
     "traceback": [
      "\u001b[31m---------------------------------------------------------------------------\u001b[39m",
      "\u001b[31mModuleNotFoundError\u001b[39m                       Traceback (most recent call last)",
      "\u001b[36mCell\u001b[39m\u001b[36m \u001b[39m\u001b[32mIn[1]\u001b[39m\u001b[32m, line 1\u001b[39m\n\u001b[32m----> \u001b[39m\u001b[32m1\u001b[39m \u001b[38;5;28;01mfrom\u001b[39;00m\u001b[38;5;250m \u001b[39m\u001b[34;01mgoogle\u001b[39;00m\u001b[34;01m.\u001b[39;00m\u001b[34;01mcolab\u001b[39;00m\u001b[38;5;250m \u001b[39m\u001b[38;5;28;01mimport\u001b[39;00m drive\n\u001b[32m      2\u001b[39m drive.mount(\u001b[33m'\u001b[39m\u001b[33m/content/drive\u001b[39m\u001b[33m'\u001b[39m)\n",
      "\u001b[36mFile \u001b[39m\u001b[32m~/anaconda3/envs/jupyterbook/lib/python3.13/site-packages/google/colab/__init__.py:20\u001b[39m\n\u001b[32m     17\u001b[39m \u001b[38;5;28;01mfrom\u001b[39;00m\u001b[38;5;250m \u001b[39m\u001b[34;01m__future__\u001b[39;00m\u001b[38;5;250m \u001b[39m\u001b[38;5;28;01mimport\u001b[39;00m division \u001b[38;5;28;01mas\u001b[39;00m _\n\u001b[32m     18\u001b[39m \u001b[38;5;28;01mfrom\u001b[39;00m\u001b[38;5;250m \u001b[39m\u001b[34;01m__future__\u001b[39;00m\u001b[38;5;250m \u001b[39m\u001b[38;5;28;01mimport\u001b[39;00m print_function \u001b[38;5;28;01mas\u001b[39;00m _\n\u001b[32m---> \u001b[39m\u001b[32m20\u001b[39m \u001b[38;5;28;01mfrom\u001b[39;00m\u001b[38;5;250m \u001b[39m\u001b[34;01mgoogle\u001b[39;00m\u001b[34;01m.\u001b[39;00m\u001b[34;01mcolab\u001b[39;00m\u001b[38;5;250m \u001b[39m\u001b[38;5;28;01mimport\u001b[39;00m _import_hooks\n\u001b[32m     21\u001b[39m \u001b[38;5;28;01mfrom\u001b[39;00m\u001b[38;5;250m \u001b[39m\u001b[34;01mgoogle\u001b[39;00m\u001b[34;01m.\u001b[39;00m\u001b[34;01mcolab\u001b[39;00m\u001b[38;5;250m \u001b[39m\u001b[38;5;28;01mimport\u001b[39;00m _installation_commands\n\u001b[32m     22\u001b[39m \u001b[38;5;28;01mfrom\u001b[39;00m\u001b[38;5;250m \u001b[39m\u001b[34;01mgoogle\u001b[39;00m\u001b[34;01m.\u001b[39;00m\u001b[34;01mcolab\u001b[39;00m\u001b[38;5;250m \u001b[39m\u001b[38;5;28;01mimport\u001b[39;00m _shell_customizations\n",
      "\u001b[36mFile \u001b[39m\u001b[32m~/anaconda3/envs/jupyterbook/lib/python3.13/site-packages/google/colab/_import_hooks/__init__.py:16\u001b[39m\n\u001b[32m      1\u001b[39m \u001b[38;5;66;03m# Copyright 2018 Google Inc.\u001b[39;00m\n\u001b[32m      2\u001b[39m \u001b[38;5;66;03m#\u001b[39;00m\n\u001b[32m      3\u001b[39m \u001b[38;5;66;03m# Licensed under the Apache License, Version 2.0 (the \"License\");\u001b[39;00m\n\u001b[32m   (...)\u001b[39m\u001b[32m     12\u001b[39m \u001b[38;5;66;03m# See the License for the specific language govestylerning permissions and\u001b[39;00m\n\u001b[32m     13\u001b[39m \u001b[38;5;66;03m# limitations under the License.\u001b[39;00m\n\u001b[32m     14\u001b[39m \u001b[33;03m\"\"\"Colab import customizations to the IPython runtime.\"\"\"\u001b[39;00m\n\u001b[32m---> \u001b[39m\u001b[32m16\u001b[39m \u001b[38;5;28;01mfrom\u001b[39;00m\u001b[38;5;250m \u001b[39m\u001b[34;01mgoogle\u001b[39;00m\u001b[34;01m.\u001b[39;00m\u001b[34;01mcolab\u001b[39;00m\u001b[34;01m.\u001b[39;00m\u001b[34;01m_import_hooks\u001b[39;00m\u001b[38;5;250m \u001b[39m\u001b[38;5;28;01mimport\u001b[39;00m _altair\n\u001b[32m     17\u001b[39m \u001b[38;5;28;01mfrom\u001b[39;00m\u001b[38;5;250m \u001b[39m\u001b[34;01mgoogle\u001b[39;00m\u001b[34;01m.\u001b[39;00m\u001b[34;01mcolab\u001b[39;00m\u001b[34;01m.\u001b[39;00m\u001b[34;01m_import_hooks\u001b[39;00m\u001b[38;5;250m \u001b[39m\u001b[38;5;28;01mimport\u001b[39;00m _cv2\n\u001b[32m     20\u001b[39m \u001b[38;5;28;01mdef\u001b[39;00m\u001b[38;5;250m \u001b[39m\u001b[34m_register_hooks\u001b[39m():\n",
      "\u001b[36mFile \u001b[39m\u001b[32m~/anaconda3/envs/jupyterbook/lib/python3.13/site-packages/google/colab/_import_hooks/_altair.py:16\u001b[39m\n\u001b[32m      1\u001b[39m \u001b[38;5;66;03m# Copyright 2018 Google Inc. All rights reserved.\u001b[39;00m\n\u001b[32m      2\u001b[39m \u001b[38;5;66;03m#\u001b[39;00m\n\u001b[32m      3\u001b[39m \u001b[38;5;66;03m# Licensed under the Apache License, Version 2.0 (the \"License\");\u001b[39;00m\n\u001b[32m   (...)\u001b[39m\u001b[32m     12\u001b[39m \u001b[38;5;66;03m# See the License for the specific language governing permissions and\u001b[39;00m\n\u001b[32m     13\u001b[39m \u001b[38;5;66;03m# limitations under the License.\u001b[39;00m\n\u001b[32m     14\u001b[39m \u001b[33;03m\"\"\"Import hook for ensuring that Altair's Colab renderer is registered.\"\"\"\u001b[39;00m\n\u001b[32m---> \u001b[39m\u001b[32m16\u001b[39m \u001b[38;5;28;01mimport\u001b[39;00m\u001b[38;5;250m \u001b[39m\u001b[34;01mimp\u001b[39;00m\n\u001b[32m     17\u001b[39m \u001b[38;5;28;01mimport\u001b[39;00m\u001b[38;5;250m \u001b[39m\u001b[34;01mlogging\u001b[39;00m\n\u001b[32m     18\u001b[39m \u001b[38;5;28;01mimport\u001b[39;00m\u001b[38;5;250m \u001b[39m\u001b[34;01mos\u001b[39;00m\n",
      "\u001b[31mModuleNotFoundError\u001b[39m: No module named 'imp'"
     ]
    }
   ],
   "source": [
    "from google.colab import drive\n",
    "drive.mount('/content/drive')"
   ]
  },
  {
   "cell_type": "markdown",
   "metadata": {
    "id": "bnyJGs2hEm1B"
   },
   "source": [
    "## **1.2. Explorar contenido de Google Drive**"
   ]
  },
  {
   "cell_type": "markdown",
   "metadata": {
    "id": "XMr9QY3pGg-V"
   },
   "source": [
    "Explorar contenido de Google Drive se refiere a la acción de navegar, buscar, visualizar y gestionar los archivos y carpetas almacenados en Google Drive, la plataforma de almacenamiento en la nube de Google.\n",
    "\n"
   ]
  },
  {
   "cell_type": "code",
   "execution_count": null,
   "metadata": {
    "colab": {
     "base_uri": "https://localhost:8080/"
    },
    "id": "9N8i2JBS1Ybm",
    "outputId": "f5bd2b06-f7f6-4d7e-83df-2feddd79f22e"
   },
   "outputs": [
    {
     "name": "stdout",
     "output_type": "stream",
     "text": [
      "['Osystemgoes', 'latex', 'maestria_met', 'models', 'igp', 'grupo_unmsm', 'make_books_latex', 'make_paper', 'proyectos', 'tools', 'varios', 'documentos', 'cursos_talleres', 'datasample', 'utec', 'fiware', 'Classroom', 'ingles', 'work_job', 'Postulaciones', 'serie de tiempo', 'Google Earth', 'contaminantes_atmosfericos', 'inventario_csv', 'informes', 'Shapes', 'actividades_TDR', 'book_cluster', 'resultados', 'oefa_control_calidad', 'wrfchem_app', 'sacha', 'Colab Notebooks', 'consultorias_pagos', 'EstadisticaIA2025', 'Google AI Studio', 'Estadistica2025_estudiantes', 'Estadistica2025_Tareas_estudiantes', 'Estadistica4Finanzas', 'agroexportacion_peru', 'Bruce-Gedeck-Estadistica-Practica-para-Ciencia-de-Datos-con-R-y-Python.pdf', 'Bioestadistica', 'Base_datos', 'Ciencia_datos_pythonAI', 'clase_jose.ipynb', 'estadistica_python_ai_modulo1', 'InteractiveSheet_2025-09-05_21_40_48.gsheet']\n"
     ]
    }
   ],
   "source": [
    "import os\n",
    "\n",
    "ruta_drive =\"/content/drive/MyDrive/\"\n",
    "\n",
    "print(os.listdir(ruta_drive))"
   ]
  },
  {
   "cell_type": "markdown",
   "metadata": {
    "id": "p7GP_RGsMMWx"
   },
   "source": [
    "El bloque de código de la siguiente celda permite visualizar el contenido de Google Drive enumerada de manera vertical."
   ]
  },
  {
   "cell_type": "code",
   "execution_count": null,
   "metadata": {
    "colab": {
     "base_uri": "https://localhost:8080/"
    },
    "id": "UmaMZ1tKbTPY",
    "outputId": "67c433d9-9617-4309-8c5c-01ee2f3c4248"
   },
   "outputs": [
    {
     "name": "stdout",
     "output_type": "stream",
     "text": [
      "Numero de elementos: 47\n",
      "(0) Osystemgoes\n",
      "(1) latex\n",
      "(2) maestria_met\n",
      "(3) models\n",
      "(4) igp\n",
      "(5) grupo_unmsm\n",
      "(6) make_books_latex\n",
      "(7) make_paper\n",
      "(8) proyectos\n",
      "(9) tools\n",
      "(10) varios\n",
      "(11) documentos\n",
      "(12) cursos_talleres\n",
      "(13) datasample\n",
      "(14) utec\n",
      "(15) fiware\n",
      "(16) Classroom\n",
      "(17) ingles\n",
      "(18) work_job\n",
      "(19) Postulaciones\n",
      "(20) serie de tiempo\n",
      "(21) Google Earth\n",
      "(22) contaminantes_atmosfericos\n",
      "(23) inventario_csv\n",
      "(24) informes\n",
      "(25) Shapes\n",
      "(26) actividades_TDR\n",
      "(27) book_cluster\n",
      "(28) resultados\n",
      "(29) oefa_control_calidad\n",
      "(30) wrfchem_app\n",
      "(31) sacha\n",
      "(32) Colab Notebooks\n",
      "(33) consultorias_pagos\n",
      "(34) EstadisticaIA2025\n",
      "(35) Google AI Studio\n",
      "(36) Estadistica2025_estudiantes\n",
      "(37) Estadistica2025_Tareas_estudiantes\n",
      "(38) Estadistica4Finanzas\n",
      "(39) agroexportacion_peru\n",
      "(40) Bruce-Gedeck-Estadistica-Practica-para-Ciencia-de-Datos-con-R-y-Python.pdf\n",
      "(41) Bioestadistica\n",
      "(42) Base_datos\n",
      "(43) Ciencia_datos_pythonAI\n",
      "(44) clase_jose.ipynb\n",
      "(45) estadistica_python_ai_modulo1\n",
      "(46) InteractiveSheet_2025-09-05_21_40_48.gsheet\n"
     ]
    }
   ],
   "source": [
    "lista_dir_drive = os.listdir(ruta_drive)\n",
    "n_elem = len(lista_dir_drive)\n",
    "print(f\"Numero de elementos: {n_elem}\")\n",
    "\n",
    "for i in range(n_elem):\n",
    "  print(f\"({i}) {lista_dir_drive[i]}\")"
   ]
  },
  {
   "cell_type": "markdown",
   "metadata": {
    "id": "AEJM8QCGMN-p"
   },
   "source": [
    "Definir la función **`explorar_drive`** para explorar de manera más eficiente y rápida las carpertas y sub carpetas que se encuentran en Google Drive."
   ]
  },
  {
   "cell_type": "code",
   "execution_count": null,
   "metadata": {
    "id": "aNuxVIPfz5ZD"
   },
   "outputs": [],
   "source": [
    "def explorar_drive(nombre_carpeta):\n",
    "  import os\n",
    "  ruta_drive =\"/content/drive/MyDrive/\"\n",
    "  contenido_carpeta = os.listdir(ruta_drive + nombre_carpeta)\n",
    "  n_elem = len(contenido_carpeta)\n",
    "\n",
    "  print(f\"Ruta: {ruta_drive + nombre_carpeta}\")\n",
    "  print(f\"Numero de elementos: {n_elem}\")\n",
    "\n",
    "  for i in range(n_elem):\n",
    "    print(f\"({i}) {contenido_carpeta[i]}\")"
   ]
  },
  {
   "cell_type": "markdown",
   "metadata": {
    "id": "iq1aFj94NzAP"
   },
   "source": [
    "Forma de usar la función `explorar_drive` para explorar el contenido de Google Drive."
   ]
  },
  {
   "cell_type": "code",
   "execution_count": null,
   "metadata": {
    "colab": {
     "base_uri": "https://localhost:8080/"
    },
    "id": "gwV0Nozaf1TK",
    "outputId": "780839af-5e53-4994-c149-b294d790fc7c"
   },
   "outputs": [
    {
     "name": "stdout",
     "output_type": "stream",
     "text": [
      "Ruta: /content/drive/MyDrive/Base_datos\n",
      "Numero de elementos: 4\n",
      "(0) fuente_de_datos.gdoc\n",
      "(1) shapes\n",
      "(2) biomedicina\n",
      "(3) meteorologia\n"
     ]
    }
   ],
   "source": [
    "explorar_drive(\"Base_datos\")"
   ]
  },
  {
   "cell_type": "code",
   "execution_count": null,
   "metadata": {
    "colab": {
     "base_uri": "https://localhost:8080/"
    },
    "id": "5hynQSmi1KxH",
    "outputId": "d38feda3-8d12-488b-b5f2-ac720f5f928b"
   },
   "outputs": [
    {
     "name": "stdout",
     "output_type": "stream",
     "text": [
      "Ruta: /content/drive/MyDrive/Ciencia_datos_pythonAI/\n",
      "Numero de elementos: 3\n",
      "(0) Modulo_01\n",
      "(1) Modulo_02\n",
      "(2) Modulo_03\n"
     ]
    }
   ],
   "source": [
    "explorar_drive(\"Ciencia_datos_pythonAI/\")"
   ]
  },
  {
   "cell_type": "markdown",
   "metadata": {
    "id": "3zD6DHn3PVt6"
   },
   "source": [
    "# **II. Importar base de datos**"
   ]
  },
  {
   "cell_type": "markdown",
   "metadata": {
    "id": "HLrKfg_XQmJy"
   },
   "source": [
    "**¿Qué es una base de datos?**\n",
    "\n",
    "Una base de datos es una colección organizada de información o datos estructurados, que normalmente se almacena electrónicamente en un sistema de computadora. Esencialmente, es un sistema diseñado para almacenar, gestionar y recuperar grandes cantidades de información de manera eficiente."
   ]
  },
  {
   "cell_type": "markdown",
   "metadata": {
    "id": "9B11_2x8Q-aa"
   },
   "source": [
    "pregunta para gemini: efinir, describir, detallar y comparar tipos de datos cuantitativos y cualitativos. Finalmente dar tres ejemplos de cada uno de ellos."
   ]
  },
  {
   "cell_type": "markdown",
   "metadata": {
    "id": "Szor2deNRg0-"
   },
   "source": [
    "**Datos Cuantitativos:**\n",
    "* **Definición:** Los datos cuantitativos (discretos ó contínuos) son aquellos que se pueden medir y expresar numéricamente. Responden a la pregunta \"¿cuánto?\" o \"¿cuántos?\". Estos datos se pueden someter a operaciones matemáticas y análisis estadísticos.\n",
    "\n",
    "* **Descripción:** Son datos numéricos que representan magnitudes, cantidades, frecuencias, etc. Tienen un orden natural y distancias significativas entre sus valores.\n",
    "\n"
   ]
  },
  {
   "cell_type": "markdown",
   "metadata": {
    "id": "DRvLnBijSc9J"
   },
   "source": [
    "**Datos Cualitativos:**\n",
    "* **Definición:** Los datos cualitativos son aquellos que describen cualidades, características o atributos. No se pueden medir numéricamente de manera significativa. Responden a la pregunta \"¿cómo?\" o \"¿qué tipo?\".\n",
    "\n",
    "* **Descripción:**  Son datos que representan categorías o etiquetas. No tienen un orden numérico inherente y las operaciones matemáticas no suelen ser aplicables a menos que se codifiquen."
   ]
  },
  {
   "cell_type": "markdown",
   "metadata": {
    "id": "jf46-eaXSnmp"
   },
   "source": [
    "**Comparación entre Datos Cuantitativos y Cualitativos:**\n",
    "\n",
    "\n",
    "| Característica       | Datos Cuantitativos                     | Datos Cualitativos                       |\n",
    "| :------------------- | :-------------------------------------- | :--------------------------------------- |\n",
    "| **Naturaleza**       | Numérica, medible                       | Categórica, descriptiva                  |\n",
    "| **Responde a**       | ¿Cuánto? ¿Cuántos?                      | ¿Cómo? ¿Qué tipo?                        |\n",
    "| **Operaciones Mat.** | Sí (suma, promedio, etc.)               | No (a menos que se codifiquen)           |\n",
    "| **Orden**            | Sí, orden natural                       | Nominal: No; Ordinal: Sí (jerarquía)     |\n",
    "| **Análisis Típico**  | Estadísticas descriptivas (media, desv. estándar), regresión, etc. | Frecuencias, proporciones, análisis de texto, etc. |\n",
    "| **Visualización**    | Histogramas, líneas, dispersión         | Barras, circulares                       |\n",
    "| **Objetividad**      | Generalmente objetivo                   | Puede ser subjetivo                      |"
   ]
  },
  {
   "cell_type": "markdown",
   "metadata": {
    "id": "_MN3nCnzzj8x"
   },
   "source": [
    "## **2.1. Importar archivos en formato EXCEL**"
   ]
  },
  {
   "cell_type": "markdown",
   "metadata": {
    "id": "KeSq-hArsvdt"
   },
   "source": [
    "Las mediciones de temperatura del aire, humedad relativa y radiación solar (variables ambientales), realizadas por una estación meteorológica en un punto geográfico específico son datos **cuantitativos contínuos**"
   ]
  },
  {
   "cell_type": "code",
   "execution_count": null,
   "metadata": {
    "id": "5RkDFeXl2rlH"
   },
   "outputs": [],
   "source": [
    "excel_data_file = \"/content/drive/MyDrive/Base_datos/meteorologia/data_estacion_madrid.xlsx\""
   ]
  },
  {
   "cell_type": "code",
   "execution_count": null,
   "metadata": {
    "colab": {
     "base_uri": "https://localhost:8080/"
    },
    "id": "mdhJrUxZ3_A0",
    "outputId": "933d1c4a-b54c-4cd3-c371-ce545026b357"
   },
   "outputs": [
    {
     "name": "stdout",
     "output_type": "stream",
     "text": [
      "     Unnamed: 0      fecha  temp_aire         hr   rxn_solar\n",
      "0             0 2021-01-01   3.625000  73.583333   99.833333\n",
      "1             1 2021-01-02   1.329167  60.625000   74.333333\n",
      "2             2 2021-01-03   1.920833  63.958333  101.500000\n",
      "3             3 2021-01-04   3.433333  57.791667  101.958333\n",
      "4             4 2021-01-05   0.445833  69.541667  106.666667\n",
      "..          ...        ...        ...        ...         ...\n",
      "329         329 2021-11-26   5.562500  69.875000   87.833333\n",
      "330         330 2021-11-27   5.500000  61.500000   93.041667\n",
      "331         331 2021-11-28   4.783333  60.291667  117.750000\n",
      "332         332 2021-11-29  10.112500  61.541667  108.750000\n",
      "333         333 2021-11-30   6.691667  74.000000  102.958333\n",
      "\n",
      "[334 rows x 5 columns]\n"
     ]
    }
   ],
   "source": [
    "# immportando el archivo Excel\n",
    "import pandas as pd\n",
    "\n",
    "df_met = pd.read_excel(excel_data_file)\n",
    "print(df_met)"
   ]
  },
  {
   "cell_type": "markdown",
   "metadata": {
    "id": "5fqV67DEq17A"
   },
   "source": [
    "## **2.2. Importar archivos en formato CSV**"
   ]
  },
  {
   "cell_type": "markdown",
   "metadata": {
    "id": "8j-bGuqwUxaS"
   },
   "source": [
    "Importar archivos en formato CSV (Comma-Separated Values, o Valores Separados por Comas) consiste en el proceso de cargar o transferir datos almacenados en un archivo CSV a un programa, aplicación o base de datos para su procesamiento, análisis o almacenamiento. Un archivo CSV es un formato de texto plano que organiza datos en filas y columnas, donde los valores están separados por comas (u otros delimitadores, como punto y coma o tabulaciones) y cada fila representa un registro."
   ]
  },
  {
   "cell_type": "markdown",
   "metadata": {
    "id": "PW-FSPUKxefL"
   },
   "source": [
    "* <a href=\"https://www.datosabiertos.gob.pe\">Plataforma Nacional de Datos Abiertos</a>.\n",
    "\n",
    "* Datos para caso estudio: <a href=\"https://www.datosabiertos.gob.pe/dataset/anemia\">Anemia</a>."
   ]
  },
  {
   "cell_type": "code",
   "execution_count": null,
   "metadata": {
    "colab": {
     "base_uri": "https://localhost:8080/"
    },
    "id": "cBH4mFsl4mgr",
    "outputId": "f54d55ec-917d-4f41-fbfa-c1394a70c96a"
   },
   "outputs": [
    {
     "name": "stdout",
     "output_type": "stream",
     "text": [
      "       Sexo  id_persona  Edad Tipo_edad  id_ubigeo  Fecha_atencion    Etapa  \\\n",
      "0         F    41031388    20         A        NaN        20230208  18a-29a   \n",
      "1         F    40489600     2         A     1128.0        20230107  00a-11a   \n",
      "2         M    40315865     1         A        NaN        20230207  00a-11a   \n",
      "3         F    38917347    19         D     1460.0        20210511  00a-11a   \n",
      "4         M    40507941     3         A     1668.0        20230224  00a-11a   \n",
      "...     ...         ...   ...       ...        ...             ...      ...   \n",
      "248888    M     9206744     6         A     1631.0        20230119  00a-11a   \n",
      "248889    M    25824229     4         A      163.0        20210528  00a-11a   \n",
      "248890    F    19472530     6         A     1161.0        20230107  00a-11a   \n",
      "248891    F    33840534     4         A      242.0        20210412  00a-11a   \n",
      "248892    F    19486739    84         A     1703.0        20230525     60a+   \n",
      "\n",
      "        Diagnostico Tipo_Dx  Lab  id_eess  \n",
      "0          99199.17       D  SF3     5942  \n",
      "1          99199.17       D  SF3     6856  \n",
      "2          99199.17       D  SF1    27109  \n",
      "3          99199.17       D  SF1       16  \n",
      "4          99199.17       D   TA     2978  \n",
      "...             ...     ...  ...      ...  \n",
      "248888     99199.17       D  SF2     3263  \n",
      "248889     99199.17       D  SF1     1819  \n",
      "248890     99199.17       D  SF2     5217  \n",
      "248891     99199.17       D  SF1     1812  \n",
      "248892     99199.17       D  SF1     3161  \n",
      "\n",
      "[248893 rows x 11 columns]\n"
     ]
    }
   ],
   "source": [
    "csv_data_file = \"/content/drive/My Drive/Base_datos/biomedicina/TB_DIGTEL_ANEMIA_TRATAMIENTOS.csv\"\n",
    "\n",
    "df_anemia = pd.read_csv(csv_data_file)\n",
    "print(df_anemia)"
   ]
  },
  {
   "cell_type": "markdown",
   "metadata": {
    "id": "X6MawcGyc2Pu"
   },
   "source": [
    "# **III. Preprocesamiento de datos**"
   ]
  },
  {
   "cell_type": "markdown",
   "metadata": {
    "id": "YAdPqhp0doDh"
   },
   "source": [
    "Dado que los datos suelen estar incompletos, inconsistentes o con errores, el preprocesamiento busca mejorar su calidad y estructuración. Es un paso fundamental para garantizar resultados confiables en **análisis estadístico**, **machine learning** o **inteligencia artificial**."
   ]
  },
  {
   "cell_type": "markdown",
   "metadata": {
    "id": "wvcZH4Hhrrss"
   },
   "source": [
    "## **3.1. Análisis exploratorio de datos**"
   ]
  },
  {
   "cell_type": "markdown",
   "metadata": {
    "id": "FBjIMz8sq2JM"
   },
   "source": [
    "El Análisis Exploratorio de Datos (EDA) es una metodología para analizar conjuntos de datos y resumir sus características principales, a menudo usando medidas estadísticas y métodos visuales. El objetivo del EDA es comprender los datos, descubrir patrones, detectar anomalías y probar hipótesis antes de realizar un modelado formal. No es un enfoque formal de modelado estadístico, sino más bien una filosofía para ver y comprender los datos.\n",
    "\n",
    "**¿En qué consiste el EDA?**\n",
    "\n",
    "* **Resumen de datos:** Calcular estadísticas descriptivas (media, mediana, desviación estándar, cuartiles, etc.) para comprender la distribución y las características centrales de las variables.\n",
    "\n",
    "* **Identificación de valores faltantes:** Detectar y cuantificar la presencia de valores nulos o faltantes en el conjunto de datos.\n",
    "\n",
    "* **Detección de valores atípicos:** Identificar observaciones que se desvían significativamente de otras observaciones y que podrían indicar un error de medición o una característica inusual del fenómeno que se está estudiando."
   ]
  },
  {
   "cell_type": "markdown",
   "metadata": {
    "id": "_arAaEMWuWQu"
   },
   "source": [
    "**Métodos en Python y Pandas para EDA:**\n",
    "\n",
    "Pandas es la biblioteca fundamental en Python para la manipulación y análisis de datos, y ofrece numerosos métodos para realizar EDA:\n",
    "\n",
    "*   **`.head()` y `.tail()`:** Muestran las primeras o últimas filas del DataFrame, respectivamente, para obtener una vista rápida de los datos.\n",
    "*   **`.info()`:** Proporciona un resumen conciso del DataFrame, incluyendo el índice, los tipos de datos de las columnas, el número de valores no nulos y el uso de memoria.\n",
    "*   **`.describe()`:** Genera estadísticas descriptivas (conteo, media, desviación estándar, mínimo, cuartiles, máximo) para las columnas numéricas. Se puede usar `.describe(include='all')` para incluir columnas no numéricas.\n",
    "*   **`.shape`:** Atributo que devuelve una tupla que representa las dimensiones del DataFrame (número de filas, número de columnas).\n",
    "*   **`.columns`:** Atributo que devuelve un objeto Index que contiene los nombres de las columnas.\n",
    "*   **`.value_counts()`:** Para Series, devuelve una Serie que contiene los recuentos de valores únicos. Útil para variables categóricas.\n",
    "*   **`.unique()` y `.nunique()`:** Devuelven los valores únicos en una Serie y el número de valores únicos, respectivamente.\n",
    "*   **`.isnull()` / `.isna()` y `.sum()`:** Se utilizan en combinación para contar los valores faltantes por columna.\n",
    "*   **`.duplicated()` y `.drop_duplicates()`:** Ayudan a identificar y eliminar filas duplicadas.\n",
    "*   **`.corr()`:** Calcula la correlación de Pearson (por defecto) entre las columnas numéricas.\n",
    "*   **`.groupby()`:** Permite agrupar datos por una o más columnas para realizar análisis agregados.\n",
    "\n",
    "Además de **Pandas**, bibliotecas como **Matplotlib** y **Seaborn** son esenciales para la visualización de datos en el EDA."
   ]
  },
  {
   "cell_type": "markdown",
   "metadata": {
    "id": "YLtVkXvifjiP"
   },
   "source": [
    "### **3.1.1. Ambientales**"
   ]
  },
  {
   "cell_type": "markdown",
   "metadata": {
    "id": "coWh_YRPKoqD"
   },
   "source": [
    "Los datos ambientales abarcan una amplia variedad de información relacionada con los elementos del medio ambiente, como el aire, el agua, el suelo, la biodiversidad, el clima y los recursos naturales. Se obtienen a través de métodos como observaciones directas, sensores, análisis de laboratorio, imágenes satelitales o modelos predictivos. Estos datos son fundamentales para evaluar el estado del medio ambiente, identificar problemas como la contaminación o el cambio climático, y tomar decisiones informadas en políticas ambientales, planificación urbana o conservación."
   ]
  },
  {
   "cell_type": "code",
   "execution_count": null,
   "metadata": {
    "colab": {
     "base_uri": "https://localhost:8080/"
    },
    "id": "N6J5wL5ORaz9",
    "outputId": "93d4402c-9387-40d6-e865-e73c64e1ac86"
   },
   "outputs": [
    {
     "name": "stdout",
     "output_type": "stream",
     "text": [
      "<class 'pandas.core.frame.DataFrame'>\n",
      "RangeIndex: 334 entries, 0 to 333\n",
      "Data columns (total 5 columns):\n",
      " #   Column      Non-Null Count  Dtype         \n",
      "---  ------      --------------  -----         \n",
      " 0   Unnamed: 0  334 non-null    int64         \n",
      " 1   fecha       334 non-null    datetime64[ns]\n",
      " 2   temp_aire   334 non-null    float64       \n",
      " 3   hr          334 non-null    float64       \n",
      " 4   rxn_solar   334 non-null    float64       \n",
      "dtypes: datetime64[ns](1), float64(3), int64(1)\n",
      "memory usage: 13.2 KB\n",
      "None\n"
     ]
    }
   ],
   "source": [
    "print(df_met.info())"
   ]
  },
  {
   "cell_type": "code",
   "execution_count": null,
   "metadata": {
    "colab": {
     "base_uri": "https://localhost:8080/"
    },
    "id": "ItouTtetiLzf",
    "outputId": "23e6986c-57bb-425d-b84c-68a4514e1b78"
   },
   "outputs": [
    {
     "name": "stdout",
     "output_type": "stream",
     "text": [
      "Valores nulos por columna:\n",
      "Unnamed: 0    0\n",
      "fecha         0\n",
      "temp_aire     0\n",
      "hr            0\n",
      "rxn_solar     0\n",
      "dtype: int64\n"
     ]
    }
   ],
   "source": [
    "# Contar valores nulos por columna usando isna()\n",
    "valores_nulos_por_columna = df_met.isna().sum()\n",
    "print(\"Valores nulos por columna:\")\n",
    "print(valores_nulos_por_columna)"
   ]
  },
  {
   "cell_type": "code",
   "execution_count": null,
   "metadata": {
    "colab": {
     "base_uri": "https://localhost:8080/"
    },
    "id": "GpNm0cPYYXKv",
    "outputId": "bb0e8bb1-dddf-412d-de59-6349bc18cb45"
   },
   "outputs": [
    {
     "name": "stdout",
     "output_type": "stream",
     "text": [
      "\n",
      "Total de valores nulos en el DataFrame: 0\n"
     ]
    }
   ],
   "source": [
    "# Contar el total de valores nulos en todo el DataFrame\n",
    "total_valores_nulos = df_met.isna().sum().sum()\n",
    "print(f\"\\nTotal de valores nulos en el DataFrame: {total_valores_nulos}\")"
   ]
  },
  {
   "cell_type": "code",
   "execution_count": null,
   "metadata": {
    "colab": {
     "base_uri": "https://localhost:8080/"
    },
    "id": "-VPZIWTK6Y-L",
    "outputId": "852744b5-0b27-4cc5-c3fa-c335fb6d75a0"
   },
   "outputs": [
    {
     "name": "stdout",
     "output_type": "stream",
     "text": [
      "['Unnamed: 0', 'fecha', 'temp_aire', 'hr', 'rxn_solar']\n",
      "<class 'list'>\n"
     ]
    }
   ],
   "source": [
    "nombres_columnas_met = df_met.columns.values.tolist()\n",
    "print(nombres_columnas_met)\n",
    "print(type(nombres_columnas_met))"
   ]
  },
  {
   "cell_type": "code",
   "execution_count": null,
   "metadata": {
    "colab": {
     "base_uri": "https://localhost:8080/"
    },
    "id": "A3HeB8b06wvi",
    "outputId": "53453644-383c-47ac-eb9e-9c0da6ef7678"
   },
   "outputs": [
    {
     "name": "stdout",
     "output_type": "stream",
     "text": [
      "      rxn_solar         hr  temp_aire\n",
      "0     99.833333  73.583333   3.625000\n",
      "1     74.333333  60.625000   1.329167\n",
      "2    101.500000  63.958333   1.920833\n",
      "3    101.958333  57.791667   3.433333\n",
      "4    106.666667  69.541667   0.445833\n",
      "..          ...        ...        ...\n",
      "329   87.833333  69.875000   5.562500\n",
      "330   93.041667  61.500000   5.500000\n",
      "331  117.750000  60.291667   4.783333\n",
      "332  108.750000  61.541667  10.112500\n",
      "333  102.958333  74.000000   6.691667\n",
      "\n",
      "[334 rows x 3 columns]\n"
     ]
    }
   ],
   "source": [
    "met_interes = df_met[[ \"rxn_solar\", \"hr\", \"temp_aire\"]]\n",
    "print(met_interes)"
   ]
  },
  {
   "cell_type": "code",
   "execution_count": null,
   "metadata": {
    "colab": {
     "base_uri": "https://localhost:8080/"
    },
    "id": "Dz37IytN9-wC",
    "outputId": "b89625ba-7ae1-4167-8b29-18ee5dc885c4"
   },
   "outputs": [
    {
     "name": "stdout",
     "output_type": "stream",
     "text": [
      "        rxn_solar          hr   temp_aire\n",
      "count  334.000000  334.000000  334.000000\n",
      "mean   207.164172   57.978917   15.556999\n",
      "std     96.113257   17.174558    7.641851\n",
      "min     14.583333   23.583333   -4.841667\n",
      "25%    130.625000   45.031250   10.026042\n",
      "50%    199.625000   57.937500   14.929167\n",
      "75%    293.416667   70.885417   21.714583\n",
      "max    369.958333  100.000000   31.920833\n"
     ]
    }
   ],
   "source": [
    "print(met_interes.describe())"
   ]
  },
  {
   "cell_type": "code",
   "execution_count": null,
   "metadata": {
    "colab": {
     "base_uri": "https://localhost:8080/"
    },
    "id": "NJI7ywNO7uMZ",
    "outputId": "fdad4991-d7b3-424f-d9dd-c497394968f7"
   },
   "outputs": [
    {
     "name": "stdout",
     "output_type": "stream",
     "text": [
      "count    334.000000\n",
      "mean      57.978917\n",
      "std       17.174558\n",
      "min       23.583333\n",
      "25%       45.031250\n",
      "50%       57.937500\n",
      "75%       70.885417\n",
      "max      100.000000\n",
      "Name: hr, dtype: float64\n"
     ]
    }
   ],
   "source": [
    "print(met_interes.describe()[\"hr\"])"
   ]
  },
  {
   "cell_type": "code",
   "execution_count": null,
   "metadata": {
    "colab": {
     "base_uri": "https://localhost:8080/"
    },
    "id": "pDcS-A9a7yQm",
    "outputId": "1034f23c-16d1-4740-e28a-dfca15cd2cea"
   },
   "outputs": [
    {
     "name": "stdout",
     "output_type": "stream",
     "text": [
      "17.174557680329734\n",
      "70.88541666666667\n",
      "88.0599743469964\n",
      "1217.4256772358733\n"
     ]
    }
   ],
   "source": [
    "std_hr = met_interes.describe()[\"hr\"][\"std\"]\n",
    "p75_hr = met_interes.describe()[\"hr\"][\"75%\"]\n",
    "print(std_hr)\n",
    "print(p75_hr)\n",
    "suma = std_hr + p75_hr\n",
    "print(suma)\n",
    "\n",
    "producto= std_hr * p75_hr\n",
    "print(producto)"
   ]
  },
  {
   "cell_type": "code",
   "execution_count": null,
   "metadata": {
    "colab": {
     "base_uri": "https://localhost:8080/"
    },
    "id": "b6fPBNiIq4tT",
    "outputId": "b4ca00a8-3313-4c9d-d9f6-d37b470d52aa"
   },
   "outputs": [
    {
     "name": "stdout",
     "output_type": "stream",
     "text": [
      "     Unnamed: 0      fecha  temp_aire         hr   rxn_solar\n",
      "106         106 2021-04-17   8.916667  43.416667  308.916667\n",
      "107         107 2021-04-18  10.641667  46.458333  304.708333\n",
      "123         123 2021-05-04  14.425000  62.541667  331.375000\n",
      "124         124 2021-05-05  17.350000  47.083333  330.166667\n",
      "125         125 2021-05-06  18.420833  47.000000  331.791667\n",
      "..          ...        ...        ...        ...         ...\n",
      "223         223 2021-08-12  29.416667  35.291667  306.500000\n",
      "227         227 2021-08-16  27.720833  23.583333  306.416667\n",
      "228         228 2021-08-17  24.191667  32.375000  311.125000\n",
      "231         231 2021-08-20  26.283333  40.041667  300.791667\n",
      "232         232 2021-08-21  26.433333  27.208333  302.541667\n",
      "\n",
      "[71 rows x 5 columns]\n",
      "(71, 5)\n"
     ]
    }
   ],
   "source": [
    "fil_rxs = df_met[(df_met[\"rxn_solar\"]>=300) & (df_met[\"rxn_solar\"]<=360)]\n",
    "\n",
    "print(fil_rxs)\n",
    "print(fil_rxs.shape)"
   ]
  },
  {
   "cell_type": "code",
   "execution_count": null,
   "metadata": {
    "colab": {
     "base_uri": "https://localhost:8080/"
    },
    "id": "O1XjQZncB57V",
    "outputId": "48905bd8-c527-478a-c277-c01b43450c32"
   },
   "outputs": [
    {
     "name": "stdout",
     "output_type": "stream",
     "text": [
      "     Unnamed: 0      fecha  temp_aire         hr   rxn_solar\n",
      "0             0 2021-01-01   3.625000  73.583333   99.833333\n",
      "1             1 2021-01-02   1.329167  60.625000   74.333333\n",
      "2             2 2021-01-03   1.920833  63.958333  101.500000\n",
      "3             3 2021-01-04   3.433333  57.791667  101.958333\n",
      "4             4 2021-01-05   0.445833  69.541667  106.666667\n",
      "..          ...        ...        ...        ...         ...\n",
      "329         329 2021-11-26   5.562500  69.875000   87.833333\n",
      "330         330 2021-11-27   5.500000  61.500000   93.041667\n",
      "331         331 2021-11-28   4.783333  60.291667  117.750000\n",
      "332         332 2021-11-29  10.112500  61.541667  108.750000\n",
      "333         333 2021-11-30   6.691667  74.000000  102.958333\n",
      "\n",
      "[334 rows x 5 columns]\n",
      "60.625\n",
      "60.625\n"
     ]
    }
   ],
   "source": [
    "print(df_met)\n",
    "\n",
    "print(df_met.loc[1,\"hr\"])\n",
    "print(df_met.iloc[1,3])   # [fila, columna] indexacion considerando todo el data frame"
   ]
  },
  {
   "cell_type": "markdown",
   "metadata": {
    "id": "w8HEMPjmfxR8"
   },
   "source": [
    "### **3.1.2. Biomedicos**"
   ]
  },
  {
   "cell_type": "markdown",
   "metadata": {
    "id": "KJlw_1-nL8ZV"
   },
   "source": [
    "Los datos biomédicos son información generada a partir de la observación, medición, análisis o experimentación en el ámbito de las ciencias biomédicas, que abarcan disciplinas como la medicina, la biología, la biotecnología y la salud pública. Estos datos se refieren a características biológicas, fisiológicas, genéticas, clínicas o moleculares de organismos vivos, especialmente humanos, y se utilizan para estudiar, diagnosticar, tratar o prevenir enfermedades, así como para avanzar en la investigación científica."
   ]
  },
  {
   "cell_type": "code",
   "execution_count": null,
   "metadata": {
    "colab": {
     "base_uri": "https://localhost:8080/"
    },
    "id": "tRnkolkxSP9H",
    "outputId": "d3ed52d5-dba6-446d-b2d1-737d7d7520a8"
   },
   "outputs": [
    {
     "name": "stdout",
     "output_type": "stream",
     "text": [
      "<class 'pandas.core.frame.DataFrame'>\n",
      "RangeIndex: 248893 entries, 0 to 248892\n",
      "Data columns (total 11 columns):\n",
      " #   Column          Non-Null Count   Dtype  \n",
      "---  ------          --------------   -----  \n",
      " 0   Sexo            248893 non-null  object \n",
      " 1   id_persona      248893 non-null  int64  \n",
      " 2   Edad            248893 non-null  int64  \n",
      " 3   Tipo_edad       248893 non-null  object \n",
      " 4   id_ubigeo       243110 non-null  float64\n",
      " 5   Fecha_atencion  248893 non-null  int64  \n",
      " 6   Etapa           248893 non-null  object \n",
      " 7   Diagnostico     248893 non-null  float64\n",
      " 8   Tipo_Dx         248893 non-null  object \n",
      " 9   Lab             248893 non-null  object \n",
      " 10  id_eess         248893 non-null  int64  \n",
      "dtypes: float64(2), int64(4), object(5)\n",
      "memory usage: 20.9+ MB\n",
      "None\n"
     ]
    }
   ],
   "source": [
    "print(df_anemia.info())"
   ]
  },
  {
   "cell_type": "code",
   "execution_count": null,
   "metadata": {
    "colab": {
     "base_uri": "https://localhost:8080/"
    },
    "id": "YeSQS7ewxiZ8",
    "outputId": "2d197d61-b674-451d-c106-77c81428251e"
   },
   "outputs": [
    {
     "name": "stdout",
     "output_type": "stream",
     "text": [
      "       Sexo  id_persona  Edad Tipo_edad  id_ubigeo  Fecha_atencion    Etapa  \\\n",
      "188769    M    13815163     6         M      636.0        20210101  00a-11a   \n",
      "239800    F    33892383     3         A      604.0        20210101  00a-11a   \n",
      "207352    F    29311370     6         M      959.0        20210101  00a-11a   \n",
      "206101    F    30962033     5         M      893.0        20210101  00a-11a   \n",
      "194656    F    23040846     6         M     1247.0        20210101  00a-11a   \n",
      "...     ...         ...   ...       ...        ...             ...      ...   \n",
      "177519    M    40636027     6         M     1496.0        20230731  00a-11a   \n",
      "198759    M    24004832     3         A     1018.0        20230731  00a-11a   \n",
      "140464    M    40293673    11         M     1317.0        20230731  00a-11a   \n",
      "156284    M    40307755    10         M      919.0        20230731  00a-11a   \n",
      "178689    F    35619327     2         A     1492.0        20230731  00a-11a   \n",
      "\n",
      "        Diagnostico Tipo_Dx  Lab  id_eess  \n",
      "188769     99199.17       D   TA    23157  \n",
      "239800     99199.17       D  SF1     7064  \n",
      "207352     99199.17       D  SF1      975  \n",
      "206101     99199.17       D   TA     4082  \n",
      "194656     99199.17       D  SF1     4767  \n",
      "...             ...     ...  ...      ...  \n",
      "177519     99199.17       D   TA     7374  \n",
      "198759     99199.17       D  SF1     3441  \n",
      "140464     99199.17       D  SF2     5738  \n",
      "156284     99199.17       D  SF5      755  \n",
      "178689     99199.17       D  SF2      175  \n",
      "\n",
      "[248893 rows x 11 columns]\n"
     ]
    }
   ],
   "source": [
    "df_anemia_interes_ordenado = df_anemia.sort_values(by=\"Fecha_atencion\")\n",
    "print(df_anemia_interes_ordenado)"
   ]
  },
  {
   "cell_type": "code",
   "execution_count": null,
   "metadata": {
    "colab": {
     "base_uri": "https://localhost:8080/"
    },
    "id": "k27Dd211_rXF",
    "outputId": "f25b3d37-371f-4cf6-84fc-6bb4837f1404"
   },
   "outputs": [
    {
     "name": "stdout",
     "output_type": "stream",
     "text": [
      "Fecha_atencion\n",
      "20230116    7081\n",
      "20230123    6894\n",
      "20230109    6719\n",
      "20230110    5676\n",
      "20230117    5632\n",
      "            ... \n",
      "20210307      15\n",
      "20210227      13\n",
      "20210221       7\n",
      "20210214       6\n",
      "20210207       2\n",
      "Name: count, Length: 424, dtype: int64\n"
     ]
    }
   ],
   "source": [
    "print(df_anemia_interes_ordenado[\"Fecha_atencion\"].value_counts())"
   ]
  },
  {
   "cell_type": "markdown",
   "metadata": {
    "id": "APMFfOeVrGTq"
   },
   "source": [
    "## **3.2. Control de calidad de datos**"
   ]
  },
  {
   "cell_type": "markdown",
   "metadata": {
    "id": "Xw7pQRgurCw5"
   },
   "source": [
    "Este paso es crucial para mejorar la calidad de los datos y garantizar que sean adecuados para su análisis. Las tareas comunes incluyen:\n",
    "\n",
    "* **Limpieza de datos**: Eliminar valores nulos, duplicados o datos inconsistentes (por ejemplo, corregir errores tipográficos o formatos incoherentes).\n",
    "\n",
    "* **Eliminación de ruido**: Identificar y mitigar datos atípicos o irrelevantes que puedan distorsionar los resultados.\n",
    "\n",
    "* **Imputación**: Rellenar valores faltantes con técnicas como la media, mediana o interpolación."
   ]
  },
  {
   "cell_type": "code",
   "execution_count": null,
   "metadata": {
    "id": "LCHGAGMWLU85"
   },
   "outputs": [],
   "source": [
    "def encontrar_nan(df):\n",
    "    # Verificar valores NaN en cada columna\n",
    "    nan_por_columna = df.isna().sum()\n",
    "\n",
    "    # Verificar valores NaN en todo el DataFrame\n",
    "    total_nan = df.isna().sum().sum()\n",
    "\n",
    "    # Mostrar resultados\n",
    "    print(\"DataFrame original:\")\n",
    "    print(\"\\nValores NaN por columna:\")\n",
    "    print(nan_por_columna)\n",
    "    print(f\"\\nTotal de valores NaN en el DataFrame: {total_nan}\")"
   ]
  },
  {
   "cell_type": "markdown",
   "metadata": {
    "id": "mCVB8sLUjDrh"
   },
   "source": [
    "### **3.2.1. Ambientales**"
   ]
  },
  {
   "cell_type": "code",
   "execution_count": null,
   "metadata": {
    "colab": {
     "base_uri": "https://localhost:8080/"
    },
    "id": "8DZ4wGmYwkIC",
    "outputId": "848eb905-9585-4d2d-bdfb-d94e81dc31c9"
   },
   "outputs": [
    {
     "name": "stdout",
     "output_type": "stream",
     "text": [
      "DataFrame original:\n",
      "\n",
      "Valores NaN por columna:\n",
      "Unnamed: 0    0\n",
      "fecha         0\n",
      "temp_aire     0\n",
      "hr            0\n",
      "rxn_solar     0\n",
      "dtype: int64\n",
      "\n",
      "Total de valores NaN en el DataFrame: 0\n"
     ]
    }
   ],
   "source": [
    "encontrar_nan(df_met)"
   ]
  },
  {
   "cell_type": "code",
   "execution_count": null,
   "metadata": {
    "colab": {
     "base_uri": "https://localhost:8080/"
    },
    "id": "5S_xfCZK4fvX",
    "outputId": "ae323510-90aa-4878-b209-7e4b95dc19df"
   },
   "outputs": [
    {
     "name": "stdout",
     "output_type": "stream",
     "text": [
      "     Unnamed: 0      fecha  temp_aire         hr   rxn_solar\n",
      "0             0 2021-01-01   3.625000  73.583333   99.833333\n",
      "1             1 2021-01-02   1.329167  60.625000   74.333333\n",
      "2             2 2021-01-03   1.920833  63.958333  101.500000\n",
      "3             3 2021-01-04   3.433333  57.791667  101.958333\n",
      "4             4 2021-01-05   0.445833  69.541667  106.666667\n",
      "..          ...        ...        ...        ...         ...\n",
      "329         329 2021-11-26   5.562500  69.875000   87.833333\n",
      "330         330 2021-11-27   5.500000  61.500000   93.041667\n",
      "331         331 2021-11-28   4.783333  60.291667  117.750000\n",
      "332         332 2021-11-29  10.112500  61.541667  108.750000\n",
      "333         333 2021-11-30   6.691667  74.000000  102.958333\n",
      "\n",
      "[334 rows x 5 columns]\n"
     ]
    }
   ],
   "source": [
    "df_met_nan = df_met.copy()\n",
    "print(df_met_nan)"
   ]
  },
  {
   "cell_type": "code",
   "execution_count": null,
   "metadata": {
    "colab": {
     "base_uri": "https://localhost:8080/"
    },
    "id": "a5n-0I2XBxK_",
    "outputId": "562e764e-59ae-42dc-e961-cf255e87ea08"
   },
   "outputs": [
    {
     "name": "stdout",
     "output_type": "stream",
     "text": [
      "     Unnamed: 0      fecha  temp_aire         hr   rxn_solar\n",
      "0             0 2021-01-01   3.625000  73.583333   99.833333\n",
      "1             1 2021-01-02        NaN        NaN   74.333333\n",
      "2             2 2021-01-03   1.920833  63.958333  101.500000\n",
      "3             3 2021-01-04   3.433333  57.791667  101.958333\n",
      "4             4 2021-01-05   0.445833        NaN  106.666667\n",
      "..          ...        ...        ...        ...         ...\n",
      "329         329 2021-11-26   5.562500  69.875000   87.833333\n",
      "330         330 2021-11-27   5.500000  61.500000   93.041667\n",
      "331         331 2021-11-28   4.783333  60.291667  117.750000\n",
      "332         332 2021-11-29  10.112500  61.541667  108.750000\n",
      "333         333 2021-11-30   6.691667  74.000000  102.958333\n",
      "\n",
      "[334 rows x 5 columns]\n"
     ]
    }
   ],
   "source": [
    "df_met_nan.loc[1,\"hr\"]= np.nan\n",
    "df_met_nan.iloc[4,3]= np.nan\n",
    "\n",
    "df_met_nan.loc[1,\"temp_aire\"]= np.nan\n",
    "print(df_met_nan)"
   ]
  },
  {
   "cell_type": "code",
   "execution_count": null,
   "metadata": {
    "colab": {
     "base_uri": "https://localhost:8080/"
    },
    "id": "VaP8M0UUkvVo",
    "outputId": "93b4056c-9b75-4589-fdac-2bd2b21e3750"
   },
   "outputs": [
    {
     "name": "stdout",
     "output_type": "stream",
     "text": [
      "DataFrame original:\n",
      "\n",
      "Valores NaN por columna:\n",
      "Unnamed: 0    0\n",
      "fecha         0\n",
      "temp_aire     1\n",
      "hr            2\n",
      "rxn_solar     0\n",
      "dtype: int64\n",
      "\n",
      "Total de valores NaN en el DataFrame: 3\n"
     ]
    }
   ],
   "source": [
    "encontrar_nan(df_met_nan)"
   ]
  },
  {
   "cell_type": "code",
   "execution_count": null,
   "metadata": {
    "colab": {
     "base_uri": "https://localhost:8080/"
    },
    "id": "v3CIlxW2m-_h",
    "outputId": "adf99d5b-dabc-410e-cc0e-d8ab676317d1"
   },
   "outputs": [
    {
     "name": "stdout",
     "output_type": "stream",
     "text": [
      "nan\n"
     ]
    }
   ],
   "source": [
    "cov_np =np.cov(df_met_nan[\"temp_aire\"], df_met_nan[\"hr\"])[0][0]\n",
    "print(cov_np)"
   ]
  },
  {
   "cell_type": "code",
   "execution_count": null,
   "metadata": {
    "colab": {
     "base_uri": "https://localhost:8080/"
    },
    "id": "JqimeC7F1Vzu",
    "outputId": "0949ab7f-ab1c-4429-dc9e-14cfb42b7e87"
   },
   "outputs": [
    {
     "name": "stdout",
     "output_type": "stream",
     "text": [
      "-97.28345067865874\n"
     ]
    }
   ],
   "source": [
    "cov_pd = df_met_nan[\"temp_aire\"].cov(df_met_nan[\"hr\"])\n",
    "print(cov_pd)"
   ]
  },
  {
   "cell_type": "markdown",
   "metadata": {
    "id": "VY6Acrra88sX"
   },
   "source": []
  },
  {
   "cell_type": "code",
   "execution_count": null,
   "metadata": {
    "colab": {
     "base_uri": "https://localhost:8080/"
    },
    "id": "Az_2ou3U9FLe",
    "outputId": "c02a648e-6965-4ed3-a0a4-a2a80ad3eb37"
   },
   "outputs": [
    {
     "name": "stdout",
     "output_type": "stream",
     "text": [
      "     Unnamed: 0      fecha  temp_aire         hr   rxn_solar\n",
      "0             0 2021-01-01   3.625000  73.583333   99.833333\n",
      "2             2 2021-01-03   1.920833  63.958333  101.500000\n",
      "3             3 2021-01-04   3.433333  57.791667  101.958333\n",
      "5             5 2021-01-06  -0.045833  69.000000  106.625000\n",
      "6             6 2021-01-07  -0.708333  82.416667   14.583333\n",
      "..          ...        ...        ...        ...         ...\n",
      "329         329 2021-11-26   5.562500  69.875000   87.833333\n",
      "330         330 2021-11-27   5.500000  61.500000   93.041667\n",
      "331         331 2021-11-28   4.783333  60.291667  117.750000\n",
      "332         332 2021-11-29  10.112500  61.541667  108.750000\n",
      "333         333 2021-11-30   6.691667  74.000000  102.958333\n",
      "\n",
      "[332 rows x 5 columns]\n"
     ]
    }
   ],
   "source": [
    "df_met_dropnan = df_met_nan.dropna()\n",
    "print(df_met_dropnan)"
   ]
  },
  {
   "cell_type": "markdown",
   "metadata": {
    "id": "_3bjuw-S882o"
   },
   "source": [
    "Interpolar los valores `nan`"
   ]
  },
  {
   "cell_type": "code",
   "execution_count": null,
   "metadata": {
    "colab": {
     "base_uri": "https://localhost:8080/"
    },
    "id": "e2tw4IB19Wir",
    "outputId": "4f75d79d-726b-4534-9805-6686be767090"
   },
   "outputs": [
    {
     "name": "stdout",
     "output_type": "stream",
     "text": [
      "     Unnamed: 0      fecha  temp_aire         hr   rxn_solar\n",
      "0             0 2021-01-01   3.625000  73.583333   99.833333\n",
      "1             1 2021-01-02   2.772917  68.770833   74.333333\n",
      "2             2 2021-01-03   1.920833  63.958333  101.500000\n",
      "3             3 2021-01-04   3.433333  57.791667  101.958333\n",
      "4             4 2021-01-05   0.445833  63.395833  106.666667\n",
      "..          ...        ...        ...        ...         ...\n",
      "329         329 2021-11-26   5.562500  69.875000   87.833333\n",
      "330         330 2021-11-27   5.500000  61.500000   93.041667\n",
      "331         331 2021-11-28   4.783333  60.291667  117.750000\n",
      "332         332 2021-11-29  10.112500  61.541667  108.750000\n",
      "333         333 2021-11-30   6.691667  74.000000  102.958333\n",
      "\n",
      "[334 rows x 5 columns]\n"
     ]
    }
   ],
   "source": [
    "df_met_nan_interpolado = df_met_nan.interpolate() # method: linear\n",
    "#df_met_interpolado = df_met_nan.interpolate(method=\"spline\", order=2) # method: polynomial, spline\n",
    "\n",
    "print(df_met_nan_interpolado)"
   ]
  },
  {
   "cell_type": "markdown",
   "metadata": {
    "id": "8BgRso-wljH8"
   },
   "source": [
    "### **3.2.2. Biomédicos**"
   ]
  },
  {
   "cell_type": "code",
   "execution_count": null,
   "metadata": {
    "colab": {
     "base_uri": "https://localhost:8080/"
    },
    "id": "dqMy6L5mwohD",
    "outputId": "44a98e7f-0c71-4124-db63-7f38be42c1c5"
   },
   "outputs": [
    {
     "name": "stdout",
     "output_type": "stream",
     "text": [
      "DataFrame original:\n",
      "\n",
      "Valores NaN por columna:\n",
      "Sexo                 0\n",
      "id_persona           0\n",
      "Edad                 0\n",
      "Tipo_edad            0\n",
      "id_ubigeo         5783\n",
      "Fecha_atencion       0\n",
      "Etapa                0\n",
      "Diagnostico          0\n",
      "Tipo_Dx              0\n",
      "Lab                  0\n",
      "id_eess              0\n",
      "dtype: int64\n",
      "\n",
      "Total de valores NaN en el DataFrame: 5783\n"
     ]
    }
   ],
   "source": [
    "encontrar_nan(df_anemia)"
   ]
  },
  {
   "cell_type": "markdown",
   "metadata": {
    "id": "soydKrE0mpsQ"
   },
   "source": [
    "# **IV. Referencias**\n",
    "\n",
    "**Libros y manuales**\n",
    "\n",
    "- Libro de estadisitica con python\n",
    "\n",
    "  https://www.editorial-sciela.org/index.php/sciela/article/view/16/49\n",
    "\n",
    "- Introducción a la teoria de probabilidades\n",
    "\n",
    "  https://ciladi.org/wp-content/uploads/Version_final_Introduccion-Probabilidad-Python-vf_Bayas-3.pdf\n",
    "\n",
    "- Guía practica de análsis exploratorio de python\n",
    "\n",
    "  https://datos.gob.es/sites/default/files/doc/file/guia_eda_python.pdf\n",
    "\n",
    "\n",
    "**Cursos en linea**\n",
    "\n",
    "- Estadística W3School:\n",
    "\n",
    "  https://www.w3schools.com/statistics/index.php\n",
    "\n",
    "- Estadística con python:\n",
    "\n",
    "  https://docs.python.org/es/3/library/statistics.html\n",
    "\n",
    "- Kaggle:\n",
    "\n",
    "  https://www.kaggle.com/code/saurav9786/statistics-for-data-scientists\n",
    "\n",
    "**Aplicaciones IA**\n",
    "\n",
    "- Gemini iA\n",
    "\n",
    "  https://gemini.google.com\n",
    "\n",
    "- DeepSeek\n",
    "\n",
    "  https://www.deepseek.com/\n",
    "\n",
    "- Chat GPT\n",
    "\n",
    "  https://chatgpt.com/\n",
    "\n",
    "- Claude IA\n",
    "\n",
    "  https://claude.ai/\n",
    "\n",
    "- Julius IA:\n",
    "\n",
    "  https://julius.ai\n",
    "\n"
   ]
  },
  {
   "cell_type": "markdown",
   "metadata": {
    "id": "lZTFSnY50qDa"
   },
   "source": []
  }
 ],
 "metadata": {
  "colab": {
   "provenance": [],
   "toc_visible": true
  },
  "kernelspec": {
   "display_name": "Python 3",
   "name": "python3"
  },
  "language_info": {
   "codemirror_mode": {
    "name": "ipython",
    "version": 3
   },
   "file_extension": ".py",
   "mimetype": "text/x-python",
   "name": "python",
   "nbconvert_exporter": "python",
   "pygments_lexer": "ipython3",
   "version": "3.13.5"
  }
 },
 "nbformat": 4,
 "nbformat_minor": 0
}