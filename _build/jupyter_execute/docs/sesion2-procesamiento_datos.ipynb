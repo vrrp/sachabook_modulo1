{
 "cells": [
  {
   "cell_type": "markdown",
   "metadata": {
    "id": "2HH0qrj7ogO9"
   },
   "source": [
    "# **Manejo, Preprocesamiento y Procesamiento de datos**"
   ]
  },
  {
   "cell_type": "markdown",
   "metadata": {
    "id": "NRGjfR4KPodW"
   },
   "source": [
    "| Etapa                | Objetivo principal                | Ejemplos                                     |\n",
    "| -------------------- | --------------------------------- | -------------------------------------------- |\n",
    "| **Manejo**           | Administración y control de datos | Almacenamiento, seguridad, bases de datos    |\n",
    "| **Preprocesamiento** | Preparar datos para el análisis   | Analisis exploratorio, control de calidad, normalización, codificación        |\n",
    "| **Procesamiento**    | Extraer conocimiento de los datos | Estadística, machine learning, visualización |\n"
   ]
  },
  {
   "cell_type": "markdown",
   "metadata": {
    "id": "fFxYSvHMQDCz"
   },
   "source": [
    "Estos tres procesos son interdependientes y forman parte del flujo de trabajo en cualquier proyecto de análisis de datos o ciencia de datos."
   ]
  },
  {
   "cell_type": "markdown",
   "metadata": {
    "id": "s7BplYqWcu3v"
   },
   "source": [
    "# **I. Gestión de directorios y archivos en la nube**"
   ]
  },
  {
   "cell_type": "markdown",
   "metadata": {
    "id": "_WGFJhlgMkIQ"
   },
   "source": [
    "La gestión de archivos y directorios en Google Drive es el proceso de organizar, proteger y compartir información digital en la nube, aprovechando sus funciones de colaboración en tiempo real, control de versiones, permisos de acceso y sincronización multiplataforma, lo que facilita el trabajo individual y grupal de manera eficiente."
   ]
  },
  {
   "cell_type": "markdown",
   "metadata": {
    "id": "6IVpqO5tairu"
   },
   "source": [
    "## **1.1. Montar Google drive a Colaboratory**"
   ]
  },
  {
   "cell_type": "markdown",
   "metadata": {
    "id": "Siwin-CeSZZM"
   },
   "source": [
    "Montar Google Drive en Colab es el proceso mediante el cual el entorno de ejecución de Colab obtiene acceso autorizado a los archivos de Google Drive, de forma que se pueden leer, escribir y modificar archivos durante la sesión."
   ]
  },
  {
   "cell_type": "code",
   "execution_count": 1,
   "metadata": {
    "colab": {
     "base_uri": "https://localhost:8080/"
    },
    "collapsed": true,
    "executionInfo": {
     "elapsed": 23724,
     "status": "ok",
     "timestamp": 1757308746443,
     "user": {
      "displayName": "Víctor Raúl Rojas Pozo",
      "userId": "02698158754403458224"
     },
     "user_tz": 300
    },
    "id": "flR_83SGDY9E",
    "outputId": "b9bfe736-1b45-4069-993b-e19727e83506"
   },
   "outputs": [
    {
     "ename": "ModuleNotFoundError",
     "evalue": "No module named 'imp'",
     "output_type": "error",
     "traceback": [
      "\u001b[31m---------------------------------------------------------------------------\u001b[39m",
      "\u001b[31mModuleNotFoundError\u001b[39m                       Traceback (most recent call last)",
      "\u001b[36mCell\u001b[39m\u001b[36m \u001b[39m\u001b[32mIn[1]\u001b[39m\u001b[32m, line 1\u001b[39m\n\u001b[32m----> \u001b[39m\u001b[32m1\u001b[39m \u001b[38;5;28;01mfrom\u001b[39;00m\u001b[38;5;250m \u001b[39m\u001b[34;01mgoogle\u001b[39;00m\u001b[34;01m.\u001b[39;00m\u001b[34;01mcolab\u001b[39;00m\u001b[38;5;250m \u001b[39m\u001b[38;5;28;01mimport\u001b[39;00m drive\n\u001b[32m      2\u001b[39m drive.mount(\u001b[33m'\u001b[39m\u001b[33m/content/drive\u001b[39m\u001b[33m'\u001b[39m)\n",
      "\u001b[36mFile \u001b[39m\u001b[32m~/anaconda3/envs/jupyterbook/lib/python3.13/site-packages/google/colab/__init__.py:20\u001b[39m\n\u001b[32m     17\u001b[39m \u001b[38;5;28;01mfrom\u001b[39;00m\u001b[38;5;250m \u001b[39m\u001b[34;01m__future__\u001b[39;00m\u001b[38;5;250m \u001b[39m\u001b[38;5;28;01mimport\u001b[39;00m division \u001b[38;5;28;01mas\u001b[39;00m _\n\u001b[32m     18\u001b[39m \u001b[38;5;28;01mfrom\u001b[39;00m\u001b[38;5;250m \u001b[39m\u001b[34;01m__future__\u001b[39;00m\u001b[38;5;250m \u001b[39m\u001b[38;5;28;01mimport\u001b[39;00m print_function \u001b[38;5;28;01mas\u001b[39;00m _\n\u001b[32m---> \u001b[39m\u001b[32m20\u001b[39m \u001b[38;5;28;01mfrom\u001b[39;00m\u001b[38;5;250m \u001b[39m\u001b[34;01mgoogle\u001b[39;00m\u001b[34;01m.\u001b[39;00m\u001b[34;01mcolab\u001b[39;00m\u001b[38;5;250m \u001b[39m\u001b[38;5;28;01mimport\u001b[39;00m _import_hooks\n\u001b[32m     21\u001b[39m \u001b[38;5;28;01mfrom\u001b[39;00m\u001b[38;5;250m \u001b[39m\u001b[34;01mgoogle\u001b[39;00m\u001b[34;01m.\u001b[39;00m\u001b[34;01mcolab\u001b[39;00m\u001b[38;5;250m \u001b[39m\u001b[38;5;28;01mimport\u001b[39;00m _installation_commands\n\u001b[32m     22\u001b[39m \u001b[38;5;28;01mfrom\u001b[39;00m\u001b[38;5;250m \u001b[39m\u001b[34;01mgoogle\u001b[39;00m\u001b[34;01m.\u001b[39;00m\u001b[34;01mcolab\u001b[39;00m\u001b[38;5;250m \u001b[39m\u001b[38;5;28;01mimport\u001b[39;00m _shell_customizations\n",
      "\u001b[36mFile \u001b[39m\u001b[32m~/anaconda3/envs/jupyterbook/lib/python3.13/site-packages/google/colab/_import_hooks/__init__.py:16\u001b[39m\n\u001b[32m      1\u001b[39m \u001b[38;5;66;03m# Copyright 2018 Google Inc.\u001b[39;00m\n\u001b[32m      2\u001b[39m \u001b[38;5;66;03m#\u001b[39;00m\n\u001b[32m      3\u001b[39m \u001b[38;5;66;03m# Licensed under the Apache License, Version 2.0 (the \"License\");\u001b[39;00m\n\u001b[32m   (...)\u001b[39m\u001b[32m     12\u001b[39m \u001b[38;5;66;03m# See the License for the specific language govestylerning permissions and\u001b[39;00m\n\u001b[32m     13\u001b[39m \u001b[38;5;66;03m# limitations under the License.\u001b[39;00m\n\u001b[32m     14\u001b[39m \u001b[33;03m\"\"\"Colab import customizations to the IPython runtime.\"\"\"\u001b[39;00m\n\u001b[32m---> \u001b[39m\u001b[32m16\u001b[39m \u001b[38;5;28;01mfrom\u001b[39;00m\u001b[38;5;250m \u001b[39m\u001b[34;01mgoogle\u001b[39;00m\u001b[34;01m.\u001b[39;00m\u001b[34;01mcolab\u001b[39;00m\u001b[34;01m.\u001b[39;00m\u001b[34;01m_import_hooks\u001b[39;00m\u001b[38;5;250m \u001b[39m\u001b[38;5;28;01mimport\u001b[39;00m _altair\n\u001b[32m     17\u001b[39m \u001b[38;5;28;01mfrom\u001b[39;00m\u001b[38;5;250m \u001b[39m\u001b[34;01mgoogle\u001b[39;00m\u001b[34;01m.\u001b[39;00m\u001b[34;01mcolab\u001b[39;00m\u001b[34;01m.\u001b[39;00m\u001b[34;01m_import_hooks\u001b[39;00m\u001b[38;5;250m \u001b[39m\u001b[38;5;28;01mimport\u001b[39;00m _cv2\n\u001b[32m     20\u001b[39m \u001b[38;5;28;01mdef\u001b[39;00m\u001b[38;5;250m \u001b[39m\u001b[34m_register_hooks\u001b[39m():\n",
      "\u001b[36mFile \u001b[39m\u001b[32m~/anaconda3/envs/jupyterbook/lib/python3.13/site-packages/google/colab/_import_hooks/_altair.py:16\u001b[39m\n\u001b[32m      1\u001b[39m \u001b[38;5;66;03m# Copyright 2018 Google Inc. All rights reserved.\u001b[39;00m\n\u001b[32m      2\u001b[39m \u001b[38;5;66;03m#\u001b[39;00m\n\u001b[32m      3\u001b[39m \u001b[38;5;66;03m# Licensed under the Apache License, Version 2.0 (the \"License\");\u001b[39;00m\n\u001b[32m   (...)\u001b[39m\u001b[32m     12\u001b[39m \u001b[38;5;66;03m# See the License for the specific language governing permissions and\u001b[39;00m\n\u001b[32m     13\u001b[39m \u001b[38;5;66;03m# limitations under the License.\u001b[39;00m\n\u001b[32m     14\u001b[39m \u001b[33;03m\"\"\"Import hook for ensuring that Altair's Colab renderer is registered.\"\"\"\u001b[39;00m\n\u001b[32m---> \u001b[39m\u001b[32m16\u001b[39m \u001b[38;5;28;01mimport\u001b[39;00m\u001b[38;5;250m \u001b[39m\u001b[34;01mimp\u001b[39;00m\n\u001b[32m     17\u001b[39m \u001b[38;5;28;01mimport\u001b[39;00m\u001b[38;5;250m \u001b[39m\u001b[34;01mlogging\u001b[39;00m\n\u001b[32m     18\u001b[39m \u001b[38;5;28;01mimport\u001b[39;00m\u001b[38;5;250m \u001b[39m\u001b[34;01mos\u001b[39;00m\n",
      "\u001b[31mModuleNotFoundError\u001b[39m: No module named 'imp'"
     ]
    }
   ],
   "source": [
    "from google.colab import drive\n",
    "drive.mount('/content/drive')"
   ]
  },
  {
   "cell_type": "markdown",
   "metadata": {
    "id": "bnyJGs2hEm1B"
   },
   "source": [
    "## **1.2. Explorar contenido de Google Drive**"
   ]
  },
  {
   "cell_type": "markdown",
   "metadata": {
    "id": "XMr9QY3pGg-V"
   },
   "source": [
    "Explorar contenido de Google Drive se refiere a la acción de navegar, buscar, visualizar y gestionar los archivos y carpetas almacenados en Google Drive, la plataforma de almacenamiento en la nube de Google.\n",
    "\n"
   ]
  },
  {
   "cell_type": "code",
   "execution_count": 2,
   "metadata": {
    "colab": {
     "base_uri": "https://localhost:8080/"
    },
    "executionInfo": {
     "elapsed": 1198,
     "status": "ok",
     "timestamp": 1757308747637,
     "user": {
      "displayName": "Víctor Raúl Rojas Pozo",
      "userId": "02698158754403458224"
     },
     "user_tz": 300
    },
    "id": "9N8i2JBS1Ybm",
    "outputId": "e90d7fae-fa40-4713-a1d2-16c48d898c50"
   },
   "outputs": [
    {
     "name": "stdout",
     "output_type": "stream",
     "text": [
      "['Osystemgoes', 'latex', 'maestria_met', 'models', 'igp', 'grupo_unmsm', 'make_books_latex', 'make_paper', 'proyectos', 'tools', 'varios', 'documentos', 'cursos_talleres', 'datasample', 'utec', 'fiware', 'Classroom', 'ingles', 'work_job', 'Postulaciones', 'serie de tiempo', 'Google Earth', 'contaminantes_atmosfericos', 'inventario_csv', 'informes', 'Shapes', 'actividades_TDR', 'book_cluster', 'resultados', 'oefa_control_calidad', 'wrfchem_app', 'sacha', 'Colab Notebooks', 'consultorias_pagos', 'EstadisticaIA2025', 'Google AI Studio', 'Estadistica2025_estudiantes', 'Estadistica2025_Tareas_estudiantes', 'Estadistica4Finanzas', 'agroexportacion_peru', 'Bruce-Gedeck-Estadistica-Practica-para-Ciencia-de-Datos-con-R-y-Python.pdf', 'Bioestadistica', 'Base_datos', 'Ciencia_datos_pythonAI', 'clase_jose.ipynb', 'estadistica_python_ai_modulo1', 'InteractiveSheet_2025-09-05_21_40_48.gsheet']\n"
     ]
    }
   ],
   "source": [
    "import os\n",
    "\n",
    "ruta_drive =\"/content/drive/MyDrive/\"\n",
    "\n",
    "print(os.listdir(ruta_drive))"
   ]
  },
  {
   "cell_type": "markdown",
   "metadata": {
    "id": "p7GP_RGsMMWx"
   },
   "source": [
    "El bloque de código de la siguiente celda permite visualizar el contenido de Google Drive enumerada de manera vertical."
   ]
  },
  {
   "cell_type": "code",
   "execution_count": 3,
   "metadata": {
    "colab": {
     "base_uri": "https://localhost:8080/"
    },
    "executionInfo": {
     "elapsed": 8,
     "status": "ok",
     "timestamp": 1757308747643,
     "user": {
      "displayName": "Víctor Raúl Rojas Pozo",
      "userId": "02698158754403458224"
     },
     "user_tz": 300
    },
    "id": "UmaMZ1tKbTPY",
    "outputId": "21b3754e-8dd5-4993-dfc2-b18273bb4ca9"
   },
   "outputs": [
    {
     "name": "stdout",
     "output_type": "stream",
     "text": [
      "Numero de elementos: 47\n",
      "(0) Osystemgoes\n",
      "(1) latex\n",
      "(2) maestria_met\n",
      "(3) models\n",
      "(4) igp\n",
      "(5) grupo_unmsm\n",
      "(6) make_books_latex\n",
      "(7) make_paper\n",
      "(8) proyectos\n",
      "(9) tools\n",
      "(10) varios\n",
      "(11) documentos\n",
      "(12) cursos_talleres\n",
      "(13) datasample\n",
      "(14) utec\n",
      "(15) fiware\n",
      "(16) Classroom\n",
      "(17) ingles\n",
      "(18) work_job\n",
      "(19) Postulaciones\n",
      "(20) serie de tiempo\n",
      "(21) Google Earth\n",
      "(22) contaminantes_atmosfericos\n",
      "(23) inventario_csv\n",
      "(24) informes\n",
      "(25) Shapes\n",
      "(26) actividades_TDR\n",
      "(27) book_cluster\n",
      "(28) resultados\n",
      "(29) oefa_control_calidad\n",
      "(30) wrfchem_app\n",
      "(31) sacha\n",
      "(32) Colab Notebooks\n",
      "(33) consultorias_pagos\n",
      "(34) EstadisticaIA2025\n",
      "(35) Google AI Studio\n",
      "(36) Estadistica2025_estudiantes\n",
      "(37) Estadistica2025_Tareas_estudiantes\n",
      "(38) Estadistica4Finanzas\n",
      "(39) agroexportacion_peru\n",
      "(40) Bruce-Gedeck-Estadistica-Practica-para-Ciencia-de-Datos-con-R-y-Python.pdf\n",
      "(41) Bioestadistica\n",
      "(42) Base_datos\n",
      "(43) Ciencia_datos_pythonAI\n",
      "(44) clase_jose.ipynb\n",
      "(45) estadistica_python_ai_modulo1\n",
      "(46) InteractiveSheet_2025-09-05_21_40_48.gsheet\n"
     ]
    }
   ],
   "source": [
    "lista_dir_drive = os.listdir(ruta_drive)\n",
    "n_elem = len(lista_dir_drive)\n",
    "print(f\"Numero de elementos: {n_elem}\")\n",
    "\n",
    "for i in range(n_elem):\n",
    "  print(f\"({i}) {lista_dir_drive[i]}\")"
   ]
  },
  {
   "cell_type": "markdown",
   "metadata": {
    "id": "AEJM8QCGMN-p"
   },
   "source": [
    "Definir la función **`explorar_drive`** para explorar de manera más eficiente y rápida las carpertas y sub carpetas que se encuentran en Google Drive."
   ]
  },
  {
   "cell_type": "code",
   "execution_count": 4,
   "metadata": {
    "executionInfo": {
     "elapsed": 1,
     "status": "ok",
     "timestamp": 1757308747646,
     "user": {
      "displayName": "Víctor Raúl Rojas Pozo",
      "userId": "02698158754403458224"
     },
     "user_tz": 300
    },
    "id": "aNuxVIPfz5ZD"
   },
   "outputs": [],
   "source": [
    "def explorar_drive(nombre_carpeta):\n",
    "  import os\n",
    "  ruta_drive =\"/content/drive/MyDrive/\"\n",
    "  contenido_carpeta = os.listdir(ruta_drive + nombre_carpeta)\n",
    "  n_elem = len(contenido_carpeta)\n",
    "\n",
    "  print(f\"Ruta: {ruta_drive + nombre_carpeta}\")\n",
    "  print(f\"Numero de elementos: {n_elem}\")\n",
    "\n",
    "  for i in range(n_elem):\n",
    "    print(f\"({i}) {contenido_carpeta[i]}\")"
   ]
  },
  {
   "cell_type": "markdown",
   "metadata": {
    "id": "iq1aFj94NzAP"
   },
   "source": [
    "Forma de usar la función `explorar_drive` para explorar el contenido de Google Drive."
   ]
  },
  {
   "cell_type": "code",
   "execution_count": 5,
   "metadata": {
    "colab": {
     "base_uri": "https://localhost:8080/"
    },
    "executionInfo": {
     "elapsed": 226,
     "status": "ok",
     "timestamp": 1757308747873,
     "user": {
      "displayName": "Víctor Raúl Rojas Pozo",
      "userId": "02698158754403458224"
     },
     "user_tz": 300
    },
    "id": "gwV0Nozaf1TK",
    "outputId": "fe84f8eb-18eb-42f3-f512-967323e19bf0"
   },
   "outputs": [
    {
     "name": "stdout",
     "output_type": "stream",
     "text": [
      "Ruta: /content/drive/MyDrive/Base_datos\n",
      "Numero de elementos: 4\n",
      "(0) fuente_de_datos.gdoc\n",
      "(1) shapes\n",
      "(2) biomedicina\n",
      "(3) meteorologia\n"
     ]
    }
   ],
   "source": [
    "explorar_drive(\"Base_datos\")"
   ]
  },
  {
   "cell_type": "code",
   "execution_count": 6,
   "metadata": {
    "colab": {
     "base_uri": "https://localhost:8080/"
    },
    "executionInfo": {
     "elapsed": 183,
     "status": "ok",
     "timestamp": 1757308748072,
     "user": {
      "displayName": "Víctor Raúl Rojas Pozo",
      "userId": "02698158754403458224"
     },
     "user_tz": 300
    },
    "id": "5hynQSmi1KxH",
    "outputId": "77f1ec65-6a28-4fa7-a855-b61eb35771cf"
   },
   "outputs": [
    {
     "name": "stdout",
     "output_type": "stream",
     "text": [
      "Ruta: /content/drive/MyDrive/Ciencia_datos_pythonAI/\n",
      "Numero de elementos: 3\n",
      "(0) Modulo_01\n",
      "(1) Modulo_02\n",
      "(2) Modulo_03\n"
     ]
    }
   ],
   "source": [
    "explorar_drive(\"Ciencia_datos_pythonAI/\")"
   ]
  },
  {
   "cell_type": "markdown",
   "metadata": {
    "id": "3zD6DHn3PVt6"
   },
   "source": [
    "# **II. Importar base de datos**"
   ]
  },
  {
   "cell_type": "markdown",
   "metadata": {
    "id": "HLrKfg_XQmJy"
   },
   "source": [
    "**¿Qué es una base de datos?**\n",
    "\n",
    "Una base de datos es una colección organizada de información o datos estructurados, que normalmente se almacena electrónicamente en un sistema de computadora. Esencialmente, es un sistema diseñado para almacenar, gestionar y recuperar grandes cantidades de información de manera eficiente."
   ]
  },
  {
   "cell_type": "markdown",
   "metadata": {
    "id": "9B11_2x8Q-aa"
   },
   "source": [
    "pregunta para gemini: efinir, describir, detallar y comparar tipos de datos cuantitativos y cualitativos. Finalmente dar tres ejemplos de cada uno de ellos."
   ]
  },
  {
   "cell_type": "markdown",
   "metadata": {
    "id": "Szor2deNRg0-"
   },
   "source": [
    "**Datos Cuantitativos:**\n",
    "* **Definición:** Los datos cuantitativos (discretos ó contínuos) son aquellos que se pueden medir y expresar numéricamente. Responden a la pregunta \"¿cuánto?\" o \"¿cuántos?\". Estos datos se pueden someter a operaciones matemáticas y análisis estadísticos.\n",
    "\n",
    "* **Descripción:** Son datos numéricos que representan magnitudes, cantidades, frecuencias, etc. Tienen un orden natural y distancias significativas entre sus valores.\n",
    "\n"
   ]
  },
  {
   "cell_type": "markdown",
   "metadata": {
    "id": "DRvLnBijSc9J"
   },
   "source": [
    "**Datos Cualitativos:**\n",
    "* **Definición:** Los datos cualitativos son aquellos que describen cualidades, características o atributos. No se pueden medir numéricamente de manera significativa. Responden a la pregunta \"¿cómo?\" o \"¿qué tipo?\".\n",
    "\n",
    "* **Descripción:**  Son datos que representan categorías o etiquetas. No tienen un orden numérico inherente y las operaciones matemáticas no suelen ser aplicables a menos que se codifiquen."
   ]
  },
  {
   "cell_type": "markdown",
   "metadata": {
    "id": "jf46-eaXSnmp"
   },
   "source": [
    "**Comparación entre Datos Cuantitativos y Cualitativos:**\n",
    "\n",
    "\n",
    "| Característica       | Datos Cuantitativos                     | Datos Cualitativos                       |\n",
    "| :------------------- | :-------------------------------------- | :--------------------------------------- |\n",
    "| **Naturaleza**       | Numérica, medible                       | Categórica, descriptiva                  |\n",
    "| **Responde a**       | ¿Cuánto? ¿Cuántos?                      | ¿Cómo? ¿Qué tipo?                        |\n",
    "| **Operaciones Mat.** | Sí (suma, promedio, etc.)               | No (a menos que se codifiquen)           |\n",
    "| **Orden**            | Sí, orden natural                       | Nominal: No; Ordinal: Sí (jerarquía)     |\n",
    "| **Análisis Típico**  | Estadísticas descriptivas (media, desv. estándar), regresión, etc. | Frecuencias, proporciones, análisis de texto, etc. |\n",
    "| **Visualización**    | Histogramas, líneas, dispersión         | Barras, circulares                       |\n",
    "| **Objetividad**      | Generalmente objetivo                   | Puede ser subjetivo                      |"
   ]
  },
  {
   "cell_type": "markdown",
   "metadata": {
    "id": "_MN3nCnzzj8x"
   },
   "source": [
    "## **2.1. Importar archivos en formato EXCEL**"
   ]
  },
  {
   "cell_type": "markdown",
   "metadata": {
    "id": "KeSq-hArsvdt"
   },
   "source": [
    "Las mediciones de temperatura del aire, humedad relativa y radiación solar (variables ambientales), realizadas por una estación meteorológica en un punto geográfico específico son datos **cuantitativos contínuos**"
   ]
  },
  {
   "cell_type": "code",
   "execution_count": 7,
   "metadata": {
    "executionInfo": {
     "elapsed": 28,
     "status": "ok",
     "timestamp": 1757308748102,
     "user": {
      "displayName": "Víctor Raúl Rojas Pozo",
      "userId": "02698158754403458224"
     },
     "user_tz": 300
    },
    "id": "5RkDFeXl2rlH"
   },
   "outputs": [],
   "source": [
    "excel_data_file = \"/content/drive/MyDrive/Base_datos/meteorologia/data_estacion_madrid.xlsx\""
   ]
  },
  {
   "cell_type": "code",
   "execution_count": 8,
   "metadata": {
    "colab": {
     "base_uri": "https://localhost:8080/"
    },
    "executionInfo": {
     "elapsed": 1743,
     "status": "ok",
     "timestamp": 1757308749847,
     "user": {
      "displayName": "Víctor Raúl Rojas Pozo",
      "userId": "02698158754403458224"
     },
     "user_tz": 300
    },
    "id": "mdhJrUxZ3_A0",
    "outputId": "dfd86fa6-45f0-4c36-d301-480431e97863"
   },
   "outputs": [
    {
     "name": "stdout",
     "output_type": "stream",
     "text": [
      "     Unnamed: 0      fecha  temp_aire         hr   rxn_solar\n",
      "0             0 2021-01-01   3.625000  73.583333   99.833333\n",
      "1             1 2021-01-02   1.329167  60.625000   74.333333\n",
      "2             2 2021-01-03   1.920833  63.958333  101.500000\n",
      "3             3 2021-01-04   3.433333  57.791667  101.958333\n",
      "4             4 2021-01-05   0.445833  69.541667  106.666667\n",
      "..          ...        ...        ...        ...         ...\n",
      "329         329 2021-11-26   5.562500  69.875000   87.833333\n",
      "330         330 2021-11-27   5.500000  61.500000   93.041667\n",
      "331         331 2021-11-28   4.783333  60.291667  117.750000\n",
      "332         332 2021-11-29  10.112500  61.541667  108.750000\n",
      "333         333 2021-11-30   6.691667  74.000000  102.958333\n",
      "\n",
      "[334 rows x 5 columns]\n"
     ]
    }
   ],
   "source": [
    "# immportando el archivo Excel\n",
    "import pandas as pd\n",
    "\n",
    "df_met = pd.read_excel(excel_data_file)\n",
    "print(df_met)"
   ]
  },
  {
   "cell_type": "markdown",
   "metadata": {
    "id": "5fqV67DEq17A"
   },
   "source": [
    "## **2.2. Importar archivos en formato CSV**"
   ]
  },
  {
   "cell_type": "markdown",
   "metadata": {
    "id": "8j-bGuqwUxaS"
   },
   "source": [
    "Importar archivos en formato CSV (Comma-Separated Values, o Valores Separados por Comas) consiste en el proceso de cargar o transferir datos almacenados en un archivo CSV a un programa, aplicación o base de datos para su procesamiento, análisis o almacenamiento. Un archivo CSV es un formato de texto plano que organiza datos en filas y columnas, donde los valores están separados por comas (u otros delimitadores, como punto y coma o tabulaciones) y cada fila representa un registro."
   ]
  },
  {
   "cell_type": "markdown",
   "metadata": {
    "id": "PW-FSPUKxefL"
   },
   "source": [
    "* <a href=\"https://www.datosabiertos.gob.pe\">Plataforma Nacional de Datos Abiertos</a>.\n",
    "\n",
    "* Datos para caso estudio: <a href=\"https://www.datosabiertos.gob.pe/dataset/anemia/resource/938f2caf-41c1-4d2f-aa27-0d940a34b1ed#{}\">Anemia</a>."
   ]
  },
  {
   "cell_type": "code",
   "execution_count": 9,
   "metadata": {
    "colab": {
     "base_uri": "https://localhost:8080/"
    },
    "executionInfo": {
     "elapsed": 1520,
     "status": "ok",
     "timestamp": 1757308751364,
     "user": {
      "displayName": "Víctor Raúl Rojas Pozo",
      "userId": "02698158754403458224"
     },
     "user_tz": 300
    },
    "id": "cBH4mFsl4mgr",
    "outputId": "79de8955-2ee3-403c-c928-d8a579b97ad7"
   },
   "outputs": [
    {
     "name": "stdout",
     "output_type": "stream",
     "text": [
      "       Sexo  id_persona  Edad Tipo_edad  id_ubigeo  Fecha_atencion    Etapa  \\\n",
      "0         F    41031388    20         A        NaN        20230208  18a-29a   \n",
      "1         F    40489600     2         A     1128.0        20230107  00a-11a   \n",
      "2         M    40315865     1         A        NaN        20230207  00a-11a   \n",
      "3         F    38917347    19         D     1460.0        20210511  00a-11a   \n",
      "4         M    40507941     3         A     1668.0        20230224  00a-11a   \n",
      "...     ...         ...   ...       ...        ...             ...      ...   \n",
      "248888    M     9206744     6         A     1631.0        20230119  00a-11a   \n",
      "248889    M    25824229     4         A      163.0        20210528  00a-11a   \n",
      "248890    F    19472530     6         A     1161.0        20230107  00a-11a   \n",
      "248891    F    33840534     4         A      242.0        20210412  00a-11a   \n",
      "248892    F    19486739    84         A     1703.0        20230525     60a+   \n",
      "\n",
      "        Diagnostico Tipo_Dx  Lab  id_eess  \n",
      "0          99199.17       D  SF3     5942  \n",
      "1          99199.17       D  SF3     6856  \n",
      "2          99199.17       D  SF1    27109  \n",
      "3          99199.17       D  SF1       16  \n",
      "4          99199.17       D   TA     2978  \n",
      "...             ...     ...  ...      ...  \n",
      "248888     99199.17       D  SF2     3263  \n",
      "248889     99199.17       D  SF1     1819  \n",
      "248890     99199.17       D  SF2     5217  \n",
      "248891     99199.17       D  SF1     1812  \n",
      "248892     99199.17       D  SF1     3161  \n",
      "\n",
      "[248893 rows x 11 columns]\n"
     ]
    }
   ],
   "source": [
    "csv_data_file = \"/content/drive/My Drive/Base_datos/biomedicina/TB_DIGTEL_ANEMIA_TRATAMIENTOS.csv\"\n",
    "\n",
    "df_anemia = pd.read_csv(csv_data_file)\n",
    "print(df_anemia)"
   ]
  },
  {
   "cell_type": "markdown",
   "metadata": {
    "id": "X6MawcGyc2Pu"
   },
   "source": [
    "# **III. Preprocesamiento de datos**"
   ]
  },
  {
   "cell_type": "markdown",
   "metadata": {
    "id": "YAdPqhp0doDh"
   },
   "source": [
    "Dado que los datos suelen estar incompletos, inconsistentes o con errores, el preprocesamiento busca mejorar su calidad y estructuración. Es un paso fundamental para garantizar resultados confiables en **análisis estadístico**, **machine learning** o **inteligencia artificial**."
   ]
  },
  {
   "cell_type": "markdown",
   "metadata": {
    "id": "wvcZH4Hhrrss"
   },
   "source": [
    "## **3.1. Análisis exploratorio de datos**"
   ]
  },
  {
   "cell_type": "markdown",
   "metadata": {
    "id": "FBjIMz8sq2JM"
   },
   "source": [
    "El Análisis Exploratorio de Datos (EDA) es una metodología para analizar conjuntos de datos y resumir sus características principales, a menudo usando medidas estadísticas y métodos visuales. El objetivo del EDA es comprender los datos, descubrir patrones, detectar anomalías y probar hipótesis antes de realizar un modelado formal. No es un enfoque formal de modelado estadístico, sino más bien una filosofía para ver y comprender los datos.\n",
    "\n",
    "**¿En qué consiste el EDA?**\n",
    "\n",
    "* **Resumen de datos:** Calcular estadísticas descriptivas (media, mediana, desviación estándar, cuartiles, etc.) para comprender la distribución y las características centrales de las variables.\n",
    "\n",
    "* **Identificación de valores faltantes:** Detectar y cuantificar la presencia de valores nulos o faltantes en el conjunto de datos.\n",
    "\n",
    "* **Detección de valores atípicos:** Identificar observaciones que se desvían significativamente de otras observaciones y que podrían indicar un error de medición o una característica inusual del fenómeno que se está estudiando."
   ]
  },
  {
   "cell_type": "markdown",
   "metadata": {
    "id": "_arAaEMWuWQu"
   },
   "source": [
    "**Métodos en Python y Pandas para EDA:**\n",
    "\n",
    "Pandas es la biblioteca fundamental en Python para la manipulación y análisis de datos, y ofrece numerosos métodos para realizar EDA:\n",
    "\n",
    "*   **`.head()` y `.tail()`:** Muestran las primeras o últimas filas del DataFrame, respectivamente, para obtener una vista rápida de los datos.\n",
    "*   **`.info()`:** Proporciona un resumen conciso del DataFrame, incluyendo el índice, los tipos de datos de las columnas, el número de valores no nulos y el uso de memoria.\n",
    "*   **`.describe()`:** Genera estadísticas descriptivas (conteo, media, desviación estándar, mínimo, cuartiles, máximo) para las columnas numéricas. Se puede usar `.describe(include='all')` para incluir columnas no numéricas.\n",
    "*   **`.shape`:** Atributo que devuelve una tupla que representa las dimensiones del DataFrame (número de filas, número de columnas).\n",
    "*   **`.columns`:** Atributo que devuelve un objeto Index que contiene los nombres de las columnas.\n",
    "*   **`.value_counts()`:** Para Series, devuelve una Serie que contiene los recuentos de valores únicos. Útil para variables categóricas.\n",
    "<!-- *   **`.unique()` y `.nunique()`:** Devuelven los valores únicos en una Serie y el número de valores únicos, respectivamente.-->\n",
    "*   **`.isnull()` / `.isna()` y `.sum()`:** Se utilizan en combinación para contar los valores faltantes por columna.\n",
    "<!-- *   **`.duplicated()` y `.drop_duplicates()`:** Ayudan a identificar y eliminar filas duplicadas.-->\n",
    "<!-- *   **`.corr()`:** Calcula la correlación de Pearson (por defecto) entre las columnas numéricas.-->\n",
    "*   **`.groupby()`:** Permite agrupar datos por una o más columnas para realizar análisis agregados.\n",
    "\n",
    "Además de **Pandas**, bibliotecas como **Matplotlib** y **Seaborn** son esenciales para la visualización de datos en el EDA."
   ]
  },
  {
   "cell_type": "markdown",
   "metadata": {
    "id": "YLtVkXvifjiP"
   },
   "source": [
    "### **3.1.1. Ambientales**"
   ]
  },
  {
   "cell_type": "markdown",
   "metadata": {
    "id": "coWh_YRPKoqD"
   },
   "source": [
    "Los datos ambientales abarcan una amplia variedad de información relacionada con los elementos del medio ambiente, como el aire, el agua, el suelo, la biodiversidad, el clima y los recursos naturales. Se obtienen a través de métodos como observaciones directas, sensores, análisis de laboratorio, imágenes satelitales o modelos predictivos. Estos datos son fundamentales para evaluar el estado del medio ambiente, identificar problemas como la contaminación o el cambio climático, y tomar decisiones informadas en políticas ambientales, planificación urbana o conservación."
   ]
  },
  {
   "cell_type": "code",
   "execution_count": 10,
   "metadata": {
    "colab": {
     "base_uri": "https://localhost:8080/"
    },
    "executionInfo": {
     "elapsed": 31,
     "status": "ok",
     "timestamp": 1757308751394,
     "user": {
      "displayName": "Víctor Raúl Rojas Pozo",
      "userId": "02698158754403458224"
     },
     "user_tz": 300
    },
    "id": "N6J5wL5ORaz9",
    "outputId": "a286fe6b-b30f-480d-fed6-21ad5549b528"
   },
   "outputs": [
    {
     "name": "stdout",
     "output_type": "stream",
     "text": [
      "<class 'pandas.core.frame.DataFrame'>\n",
      "RangeIndex: 334 entries, 0 to 333\n",
      "Data columns (total 5 columns):\n",
      " #   Column      Non-Null Count  Dtype         \n",
      "---  ------      --------------  -----         \n",
      " 0   Unnamed: 0  334 non-null    int64         \n",
      " 1   fecha       334 non-null    datetime64[ns]\n",
      " 2   temp_aire   334 non-null    float64       \n",
      " 3   hr          334 non-null    float64       \n",
      " 4   rxn_solar   334 non-null    float64       \n",
      "dtypes: datetime64[ns](1), float64(3), int64(1)\n",
      "memory usage: 13.2 KB\n",
      "None\n"
     ]
    }
   ],
   "source": [
    "print(df_met.info())"
   ]
  },
  {
   "cell_type": "code",
   "execution_count": 11,
   "metadata": {
    "colab": {
     "base_uri": "https://localhost:8080/"
    },
    "executionInfo": {
     "elapsed": 7,
     "status": "ok",
     "timestamp": 1757308751402,
     "user": {
      "displayName": "Víctor Raúl Rojas Pozo",
      "userId": "02698158754403458224"
     },
     "user_tz": 300
    },
    "id": "ItouTtetiLzf",
    "outputId": "c9d89d03-95c9-4997-b00a-581d4d2ef541"
   },
   "outputs": [
    {
     "name": "stdout",
     "output_type": "stream",
     "text": [
      "Valores nulos por columna:\n",
      "Unnamed: 0    0\n",
      "fecha         0\n",
      "temp_aire     0\n",
      "hr            0\n",
      "rxn_solar     0\n",
      "dtype: int64\n"
     ]
    }
   ],
   "source": [
    "# Contar valores nulos por columna usando isna()\n",
    "valores_nulos_por_columna = df_met.isna().sum()\n",
    "print(\"Valores nulos por columna:\")\n",
    "print(valores_nulos_por_columna)"
   ]
  },
  {
   "cell_type": "code",
   "execution_count": 12,
   "metadata": {
    "colab": {
     "base_uri": "https://localhost:8080/"
    },
    "executionInfo": {
     "elapsed": 17,
     "status": "ok",
     "timestamp": 1757308751420,
     "user": {
      "displayName": "Víctor Raúl Rojas Pozo",
      "userId": "02698158754403458224"
     },
     "user_tz": 300
    },
    "id": "GpNm0cPYYXKv",
    "outputId": "6b7bcc02-8435-4ac3-e3f7-72927be1eebb"
   },
   "outputs": [
    {
     "name": "stdout",
     "output_type": "stream",
     "text": [
      "\n",
      "Total de valores nulos en el DataFrame: 0\n"
     ]
    }
   ],
   "source": [
    "# Contar el total de valores nulos en todo el DataFrame\n",
    "total_valores_nulos = df_met.isna().sum().sum()\n",
    "print(f\"\\nTotal de valores nulos en el DataFrame: {total_valores_nulos}\")"
   ]
  },
  {
   "cell_type": "code",
   "execution_count": 13,
   "metadata": {
    "colab": {
     "base_uri": "https://localhost:8080/"
    },
    "executionInfo": {
     "elapsed": 34,
     "status": "ok",
     "timestamp": 1757308751455,
     "user": {
      "displayName": "Víctor Raúl Rojas Pozo",
      "userId": "02698158754403458224"
     },
     "user_tz": 300
    },
    "id": "-VPZIWTK6Y-L",
    "outputId": "30fa3e1e-10aa-4dae-8276-0d9dcea73e9d"
   },
   "outputs": [
    {
     "name": "stdout",
     "output_type": "stream",
     "text": [
      "['Unnamed: 0', 'fecha', 'temp_aire', 'hr', 'rxn_solar']\n",
      "<class 'list'>\n"
     ]
    }
   ],
   "source": [
    "nombres_columnas_met = df_met.columns.values.tolist()\n",
    "print(nombres_columnas_met)\n",
    "print(type(nombres_columnas_met))"
   ]
  },
  {
   "cell_type": "code",
   "execution_count": 14,
   "metadata": {
    "colab": {
     "base_uri": "https://localhost:8080/"
    },
    "executionInfo": {
     "elapsed": 10,
     "status": "ok",
     "timestamp": 1757308751457,
     "user": {
      "displayName": "Víctor Raúl Rojas Pozo",
      "userId": "02698158754403458224"
     },
     "user_tz": 300
    },
    "id": "A3HeB8b06wvi",
    "outputId": "5e21c25a-03df-4a08-fb48-b46043115191"
   },
   "outputs": [
    {
     "name": "stdout",
     "output_type": "stream",
     "text": [
      "      rxn_solar         hr  temp_aire\n",
      "0     99.833333  73.583333   3.625000\n",
      "1     74.333333  60.625000   1.329167\n",
      "2    101.500000  63.958333   1.920833\n",
      "3    101.958333  57.791667   3.433333\n",
      "4    106.666667  69.541667   0.445833\n",
      "..          ...        ...        ...\n",
      "329   87.833333  69.875000   5.562500\n",
      "330   93.041667  61.500000   5.500000\n",
      "331  117.750000  60.291667   4.783333\n",
      "332  108.750000  61.541667  10.112500\n",
      "333  102.958333  74.000000   6.691667\n",
      "\n",
      "[334 rows x 3 columns]\n"
     ]
    }
   ],
   "source": [
    "met_interes = df_met[[ \"rxn_solar\", \"hr\", \"temp_aire\"]]\n",
    "print(met_interes)"
   ]
  },
  {
   "cell_type": "code",
   "execution_count": 15,
   "metadata": {
    "colab": {
     "base_uri": "https://localhost:8080/"
    },
    "executionInfo": {
     "elapsed": 18,
     "status": "ok",
     "timestamp": 1757308751476,
     "user": {
      "displayName": "Víctor Raúl Rojas Pozo",
      "userId": "02698158754403458224"
     },
     "user_tz": 300
    },
    "id": "Dz37IytN9-wC",
    "outputId": "62de7136-efd3-4b7a-910b-76902adb681a"
   },
   "outputs": [
    {
     "name": "stdout",
     "output_type": "stream",
     "text": [
      "        rxn_solar          hr   temp_aire\n",
      "count  334.000000  334.000000  334.000000\n",
      "mean   207.164172   57.978917   15.556999\n",
      "std     96.113257   17.174558    7.641851\n",
      "min     14.583333   23.583333   -4.841667\n",
      "25%    130.625000   45.031250   10.026042\n",
      "50%    199.625000   57.937500   14.929167\n",
      "75%    293.416667   70.885417   21.714583\n",
      "max    369.958333  100.000000   31.920833\n"
     ]
    }
   ],
   "source": [
    "print(met_interes.describe())"
   ]
  },
  {
   "cell_type": "code",
   "execution_count": 16,
   "metadata": {
    "colab": {
     "base_uri": "https://localhost:8080/"
    },
    "executionInfo": {
     "elapsed": 7,
     "status": "ok",
     "timestamp": 1757308751484,
     "user": {
      "displayName": "Víctor Raúl Rojas Pozo",
      "userId": "02698158754403458224"
     },
     "user_tz": 300
    },
    "id": "NJI7ywNO7uMZ",
    "outputId": "7d76e819-50c9-4d0d-8171-6227d4b5a2e8"
   },
   "outputs": [
    {
     "name": "stdout",
     "output_type": "stream",
     "text": [
      "count    334.000000\n",
      "mean      57.978917\n",
      "std       17.174558\n",
      "min       23.583333\n",
      "25%       45.031250\n",
      "50%       57.937500\n",
      "75%       70.885417\n",
      "max      100.000000\n",
      "Name: hr, dtype: float64\n"
     ]
    }
   ],
   "source": [
    "print(met_interes.describe()[\"hr\"])"
   ]
  },
  {
   "cell_type": "code",
   "execution_count": 17,
   "metadata": {
    "colab": {
     "base_uri": "https://localhost:8080/"
    },
    "executionInfo": {
     "elapsed": 8,
     "status": "ok",
     "timestamp": 1757308751494,
     "user": {
      "displayName": "Víctor Raúl Rojas Pozo",
      "userId": "02698158754403458224"
     },
     "user_tz": 300
    },
    "id": "pDcS-A9a7yQm",
    "outputId": "1e4652fe-cf5f-4f68-d4d3-d7ffcf4fea9b"
   },
   "outputs": [
    {
     "name": "stdout",
     "output_type": "stream",
     "text": [
      "17.174557680329734\n",
      "70.88541666666667\n",
      "88.0599743469964\n",
      "1217.4256772358733\n"
     ]
    }
   ],
   "source": [
    "std_hr = met_interes.describe()[\"hr\"][\"std\"]\n",
    "p75_hr = met_interes.describe()[\"hr\"][\"75%\"]\n",
    "print(std_hr)\n",
    "print(p75_hr)\n",
    "suma = std_hr + p75_hr\n",
    "print(suma)\n",
    "\n",
    "producto= std_hr * p75_hr\n",
    "print(producto)"
   ]
  },
  {
   "cell_type": "code",
   "execution_count": 18,
   "metadata": {
    "colab": {
     "base_uri": "https://localhost:8080/"
    },
    "executionInfo": {
     "elapsed": 34,
     "status": "ok",
     "timestamp": 1757308751529,
     "user": {
      "displayName": "Víctor Raúl Rojas Pozo",
      "userId": "02698158754403458224"
     },
     "user_tz": 300
    },
    "id": "b6fPBNiIq4tT",
    "outputId": "b4640c76-8730-48ff-99ec-eca9b37f243c"
   },
   "outputs": [
    {
     "name": "stdout",
     "output_type": "stream",
     "text": [
      "     Unnamed: 0      fecha  temp_aire         hr   rxn_solar\n",
      "106         106 2021-04-17   8.916667  43.416667  308.916667\n",
      "107         107 2021-04-18  10.641667  46.458333  304.708333\n",
      "123         123 2021-05-04  14.425000  62.541667  331.375000\n",
      "124         124 2021-05-05  17.350000  47.083333  330.166667\n",
      "125         125 2021-05-06  18.420833  47.000000  331.791667\n",
      "..          ...        ...        ...        ...         ...\n",
      "223         223 2021-08-12  29.416667  35.291667  306.500000\n",
      "227         227 2021-08-16  27.720833  23.583333  306.416667\n",
      "228         228 2021-08-17  24.191667  32.375000  311.125000\n",
      "231         231 2021-08-20  26.283333  40.041667  300.791667\n",
      "232         232 2021-08-21  26.433333  27.208333  302.541667\n",
      "\n",
      "[71 rows x 5 columns]\n",
      "(71, 5)\n"
     ]
    }
   ],
   "source": [
    "fil_rxs = df_met[(df_met[\"rxn_solar\"]>=300) & (df_met[\"rxn_solar\"]<=360)]\n",
    "\n",
    "print(fil_rxs)\n",
    "print(fil_rxs.shape)"
   ]
  },
  {
   "cell_type": "code",
   "execution_count": 19,
   "metadata": {
    "colab": {
     "base_uri": "https://localhost:8080/"
    },
    "executionInfo": {
     "elapsed": 10,
     "status": "ok",
     "timestamp": 1757308751538,
     "user": {
      "displayName": "Víctor Raúl Rojas Pozo",
      "userId": "02698158754403458224"
     },
     "user_tz": 300
    },
    "id": "O1XjQZncB57V",
    "outputId": "d9ad21b0-dc1c-41c5-af05-fc6e92792cad"
   },
   "outputs": [
    {
     "name": "stdout",
     "output_type": "stream",
     "text": [
      "     Unnamed: 0      fecha  temp_aire         hr   rxn_solar\n",
      "0             0 2021-01-01   3.625000  73.583333   99.833333\n",
      "1             1 2021-01-02   1.329167  60.625000   74.333333\n",
      "2             2 2021-01-03   1.920833  63.958333  101.500000\n",
      "3             3 2021-01-04   3.433333  57.791667  101.958333\n",
      "4             4 2021-01-05   0.445833  69.541667  106.666667\n",
      "..          ...        ...        ...        ...         ...\n",
      "329         329 2021-11-26   5.562500  69.875000   87.833333\n",
      "330         330 2021-11-27   5.500000  61.500000   93.041667\n",
      "331         331 2021-11-28   4.783333  60.291667  117.750000\n",
      "332         332 2021-11-29  10.112500  61.541667  108.750000\n",
      "333         333 2021-11-30   6.691667  74.000000  102.958333\n",
      "\n",
      "[334 rows x 5 columns]\n",
      "60.625\n",
      "60.625\n"
     ]
    }
   ],
   "source": [
    "print(df_met)\n",
    "\n",
    "print(df_met.loc[1,\"hr\"])\n",
    "print(df_met.iloc[1,3])   # [fila, columna] indexacion considerando todo el data frame"
   ]
  },
  {
   "cell_type": "markdown",
   "metadata": {
    "id": "w8HEMPjmfxR8"
   },
   "source": [
    "### **3.1.2. Biomedicos**"
   ]
  },
  {
   "cell_type": "markdown",
   "metadata": {
    "id": "KJlw_1-nL8ZV"
   },
   "source": [
    "Los datos biomédicos son información generada a partir de la observación, medición, análisis o experimentación en el ámbito de las ciencias biomédicas, que abarcan disciplinas como la medicina, la biología, la biotecnología y la salud pública. Estos datos se refieren a características biológicas, fisiológicas, genéticas, clínicas o moleculares de organismos vivos, especialmente humanos, y se utilizan para estudiar, diagnosticar, tratar o prevenir enfermedades, así como para avanzar en la investigación científica."
   ]
  },
  {
   "cell_type": "code",
   "execution_count": 52,
   "metadata": {
    "colab": {
     "base_uri": "https://localhost:8080/"
    },
    "executionInfo": {
     "elapsed": 16,
     "status": "ok",
     "timestamp": 1757309589970,
     "user": {
      "displayName": "Víctor Raúl Rojas Pozo",
      "userId": "02698158754403458224"
     },
     "user_tz": 300
    },
    "id": "Z1fnuReu0Be2",
    "outputId": "938f9bab-a225-4c29-859a-46b98ba2b7f4"
   },
   "outputs": [
    {
     "name": "stdout",
     "output_type": "stream",
     "text": [
      "       Sexo  id_persona  Edad Tipo_edad  id_ubigeo  Fecha_atencion    Etapa  \\\n",
      "0         F    41031388    20         A        NaN        20230208  18a-29a   \n",
      "1         F    40489600     2         A     1128.0        20230107  00a-11a   \n",
      "2         M    40315865     1         A        NaN        20230207  00a-11a   \n",
      "3         F    38917347    19         D     1460.0        20210511  00a-11a   \n",
      "4         M    40507941     3         A     1668.0        20230224  00a-11a   \n",
      "...     ...         ...   ...       ...        ...             ...      ...   \n",
      "248888    M     9206744     6         A     1631.0        20230119  00a-11a   \n",
      "248889    M    25824229     4         A      163.0        20210528  00a-11a   \n",
      "248890    F    19472530     6         A     1161.0        20230107  00a-11a   \n",
      "248891    F    33840534     4         A      242.0        20210412  00a-11a   \n",
      "248892    F    19486739    84         A     1703.0        20230525     60a+   \n",
      "\n",
      "        Diagnostico Tipo_Dx  Lab  id_eess  \n",
      "0          99199.17       D  SF3     5942  \n",
      "1          99199.17       D  SF3     6856  \n",
      "2          99199.17       D  SF1    27109  \n",
      "3          99199.17       D  SF1       16  \n",
      "4          99199.17       D   TA     2978  \n",
      "...             ...     ...  ...      ...  \n",
      "248888     99199.17       D  SF2     3263  \n",
      "248889     99199.17       D  SF1     1819  \n",
      "248890     99199.17       D  SF2     5217  \n",
      "248891     99199.17       D  SF1     1812  \n",
      "248892     99199.17       D  SF1     3161  \n",
      "\n",
      "[248893 rows x 11 columns]\n"
     ]
    }
   ],
   "source": [
    "print(df_anemia)"
   ]
  },
  {
   "cell_type": "code",
   "execution_count": 20,
   "metadata": {
    "colab": {
     "base_uri": "https://localhost:8080/"
    },
    "executionInfo": {
     "elapsed": 90,
     "status": "ok",
     "timestamp": 1757308751629,
     "user": {
      "displayName": "Víctor Raúl Rojas Pozo",
      "userId": "02698158754403458224"
     },
     "user_tz": 300
    },
    "id": "tRnkolkxSP9H",
    "outputId": "488cda91-fe97-421c-89e9-05af3f051244"
   },
   "outputs": [
    {
     "name": "stdout",
     "output_type": "stream",
     "text": [
      "<class 'pandas.core.frame.DataFrame'>\n",
      "RangeIndex: 248893 entries, 0 to 248892\n",
      "Data columns (total 11 columns):\n",
      " #   Column          Non-Null Count   Dtype  \n",
      "---  ------          --------------   -----  \n",
      " 0   Sexo            248893 non-null  object \n",
      " 1   id_persona      248893 non-null  int64  \n",
      " 2   Edad            248893 non-null  int64  \n",
      " 3   Tipo_edad       248893 non-null  object \n",
      " 4   id_ubigeo       243110 non-null  float64\n",
      " 5   Fecha_atencion  248893 non-null  int64  \n",
      " 6   Etapa           248893 non-null  object \n",
      " 7   Diagnostico     248893 non-null  float64\n",
      " 8   Tipo_Dx         248893 non-null  object \n",
      " 9   Lab             248893 non-null  object \n",
      " 10  id_eess         248893 non-null  int64  \n",
      "dtypes: float64(2), int64(4), object(5)\n",
      "memory usage: 20.9+ MB\n",
      "None\n"
     ]
    }
   ],
   "source": [
    "print(df_anemia.info())"
   ]
  },
  {
   "cell_type": "code",
   "execution_count": 51,
   "metadata": {
    "colab": {
     "base_uri": "https://localhost:8080/"
    },
    "executionInfo": {
     "elapsed": 69,
     "status": "ok",
     "timestamp": 1757309556687,
     "user": {
      "displayName": "Víctor Raúl Rojas Pozo",
      "userId": "02698158754403458224"
     },
     "user_tz": 300
    },
    "id": "nigiMFrlzxj1",
    "outputId": "d20207b6-7db3-4081-fc47-c28a739a3309"
   },
   "outputs": [
    {
     "name": "stdout",
     "output_type": "stream",
     "text": [
      "         Sexo  id_persona   Edad  Tipo_edad  id_ubigeo  Fecha_atencion  Etapa  \\\n",
      "0       False       False  False      False       True           False  False   \n",
      "1       False       False  False      False      False           False  False   \n",
      "2       False       False  False      False       True           False  False   \n",
      "3       False       False  False      False      False           False  False   \n",
      "4       False       False  False      False      False           False  False   \n",
      "...       ...         ...    ...        ...        ...             ...    ...   \n",
      "248888  False       False  False      False      False           False  False   \n",
      "248889  False       False  False      False      False           False  False   \n",
      "248890  False       False  False      False      False           False  False   \n",
      "248891  False       False  False      False      False           False  False   \n",
      "248892  False       False  False      False      False           False  False   \n",
      "\n",
      "        Diagnostico  Tipo_Dx    Lab  id_eess  \n",
      "0             False    False  False    False  \n",
      "1             False    False  False    False  \n",
      "2             False    False  False    False  \n",
      "3             False    False  False    False  \n",
      "4             False    False  False    False  \n",
      "...             ...      ...    ...      ...  \n",
      "248888        False    False  False    False  \n",
      "248889        False    False  False    False  \n",
      "248890        False    False  False    False  \n",
      "248891        False    False  False    False  \n",
      "248892        False    False  False    False  \n",
      "\n",
      "[248893 rows x 11 columns]\n"
     ]
    }
   ],
   "source": [
    "print(df_anemia.isnull())"
   ]
  },
  {
   "cell_type": "code",
   "execution_count": 53,
   "metadata": {
    "colab": {
     "base_uri": "https://localhost:8080/"
    },
    "executionInfo": {
     "elapsed": 96,
     "status": "ok",
     "timestamp": 1757309652782,
     "user": {
      "displayName": "Víctor Raúl Rojas Pozo",
      "userId": "02698158754403458224"
     },
     "user_tz": 300
    },
    "id": "IbH-cwwS0Q1N",
    "outputId": "e9fcfc94-74fe-4da6-d931-1f3e6c997359"
   },
   "outputs": [
    {
     "name": "stdout",
     "output_type": "stream",
     "text": [
      "Sexo                 0\n",
      "id_persona           0\n",
      "Edad                 0\n",
      "Tipo_edad            0\n",
      "id_ubigeo         5783\n",
      "Fecha_atencion       0\n",
      "Etapa                0\n",
      "Diagnostico          0\n",
      "Tipo_Dx              0\n",
      "Lab                  0\n",
      "id_eess              0\n",
      "dtype: int64\n"
     ]
    }
   ],
   "source": [
    "print(df_anemia.isnull().sum())"
   ]
  },
  {
   "cell_type": "markdown",
   "metadata": {
    "id": "APMFfOeVrGTq"
   },
   "source": [
    "## **3.2. Control de calidad de datos**"
   ]
  },
  {
   "cell_type": "markdown",
   "metadata": {
    "id": "Xw7pQRgurCw5"
   },
   "source": [
    "Este paso es crucial para mejorar la calidad de los datos y garantizar que sean adecuados para su análisis. Las tareas comunes incluyen:\n",
    "\n",
    "* **Limpieza de datos**: Eliminar valores nulos, duplicados o datos inconsistentes (por ejemplo, corregir errores tipográficos o formatos incoherentes).\n",
    "\n",
    "* **Eliminación de ruido**: Identificar y mitigar datos atípicos o irrelevantes que puedan distorsionar los resultados.\n",
    "\n",
    "* **Imputación**: Rellenar valores faltantes con técnicas como la media, mediana o interpolación."
   ]
  },
  {
   "cell_type": "code",
   "execution_count": 23,
   "metadata": {
    "executionInfo": {
     "elapsed": 28,
     "status": "ok",
     "timestamp": 1757308751671,
     "user": {
      "displayName": "Víctor Raúl Rojas Pozo",
      "userId": "02698158754403458224"
     },
     "user_tz": 300
    },
    "id": "LCHGAGMWLU85"
   },
   "outputs": [],
   "source": [
    "def encontrar_nan(df):\n",
    "    # Verificar valores NaN en cada columna\n",
    "    nan_por_columna = df.isna().sum()\n",
    "\n",
    "    # Verificar valores NaN en todo el DataFrame\n",
    "    total_nan = df.isna().sum().sum()\n",
    "\n",
    "    # Mostrar resultados\n",
    "    print(\"DataFrame original:\")\n",
    "    print(\"\\nValores NaN por columna:\")\n",
    "    print(nan_por_columna)\n",
    "    print(f\"\\nTotal de valores NaN en el DataFrame: {total_nan}\")"
   ]
  },
  {
   "cell_type": "markdown",
   "metadata": {
    "id": "mCVB8sLUjDrh"
   },
   "source": [
    "### **3.2.1. Ambientales**"
   ]
  },
  {
   "cell_type": "code",
   "execution_count": 24,
   "metadata": {
    "colab": {
     "base_uri": "https://localhost:8080/"
    },
    "executionInfo": {
     "elapsed": 18,
     "status": "ok",
     "timestamp": 1757308751678,
     "user": {
      "displayName": "Víctor Raúl Rojas Pozo",
      "userId": "02698158754403458224"
     },
     "user_tz": 300
    },
    "id": "8DZ4wGmYwkIC",
    "outputId": "f61df878-a4ad-40b3-e203-50cf72b3cab0"
   },
   "outputs": [
    {
     "name": "stdout",
     "output_type": "stream",
     "text": [
      "DataFrame original:\n",
      "\n",
      "Valores NaN por columna:\n",
      "Unnamed: 0    0\n",
      "fecha         0\n",
      "temp_aire     0\n",
      "hr            0\n",
      "rxn_solar     0\n",
      "dtype: int64\n",
      "\n",
      "Total de valores NaN en el DataFrame: 0\n"
     ]
    }
   ],
   "source": [
    "encontrar_nan(df_met)"
   ]
  },
  {
   "cell_type": "code",
   "execution_count": 25,
   "metadata": {
    "colab": {
     "base_uri": "https://localhost:8080/"
    },
    "executionInfo": {
     "elapsed": 22,
     "status": "ok",
     "timestamp": 1757308751690,
     "user": {
      "displayName": "Víctor Raúl Rojas Pozo",
      "userId": "02698158754403458224"
     },
     "user_tz": 300
    },
    "id": "5S_xfCZK4fvX",
    "outputId": "dca7a897-d763-4c48-b1bd-fb5cdec81232"
   },
   "outputs": [
    {
     "name": "stdout",
     "output_type": "stream",
     "text": [
      "     Unnamed: 0      fecha  temp_aire         hr   rxn_solar\n",
      "0             0 2021-01-01   3.625000  73.583333   99.833333\n",
      "1             1 2021-01-02   1.329167  60.625000   74.333333\n",
      "2             2 2021-01-03   1.920833  63.958333  101.500000\n",
      "3             3 2021-01-04   3.433333  57.791667  101.958333\n",
      "4             4 2021-01-05   0.445833  69.541667  106.666667\n",
      "..          ...        ...        ...        ...         ...\n",
      "329         329 2021-11-26   5.562500  69.875000   87.833333\n",
      "330         330 2021-11-27   5.500000  61.500000   93.041667\n",
      "331         331 2021-11-28   4.783333  60.291667  117.750000\n",
      "332         332 2021-11-29  10.112500  61.541667  108.750000\n",
      "333         333 2021-11-30   6.691667  74.000000  102.958333\n",
      "\n",
      "[334 rows x 5 columns]\n"
     ]
    }
   ],
   "source": [
    "df_met_nan = df_met.copy()\n",
    "print(df_met_nan)"
   ]
  },
  {
   "cell_type": "markdown",
   "metadata": {
    "id": "hdHpsOcf5dag"
   },
   "source": [
    "Editar un data frame usando valores `nan`"
   ]
  },
  {
   "cell_type": "code",
   "execution_count": 58,
   "metadata": {
    "colab": {
     "base_uri": "https://localhost:8080/"
    },
    "executionInfo": {
     "elapsed": 52,
     "status": "ok",
     "timestamp": 1757311062389,
     "user": {
      "displayName": "Víctor Raúl Rojas Pozo",
      "userId": "02698158754403458224"
     },
     "user_tz": 300
    },
    "id": "a5n-0I2XBxK_",
    "outputId": "c9878046-f234-4458-fce1-0db3cd3be330"
   },
   "outputs": [
    {
     "name": "stdout",
     "output_type": "stream",
     "text": [
      "     Unnamed: 0      fecha  temp_aire         hr   rxn_solar\n",
      "0             0 2021-01-01   3.625000  73.583333   99.833333\n",
      "1             1 2021-01-02        NaN        NaN   74.333333\n",
      "2             2 2021-01-03   1.920833  63.958333  101.500000\n",
      "3             3 2021-01-04   3.433333  57.791667  101.958333\n",
      "4             4 2021-01-05   0.445833        NaN  106.666667\n",
      "..          ...        ...        ...        ...         ...\n",
      "329         329 2021-11-26   5.562500  69.875000   87.833333\n",
      "330         330 2021-11-27   5.500000  61.500000   93.041667\n",
      "331         331 2021-11-28   4.783333  60.291667  117.750000\n",
      "332         332 2021-11-29  10.112500  61.541667  108.750000\n",
      "333         333 2021-11-30   6.691667  74.000000  102.958333\n",
      "\n",
      "[334 rows x 5 columns]\n"
     ]
    }
   ],
   "source": [
    "import numpy as np\n",
    "\n",
    "df_met_nan.loc[1,\"hr\"]= np.nan\n",
    "\n",
    "df_met_nan.iloc[4,3]= np.nan\n",
    "\n",
    "df_met_nan.loc[1,\"temp_aire\"]= np.nan\n",
    "\n",
    "print(df_met_nan)"
   ]
  },
  {
   "cell_type": "code",
   "execution_count": 59,
   "metadata": {
    "colab": {
     "base_uri": "https://localhost:8080/"
    },
    "executionInfo": {
     "elapsed": 23,
     "status": "ok",
     "timestamp": 1757311066722,
     "user": {
      "displayName": "Víctor Raúl Rojas Pozo",
      "userId": "02698158754403458224"
     },
     "user_tz": 300
    },
    "id": "VaP8M0UUkvVo",
    "outputId": "f0a87028-4cdf-4b6a-e1f7-a98ab109a097"
   },
   "outputs": [
    {
     "name": "stdout",
     "output_type": "stream",
     "text": [
      "DataFrame original:\n",
      "\n",
      "Valores NaN por columna:\n",
      "Unnamed: 0    0\n",
      "fecha         0\n",
      "temp_aire     1\n",
      "hr            2\n",
      "rxn_solar     0\n",
      "dtype: int64\n",
      "\n",
      "Total de valores NaN en el DataFrame: 3\n"
     ]
    }
   ],
   "source": [
    "encontrar_nan(df_met_nan)"
   ]
  },
  {
   "cell_type": "markdown",
   "metadata": {
    "id": "VY6Acrra88sX"
   },
   "source": [
    "Eliminar datos `nan` y `null` empleando el método drop de un data frame"
   ]
  },
  {
   "cell_type": "code",
   "execution_count": 35,
   "metadata": {
    "colab": {
     "base_uri": "https://localhost:8080/"
    },
    "executionInfo": {
     "elapsed": 19,
     "status": "ok",
     "timestamp": 1757308914474,
     "user": {
      "displayName": "Víctor Raúl Rojas Pozo",
      "userId": "02698158754403458224"
     },
     "user_tz": 300
    },
    "id": "Az_2ou3U9FLe",
    "outputId": "f8f83345-d1e7-424a-9a1a-607c365a54f3"
   },
   "outputs": [
    {
     "name": "stdout",
     "output_type": "stream",
     "text": [
      "     Unnamed: 0      fecha  temp_aire         hr   rxn_solar\n",
      "0             0 2021-01-01   3.625000  73.583333   99.833333\n",
      "2             2 2021-01-03   1.920833  63.958333  101.500000\n",
      "3             3 2021-01-04   3.433333  57.791667  101.958333\n",
      "5             5 2021-01-06  -0.045833  69.000000  106.625000\n",
      "6             6 2021-01-07  -0.708333  82.416667   14.583333\n",
      "..          ...        ...        ...        ...         ...\n",
      "329         329 2021-11-26   5.562500  69.875000   87.833333\n",
      "330         330 2021-11-27   5.500000  61.500000   93.041667\n",
      "331         331 2021-11-28   4.783333  60.291667  117.750000\n",
      "332         332 2021-11-29  10.112500  61.541667  108.750000\n",
      "333         333 2021-11-30   6.691667  74.000000  102.958333\n",
      "\n",
      "[332 rows x 5 columns]\n"
     ]
    }
   ],
   "source": [
    "df_met_dropnan = df_met_nan.dropna()\n",
    "print(df_met_dropnan)"
   ]
  },
  {
   "cell_type": "markdown",
   "metadata": {
    "id": "_3bjuw-S882o"
   },
   "source": [
    "Completar datos `nan`y `null` empleando técnicas de interpolación"
   ]
  },
  {
   "cell_type": "code",
   "execution_count": 36,
   "metadata": {
    "colab": {
     "base_uri": "https://localhost:8080/"
    },
    "executionInfo": {
     "elapsed": 14,
     "status": "ok",
     "timestamp": 1757308918917,
     "user": {
      "displayName": "Víctor Raúl Rojas Pozo",
      "userId": "02698158754403458224"
     },
     "user_tz": 300
    },
    "id": "e2tw4IB19Wir",
    "outputId": "b6fd6150-8628-4942-be19-4b7370ff9bed"
   },
   "outputs": [
    {
     "name": "stdout",
     "output_type": "stream",
     "text": [
      "     Unnamed: 0      fecha  temp_aire         hr   rxn_solar\n",
      "0             0 2021-01-01   3.625000  73.583333   99.833333\n",
      "1             1 2021-01-02   2.772917  68.770833   74.333333\n",
      "2             2 2021-01-03   1.920833  63.958333  101.500000\n",
      "3             3 2021-01-04   3.433333  57.791667  101.958333\n",
      "4             4 2021-01-05   0.445833  63.395833  106.666667\n",
      "..          ...        ...        ...        ...         ...\n",
      "329         329 2021-11-26   5.562500  69.875000   87.833333\n",
      "330         330 2021-11-27   5.500000  61.500000   93.041667\n",
      "331         331 2021-11-28   4.783333  60.291667  117.750000\n",
      "332         332 2021-11-29  10.112500  61.541667  108.750000\n",
      "333         333 2021-11-30   6.691667  74.000000  102.958333\n",
      "\n",
      "[334 rows x 5 columns]\n"
     ]
    }
   ],
   "source": [
    "df_met_nan_interpolado = df_met_nan.interpolate() # method: linear\n",
    "#df_met_interpolado = df_met_nan.interpolate(method=\"spline\", order=2) # method: polynomial, spline\n",
    "\n",
    "print(df_met_nan_interpolado)"
   ]
  },
  {
   "cell_type": "markdown",
   "metadata": {
    "id": "8BgRso-wljH8"
   },
   "source": [
    "### **3.2.2. Biomédicos**"
   ]
  },
  {
   "cell_type": "code",
   "execution_count": 37,
   "metadata": {
    "colab": {
     "base_uri": "https://localhost:8080/"
    },
    "executionInfo": {
     "elapsed": 133,
     "status": "ok",
     "timestamp": 1757308925761,
     "user": {
      "displayName": "Víctor Raúl Rojas Pozo",
      "userId": "02698158754403458224"
     },
     "user_tz": 300
    },
    "id": "dqMy6L5mwohD",
    "outputId": "ff210483-980e-44df-cb1d-f31c2bf0646e"
   },
   "outputs": [
    {
     "name": "stdout",
     "output_type": "stream",
     "text": [
      "DataFrame original:\n",
      "\n",
      "Valores NaN por columna:\n",
      "Sexo                 0\n",
      "id_persona           0\n",
      "Edad                 0\n",
      "Tipo_edad            0\n",
      "id_ubigeo         5783\n",
      "Fecha_atencion       0\n",
      "Etapa                0\n",
      "Diagnostico          0\n",
      "Tipo_Dx              0\n",
      "Lab                  0\n",
      "id_eess              0\n",
      "dtype: int64\n",
      "\n",
      "Total de valores NaN en el DataFrame: 5783\n"
     ]
    }
   ],
   "source": [
    "encontrar_nan(df_anemia)"
   ]
  },
  {
   "cell_type": "markdown",
   "metadata": {
    "id": "oimcXNNz57wx"
   },
   "source": [
    "Hacer una copia del data frame `df_anemia` en `df_anemia_nan`"
   ]
  },
  {
   "cell_type": "code",
   "execution_count": 54,
   "metadata": {
    "colab": {
     "base_uri": "https://localhost:8080/"
    },
    "executionInfo": {
     "elapsed": 41,
     "status": "ok",
     "timestamp": 1757310558379,
     "user": {
      "displayName": "Víctor Raúl Rojas Pozo",
      "userId": "02698158754403458224"
     },
     "user_tz": 300
    },
    "id": "EHn0ACajwvco",
    "outputId": "96e704fe-5539-4435-af62-0b713068970a"
   },
   "outputs": [
    {
     "name": "stdout",
     "output_type": "stream",
     "text": [
      "       Sexo  id_persona  Edad Tipo_edad  id_ubigeo  Fecha_atencion    Etapa  \\\n",
      "0         F    41031388    20         A        NaN        20230208  18a-29a   \n",
      "1         F    40489600     2         A     1128.0        20230107  00a-11a   \n",
      "2         M    40315865     1         A        NaN        20230207  00a-11a   \n",
      "3         F    38917347    19         D     1460.0        20210511  00a-11a   \n",
      "4         M    40507941     3         A     1668.0        20230224  00a-11a   \n",
      "...     ...         ...   ...       ...        ...             ...      ...   \n",
      "248888    M     9206744     6         A     1631.0        20230119  00a-11a   \n",
      "248889    M    25824229     4         A      163.0        20210528  00a-11a   \n",
      "248890    F    19472530     6         A     1161.0        20230107  00a-11a   \n",
      "248891    F    33840534     4         A      242.0        20210412  00a-11a   \n",
      "248892    F    19486739    84         A     1703.0        20230525     60a+   \n",
      "\n",
      "        Diagnostico Tipo_Dx  Lab  id_eess  \n",
      "0          99199.17       D  SF3     5942  \n",
      "1          99199.17       D  SF3     6856  \n",
      "2          99199.17       D  SF1    27109  \n",
      "3          99199.17       D  SF1       16  \n",
      "4          99199.17       D   TA     2978  \n",
      "...             ...     ...  ...      ...  \n",
      "248888     99199.17       D  SF2     3263  \n",
      "248889     99199.17       D  SF1     1819  \n",
      "248890     99199.17       D  SF2     5217  \n",
      "248891     99199.17       D  SF1     1812  \n",
      "248892     99199.17       D  SF1     3161  \n",
      "\n",
      "[248893 rows x 11 columns]\n"
     ]
    }
   ],
   "source": [
    "df_anemia_nan = df_anemia.copy()\n",
    "print(df_anemia_nan)"
   ]
  },
  {
   "cell_type": "markdown",
   "metadata": {
    "id": "ZuY1-CEo6HGY"
   },
   "source": [
    "Eliminar datos `nan` y `null` empleando el método drop de un data frame"
   ]
  },
  {
   "cell_type": "code",
   "execution_count": 55,
   "metadata": {
    "colab": {
     "base_uri": "https://localhost:8080/"
    },
    "executionInfo": {
     "elapsed": 107,
     "status": "ok",
     "timestamp": 1757310601160,
     "user": {
      "displayName": "Víctor Raúl Rojas Pozo",
      "userId": "02698158754403458224"
     },
     "user_tz": 300
    },
    "id": "UgaSA-C73zki",
    "outputId": "0bb30ac7-5ff9-41fe-ee47-e5717993d24f"
   },
   "outputs": [
    {
     "name": "stdout",
     "output_type": "stream",
     "text": [
      "       Sexo  id_persona  Edad Tipo_edad  id_ubigeo  Fecha_atencion    Etapa  \\\n",
      "1         F    40489600     2         A     1128.0        20230107  00a-11a   \n",
      "3         F    38917347    19         D     1460.0        20210511  00a-11a   \n",
      "4         M    40507941     3         A     1668.0        20230224  00a-11a   \n",
      "9         M    38878621     1         A      653.0        20210630  00a-11a   \n",
      "25        M    39373911     2         A     1517.0        20230124  00a-11a   \n",
      "...     ...         ...   ...       ...        ...             ...      ...   \n",
      "248888    M     9206744     6         A     1631.0        20230119  00a-11a   \n",
      "248889    M    25824229     4         A      163.0        20210528  00a-11a   \n",
      "248890    F    19472530     6         A     1161.0        20230107  00a-11a   \n",
      "248891    F    33840534     4         A      242.0        20210412  00a-11a   \n",
      "248892    F    19486739    84         A     1703.0        20230525     60a+   \n",
      "\n",
      "        Diagnostico Tipo_Dx  Lab  id_eess  \n",
      "1          99199.17       D  SF3     6856  \n",
      "3          99199.17       D  SF1       16  \n",
      "4          99199.17       D   TA     2978  \n",
      "9          99199.17       D   TA     4297  \n",
      "25         99199.17       D  SF1     2823  \n",
      "...             ...     ...  ...      ...  \n",
      "248888     99199.17       D  SF2     3263  \n",
      "248889     99199.17       D  SF1     1819  \n",
      "248890     99199.17       D  SF2     5217  \n",
      "248891     99199.17       D  SF1     1812  \n",
      "248892     99199.17       D  SF1     3161  \n",
      "\n",
      "[243110 rows x 11 columns]\n"
     ]
    }
   ],
   "source": [
    "df_anemia_dropnan = df_anemia_nan.dropna()\n",
    "print(df_anemia_dropnan)"
   ]
  },
  {
   "cell_type": "code",
   "execution_count": 56,
   "metadata": {
    "colab": {
     "base_uri": "https://localhost:8080/"
    },
    "executionInfo": {
     "elapsed": 139,
     "status": "ok",
     "timestamp": 1757310626390,
     "user": {
      "displayName": "Víctor Raúl Rojas Pozo",
      "userId": "02698158754403458224"
     },
     "user_tz": 300
    },
    "id": "bDA-UryK3-zo",
    "outputId": "31b7c6a4-c4be-44f8-a404-252c32e2d615"
   },
   "outputs": [
    {
     "name": "stdout",
     "output_type": "stream",
     "text": [
      "DataFrame original:\n",
      "\n",
      "Valores NaN por columna:\n",
      "Sexo              0\n",
      "id_persona        0\n",
      "Edad              0\n",
      "Tipo_edad         0\n",
      "id_ubigeo         0\n",
      "Fecha_atencion    0\n",
      "Etapa             0\n",
      "Diagnostico       0\n",
      "Tipo_Dx           0\n",
      "Lab               0\n",
      "id_eess           0\n",
      "dtype: int64\n",
      "\n",
      "Total de valores NaN en el DataFrame: 0\n"
     ]
    }
   ],
   "source": [
    "encontrar_nan(df_anemia_dropnan)"
   ]
  },
  {
   "cell_type": "markdown",
   "metadata": {
    "id": "soydKrE0mpsQ"
   },
   "source": [
    "# **IV. Referencias**\n",
    "\n",
    "**Libros y manuales**\n",
    "\n",
    "- Libro de estadisitica con python\n",
    "\n",
    "  https://www.editorial-sciela.org/index.php/sciela/article/view/16/49\n",
    "\n",
    "- Introducción a la teoria de probabilidades\n",
    "\n",
    "  https://ciladi.org/wp-content/uploads/Version_final_Introduccion-Probabilidad-Python-vf_Bayas-3.pdf\n",
    "\n",
    "- Guía practica de análsis exploratorio de python\n",
    "\n",
    "  https://datos.gob.es/sites/default/files/doc/file/guia_eda_python.pdf\n",
    "\n",
    "\n",
    "**Cursos en linea**\n",
    "\n",
    "- Estadística W3School:\n",
    "\n",
    "  https://www.w3schools.com/statistics/index.php\n",
    "\n",
    "- Estadística con python:\n",
    "\n",
    "  https://docs.python.org/es/3/library/statistics.html\n",
    "\n",
    "- Kaggle:\n",
    "\n",
    "  https://www.kaggle.com/code/saurav9786/statistics-for-data-scientists\n",
    "\n",
    "**Aplicaciones IA**\n",
    "\n",
    "- Gemini iA\n",
    "\n",
    "  https://gemini.google.com\n",
    "\n",
    "- DeepSeek\n",
    "\n",
    "  https://www.deepseek.com/\n",
    "\n",
    "- Chat GPT\n",
    "\n",
    "  https://chatgpt.com/\n",
    "\n",
    "- Claude IA\n",
    "\n",
    "  https://claude.ai/\n",
    "\n",
    "- Julius IA:\n",
    "\n",
    "  https://julius.ai\n",
    "\n"
   ]
  },
  {
   "cell_type": "markdown",
   "metadata": {
    "id": "lZTFSnY50qDa"
   },
   "source": []
  }
 ],
 "metadata": {
  "colab": {
   "provenance": [],
   "toc_visible": true
  },
  "kernelspec": {
   "display_name": "Python 3",
   "name": "python3"
  },
  "language_info": {
   "codemirror_mode": {
    "name": "ipython",
    "version": 3
   },
   "file_extension": ".py",
   "mimetype": "text/x-python",
   "name": "python",
   "nbconvert_exporter": "python",
   "pygments_lexer": "ipython3",
   "version": "3.13.5"
  }
 },
 "nbformat": 4,
 "nbformat_minor": 0
}