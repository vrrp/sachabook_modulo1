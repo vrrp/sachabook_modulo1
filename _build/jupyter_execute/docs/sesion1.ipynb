{
 "cells": [
  {
   "cell_type": "markdown",
   "metadata": {
    "id": "aF6cju-OqrtS"
   },
   "source": [
    "# **Programación Básica con Python**"
   ]
  },
  {
   "cell_type": "markdown",
   "metadata": {
    "id": "CUBz2hqKAPmI"
   },
   "source": [
    "# **I. Conceptos básicos de programación**"
   ]
  },
  {
   "cell_type": "markdown",
   "metadata": {
    "id": "GRr6VtxMzbZM"
   },
   "source": [
    "Los conceptos básicos de programación son los fundamentos esenciales que permiten entender y escribir código en cualquier lenguaje de programación. Estos conceptos son la base para desarrollar software y resolver problemas mediante la creación de instrucciones que una computadora puede ejecutar. A continuación, se definen y describen los principales conceptos básicos de programación:"
   ]
  },
  {
   "cell_type": "markdown",
   "metadata": {
    "id": "mB3WDxVwkysc"
   },
   "source": [
    "## 1.1. Tipos de datos"
   ]
  },
  {
   "cell_type": "markdown",
   "metadata": {
    "id": "t4dSPCNStrMU"
   },
   "source": [
    "- **Definición**: Los tipos de datos especifican qué tipo de valor puede almacenar una variable, como números enteros, decimales, cadenas de texto o valores booleanos (verdadero/falso).\n",
    "\n",
    "- **Descripción**: Los tipos de datos determinan las operaciones que se pueden realizar con una variable. Por ejemplo, no puedes sumar directamente un número y una palabra.\n",
    "\n",
    "- **Ejemplo**:\n",
    "- Entero (`int`): `42`\n",
    "- Flotante (`float`): `3.14`\n",
    "- Cadena (`string`): `\"Hola\"`\n",
    "- Booleano (`bool`): `True` o `False`\n",
    "- Especial (`NoneType`): `None`\n",
    "\n"
   ]
  },
  {
   "cell_type": "code",
   "execution_count": 1,
   "metadata": {
    "colab": {
     "base_uri": "https://localhost:8080/"
    },
    "executionInfo": {
     "elapsed": 32,
     "status": "ok",
     "timestamp": 1756508078390,
     "user": {
      "displayName": "Víctor Raúl Rojas Pozo",
      "userId": "02698158754403458224"
     },
     "user_tz": 300
    },
    "id": "UIsCEIlIgbdk",
    "outputId": "b9ad6eb7-a0ca-4ee2-c390-64c9174c82e4"
   },
   "outputs": [
    {
     "name": "stdout",
     "output_type": "stream",
     "text": [
      "<class 'int'>\n",
      "25\n"
     ]
    }
   ],
   "source": [
    "dato_int = 25\n",
    "dato_float= 20.000001\n",
    "\n",
    "print(type(dato_int))\n",
    "print(dato_int)"
   ]
  },
  {
   "cell_type": "markdown",
   "metadata": {
    "id": "4rCfX3zf6z01"
   },
   "source": []
  },
  {
   "cell_type": "code",
   "execution_count": 2,
   "metadata": {
    "colab": {
     "base_uri": "https://localhost:8080/"
    },
    "executionInfo": {
     "elapsed": 27,
     "status": "ok",
     "timestamp": 1756508099384,
     "user": {
      "displayName": "Víctor Raúl Rojas Pozo",
      "userId": "02698158754403458224"
     },
     "user_tz": 300
    },
    "id": "qAPgJG_a6xzp",
    "outputId": "2a103659-0963-4876-ced4-1a1c21f5661f"
   },
   "outputs": [
    {
     "name": "stdout",
     "output_type": "stream",
     "text": [
      "<class 'str'>\n",
      "hola\n"
     ]
    }
   ],
   "source": [
    "dato_str1 = \"hola\"\n",
    "dato_str2 = \"mundo\"\n",
    "dato_str3 = \"2024\"\n",
    "\n",
    "print(type(dato_str1))\n",
    "print(dato_str1)"
   ]
  },
  {
   "cell_type": "markdown",
   "metadata": {
    "id": "tGYV0Ui_69MY"
   },
   "source": []
  },
  {
   "cell_type": "code",
   "execution_count": 3,
   "metadata": {
    "colab": {
     "base_uri": "https://localhost:8080/"
    },
    "executionInfo": {
     "elapsed": 14,
     "status": "ok",
     "timestamp": 1756508109194,
     "user": {
      "displayName": "Víctor Raúl Rojas Pozo",
      "userId": "02698158754403458224"
     },
     "user_tz": 300
    },
    "id": "H-spLSVi69WD",
    "outputId": "991577b2-a1fe-429d-a6b2-4ab34040bd17"
   },
   "outputs": [
    {
     "name": "stdout",
     "output_type": "stream",
     "text": [
      "<class 'bool'>\n",
      "True\n"
     ]
    }
   ],
   "source": [
    "dato_bool1 = True\n",
    "dato_bool2 = False\n",
    "\n",
    "print(type(dato_bool1))\n",
    "print(dato_bool1)\n"
   ]
  },
  {
   "cell_type": "markdown",
   "metadata": {
    "id": "uc-hX3vI7GRK"
   },
   "source": [
    "En Python, `None` es un tipo de dato especial que representa la ausencia de un valor o un valor nulo. No es lo mismo que 0, una cadena vacía (`\"\"`), o `False`."
   ]
  },
  {
   "cell_type": "markdown",
   "metadata": {
    "id": "ZZhfv1GxBbAN"
   },
   "source": [
    "# Nueva sección"
   ]
  },
  {
   "cell_type": "code",
   "execution_count": 4,
   "metadata": {
    "colab": {
     "base_uri": "https://localhost:8080/"
    },
    "executionInfo": {
     "elapsed": 15,
     "status": "ok",
     "timestamp": 1756508117901,
     "user": {
      "displayName": "Víctor Raúl Rojas Pozo",
      "userId": "02698158754403458224"
     },
     "user_tz": 300
    },
    "id": "Nmu3rRDu7GZG",
    "outputId": "b53d9e4d-32f6-4060-ea38-2bb8076760bd"
   },
   "outputs": [
    {
     "name": "stdout",
     "output_type": "stream",
     "text": [
      "None\n",
      "<class 'NoneType'>\n"
     ]
    }
   ],
   "source": [
    "data_none= None\n",
    "\n",
    "print(data_none)\n",
    "print(type(data_none))"
   ]
  },
  {
   "cell_type": "markdown",
   "metadata": {
    "id": "AEbfwTi24CVY"
   },
   "source": [
    "## 1.2. Variables"
   ]
  },
  {
   "cell_type": "markdown",
   "metadata": {
    "id": "-zRN63ZZ5yV4"
   },
   "source": [
    "- **Definición**: Una variable es un espacio en la memoria de la computadora que almacena un valor, el cual puede cambiar durante la ejecución de un programa.\n",
    "\n",
    "- **Descripción**: Las variables tienen un nombre y un tipo de dato (como números, texto o booleanos). Actúan como contenedores para guardar información que el programa usará o modificará.\n",
    "\n",
    "- **Ejemplo**: En Python, `edad = 25` define una variable llamada `edad` con el valor 25."
   ]
  },
  {
   "cell_type": "code",
   "execution_count": 5,
   "metadata": {
    "colab": {
     "base_uri": "https://localhost:8080/"
    },
    "executionInfo": {
     "elapsed": 23,
     "status": "ok",
     "timestamp": 1754674071223,
     "user": {
      "displayName": "Víctor Raúl Rojas Pozo",
      "userId": "02698158754403458224"
     },
     "user_tz": 300
    },
    "id": "_ZHcpO49ghIV",
    "outputId": "2457e3a2-ce43-4c2e-fe5f-7bae1e7eff68"
   },
   "outputs": [],
   "source": [
    "# Datos y variables numericas\n",
    "#-----------------------------\n"
   ]
  },
  {
   "cell_type": "markdown",
   "metadata": {
    "id": "l2BtGorVeBy5"
   },
   "source": [
    "## 1.2. Operadores matemáticos"
   ]
  },
  {
   "cell_type": "code",
   "execution_count": 6,
   "metadata": {
    "colab": {
     "base_uri": "https://localhost:8080/"
    },
    "executionInfo": {
     "elapsed": 28,
     "status": "ok",
     "timestamp": 1756508198938,
     "user": {
      "displayName": "Víctor Raúl Rojas Pozo",
      "userId": "02698158754403458224"
     },
     "user_tz": 300
    },
    "id": "Rs-wkNHggoys",
    "outputId": "431cd7dd-ea01-4a15-bb6c-0c542f50f37b"
   },
   "outputs": [
    {
     "name": "stdout",
     "output_type": "stream",
     "text": [
      "suma = 45.000001\n",
      "<class 'float'>\n",
      "exponente =  25\n",
      "cociente = 1.8\n",
      "cociente_entero = 1\n",
      "residuo = 4\n"
     ]
    }
   ],
   "source": [
    "# suma\n",
    "suma = dato_int + dato_float\n",
    "\n",
    "# exponencial\n",
    "exponente = 5**2\n",
    "\n",
    "# division\n",
    "cociente = 9/5\n",
    "cociente_entero = 9//5\n",
    "residuo = 9%5\n",
    "\n",
    "print(\"suma =\",suma)\n",
    "print(type(suma))\n",
    "print(\"exponente = \",exponente)\n",
    "print(\"cociente =\", cociente)\n",
    "print(\"cociente_entero =\", cociente_entero)\n",
    "print(\"residuo =\",residuo)"
   ]
  },
  {
   "cell_type": "markdown",
   "metadata": {
    "id": "wP734_5vw62H"
   },
   "source": [
    "## 1.3. Importar paquetes o librerías en Python"
   ]
  },
  {
   "cell_type": "markdown",
   "metadata": {
    "id": "bkPfUbC42jFm"
   },
   "source": [
    "En Python, un paquete o librería (los términos a menudo se usan indistintamente, aunque \"paquete\" tiene una estructura más específica) es una colección organizada de módulos.\n",
    "\n",
    "```\n",
    "paquete:\n",
    "        aplicacion_01\n",
    "        aplicacion_02\n",
    "        . . . . . . .\n",
    "        aplicacion_n\n",
    "```\n",
    "\n",
    "Formas de importar un paquete y sus aplicaciones\n",
    "\n",
    "**Primera forma**\n",
    "```\n",
    "import paquete as pp\n",
    "\n",
    "var = paquete.aplicacion_01(arg)\n",
    "```\n",
    "\n",
    "**Segunda forma**\n",
    "```\n",
    "import paquete as pp\n",
    "\n",
    "var = pp.aplicacion_01(arg)\n",
    "```\n",
    "\n",
    "**Tercera forma**\n",
    "```\n",
    "from paquete import (aplicacion_01, aplicacion_04)\n",
    "\n",
    "var_01 = aplicacion_01(arg)\n",
    "var_02 = aplicacion_04(arg)\n",
    "```"
   ]
  },
  {
   "cell_type": "code",
   "execution_count": 7,
   "metadata": {
    "colab": {
     "base_uri": "https://localhost:8080/"
    },
    "executionInfo": {
     "elapsed": 24,
     "status": "ok",
     "timestamp": 1754675172103,
     "user": {
      "displayName": "Víctor Raúl Rojas Pozo",
      "userId": "02698158754403458224"
     },
     "user_tz": 300
    },
    "id": "Z1ub1j7NhJb2",
    "outputId": "c86bb750-d13d-45c4-f1d8-84b5970ef825"
   },
   "outputs": [
    {
     "ename": "NameError",
     "evalue": "name 'pi' is not defined",
     "output_type": "error",
     "traceback": [
      "\u001b[31m---------------------------------------------------------------------------\u001b[39m",
      "\u001b[31mNameError\u001b[39m                                 Traceback (most recent call last)",
      "\u001b[36mCell\u001b[39m\u001b[36m \u001b[39m\u001b[32mIn[7]\u001b[39m\u001b[32m, line 6\u001b[39m\n\u001b[32m      4\u001b[39m pi_math = math.pi\n\u001b[32m      5\u001b[39m pi_np = np.pi\n\u001b[32m----> \u001b[39m\u001b[32m6\u001b[39m \u001b[38;5;28mprint\u001b[39m(\u001b[43mpi\u001b[49m)\n\u001b[32m      7\u001b[39m \u001b[38;5;28mprint\u001b[39m(pi_np)\n\u001b[32m      9\u001b[39m n_euler_math = math.e\n",
      "\u001b[31mNameError\u001b[39m: name 'pi' is not defined"
     ]
    }
   ],
   "source": [
    "import math\n",
    "import numpy as np\n",
    "\n",
    "pi_math = math.pi\n",
    "pi_np = np.pi\n",
    "print(pi)\n",
    "print(pi_np)\n",
    "\n",
    "n_euler_math = math.e\n",
    "n_euler_np = np.e\n",
    "print(n_euler_math)\n",
    "print(n_euler_np)"
   ]
  },
  {
   "cell_type": "markdown",
   "metadata": {
    "id": "Yy8UfA4DBHRK"
   },
   "source": [
    "## 1.4. Funciones algebraicas"
   ]
  },
  {
   "cell_type": "markdown",
   "metadata": {
    "id": "Xav56FXZETpG"
   },
   "source": [
    "**Exponencial**\n",
    "\n",
    "$ y = b^{a}$"
   ]
  },
  {
   "cell_type": "code",
   "execution_count": null,
   "metadata": {
    "id": "_nexlWVTET2J"
   },
   "outputs": [],
   "source": [
    "y1 = n_euler**n_euler\n",
    "print(y1)"
   ]
  },
  {
   "cell_type": "markdown",
   "metadata": {
    "id": "RZtdvnjKE7ZK"
   },
   "source": [
    "**Valor absoluto**\n",
    "\n",
    "si: $a<0, y = |a| = (-1) \\times a$\n",
    "\n",
    "si: $a>0, y = |a| = a$"
   ]
  },
  {
   "cell_type": "code",
   "execution_count": null,
   "metadata": {
    "id": "QpI6EKXnE7nX"
   },
   "outputs": [],
   "source": [
    "# funcion valor absoluto\n",
    "y2 = np.abs(-1*num_int)\n",
    "print(y2)"
   ]
  },
  {
   "cell_type": "markdown",
   "metadata": {
    "id": "GnO__b5bFuUq"
   },
   "source": [
    "**Raíz cuadrada**\n",
    "\n",
    "$y = \\sqrt{b} = b^{\\frac{1}{2}}$"
   ]
  },
  {
   "cell_type": "code",
   "execution_count": null,
   "metadata": {
    "id": "Rk1RlquPFuga"
   },
   "outputs": [],
   "source": [
    "#funcion raiz cuadrada\n",
    "y3 = np.sqrt(num_int)\n",
    "print(y3)"
   ]
  },
  {
   "cell_type": "markdown",
   "metadata": {
    "id": "VGTKdjsyGadG"
   },
   "source": [
    "**Raiz general**\n",
    "\n",
    "$\\sqrt[n]{b^m}= b\\frac{m}{n}$"
   ]
  },
  {
   "cell_type": "code",
   "execution_count": null,
   "metadata": {
    "id": "WWjWS8rpGam-"
   },
   "outputs": [],
   "source": [
    "y4 = 125**(1/3)\n",
    "print(y4)"
   ]
  },
  {
   "cell_type": "markdown",
   "metadata": {
    "id": "B470V5e_HgNt"
   },
   "source": [
    "**Logaritmo**\n",
    "\n",
    "$y = log_{b}x $\n",
    "\n",
    "$x = b^y$"
   ]
  },
  {
   "cell_type": "code",
   "execution_count": null,
   "metadata": {
    "colab": {
     "base_uri": "https://localhost:8080/"
    },
    "executionInfo": {
     "elapsed": 17,
     "status": "ok",
     "timestamp": 1754681273485,
     "user": {
      "displayName": "Víctor Raúl Rojas Pozo",
      "userId": "02698158754403458224"
     },
     "user_tz": 300
    },
    "id": "8WLUCF5phBaA",
    "outputId": "b5a256f9-2d50-4741-86dd-9999caca8f71"
   },
   "outputs": [
    {
     "name": "stdout",
     "output_type": "stream",
     "text": [
      "1.0\n",
      "1.0\n",
      "1.0\n"
     ]
    }
   ],
   "source": [
    "# funcion logaritmo de 10 en base 10\n",
    "y5 = np.log10(10)\n",
    "print(y5)\n",
    "\n",
    "# funcion logaritmo de 2 en base 2\n",
    "y6 = np.log2(2)\n",
    "print(y6)\n",
    "\n",
    "# funcion logaritmo de e en base e\n",
    "y7 = np.log(n_euler)\n",
    "print(y7)"
   ]
  },
  {
   "cell_type": "markdown",
   "metadata": {
    "id": "sre1z5_3eRLu"
   },
   "source": [
    "## 1.5. Operadores de comparación"
   ]
  },
  {
   "cell_type": "code",
   "execution_count": null,
   "metadata": {
    "colab": {
     "base_uri": "https://localhost:8080/"
    },
    "executionInfo": {
     "elapsed": 4,
     "status": "ok",
     "timestamp": 1741839374248,
     "user": {
      "displayName": "Víctor Raúl Rojas Pozo",
      "userId": "02698158754403458224"
     },
     "user_tz": 300
    },
    "id": "T87u0UAkgt_9",
    "outputId": "708ae81a-e2f1-4cef-e614-3589c35e6288"
   },
   "outputs": [
    {
     "name": "stdout",
     "output_type": "stream",
     "text": [
      "<class 'bool'> False\n",
      "<class 'bool'> True\n",
      "<class 'bool'> True\n",
      "<class 'bool'> False\n",
      "<class 'bool'> True\n",
      "<class 'bool'> False\n"
     ]
    }
   ],
   "source": [
    "# operadores relacionales\n",
    "# comparacion (==)\n",
    "comp01 = num_int == num_float\n",
    "\n",
    "# diferente (!=)\n",
    "comp02 = num_int != num_float\n",
    "\n",
    "# mayor que  (>)\n",
    "comp03 = num_int > num_float\n",
    "\n",
    "# menor que  (<)\n",
    "comp04 = num_int < num_float\n",
    "\n",
    "# mayor o igual que  (>=)\n",
    "comp05 = num_int >= num_float\n",
    "\n",
    "# menor o igual que  (<=)\n",
    "comp06 = num_int <= num_float\n",
    "\n",
    "print(type(comp01), comp01)\n",
    "print(type(comp02), comp02)\n",
    "print(type(comp03), comp03)\n",
    "print(type(comp04), comp04)\n",
    "print(type(comp05), comp05)\n",
    "print(type(comp06), comp06)"
   ]
  },
  {
   "cell_type": "markdown",
   "metadata": {
    "id": "MgDuU21Uebv3"
   },
   "source": [
    "## 1.6. Estrucuturas de Control I: `if`, `else` y `elif`"
   ]
  },
  {
   "cell_type": "markdown",
   "metadata": {
    "id": "Gy61WbFOD3D7"
   },
   "source": [
    "- **Definición**: Son instrucciones que controlan el flujo de ejecución de un programa, permitiendo tomar decisiones o repetir acciones.\n",
    "\n",
    "- **Descripción**: Se dividen en:\n",
    "  - **Condicionales**: Permiten ejecutar código solo si se cumple una condición (por ejemplo, `if`, `else`).\n"
   ]
  },
  {
   "cell_type": "code",
   "execution_count": null,
   "metadata": {
    "colab": {
     "base_uri": "https://localhost:8080/"
    },
    "executionInfo": {
     "elapsed": 4,
     "status": "ok",
     "timestamp": 1741839374253,
     "user": {
      "displayName": "Víctor Raúl Rojas Pozo",
      "userId": "02698158754403458224"
     },
     "user_tz": 300
    },
    "id": "Rwi9Vu8Jhdpn",
    "outputId": "d40cfca8-cd4f-43cc-cb78-0d414ccf26dd"
   },
   "outputs": [
    {
     "name": "stdout",
     "output_type": "stream",
     "text": [
      "var es valor entero\n",
      "segunda accion de if\n"
     ]
    }
   ],
   "source": [
    "# condicionales: if, elif, else\n",
    "var = 23\n",
    "\n",
    "if type(var)==int:\n",
    "  print(\"var es valor entero\")\n",
    "  print(\"segunda accion de if\")\n",
    "else:\n",
    "  print(\"var no es un numero entero\")"
   ]
  },
  {
   "cell_type": "code",
   "execution_count": null,
   "metadata": {
    "colab": {
     "base_uri": "https://localhost:8080/"
    },
    "executionInfo": {
     "elapsed": 34,
     "status": "ok",
     "timestamp": 1741839374288,
     "user": {
      "displayName": "Víctor Raúl Rojas Pozo",
      "userId": "02698158754403458224"
     },
     "user_tz": 300
    },
    "id": "eBWy8gcrhlDi",
    "outputId": "a604f3bb-7466-4c5a-9730-ec03d64dd3bb"
   },
   "outputs": [
    {
     "name": "stdout",
     "output_type": "stream",
     "text": [
      "(3) 7 == 7 True\n"
     ]
    }
   ],
   "source": [
    "# condicionales: if, elif, else\n",
    "a = 7\n",
    "b = 7\n",
    "\n",
    "if a > b:\n",
    "    print(\"(1)\", a,\">\",b ,a > b)\n",
    "\n",
    "elif a < b:\n",
    "    print(\"(2)\", a,\"<\",b ,a < b)\n",
    "\n",
    "elif a == b:\n",
    "    print(\"(3)\", a,\"==\",b ,a == b)"
   ]
  },
  {
   "cell_type": "markdown",
   "metadata": {
    "id": "NnfLSuLUe1Gn"
   },
   "source": [
    "## 1.7. Funciones: Parte I"
   ]
  },
  {
   "cell_type": "code",
   "execution_count": null,
   "metadata": {
    "id": "tmrVYVakhvNa"
   },
   "outputs": [],
   "source": [
    "def area_cuadrado(lado):\n",
    "  area = lado**2\n",
    "  return area"
   ]
  },
  {
   "cell_type": "code",
   "execution_count": null,
   "metadata": {
    "colab": {
     "base_uri": "https://localhost:8080/"
    },
    "executionInfo": {
     "elapsed": 20,
     "status": "ok",
     "timestamp": 1741839374307,
     "user": {
      "displayName": "Víctor Raúl Rojas Pozo",
      "userId": "02698158754403458224"
     },
     "user_tz": 300
    },
    "id": "J8r4mgz31cH8",
    "outputId": "f23bf898-fcc8-407e-bdb1-007ef4ca5b33"
   },
   "outputs": [
    {
     "name": "stdout",
     "output_type": "stream",
     "text": [
      "16\n"
     ]
    }
   ],
   "source": [
    "ac1 = area_cuadrado(4)\n",
    "print(ac1)"
   ]
  },
  {
   "cell_type": "code",
   "execution_count": null,
   "metadata": {
    "id": "Kr4PZNR0h3VW"
   },
   "outputs": [],
   "source": [
    "def convert_temp(data, tipo):\n",
    "  if tipo==\"K\":\n",
    "    temp = data + 273.15\n",
    "    print(temp)\n",
    "  elif tipo==\"F\":\n",
    "    temp = (data) * 9/5 + 32\n",
    "    print(temp)"
   ]
  },
  {
   "cell_type": "code",
   "execution_count": null,
   "metadata": {
    "colab": {
     "base_uri": "https://localhost:8080/"
    },
    "executionInfo": {
     "elapsed": 35,
     "status": "ok",
     "timestamp": 1741839374345,
     "user": {
      "displayName": "Víctor Raúl Rojas Pozo",
      "userId": "02698158754403458224"
     },
     "user_tz": 300
    },
    "id": "Y3_tOBH1h63y",
    "outputId": "407fbda5-b5f3-48b9-b8e4-147c7e0f1c42"
   },
   "outputs": [
    {
     "name": "stdout",
     "output_type": "stream",
     "text": [
      "212.0\n",
      "50.0\n",
      "373.15\n"
     ]
    }
   ],
   "source": [
    "convert_temp(100, \"F\")\n",
    "convert_temp(10, \"F\")\n",
    "convert_temp(100, \"K\")"
   ]
  },
  {
   "cell_type": "markdown",
   "metadata": {
    "id": "QBDDGo6Zcokb"
   },
   "source": [
    "# **II. Estructura de datos**"
   ]
  },
  {
   "cell_type": "markdown",
   "metadata": {
    "id": "IL9t0pqGiGXp"
   },
   "source": [
    "## 2.1. Cadenas"
   ]
  },
  {
   "cell_type": "code",
   "execution_count": null,
   "metadata": {
    "colab": {
     "base_uri": "https://localhost:8080/"
    },
    "executionInfo": {
     "elapsed": 23,
     "status": "ok",
     "timestamp": 1754685401495,
     "user": {
      "displayName": "Víctor Raúl Rojas Pozo",
      "userId": "02698158754403458224"
     },
     "user_tz": 300
    },
    "id": "mMBHEIG-sR44",
    "outputId": "c41368c7-2401-480f-90e0-c99676713715"
   },
   "outputs": [
    {
     "name": "stdout",
     "output_type": "stream",
     "text": [
      "las estaciones del año son: verano, otoño, invierno y primavera\n",
      "63\n",
      " estaciones\n",
      "<class 'str'>\n"
     ]
    }
   ],
   "source": [
    "# Estructuras tipo cadena de caracteres\n",
    "var_cadena = \"las estaciones del año son: verano, otoño, invierno y primavera\"\n",
    "\n",
    "print(var_cadena)\n",
    "print(len(var_cadena))\n",
    "\n",
    "print(var_cadena[3:14])\n",
    "print(type(var_cadena))"
   ]
  },
  {
   "cell_type": "code",
   "execution_count": null,
   "metadata": {
    "colab": {
     "base_uri": "https://localhost:8080/"
    },
    "executionInfo": {
     "elapsed": 9,
     "status": "ok",
     "timestamp": 1741839374364,
     "user": {
      "displayName": "Víctor Raúl Rojas Pozo",
      "userId": "02698158754403458224"
     },
     "user_tz": 300
    },
    "id": "KUrTh14d6Vhf",
    "outputId": "a4abf2c7-e469-4538-e35d-90c437702a96"
   },
   "outputs": [
    {
     "name": "stdout",
     "output_type": "stream",
     "text": [
      "algunos departamentos de Perú son: Lima, Ica, Arequipa y Tacna\n",
      "62\n",
      "Lima\n",
      "<class 'str'>\n"
     ]
    }
   ],
   "source": [
    "departamentos_peru = \"algunos departamentos de Perú son: Lima, Ica, Arequipa y Tacna\"\n",
    "\n",
    "print(departamentos_peru)\n",
    "print(len(departamentos_peru))\n",
    "print(departamentos_peru[35:39])\n",
    "print(type(departamentos_peru))\n"
   ]
  },
  {
   "cell_type": "code",
   "execution_count": null,
   "metadata": {
    "colab": {
     "base_uri": "https://localhost:8080/"
    },
    "executionInfo": {
     "elapsed": 5,
     "status": "ok",
     "timestamp": 1741839374365,
     "user": {
      "displayName": "Víctor Raúl Rojas Pozo",
      "userId": "02698158754403458224"
     },
     "user_tz": 300
    },
    "id": "n5IHBFQH8zWy",
    "outputId": "6fb9a07c-7017-44ba-9b82-019bdb087af1"
   },
   "outputs": [
    {
     "name": "stdout",
     "output_type": "stream",
     "text": [
      "['algunos', 'departamentos', 'de', 'Perú', 'son:', 'Lima,', 'Ica,', 'Arequipa', 'y', 'Tacna']\n",
      "<class 'list'>\n"
     ]
    }
   ],
   "source": [
    "separar_frase = departamentos_peru.split()\n",
    "\n",
    "print(separar_frase)\n",
    "print(type(separar_frase))"
   ]
  },
  {
   "cell_type": "markdown",
   "metadata": {
    "id": "WWIUrs0NiN_g"
   },
   "source": [
    "## 2.2. Listas"
   ]
  },
  {
   "cell_type": "code",
   "execution_count": null,
   "metadata": {
    "colab": {
     "base_uri": "https://localhost:8080/"
    },
    "executionInfo": {
     "elapsed": 36,
     "status": "ok",
     "timestamp": 1754685982834,
     "user": {
      "displayName": "Víctor Raúl Rojas Pozo",
      "userId": "02698158754403458224"
     },
     "user_tz": 300
    },
    "id": "VTi4J4S8sai7",
    "outputId": "4d833918-06c4-4a6c-fe93-71a4652d2335"
   },
   "outputs": [
    {
     "name": "stdout",
     "output_type": "stream",
     "text": [
      "['hola', 2024, 'mundo', 2024.5]\n",
      "4\n",
      "hola\n",
      "['hola', 2024, 'mundo', 'Peru 2025']\n",
      "<class 'int'>\n"
     ]
    }
   ],
   "source": [
    "# listas\n",
    "var_lista01 = [\"hola\", 2024, \"mundo\", 2024.5]\n",
    "\n",
    "print(var_lista01)\n",
    "print(len(var_lista01))\n",
    "print(var_lista01[0])\n",
    "\n",
    "var_lista01[3]= \"Peru 2025\"\n",
    "print(var_lista01)\n",
    "\n",
    "print(type(var_lista01[1]))"
   ]
  },
  {
   "cell_type": "code",
   "execution_count": null,
   "metadata": {
    "id": "NizPnfLPUjQu"
   },
   "outputs": [],
   "source": [
    "lista_02 = [12,3,3,2]\n",
    "\n",
    "lista_03 = [1,2,3,4]"
   ]
  },
  {
   "cell_type": "code",
   "execution_count": null,
   "metadata": {
    "colab": {
     "base_uri": "https://localhost:8080/"
    },
    "executionInfo": {
     "elapsed": 22,
     "status": "ok",
     "timestamp": 1754684175854,
     "user": {
      "displayName": "Víctor Raúl Rojas Pozo",
      "userId": "02698158754403458224"
     },
     "user_tz": 300
    },
    "id": "uxBHNK6fU0Pb",
    "outputId": "7eff7f04-36a1-4557-968c-1e118ca1c87c"
   },
   "outputs": [
    {
     "name": "stdout",
     "output_type": "stream",
     "text": [
      "[12, 3, 3, 2, 1, 2, 3, 4]\n"
     ]
    }
   ],
   "source": [
    "suma_lista23 = lista_02 + lista_03\n",
    "print(suma_lista23)"
   ]
  },
  {
   "cell_type": "code",
   "execution_count": null,
   "metadata": {
    "colab": {
     "base_uri": "https://localhost:8080/"
    },
    "executionInfo": {
     "elapsed": 24,
     "status": "ok",
     "timestamp": 1754684515317,
     "user": {
      "displayName": "Víctor Raúl Rojas Pozo",
      "userId": "02698158754403458224"
     },
     "user_tz": 300
    },
    "id": "aCRXt9PpWAaX",
    "outputId": "9a343fc5-f13a-4ffd-c7cd-338046f1e11c"
   },
   "outputs": [
    {
     "name": "stdout",
     "output_type": "stream",
     "text": [
      "[1, 2, 3, 4, 1, 2, 3, 4, 1, 2, 3, 4]\n"
     ]
    }
   ],
   "source": [
    "prod_lista23 = 3* lista_03\n",
    "print(prod_lista23)"
   ]
  },
  {
   "cell_type": "markdown",
   "metadata": {
    "id": "2rcDNJfWiRDN"
   },
   "source": [
    "## 2.3. Array 1D"
   ]
  },
  {
   "cell_type": "code",
   "execution_count": null,
   "metadata": {
    "colab": {
     "base_uri": "https://localhost:8080/"
    },
    "executionInfo": {
     "elapsed": 8,
     "status": "ok",
     "timestamp": 1754684560837,
     "user": {
      "displayName": "Víctor Raúl Rojas Pozo",
      "userId": "02698158754403458224"
     },
     "user_tz": 300
    },
    "id": "X29sQVzotB-K",
    "outputId": "e96b2454-d5d7-457a-b91a-1430db4c623c"
   },
   "outputs": [
    {
     "name": "stdout",
     "output_type": "stream",
     "text": [
      "[ 1  2  3  4  5  6  7  8  9 10 11 12]\n",
      "<class 'numpy.ndarray'>\n",
      "12\n"
     ]
    }
   ],
   "source": [
    "import numpy as np\n",
    "\n",
    "# array 1D: np.array()\n",
    "array_meses_num = np.array([1,2,3,4,5,6,7,8,9,10,11,12])\n",
    "\n",
    "print(array_meses_num)\n",
    "print(type(array_meses_num))\n",
    "print(len(array_meses_num))"
   ]
  },
  {
   "cell_type": "code",
   "execution_count": null,
   "metadata": {
    "colab": {
     "base_uri": "https://localhost:8080/"
    },
    "executionInfo": {
     "elapsed": 33,
     "status": "ok",
     "timestamp": 1741839374412,
     "user": {
      "displayName": "Víctor Raúl Rojas Pozo",
      "userId": "02698158754403458224"
     },
     "user_tz": 300
    },
    "id": "pAlNpDNktd4p",
    "outputId": "c670a57c-702a-4962-f7ac-44178a9e6ead"
   },
   "outputs": [
    {
     "name": "stdout",
     "output_type": "stream",
     "text": [
      "[-20.  -19.5 -19.  -18.5 -18.  -17.5 -17.  -16.5 -16.  -15.5 -15.  -14.5\n",
      " -14.  -13.5 -13.  -12.5 -12.  -11.5 -11.  -10.5 -10.   -9.5  -9.   -8.5\n",
      "  -8.   -7.5  -7.   -6.5  -6.   -5.5  -5.   -4.5  -4.   -3.5  -3.   -2.5\n",
      "  -2.   -1.5  -1.   -0.5   0.    0.5   1.    1.5   2.    2.5   3.    3.5\n",
      "   4.    4.5   5.    5.5   6.    6.5   7.    7.5   8.    8.5   9.    9.5]\n",
      "60\n"
     ]
    }
   ],
   "source": [
    "# array 1D: np.arange(val_i, num_vals, incremento)\n",
    "array_arange01 = np.arange(-20, 10, 0.5)\n",
    "\n",
    "print(array_arange01)\n",
    "print(len(array_arange01))"
   ]
  },
  {
   "cell_type": "code",
   "execution_count": null,
   "metadata": {
    "colab": {
     "base_uri": "https://localhost:8080/"
    },
    "executionInfo": {
     "elapsed": 29,
     "status": "ok",
     "timestamp": 1741839374413,
     "user": {
      "displayName": "Víctor Raúl Rojas Pozo",
      "userId": "02698158754403458224"
     },
     "user_tz": 300
    },
    "id": "RP4QqQk_tvZ6",
    "outputId": "66f634f7-0243-42de-8e54-2386352d405e"
   },
   "outputs": [
    {
     "name": "stdout",
     "output_type": "stream",
     "text": [
      "[0. 0. 0. 0.]\n",
      "<class 'numpy.ndarray'>\n",
      "4\n",
      "1\n",
      "(4,)\n",
      "2024\n",
      "[   0.    0. 2024.    0.]\n"
     ]
    }
   ],
   "source": [
    "# array 1D: np.zeros()\n",
    "array_zeros01 = np.zeros(4)\n",
    "\n",
    "print(array_zeros01)\n",
    "print(type(array_zeros01))\n",
    "print(len(array_zeros01))\n",
    "print(np.ndim(array_zeros01))\n",
    "print(np.shape(array_zeros01))\n",
    "\n",
    "print(var_lista01[1])\n",
    "array_zeros01[2]= var_lista01[1]\n",
    "print(array_zeros01)"
   ]
  },
  {
   "cell_type": "markdown",
   "metadata": {
    "id": "8ni6TgWLVwgQ"
   },
   "source": [
    "Operaciones con arrays."
   ]
  },
  {
   "cell_type": "code",
   "execution_count": null,
   "metadata": {
    "colab": {
     "base_uri": "https://localhost:8080/"
    },
    "executionInfo": {
     "elapsed": 23,
     "status": "ok",
     "timestamp": 1754684566623,
     "user": {
      "displayName": "Víctor Raúl Rojas Pozo",
      "userId": "02698158754403458224"
     },
     "user_tz": 300
    },
    "id": "1hzJaV-oVwpe",
    "outputId": "d966f2b3-9cc7-406f-8dd7-0d55683d4264"
   },
   "outputs": [
    {
     "name": "stdout",
     "output_type": "stream",
     "text": [
      "[ 2  4  6  8 10 12 14 16 18 20 22 24]\n"
     ]
    }
   ],
   "source": [
    "prod_escalar = 2*array_meses_num\n",
    "print(prod_escalar)"
   ]
  },
  {
   "cell_type": "code",
   "execution_count": null,
   "metadata": {
    "colab": {
     "base_uri": "https://localhost:8080/"
    },
    "executionInfo": {
     "elapsed": 36,
     "status": "ok",
     "timestamp": 1754684707844,
     "user": {
      "displayName": "Víctor Raúl Rojas Pozo",
      "userId": "02698158754403458224"
     },
     "user_tz": 300
    },
    "id": "5DGIedl4WgG4",
    "outputId": "e54d9450-26de-4246-cd56-23644a98522b"
   },
   "outputs": [
    {
     "name": "stdout",
     "output_type": "stream",
     "text": [
      "[ 1.          1.81818182  2.63636364  3.45454545  4.27272727  5.09090909\n",
      "  5.90909091  6.72727273  7.54545455  8.36363636  9.18181818 10.        ]\n"
     ]
    }
   ],
   "source": [
    "array_linespace = np.linspace(1,10,12)\n",
    "print(array_linespace)"
   ]
  },
  {
   "cell_type": "code",
   "execution_count": null,
   "metadata": {
    "id": "N6q63OXHW-vL"
   },
   "outputs": [],
   "source": []
  },
  {
   "cell_type": "markdown",
   "metadata": {
    "id": "22w0kI61s6yv"
   },
   "source": [
    "## 2.4. Data Frame"
   ]
  },
  {
   "cell_type": "code",
   "execution_count": null,
   "metadata": {
    "colab": {
     "base_uri": "https://localhost:8080/"
    },
    "executionInfo": {
     "elapsed": 18,
     "status": "ok",
     "timestamp": 1754689048907,
     "user": {
      "displayName": "Víctor Raúl Rojas Pozo",
      "userId": "02698158754403458224"
     },
     "user_tz": 300
    },
    "id": "sZjbkvLNsgKb",
    "outputId": "d1fafca8-af12-4f6f-a2ec-7c8d3c581314"
   },
   "outputs": [
    {
     "name": "stdout",
     "output_type": "stream",
     "text": [
      "Empty DataFrame\n",
      "Columns: []\n",
      "Index: []\n"
     ]
    }
   ],
   "source": [
    "# data frame\n",
    "import pandas as pd\n",
    "\n",
    "# crear data frame\n",
    "df = pd.DataFrame()\n",
    "\n",
    "print(df)"
   ]
  },
  {
   "cell_type": "code",
   "execution_count": null,
   "metadata": {
    "colab": {
     "base_uri": "https://localhost:8080/"
    },
    "executionInfo": {
     "elapsed": 27,
     "status": "ok",
     "timestamp": 1754688887589,
     "user": {
      "displayName": "Víctor Raúl Rojas Pozo",
      "userId": "02698158754403458224"
     },
     "user_tz": 300
    },
    "id": "Q2NDFzNRm0QB",
    "outputId": "0697ea96-ca64-4095-bb1c-e3772950b835"
   },
   "outputs": [
    {
     "name": "stdout",
     "output_type": "stream",
     "text": [
      "[18.         28.58013454 35.11901729 35.11901729 28.58013454 18.\n",
      "  7.41986546  0.88098271  0.88098271  7.41986546 18.         28.58013454\n",
      " 35.11901729 35.11901729 28.58013454 18.          7.41986546  0.88098271\n",
      "  0.88098271  7.41986546]\n"
     ]
    }
   ],
   "source": [
    "temp_aire = 18*(1 + np.sin(2 * np.pi * data))\n",
    "print(temp_aire)"
   ]
  },
  {
   "cell_type": "code",
   "execution_count": null,
   "metadata": {
    "colab": {
     "base_uri": "https://localhost:8080/"
    },
    "executionInfo": {
     "elapsed": 16,
     "status": "ok",
     "timestamp": 1754689182630,
     "user": {
      "displayName": "Víctor Raúl Rojas Pozo",
      "userId": "02698158754403458224"
     },
     "user_tz": 300
    },
    "id": "33Aen7mfTgD1",
    "outputId": "689c4f71-c18a-4b7d-cb84-18514264899c"
   },
   "outputs": [
    {
     "name": "stdout",
     "output_type": "stream",
     "text": [
      "DatetimeIndex(['2025-08-08 21:39:42.582551', '2025-08-09 21:39:42.582551',\n",
      "               '2025-08-10 21:39:42.582551', '2025-08-11 21:39:42.582551',\n",
      "               '2025-08-12 21:39:42.582551', '2025-08-13 21:39:42.582551',\n",
      "               '2025-08-14 21:39:42.582551', '2025-08-15 21:39:42.582551',\n",
      "               '2025-08-16 21:39:42.582551', '2025-08-17 21:39:42.582551',\n",
      "               '2025-08-18 21:39:42.582551', '2025-08-19 21:39:42.582551',\n",
      "               '2025-08-20 21:39:42.582551', '2025-08-21 21:39:42.582551',\n",
      "               '2025-08-22 21:39:42.582551', '2025-08-23 21:39:42.582551',\n",
      "               '2025-08-24 21:39:42.582551', '2025-08-25 21:39:42.582551',\n",
      "               '2025-08-26 21:39:42.582551', '2025-08-27 21:39:42.582551'],\n",
      "              dtype='datetime64[ns]', freq='D')\n"
     ]
    }
   ],
   "source": [
    "fechas = pd.date_range(start=pd.to_datetime('today'), periods=len(temp_aire), freq='D')\n",
    "#fechas = pd.date_range(start=pd.to_datetime('today'), periods=len(temp_aire), freq='D').sttftime('%Y-%m-%d')\n",
    "print(fechas)"
   ]
  },
  {
   "cell_type": "code",
   "execution_count": null,
   "metadata": {
    "colab": {
     "base_uri": "https://localhost:8080/"
    },
    "executionInfo": {
     "elapsed": 25,
     "status": "ok",
     "timestamp": 1754689186054,
     "user": {
      "displayName": "Víctor Raúl Rojas Pozo",
      "userId": "02698158754403458224"
     },
     "user_tz": 300
    },
    "id": "C8eU86tPusdh",
    "outputId": "94c4d4eb-40c9-41ec-d358-7f4f1b4bf8db"
   },
   "outputs": [
    {
     "name": "stdout",
     "output_type": "stream",
     "text": [
      "    temperatura                      fecha\n",
      "0     18.000000 2025-08-08 21:36:59.977562\n",
      "1     28.580135 2025-08-09 21:36:59.977562\n",
      "2     35.119017 2025-08-10 21:36:59.977562\n",
      "3     35.119017 2025-08-11 21:36:59.977562\n",
      "4     28.580135 2025-08-12 21:36:59.977562\n",
      "5     18.000000 2025-08-13 21:36:59.977562\n",
      "6      7.419865 2025-08-14 21:36:59.977562\n",
      "7      0.880983 2025-08-15 21:36:59.977562\n",
      "8      0.880983 2025-08-16 21:36:59.977562\n",
      "9      7.419865 2025-08-17 21:36:59.977562\n",
      "10    18.000000 2025-08-18 21:36:59.977562\n",
      "11    28.580135 2025-08-19 21:36:59.977562\n",
      "12    35.119017 2025-08-20 21:36:59.977562\n",
      "13    35.119017 2025-08-21 21:36:59.977562\n",
      "14    28.580135 2025-08-22 21:36:59.977562\n",
      "15    18.000000 2025-08-23 21:36:59.977562\n",
      "16     7.419865 2025-08-24 21:36:59.977562\n",
      "17     0.880983 2025-08-25 21:36:59.977562\n",
      "18     0.880983 2025-08-26 21:36:59.977562\n",
      "19     7.419865 2025-08-27 21:36:59.977562\n"
     ]
    }
   ],
   "source": [
    "df[\"temperatura\"]= temp_aire\n",
    "print(df)"
   ]
  },
  {
   "cell_type": "code",
   "execution_count": null,
   "metadata": {
    "colab": {
     "base_uri": "https://localhost:8080/"
    },
    "executionInfo": {
     "elapsed": 13,
     "status": "ok",
     "timestamp": 1754689189145,
     "user": {
      "displayName": "Víctor Raúl Rojas Pozo",
      "userId": "02698158754403458224"
     },
     "user_tz": 300
    },
    "id": "hEhKL7kdNV5m",
    "outputId": "a25df955-4d0c-47d0-f140-10513664a930"
   },
   "outputs": [
    {
     "name": "stdout",
     "output_type": "stream",
     "text": [
      "    temperatura                      fecha\n",
      "0     18.000000 2025-08-08 21:39:42.582551\n",
      "1     28.580135 2025-08-09 21:39:42.582551\n",
      "2     35.119017 2025-08-10 21:39:42.582551\n",
      "3     35.119017 2025-08-11 21:39:42.582551\n",
      "4     28.580135 2025-08-12 21:39:42.582551\n",
      "5     18.000000 2025-08-13 21:39:42.582551\n",
      "6      7.419865 2025-08-14 21:39:42.582551\n",
      "7      0.880983 2025-08-15 21:39:42.582551\n",
      "8      0.880983 2025-08-16 21:39:42.582551\n",
      "9      7.419865 2025-08-17 21:39:42.582551\n",
      "10    18.000000 2025-08-18 21:39:42.582551\n",
      "11    28.580135 2025-08-19 21:39:42.582551\n",
      "12    35.119017 2025-08-20 21:39:42.582551\n",
      "13    35.119017 2025-08-21 21:39:42.582551\n",
      "14    28.580135 2025-08-22 21:39:42.582551\n",
      "15    18.000000 2025-08-23 21:39:42.582551\n",
      "16     7.419865 2025-08-24 21:39:42.582551\n",
      "17     0.880983 2025-08-25 21:39:42.582551\n",
      "18     0.880983 2025-08-26 21:39:42.582551\n",
      "19     7.419865 2025-08-27 21:39:42.582551\n"
     ]
    }
   ],
   "source": [
    "df[\"fecha\"]= fechas\n",
    "print(df)"
   ]
  },
  {
   "cell_type": "code",
   "execution_count": null,
   "metadata": {
    "colab": {
     "base_uri": "https://localhost:8080/"
    },
    "executionInfo": {
     "elapsed": 24,
     "status": "ok",
     "timestamp": 1741839374822,
     "user": {
      "displayName": "Víctor Raúl Rojas Pozo",
      "userId": "02698158754403458224"
     },
     "user_tz": 300
    },
    "id": "pkeLi8AVuDUZ",
    "outputId": "9da820e5-89b2-47ee-c6bc-59b95a27822a"
   },
   "outputs": [
    {
     "name": "stdout",
     "output_type": "stream",
     "text": [
      "    temperatura  datos_decimales  humedad_relativa\n",
      "0     18.000000              0.0         50.600000\n",
      "1     28.580135              0.1         77.050336\n",
      "2     35.119017              0.2         93.397543\n",
      "3     35.119017              0.3         93.397543\n",
      "4     28.580135              0.4         77.050336\n",
      "5     18.000000              0.5         50.600000\n",
      "6      7.419865              0.6         24.149664\n",
      "7      0.880983              0.7          7.802457\n",
      "8      0.880983              0.8          7.802457\n",
      "9      7.419865              0.9         24.149664\n",
      "10    18.000000              1.0         50.600000\n",
      "11    28.580135              1.1         77.050336\n",
      "12    35.119017              1.2         93.397543\n",
      "13    35.119017              1.3         93.397543\n",
      "14    28.580135              1.4         77.050336\n",
      "15    18.000000              1.5         50.600000\n",
      "16     7.419865              1.6         24.149664\n",
      "17     0.880983              1.7          7.802457\n",
      "18     0.880983              1.8          7.802457\n",
      "19     7.419865              1.9         24.149664\n"
     ]
    }
   ],
   "source": [
    "hr = 2.5*temp_aire +5.6\n",
    "\n",
    "df[\"humedad_relativa\"] = hr\n",
    "print(df)"
   ]
  },
  {
   "cell_type": "code",
   "execution_count": null,
   "metadata": {
    "colab": {
     "base_uri": "https://localhost:8080/"
    },
    "executionInfo": {
     "elapsed": 25,
     "status": "ok",
     "timestamp": 1754689217470,
     "user": {
      "displayName": "Víctor Raúl Rojas Pozo",
      "userId": "02698158754403458224"
     },
     "user_tz": 300
    },
    "id": "lBC0WyGgvVMG",
    "outputId": "52931016-eeaf-40a1-fe22-929bbeadf8ec"
   },
   "outputs": [
    {
     "name": "stdout",
     "output_type": "stream",
     "text": [
      "40\n",
      "(20, 2)\n",
      "Index(['temperatura', 'fecha'], dtype='object')\n"
     ]
    }
   ],
   "source": [
    "# numero total de elementos o medidas del data frame\n",
    "print(df.size)\n",
    "\n",
    "# dimensiones del data frame\n",
    "print(df.shape)\n",
    "\n",
    "# nombres de las columnas\n",
    "print(df.columns)"
   ]
  },
  {
   "cell_type": "markdown",
   "metadata": {
    "id": "tKuin15-RkUC"
   },
   "source": [
    "## 2.5. Estrucuturas de Control II: `for`, y `while`"
   ]
  },
  {
   "cell_type": "markdown",
   "metadata": {
    "id": "KTX7dQmKDPGB"
   },
   "source": [
    "- **Descripción**: Se dividen en:\n",
    "  - **Bucles**: Repiten un bloque de código mientras una condición sea verdadera (por ejemplo, `for`, `while`)."
   ]
  },
  {
   "cell_type": "markdown",
   "metadata": {
    "id": "QrA6T2SKbE3K"
   },
   "source": [
    "\n",
    "\n",
    "```\n",
    "var_lista01 = [\"hola\", 2024, \"mundo\", 2024.5]\n",
    "                  0      1      2       3\n",
    "```\n",
    "\n"
   ]
  },
  {
   "cell_type": "code",
   "execution_count": null,
   "metadata": {
    "id": "5SDyCmP0cEiV"
   },
   "outputs": [],
   "source": [
    "var_lista01[0] = \"Hello!\""
   ]
  },
  {
   "cell_type": "code",
   "execution_count": null,
   "metadata": {
    "colab": {
     "base_uri": "https://localhost:8080/"
    },
    "executionInfo": {
     "elapsed": 22,
     "status": "ok",
     "timestamp": 1754686086803,
     "user": {
      "displayName": "Víctor Raúl Rojas Pozo",
      "userId": "02698158754403458224"
     },
     "user_tz": 300
    },
    "id": "z3-iN5_pRyAE",
    "outputId": "5f96c771-4bdc-40b6-fd7f-4439e479e366"
   },
   "outputs": [
    {
     "name": "stdout",
     "output_type": "stream",
     "text": [
      "Hello!\n",
      "2024\n"
     ]
    }
   ],
   "source": [
    "print(var_lista01[0])\n",
    "print(var_lista01[1])"
   ]
  },
  {
   "cell_type": "markdown",
   "metadata": {
    "id": "H9rNgj31c4-W"
   },
   "source": [
    "Control de flujo: **for**\n",
    "\n",
    "\n",
    "```\n",
    "for arg01 in arg02:\n",
    "  aplicacion_01\n",
    "  aplicacion_02\n",
    "    ........\n",
    "  aplicacion_n\n",
    "```\n",
    "\n"
   ]
  },
  {
   "cell_type": "markdown",
   "metadata": {
    "id": "J5VSUNDwpXEn"
   },
   "source": [
    ">Control de flujo **for** sobre  **listas**"
   ]
  },
  {
   "cell_type": "code",
   "execution_count": null,
   "metadata": {
    "colab": {
     "base_uri": "https://localhost:8080/"
    },
    "executionInfo": {
     "elapsed": 37,
     "status": "ok",
     "timestamp": 1754686458997,
     "user": {
      "displayName": "Víctor Raúl Rojas Pozo",
      "userId": "02698158754403458224"
     },
     "user_tz": 300
    },
    "id": "HAr8xAB7cUHX",
    "outputId": "e4e63dd4-dad3-4974-9914-f90d833ff22a"
   },
   "outputs": [
    {
     "name": "stdout",
     "output_type": "stream",
     "text": [
      "4\n"
     ]
    }
   ],
   "source": [
    "n_elem = len(var_lista01)\n",
    "print(n_elem)"
   ]
  },
  {
   "cell_type": "code",
   "execution_count": null,
   "metadata": {
    "colab": {
     "base_uri": "https://localhost:8080/"
    },
    "executionInfo": {
     "elapsed": 30,
     "status": "ok",
     "timestamp": 1754686473328,
     "user": {
      "displayName": "Víctor Raúl Rojas Pozo",
      "userId": "02698158754403458224"
     },
     "user_tz": 300
    },
    "id": "vsoq3omzcULQ",
    "outputId": "8cbd284b-d022-4c6c-c153-255ceef16811"
   },
   "outputs": [
    {
     "name": "stdout",
     "output_type": "stream",
     "text": [
      "Hello!\n",
      "2024\n",
      "mundo\n",
      "Peru 2025\n"
     ]
    }
   ],
   "source": [
    "for i in range(n_elem):\n",
    "  print(var_lista01[i])"
   ]
  },
  {
   "cell_type": "markdown",
   "metadata": {
    "id": "NeKCOlxQppdf"
   },
   "source": [
    ">Control de flujo **for** a  **data frame**"
   ]
  },
  {
   "cell_type": "code",
   "execution_count": null,
   "metadata": {
    "id": "TuKPfR1xpqRw"
   },
   "outputs": [],
   "source": []
  },
  {
   "cell_type": "markdown",
   "metadata": {
    "id": "47u68zUVR0Gf"
   },
   "source": [
    "## 2.6. Funciones: Parte II"
   ]
  },
  {
   "cell_type": "code",
   "execution_count": null,
   "metadata": {
    "id": "_syZMVXVR1Gj"
   },
   "outputs": [],
   "source": []
  },
  {
   "cell_type": "markdown",
   "metadata": {
    "id": "soydKrE0mpsQ"
   },
   "source": [
    "# **III. Referencias**\n",
    "\n",
    "**Libros y manuales**\n",
    "\n",
    "- Libro de estadisitica con python\n",
    "\n",
    "  https://www.editorial-sciela.org/index.php/sciela/article/view/16/49\n",
    "\n",
    "- Introducción a la teoria de probabilidades\n",
    "\n",
    "  https://ciladi.org/wp-content/uploads/Version_final_Introduccion-Probabilidad-Python-vf_Bayas-3.pdf\n",
    "\n",
    "- Guía practica de análsis exploratorio de python\n",
    "\n",
    "  https://datos.gob.es/sites/default/files/doc/file/guia_eda_python.pdf\n",
    "\n",
    "\n",
    "**Cursos en linea**\n",
    "\n",
    "- Estadística W3School:\n",
    "\n",
    "  https://www.w3schools.com/statistics/index.php\n",
    "\n",
    "- Estadística con python:\n",
    "\n",
    "  https://docs.python.org/es/3/library/statistics.html\n",
    "\n",
    "- Kaggle:\n",
    "\n",
    "  https://www.kaggle.com/code/saurav9786/statistics-for-data-scientists\n",
    "\n",
    "**Aplicaciones IA**\n",
    "\n",
    "- Gemini iA\n",
    "\n",
    "  https://gemini.google.com\n",
    "\n",
    "- DeepSeek\n",
    "\n",
    "  https://www.deepseek.com/\n",
    "\n",
    "- Chat GPT\n",
    "\n",
    "  https://chatgpt.com/\n",
    "\n",
    "- Claude IA\n",
    "\n",
    "  https://claude.ai/\n",
    "\n",
    "- Julius IA:\n",
    "\n",
    "  https://julius.ai\n",
    "\n"
   ]
  },
  {
   "cell_type": "markdown",
   "metadata": {
    "id": "1537661e"
   },
   "source": [
    "### Tipo de dato `None` en Python\n",
    "\n",
    "En Python, `None` es un tipo de dato especial que representa la ausencia de un valor o un valor nulo. No es lo mismo que 0, una cadena vacía (`\"\"`), o `False`.\n",
    "\n",
    "**Características principales:**\n",
    "\n",
    "*   **Representa la ausencia de valor:** Se utiliza comúnmente para indicar que una variable no tiene asignado un valor significativo, o que una función no devuelve explícitamente ningún valor (en cuyo caso, implícitamente devuelve `None`).\n",
    "*   **Es un objeto singleton:** Solo hay una instancia de `None` en el sistema. Esto significa que si tienes varias variables a las que se les asigna `None`, todas apuntan al mismo objeto en memoria. Puedes comprobar esto usando el operador `is`.\n",
    "*   **Su tipo es `NoneType`:** El tipo de `None` es `NoneType`.\n",
    "*   **Es falsy en contextos booleanos:** Aunque no es `False`, `None` se evalúa como falso en contextos booleanos (por ejemplo, en una sentencia `if`).\n",
    "\n",
    "**Usos comunes:**\n",
    "\n",
    "*   **Inicialización de variables:** Para inicializar una variable cuando aún no se le ha asignado un valor real.\n",
    "*   **Valor de retorno de funciones:** Las funciones que no tienen una sentencia `return` explícitamente (o que tienen `return` sin un valor) devuelven `None`.\n",
    "*   **Indicador de valor opcional o faltante:** En la firma de funciones, para indicar que un argumento es opcional y que, si no se proporciona, tendrá un valor nulo.\n",
    "*   **Comparación:** Para comprobar si una variable o el resultado de una operación es nulo utilizando el operador `is` (`mi_variable is None`). Es preferible usar `is None` en lugar de `== None` debido a la naturaleza singleton de `None`."
   ]
  },
  {
   "cell_type": "code",
   "execution_count": null,
   "metadata": {
    "id": "26290f7c"
   },
   "outputs": [],
   "source": [
    "print(type(None))\n",
    "\n",
    "var_none = None\n",
    "\n",
    "if var_none is None:\n",
    "  print(\"La variable var_none es None\")\n",
    "\n",
    "if not var_none:\n",
    "  print(\"La variable var_none es evaluada como False en un contexto booleano\")"
   ]
  }
 ],
 "metadata": {
  "colab": {
   "provenance": [],
   "toc_visible": true
  },
  "kernelspec": {
   "display_name": "Python 3",
   "name": "python3"
  },
  "language_info": {
   "codemirror_mode": {
    "name": "ipython",
    "version": 3
   },
   "file_extension": ".py",
   "mimetype": "text/x-python",
   "name": "python",
   "nbconvert_exporter": "python",
   "pygments_lexer": "ipython3",
   "version": "3.13.5"
  }
 },
 "nbformat": 4,
 "nbformat_minor": 0
}