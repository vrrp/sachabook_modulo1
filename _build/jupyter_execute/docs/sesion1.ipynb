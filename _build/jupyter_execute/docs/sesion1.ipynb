{
 "cells": [
  {
   "cell_type": "markdown",
   "metadata": {
    "id": "aF6cju-OqrtS"
   },
   "source": [
    "# **Programación Básica con Python**"
   ]
  },
  {
   "cell_type": "markdown",
   "metadata": {
    "id": "CUBz2hqKAPmI"
   },
   "source": [
    "# **I. Conceptos básicos de programación**"
   ]
  },
  {
   "cell_type": "markdown",
   "metadata": {
    "id": "mB3WDxVwkysc"
   },
   "source": [
    "## 1.1. Tipos de datos y variables"
   ]
  },
  {
   "cell_type": "markdown",
   "metadata": {
    "id": "t4dSPCNStrMU"
   },
   "source": [
    "Tipos fundamentales de datos definidos en Python."
   ]
  },
  {
   "cell_type": "code",
   "execution_count": 1,
   "metadata": {
    "colab": {
     "base_uri": "https://localhost:8080/"
    },
    "id": "UIsCEIlIgbdk",
    "outputId": "fabc767a-d3ee-46b5-b99a-a170109d693b"
   },
   "outputs": [
    {
     "name": "stdout",
     "output_type": "stream",
     "text": [
      "esto es el contenido de la variable var_1 =  hola , que es tipo no numerico\n",
      "<class 'str'>\n",
      "<class 'int'>\n",
      "<class 'str'>\n"
     ]
    }
   ],
   "source": [
    "# data caracter\n",
    "#----------------------\n",
    "var_1 = \"hola\"\n",
    "var_2 = 2025\n",
    "var_3 = \"15\"\n",
    "var_4 = None\n",
    "var_5 = True\n",
    "va_6 = False\n",
    "\n",
    "print(\"esto es el contenido de la variable var_1 = \",var_1, \", que es tipo no numerico\")\n",
    "print(type(var_1))\n",
    "print(type(var_2))\n",
    "print(type(var_3))"
   ]
  },
  {
   "cell_type": "code",
   "execution_count": 2,
   "metadata": {
    "colab": {
     "base_uri": "https://localhost:8080/"
    },
    "id": "_ZHcpO49ghIV",
    "outputId": "2457e3a2-ce43-4c2e-fe5f-7bae1e7eff68"
   },
   "outputs": [
    {
     "name": "stdout",
     "output_type": "stream",
     "text": [
      "<class 'int'> <class 'float'>\n"
     ]
    }
   ],
   "source": [
    "# Datos y variables numericas\n",
    "#-----------------------------\n",
    "num_int = 25\n",
    "num_float= 20.000001\n",
    "\n",
    "print(type(num_int), type(num_float))"
   ]
  },
  {
   "cell_type": "markdown",
   "metadata": {
    "id": "l2BtGorVeBy5"
   },
   "source": [
    "## 1.2. Operadores matemáticos"
   ]
  },
  {
   "cell_type": "code",
   "execution_count": 3,
   "metadata": {
    "colab": {
     "base_uri": "https://localhost:8080/"
    },
    "id": "Rs-wkNHggoys",
    "outputId": "fcdf8c40-c9ae-4ce1-c2ee-6b91e8a4adc1"
   },
   "outputs": [
    {
     "name": "stdout",
     "output_type": "stream",
     "text": [
      "suma = 45.000001\n",
      "<class 'float'>\n",
      "exponente =  25\n",
      "cociente = 1.8\n",
      "cociente_entero = 1\n",
      "residuo = 4\n"
     ]
    }
   ],
   "source": [
    "# suma\n",
    "suma = num_int + num_float\n",
    "\n",
    "# exponencial\n",
    "exponente = 5**2\n",
    "\n",
    "# division\n",
    "cociente = 9/5\n",
    "cociente_entero = 9//5\n",
    "residuo = 9%5\n",
    "\n",
    "print(\"suma =\",suma)\n",
    "print(type(suma))\n",
    "print(\"exponente = \",exponente)\n",
    "print(\"cociente =\", cociente)\n",
    "print(\"cociente_entero =\", cociente_entero)\n",
    "print(\"residuo =\",residuo)"
   ]
  },
  {
   "cell_type": "markdown",
   "metadata": {
    "id": "wP734_5vw62H"
   },
   "source": [
    "## 1.3. Importar paquetes o librerías en Python"
   ]
  },
  {
   "cell_type": "markdown",
   "metadata": {
    "id": "bkPfUbC42jFm"
   },
   "source": [
    "En Python, un paquete o librería (los términos a menudo se usan indistintamente, aunque \"paquete\" tiene una estructura más específica) es una colección organizada de módulos.\n",
    "\n",
    "```\n",
    "paquete:\n",
    "        aplicacion_01\n",
    "        aplicacion_02\n",
    "        . . . . . . .\n",
    "        aplicacion_n\n",
    "```\n",
    "\n",
    "Formas de importar un paquete y sus aplicaciones\n",
    "\n",
    "**Primera forma**\n",
    "```\n",
    "import paquete as pp\n",
    "\n",
    "var = paquete.aplicacion_01(arg)\n",
    "```\n",
    "\n",
    "**Segunda forma**\n",
    "```\n",
    "import paquete as pp\n",
    "\n",
    "var = pp.aplicacion_01(arg)\n",
    "```\n",
    "\n",
    "**Tercera forma**\n",
    "```\n",
    "from paquete import (aplicacion_01, aplicacion_04)\n",
    "\n",
    "var_01 = aplicacion_01(arg)\n",
    "var_02 = aplicacion_04(arg)\n",
    "```"
   ]
  },
  {
   "cell_type": "code",
   "execution_count": 4,
   "metadata": {
    "colab": {
     "base_uri": "https://localhost:8080/"
    },
    "id": "Z1ub1j7NhJb2",
    "outputId": "c86bb750-d13d-45c4-f1d8-84b5970ef825"
   },
   "outputs": [
    {
     "name": "stdout",
     "output_type": "stream",
     "text": [
      "3.141592653589793\n",
      "3.141592653589793\n",
      "2.718281828459045\n",
      "2.718281828459045\n"
     ]
    }
   ],
   "source": [
    "import math\n",
    "import numpy as np\n",
    "\n",
    "pi_math = math.pi\n",
    "pi_np = np.pi\n",
    "print(pi_math)\n",
    "print(pi_np)\n",
    "n_euler_math = math.e\n",
    "n_euler_np = np.e\n",
    "print(n_euler_math)\n",
    "print(n_euler_np)"
   ]
  },
  {
   "cell_type": "markdown",
   "metadata": {
    "id": "Yy8UfA4DBHRK"
   },
   "source": [
    "## 1.4. Funciones algebraicas"
   ]
  },
  {
   "cell_type": "markdown",
   "metadata": {
    "id": "Xav56FXZETpG"
   },
   "source": [
    "**Exponencial**\n",
    "\n",
    "$ y = b^{a}$"
   ]
  },
  {
   "cell_type": "code",
   "execution_count": 5,
   "metadata": {
    "id": "_nexlWVTET2J"
   },
   "outputs": [
    {
     "name": "stdout",
     "output_type": "stream",
     "text": [
      "15.154262241479259\n"
     ]
    }
   ],
   "source": [
    "y1 = n_euler_math**n_euler_math\n",
    "print(y1)"
   ]
  },
  {
   "cell_type": "markdown",
   "metadata": {
    "id": "RZtdvnjKE7ZK"
   },
   "source": [
    "**Valor absoluto**\n",
    "\n",
    "si: $a<0, y = |a| = (-1) \\times a$\n",
    "\n",
    "si: $a>0, y = |a| = a$"
   ]
  },
  {
   "cell_type": "code",
   "execution_count": 6,
   "metadata": {
    "id": "QpI6EKXnE7nX"
   },
   "outputs": [
    {
     "name": "stdout",
     "output_type": "stream",
     "text": [
      "25\n"
     ]
    }
   ],
   "source": [
    "# funcion valor absoluto\n",
    "y2 = np.abs(-1*num_int)\n",
    "print(y2)"
   ]
  },
  {
   "cell_type": "markdown",
   "metadata": {
    "id": "GnO__b5bFuUq"
   },
   "source": [
    "**Raíz cuadrada**\n",
    "\n",
    "$y = \\sqrt{b} = b^{\\frac{1}{2}}$"
   ]
  },
  {
   "cell_type": "code",
   "execution_count": 7,
   "metadata": {
    "id": "Rk1RlquPFuga"
   },
   "outputs": [
    {
     "name": "stdout",
     "output_type": "stream",
     "text": [
      "5.0\n"
     ]
    }
   ],
   "source": [
    "#funcion raiz cuadrada\n",
    "y3 = np.sqrt(num_int)\n",
    "print(y3)"
   ]
  },
  {
   "cell_type": "markdown",
   "metadata": {
    "id": "VGTKdjsyGadG"
   },
   "source": [
    "**Raiz general**\n",
    "\n",
    "$\\sqrt[n]{b^m}= b\\frac{m}{n}$"
   ]
  },
  {
   "cell_type": "code",
   "execution_count": 8,
   "metadata": {
    "id": "WWjWS8rpGam-"
   },
   "outputs": [
    {
     "name": "stdout",
     "output_type": "stream",
     "text": [
      "4.999999999999999\n"
     ]
    }
   ],
   "source": [
    "y4 = 125**(1/3)\n",
    "print(y4)"
   ]
  },
  {
   "cell_type": "markdown",
   "metadata": {
    "id": "B470V5e_HgNt"
   },
   "source": [
    "**Logaritmo**\n",
    "\n",
    "$y = log_{b}x $\n",
    "\n",
    "$x = b^y$"
   ]
  },
  {
   "cell_type": "code",
   "execution_count": 9,
   "metadata": {
    "colab": {
     "base_uri": "https://localhost:8080/"
    },
    "id": "8WLUCF5phBaA",
    "outputId": "b5a256f9-2d50-4741-86dd-9999caca8f71"
   },
   "outputs": [
    {
     "name": "stdout",
     "output_type": "stream",
     "text": [
      "1.0\n",
      "1.0\n",
      "1.0\n"
     ]
    }
   ],
   "source": [
    "# funcion logaritmo de 10 en base 10\n",
    "y5 = np.log10(10)\n",
    "print(y5)\n",
    "\n",
    "# funcion logaritmo de 2 en base 2\n",
    "y6 = np.log2(2)\n",
    "print(y6)\n",
    "\n",
    "# funcion logaritmo de e en base e\n",
    "y7 = np.log(n_euler_math)\n",
    "print(y7)"
   ]
  },
  {
   "cell_type": "markdown",
   "metadata": {
    "id": "sre1z5_3eRLu"
   },
   "source": [
    "## 1.5. Operadores de comparación"
   ]
  },
  {
   "cell_type": "code",
   "execution_count": 10,
   "metadata": {
    "colab": {
     "base_uri": "https://localhost:8080/"
    },
    "id": "T87u0UAkgt_9",
    "outputId": "708ae81a-e2f1-4cef-e614-3589c35e6288"
   },
   "outputs": [
    {
     "name": "stdout",
     "output_type": "stream",
     "text": [
      "<class 'bool'> False\n",
      "<class 'bool'> True\n",
      "<class 'bool'> True\n",
      "<class 'bool'> False\n",
      "<class 'bool'> True\n",
      "<class 'bool'> False\n"
     ]
    }
   ],
   "source": [
    "# operadores relacionales\n",
    "# comparacion (==)\n",
    "comp01 = num_int == num_float\n",
    "\n",
    "# diferente (!=)\n",
    "comp02 = num_int != num_float\n",
    "\n",
    "# mayor que  (>)\n",
    "comp03 = num_int > num_float\n",
    "\n",
    "# menor que  (<)\n",
    "comp04 = num_int < num_float\n",
    "\n",
    "# mayor o igual que  (>=)\n",
    "comp05 = num_int >= num_float\n",
    "\n",
    "# menor o igual que  (<=)\n",
    "comp06 = num_int <= num_float\n",
    "\n",
    "print(type(comp01), comp01)\n",
    "print(type(comp02), comp02)\n",
    "print(type(comp03), comp03)\n",
    "print(type(comp04), comp04)\n",
    "print(type(comp05), comp05)\n",
    "print(type(comp06), comp06)"
   ]
  },
  {
   "cell_type": "markdown",
   "metadata": {
    "id": "MgDuU21Uebv3"
   },
   "source": [
    "## 1.6. Condiciones"
   ]
  },
  {
   "cell_type": "code",
   "execution_count": 11,
   "metadata": {
    "colab": {
     "base_uri": "https://localhost:8080/"
    },
    "id": "Rwi9Vu8Jhdpn",
    "outputId": "d40cfca8-cd4f-43cc-cb78-0d414ccf26dd"
   },
   "outputs": [
    {
     "name": "stdout",
     "output_type": "stream",
     "text": [
      "var es valor entero\n",
      "segunda accion de if\n"
     ]
    }
   ],
   "source": [
    "# condicionales: if, elif, else\n",
    "var = 23\n",
    "\n",
    "if type(var)==int:\n",
    "  print(\"var es valor entero\")\n",
    "  print(\"segunda accion de if\")\n",
    "else:\n",
    "  print(\"var no es un numero entero\")"
   ]
  },
  {
   "cell_type": "code",
   "execution_count": 12,
   "metadata": {
    "colab": {
     "base_uri": "https://localhost:8080/"
    },
    "id": "eBWy8gcrhlDi",
    "outputId": "a604f3bb-7466-4c5a-9730-ec03d64dd3bb"
   },
   "outputs": [
    {
     "name": "stdout",
     "output_type": "stream",
     "text": [
      "(3) 7 == 7 True\n"
     ]
    }
   ],
   "source": [
    "# condicionales: if, elif, else\n",
    "a = 7\n",
    "b = 7\n",
    "\n",
    "if a > b:\n",
    "    print(\"(1)\", a,\">\",b ,a > b)\n",
    "\n",
    "elif a < b:\n",
    "    print(\"(2)\", a,\"<\",b ,a < b)\n",
    "\n",
    "elif a == b:\n",
    "    print(\"(3)\", a,\"==\",b ,a == b)"
   ]
  },
  {
   "cell_type": "markdown",
   "metadata": {
    "id": "NnfLSuLUe1Gn"
   },
   "source": [
    "## 1.7. Funciones: Parte I"
   ]
  },
  {
   "cell_type": "code",
   "execution_count": 13,
   "metadata": {
    "id": "tmrVYVakhvNa"
   },
   "outputs": [],
   "source": [
    "def area_cuadrado(lado):\n",
    "  area = lado**2\n",
    "  return area"
   ]
  },
  {
   "cell_type": "code",
   "execution_count": 14,
   "metadata": {
    "colab": {
     "base_uri": "https://localhost:8080/"
    },
    "id": "J8r4mgz31cH8",
    "outputId": "f23bf898-fcc8-407e-bdb1-007ef4ca5b33"
   },
   "outputs": [
    {
     "name": "stdout",
     "output_type": "stream",
     "text": [
      "16\n"
     ]
    }
   ],
   "source": [
    "ac1 = area_cuadrado(4)\n",
    "print(ac1)"
   ]
  },
  {
   "cell_type": "code",
   "execution_count": 15,
   "metadata": {
    "id": "Kr4PZNR0h3VW"
   },
   "outputs": [],
   "source": [
    "def convert_temp(data, tipo):\n",
    "  if tipo==\"K\":\n",
    "    temp = data + 273.15\n",
    "    print(temp)\n",
    "  elif tipo==\"F\":\n",
    "    temp = (data) * 9/5 + 32\n",
    "    print(temp)"
   ]
  },
  {
   "cell_type": "code",
   "execution_count": 16,
   "metadata": {
    "colab": {
     "base_uri": "https://localhost:8080/"
    },
    "id": "Y3_tOBH1h63y",
    "outputId": "407fbda5-b5f3-48b9-b8e4-147c7e0f1c42"
   },
   "outputs": [
    {
     "name": "stdout",
     "output_type": "stream",
     "text": [
      "212.0\n",
      "50.0\n",
      "373.15\n"
     ]
    }
   ],
   "source": [
    "convert_temp(100, \"F\")\n",
    "convert_temp(10, \"F\")\n",
    "convert_temp(100, \"K\")"
   ]
  },
  {
   "cell_type": "markdown",
   "metadata": {
    "id": "QBDDGo6Zcokb"
   },
   "source": [
    "# **II. Estructura de datos**"
   ]
  },
  {
   "cell_type": "markdown",
   "metadata": {
    "id": "IL9t0pqGiGXp"
   },
   "source": [
    "## 2.1. Cadenas"
   ]
  },
  {
   "cell_type": "code",
   "execution_count": 17,
   "metadata": {
    "colab": {
     "base_uri": "https://localhost:8080/"
    },
    "id": "mMBHEIG-sR44",
    "outputId": "c41368c7-2401-480f-90e0-c99676713715"
   },
   "outputs": [
    {
     "name": "stdout",
     "output_type": "stream",
     "text": [
      "las estaciones del año son: verano, otoño, invierno y primavera\n",
      "63\n",
      " estaciones\n",
      "<class 'str'>\n"
     ]
    }
   ],
   "source": [
    "# Estructuras tipo cadena de caracteres\n",
    "var_cadena = \"las estaciones del año son: verano, otoño, invierno y primavera\"\n",
    "\n",
    "print(var_cadena)\n",
    "print(len(var_cadena))\n",
    "\n",
    "print(var_cadena[3:14])\n",
    "print(type(var_cadena))"
   ]
  },
  {
   "cell_type": "code",
   "execution_count": 18,
   "metadata": {
    "colab": {
     "base_uri": "https://localhost:8080/"
    },
    "id": "KUrTh14d6Vhf",
    "outputId": "a4abf2c7-e469-4538-e35d-90c437702a96"
   },
   "outputs": [
    {
     "name": "stdout",
     "output_type": "stream",
     "text": [
      "algunos departamentos de Perú son: Lima, Ica, Arequipa y Tacna\n",
      "62\n",
      "Lima\n",
      "<class 'str'>\n"
     ]
    }
   ],
   "source": [
    "departamentos_peru = \"algunos departamentos de Perú son: Lima, Ica, Arequipa y Tacna\"\n",
    "\n",
    "print(departamentos_peru)\n",
    "print(len(departamentos_peru))\n",
    "print(departamentos_peru[35:39])\n",
    "print(type(departamentos_peru))\n"
   ]
  },
  {
   "cell_type": "code",
   "execution_count": 19,
   "metadata": {
    "colab": {
     "base_uri": "https://localhost:8080/"
    },
    "id": "n5IHBFQH8zWy",
    "outputId": "6fb9a07c-7017-44ba-9b82-019bdb087af1"
   },
   "outputs": [
    {
     "name": "stdout",
     "output_type": "stream",
     "text": [
      "['algunos', 'departamentos', 'de', 'Perú', 'son:', 'Lima,', 'Ica,', 'Arequipa', 'y', 'Tacna']\n",
      "<class 'list'>\n"
     ]
    }
   ],
   "source": [
    "separar_frase = departamentos_peru.split()\n",
    "\n",
    "print(separar_frase)\n",
    "print(type(separar_frase))"
   ]
  },
  {
   "cell_type": "markdown",
   "metadata": {
    "id": "WWIUrs0NiN_g"
   },
   "source": [
    "## 2.2. Listas"
   ]
  },
  {
   "cell_type": "code",
   "execution_count": 20,
   "metadata": {
    "colab": {
     "base_uri": "https://localhost:8080/"
    },
    "id": "VTi4J4S8sai7",
    "outputId": "4d833918-06c4-4a6c-fe93-71a4652d2335"
   },
   "outputs": [
    {
     "name": "stdout",
     "output_type": "stream",
     "text": [
      "['hola', 2024, 'mundo', 2024.5]\n",
      "4\n",
      "hola\n",
      "['hola', 2024, 'mundo', 'Peru 2025']\n",
      "<class 'int'>\n"
     ]
    }
   ],
   "source": [
    "# listas\n",
    "var_lista01 = [\"hola\", 2024, \"mundo\", 2024.5]\n",
    "\n",
    "print(var_lista01)\n",
    "print(len(var_lista01))\n",
    "print(var_lista01[0])\n",
    "\n",
    "var_lista01[3]= \"Peru 2025\"\n",
    "print(var_lista01)\n",
    "\n",
    "print(type(var_lista01[1]))"
   ]
  },
  {
   "cell_type": "code",
   "execution_count": 21,
   "metadata": {
    "id": "NizPnfLPUjQu"
   },
   "outputs": [],
   "source": [
    "lista_02 = [12,3,3,2]\n",
    "\n",
    "lista_03 = [1,2,3,4]"
   ]
  },
  {
   "cell_type": "code",
   "execution_count": 22,
   "metadata": {
    "colab": {
     "base_uri": "https://localhost:8080/"
    },
    "id": "uxBHNK6fU0Pb",
    "outputId": "7eff7f04-36a1-4557-968c-1e118ca1c87c"
   },
   "outputs": [
    {
     "name": "stdout",
     "output_type": "stream",
     "text": [
      "[12, 3, 3, 2, 1, 2, 3, 4]\n"
     ]
    }
   ],
   "source": [
    "suma_lista23 = lista_02 + lista_03\n",
    "print(suma_lista23)"
   ]
  },
  {
   "cell_type": "code",
   "execution_count": 23,
   "metadata": {
    "colab": {
     "base_uri": "https://localhost:8080/"
    },
    "id": "aCRXt9PpWAaX",
    "outputId": "9a343fc5-f13a-4ffd-c7cd-338046f1e11c"
   },
   "outputs": [
    {
     "name": "stdout",
     "output_type": "stream",
     "text": [
      "[1, 2, 3, 4, 1, 2, 3, 4, 1, 2, 3, 4]\n"
     ]
    }
   ],
   "source": [
    "prod_lista23 = 3* lista_03\n",
    "print(prod_lista23)"
   ]
  },
  {
   "cell_type": "markdown",
   "metadata": {
    "id": "2rcDNJfWiRDN"
   },
   "source": [
    "## 2.3. Array 1D"
   ]
  },
  {
   "cell_type": "code",
   "execution_count": 24,
   "metadata": {
    "colab": {
     "base_uri": "https://localhost:8080/"
    },
    "id": "X29sQVzotB-K",
    "outputId": "e96b2454-d5d7-457a-b91a-1430db4c623c"
   },
   "outputs": [
    {
     "name": "stdout",
     "output_type": "stream",
     "text": [
      "[ 1  2  3  4  5  6  7  8  9 10 11 12]\n",
      "<class 'numpy.ndarray'>\n",
      "12\n"
     ]
    }
   ],
   "source": [
    "import numpy as np\n",
    "\n",
    "# array 1D: np.array()\n",
    "array_meses_num = np.array([1,2,3,4,5,6,7,8,9,10,11,12])\n",
    "\n",
    "print(array_meses_num)\n",
    "print(type(array_meses_num))\n",
    "print(len(array_meses_num))"
   ]
  },
  {
   "cell_type": "code",
   "execution_count": 25,
   "metadata": {
    "colab": {
     "base_uri": "https://localhost:8080/"
    },
    "id": "pAlNpDNktd4p",
    "outputId": "c670a57c-702a-4962-f7ac-44178a9e6ead"
   },
   "outputs": [
    {
     "name": "stdout",
     "output_type": "stream",
     "text": [
      "[-20.  -19.5 -19.  -18.5 -18.  -17.5 -17.  -16.5 -16.  -15.5 -15.  -14.5\n",
      " -14.  -13.5 -13.  -12.5 -12.  -11.5 -11.  -10.5 -10.   -9.5  -9.   -8.5\n",
      "  -8.   -7.5  -7.   -6.5  -6.   -5.5  -5.   -4.5  -4.   -3.5  -3.   -2.5\n",
      "  -2.   -1.5  -1.   -0.5   0.    0.5   1.    1.5   2.    2.5   3.    3.5\n",
      "   4.    4.5   5.    5.5   6.    6.5   7.    7.5   8.    8.5   9.    9.5]\n",
      "60\n"
     ]
    }
   ],
   "source": [
    "# array 1D: np.arange(val_i, num_vals, incremento)\n",
    "array_arange01 = np.arange(-20, 10, 0.5)\n",
    "\n",
    "print(array_arange01)\n",
    "print(len(array_arange01))"
   ]
  },
  {
   "cell_type": "code",
   "execution_count": 26,
   "metadata": {
    "colab": {
     "base_uri": "https://localhost:8080/"
    },
    "id": "RP4QqQk_tvZ6",
    "outputId": "66f634f7-0243-42de-8e54-2386352d405e"
   },
   "outputs": [
    {
     "name": "stdout",
     "output_type": "stream",
     "text": [
      "[0. 0. 0. 0.]\n",
      "<class 'numpy.ndarray'>\n",
      "4\n",
      "1\n",
      "(4,)\n",
      "2024\n",
      "[   0.    0. 2024.    0.]\n"
     ]
    }
   ],
   "source": [
    "# array 1D: np.zeros()\n",
    "array_zeros01 = np.zeros(4)\n",
    "\n",
    "print(array_zeros01)\n",
    "print(type(array_zeros01))\n",
    "print(len(array_zeros01))\n",
    "print(np.ndim(array_zeros01))\n",
    "print(np.shape(array_zeros01))\n",
    "\n",
    "print(var_lista01[1])\n",
    "array_zeros01[2]= var_lista01[1]\n",
    "print(array_zeros01)"
   ]
  },
  {
   "cell_type": "markdown",
   "metadata": {
    "id": "8ni6TgWLVwgQ"
   },
   "source": [
    "Operaciones con arrays."
   ]
  },
  {
   "cell_type": "code",
   "execution_count": 27,
   "metadata": {
    "colab": {
     "base_uri": "https://localhost:8080/"
    },
    "id": "1hzJaV-oVwpe",
    "outputId": "d966f2b3-9cc7-406f-8dd7-0d55683d4264"
   },
   "outputs": [
    {
     "name": "stdout",
     "output_type": "stream",
     "text": [
      "[ 2  4  6  8 10 12 14 16 18 20 22 24]\n"
     ]
    }
   ],
   "source": [
    "prod_escalar = 2*array_meses_num\n",
    "print(prod_escalar)"
   ]
  },
  {
   "cell_type": "code",
   "execution_count": 28,
   "metadata": {
    "colab": {
     "base_uri": "https://localhost:8080/"
    },
    "id": "5DGIedl4WgG4",
    "outputId": "e54d9450-26de-4246-cd56-23644a98522b"
   },
   "outputs": [
    {
     "name": "stdout",
     "output_type": "stream",
     "text": [
      "[ 1.          1.81818182  2.63636364  3.45454545  4.27272727  5.09090909\n",
      "  5.90909091  6.72727273  7.54545455  8.36363636  9.18181818 10.        ]\n"
     ]
    }
   ],
   "source": [
    "array_linespace = np.linspace(1,10,12)\n",
    "print(array_linespace)"
   ]
  },
  {
   "cell_type": "code",
   "execution_count": null,
   "metadata": {
    "id": "N6q63OXHW-vL"
   },
   "outputs": [],
   "source": []
  },
  {
   "cell_type": "markdown",
   "metadata": {
    "id": "22w0kI61s6yv"
   },
   "source": [
    "## 2.4. Data Frame"
   ]
  },
  {
   "cell_type": "code",
   "execution_count": 29,
   "metadata": {
    "colab": {
     "base_uri": "https://localhost:8080/"
    },
    "id": "sZjbkvLNsgKb",
    "outputId": "d1fafca8-af12-4f6f-a2ec-7c8d3c581314"
   },
   "outputs": [
    {
     "name": "stdout",
     "output_type": "stream",
     "text": [
      "Empty DataFrame\n",
      "Columns: []\n",
      "Index: []\n"
     ]
    }
   ],
   "source": [
    "# data frame\n",
    "import pandas as pd\n",
    "\n",
    "# crear data frame\n",
    "df = pd.DataFrame()\n",
    "\n",
    "print(df)"
   ]
  },
  {
   "cell_type": "code",
   "execution_count": 30,
   "metadata": {
    "colab": {
     "base_uri": "https://localhost:8080/"
    },
    "id": "Q2NDFzNRm0QB",
    "outputId": "0697ea96-ca64-4095-bb1c-e3772950b835"
   },
   "outputs": [
    {
     "name": "stdout",
     "output_type": "stream",
     "text": [
      "[18.         29.05582883 35.44920479 34.48391988 26.56705307 15.03729737\n",
      "  4.75696961  0.06147913  2.93100339 12.15540955 23.84459045 33.06899661\n",
      " 35.93852087 31.24303039 20.96270263  9.43294693  1.51608012  0.55079521\n",
      "  6.94417117 18.        ]\n"
     ]
    }
   ],
   "source": [
    "data = np.linspace(0, 2, 20)\n",
    "temp_aire = 18*(1 + np.sin(2 * np.pi * data))\n",
    "print(temp_aire)"
   ]
  },
  {
   "cell_type": "code",
   "execution_count": 31,
   "metadata": {
    "colab": {
     "base_uri": "https://localhost:8080/"
    },
    "id": "33Aen7mfTgD1",
    "outputId": "689c4f71-c18a-4b7d-cb84-18514264899c"
   },
   "outputs": [
    {
     "name": "stdout",
     "output_type": "stream",
     "text": [
      "DatetimeIndex(['2025-08-28 14:49:55.876758', '2025-08-29 14:49:55.876758',\n",
      "               '2025-08-30 14:49:55.876758', '2025-08-31 14:49:55.876758',\n",
      "               '2025-09-01 14:49:55.876758', '2025-09-02 14:49:55.876758',\n",
      "               '2025-09-03 14:49:55.876758', '2025-09-04 14:49:55.876758',\n",
      "               '2025-09-05 14:49:55.876758', '2025-09-06 14:49:55.876758',\n",
      "               '2025-09-07 14:49:55.876758', '2025-09-08 14:49:55.876758',\n",
      "               '2025-09-09 14:49:55.876758', '2025-09-10 14:49:55.876758',\n",
      "               '2025-09-11 14:49:55.876758', '2025-09-12 14:49:55.876758',\n",
      "               '2025-09-13 14:49:55.876758', '2025-09-14 14:49:55.876758',\n",
      "               '2025-09-15 14:49:55.876758', '2025-09-16 14:49:55.876758'],\n",
      "              dtype='datetime64[ns]', freq='D')\n"
     ]
    }
   ],
   "source": [
    "fechas = pd.date_range(start=pd.to_datetime('today'), periods=len(temp_aire), freq='D')\n",
    "#fechas = pd.date_range(start=pd.to_datetime('today'), periods=len(temp_aire), freq='D').sttftime('%Y-%m-%d')\n",
    "print(fechas)"
   ]
  },
  {
   "cell_type": "code",
   "execution_count": 32,
   "metadata": {
    "colab": {
     "base_uri": "https://localhost:8080/"
    },
    "id": "C8eU86tPusdh",
    "outputId": "94c4d4eb-40c9-41ec-d358-7f4f1b4bf8db"
   },
   "outputs": [
    {
     "name": "stdout",
     "output_type": "stream",
     "text": [
      "    temperatura\n",
      "0     18.000000\n",
      "1     29.055829\n",
      "2     35.449205\n",
      "3     34.483920\n",
      "4     26.567053\n",
      "5     15.037297\n",
      "6      4.756970\n",
      "7      0.061479\n",
      "8      2.931003\n",
      "9     12.155410\n",
      "10    23.844590\n",
      "11    33.068997\n",
      "12    35.938521\n",
      "13    31.243030\n",
      "14    20.962703\n",
      "15     9.432947\n",
      "16     1.516080\n",
      "17     0.550795\n",
      "18     6.944171\n",
      "19    18.000000\n"
     ]
    }
   ],
   "source": [
    "df[\"temperatura\"]= temp_aire\n",
    "print(df)"
   ]
  },
  {
   "cell_type": "code",
   "execution_count": 33,
   "metadata": {
    "colab": {
     "base_uri": "https://localhost:8080/"
    },
    "id": "hEhKL7kdNV5m",
    "outputId": "a25df955-4d0c-47d0-f140-10513664a930"
   },
   "outputs": [
    {
     "name": "stdout",
     "output_type": "stream",
     "text": [
      "    temperatura                      fecha\n",
      "0     18.000000 2025-08-28 14:49:55.876758\n",
      "1     29.055829 2025-08-29 14:49:55.876758\n",
      "2     35.449205 2025-08-30 14:49:55.876758\n",
      "3     34.483920 2025-08-31 14:49:55.876758\n",
      "4     26.567053 2025-09-01 14:49:55.876758\n",
      "5     15.037297 2025-09-02 14:49:55.876758\n",
      "6      4.756970 2025-09-03 14:49:55.876758\n",
      "7      0.061479 2025-09-04 14:49:55.876758\n",
      "8      2.931003 2025-09-05 14:49:55.876758\n",
      "9     12.155410 2025-09-06 14:49:55.876758\n",
      "10    23.844590 2025-09-07 14:49:55.876758\n",
      "11    33.068997 2025-09-08 14:49:55.876758\n",
      "12    35.938521 2025-09-09 14:49:55.876758\n",
      "13    31.243030 2025-09-10 14:49:55.876758\n",
      "14    20.962703 2025-09-11 14:49:55.876758\n",
      "15     9.432947 2025-09-12 14:49:55.876758\n",
      "16     1.516080 2025-09-13 14:49:55.876758\n",
      "17     0.550795 2025-09-14 14:49:55.876758\n",
      "18     6.944171 2025-09-15 14:49:55.876758\n",
      "19    18.000000 2025-09-16 14:49:55.876758\n"
     ]
    }
   ],
   "source": [
    "df[\"fecha\"]= fechas\n",
    "print(df)"
   ]
  },
  {
   "cell_type": "code",
   "execution_count": 34,
   "metadata": {
    "colab": {
     "base_uri": "https://localhost:8080/"
    },
    "id": "pkeLi8AVuDUZ",
    "outputId": "9da820e5-89b2-47ee-c6bc-59b95a27822a"
   },
   "outputs": [
    {
     "name": "stdout",
     "output_type": "stream",
     "text": [
      "    temperatura                      fecha  humedad_relativa\n",
      "0     18.000000 2025-08-28 14:49:55.876758         50.600000\n",
      "1     29.055829 2025-08-29 14:49:55.876758         78.239572\n",
      "2     35.449205 2025-08-30 14:49:55.876758         94.223012\n",
      "3     34.483920 2025-08-31 14:49:55.876758         91.809800\n",
      "4     26.567053 2025-09-01 14:49:55.876758         72.017633\n",
      "5     15.037297 2025-09-02 14:49:55.876758         43.193243\n",
      "6      4.756970 2025-09-03 14:49:55.876758         17.492424\n",
      "7      0.061479 2025-09-04 14:49:55.876758          5.753698\n",
      "8      2.931003 2025-09-05 14:49:55.876758         12.927508\n",
      "9     12.155410 2025-09-06 14:49:55.876758         35.988524\n",
      "10    23.844590 2025-09-07 14:49:55.876758         65.211476\n",
      "11    33.068997 2025-09-08 14:49:55.876758         88.272492\n",
      "12    35.938521 2025-09-09 14:49:55.876758         95.446302\n",
      "13    31.243030 2025-09-10 14:49:55.876758         83.707576\n",
      "14    20.962703 2025-09-11 14:49:55.876758         58.006757\n",
      "15     9.432947 2025-09-12 14:49:55.876758         29.182367\n",
      "16     1.516080 2025-09-13 14:49:55.876758          9.390200\n",
      "17     0.550795 2025-09-14 14:49:55.876758          6.976988\n",
      "18     6.944171 2025-09-15 14:49:55.876758         22.960428\n",
      "19    18.000000 2025-09-16 14:49:55.876758         50.600000\n"
     ]
    }
   ],
   "source": [
    "hr = 2.5*temp_aire +5.6\n",
    "\n",
    "df[\"humedad_relativa\"] = hr\n",
    "print(df)"
   ]
  },
  {
   "cell_type": "code",
   "execution_count": 35,
   "metadata": {
    "colab": {
     "base_uri": "https://localhost:8080/"
    },
    "id": "lBC0WyGgvVMG",
    "outputId": "52931016-eeaf-40a1-fe22-929bbeadf8ec"
   },
   "outputs": [
    {
     "name": "stdout",
     "output_type": "stream",
     "text": [
      "60\n",
      "(20, 3)\n",
      "Index(['temperatura', 'fecha', 'humedad_relativa'], dtype='object')\n"
     ]
    }
   ],
   "source": [
    "# numero total de elementos o medidas del data frame\n",
    "print(df.size)\n",
    "\n",
    "# dimensiones del data frame\n",
    "print(df.shape)\n",
    "\n",
    "# nombres de las columnas\n",
    "print(df.columns)"
   ]
  },
  {
   "cell_type": "markdown",
   "metadata": {
    "id": "tKuin15-RkUC"
   },
   "source": [
    "## 2.5. Control de flujo"
   ]
  },
  {
   "cell_type": "markdown",
   "metadata": {
    "id": "QrA6T2SKbE3K"
   },
   "source": [
    "\n",
    "\n",
    "```\n",
    "var_lista01 = [\"hola\", 2024, \"mundo\", 2024.5]\n",
    "                  0      1      2       3\n",
    "```\n",
    "\n"
   ]
  },
  {
   "cell_type": "code",
   "execution_count": 36,
   "metadata": {
    "id": "5SDyCmP0cEiV"
   },
   "outputs": [],
   "source": [
    "var_lista01[0] = \"Hello!\""
   ]
  },
  {
   "cell_type": "code",
   "execution_count": 37,
   "metadata": {
    "colab": {
     "base_uri": "https://localhost:8080/"
    },
    "id": "z3-iN5_pRyAE",
    "outputId": "5f96c771-4bdc-40b6-fd7f-4439e479e366"
   },
   "outputs": [
    {
     "name": "stdout",
     "output_type": "stream",
     "text": [
      "Hello!\n",
      "2024\n"
     ]
    }
   ],
   "source": [
    "print(var_lista01[0])\n",
    "print(var_lista01[1])"
   ]
  },
  {
   "cell_type": "markdown",
   "metadata": {
    "id": "H9rNgj31c4-W"
   },
   "source": [
    "Control de flujo: **for**\n",
    "\n",
    "\n",
    "```\n",
    "for arg01 in arg02:\n",
    "  aplicacion_01\n",
    "  aplicacion_02\n",
    "    ........\n",
    "  aplicacion_n\n",
    "```\n",
    "\n"
   ]
  },
  {
   "cell_type": "markdown",
   "metadata": {
    "id": "J5VSUNDwpXEn"
   },
   "source": [
    ">Control de flujo **for** sobre  **listas**"
   ]
  },
  {
   "cell_type": "code",
   "execution_count": 38,
   "metadata": {
    "colab": {
     "base_uri": "https://localhost:8080/"
    },
    "id": "HAr8xAB7cUHX",
    "outputId": "e4e63dd4-dad3-4974-9914-f90d833ff22a"
   },
   "outputs": [
    {
     "name": "stdout",
     "output_type": "stream",
     "text": [
      "4\n"
     ]
    }
   ],
   "source": [
    "n_elem = len(var_lista01)\n",
    "print(n_elem)"
   ]
  },
  {
   "cell_type": "code",
   "execution_count": 39,
   "metadata": {
    "colab": {
     "base_uri": "https://localhost:8080/"
    },
    "id": "vsoq3omzcULQ",
    "outputId": "8cbd284b-d022-4c6c-c153-255ceef16811"
   },
   "outputs": [
    {
     "name": "stdout",
     "output_type": "stream",
     "text": [
      "Hello!\n",
      "2024\n",
      "mundo\n",
      "Peru 2025\n"
     ]
    }
   ],
   "source": [
    "for i in range(n_elem):\n",
    "  print(var_lista01[i])"
   ]
  },
  {
   "cell_type": "markdown",
   "metadata": {
    "id": "NeKCOlxQppdf"
   },
   "source": [
    ">Control de flujo **for** a  **data frame**"
   ]
  },
  {
   "cell_type": "code",
   "execution_count": null,
   "metadata": {
    "id": "TuKPfR1xpqRw"
   },
   "outputs": [],
   "source": []
  },
  {
   "cell_type": "markdown",
   "metadata": {
    "id": "47u68zUVR0Gf"
   },
   "source": [
    "## 2.6. Funciones: Parte II"
   ]
  },
  {
   "cell_type": "code",
   "execution_count": null,
   "metadata": {
    "id": "_syZMVXVR1Gj"
   },
   "outputs": [],
   "source": []
  },
  {
   "cell_type": "markdown",
   "metadata": {
    "id": "soydKrE0mpsQ"
   },
   "source": [
    "# **III. Referencias**\n",
    "\n",
    "**Libros y manuales**\n",
    "\n",
    "- Libro de estadisitica con python\n",
    "\n",
    "  https://www.editorial-sciela.org/index.php/sciela/article/view/16/49\n",
    "\n",
    "- Introducción a la teoria de probabilidades\n",
    "\n",
    "  https://ciladi.org/wp-content/uploads/Version_final_Introduccion-Probabilidad-Python-vf_Bayas-3.pdf\n",
    "\n",
    "- Guía practica de análsis exploratorio de python\n",
    "\n",
    "  https://datos.gob.es/sites/default/files/doc/file/guia_eda_python.pdf\n",
    "\n",
    "\n",
    "**Cursos en linea**\n",
    "\n",
    "- Estadística W3School:\n",
    "\n",
    "  https://www.w3schools.com/statistics/index.php\n",
    "\n",
    "- Estadística con python:\n",
    "\n",
    "  https://docs.python.org/es/3/library/statistics.html\n",
    "\n",
    "- Kaggle:\n",
    "\n",
    "  https://www.kaggle.com/code/saurav9786/statistics-for-data-scientists\n",
    "\n",
    "**Aplicaciones IA**\n",
    "\n",
    "- Gemini iA\n",
    "\n",
    "  https://gemini.google.com\n",
    "\n",
    "- DeepSeek\n",
    "\n",
    "  https://www.deepseek.com/\n",
    "\n",
    "- Chat GPT\n",
    "\n",
    "  https://chatgpt.com/\n",
    "\n",
    "- Claude IA\n",
    "\n",
    "  https://claude.ai/\n",
    "\n",
    "- Julius IA:\n",
    "\n",
    "  https://julius.ai\n",
    "\n"
   ]
  }
 ],
 "metadata": {
  "colab": {
   "provenance": [],
   "toc_visible": true
  },
  "kernelspec": {
   "display_name": "Python 3",
   "name": "python3"
  },
  "language_info": {
   "codemirror_mode": {
    "name": "ipython",
    "version": 3
   },
   "file_extension": ".py",
   "mimetype": "text/x-python",
   "name": "python",
   "nbconvert_exporter": "python",
   "pygments_lexer": "ipython3",
   "version": "3.13.5"
  }
 },
 "nbformat": 4,
 "nbformat_minor": 0
}