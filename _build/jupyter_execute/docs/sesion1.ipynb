{
 "cells": [
  {
   "cell_type": "markdown",
   "metadata": {
    "id": "aF6cju-OqrtS"
   },
   "source": [
    "# **Programación Básica con Python**"
   ]
  },
  {
   "cell_type": "markdown",
   "metadata": {
    "id": "CUBz2hqKAPmI"
   },
   "source": [
    "# **I. Conceptos básicos de programación**"
   ]
  },
  {
   "cell_type": "markdown",
   "metadata": {
    "id": "GRr6VtxMzbZM"
   },
   "source": [
    "Los conceptos básicos de programación son los fundamentos esenciales que permiten entender y escribir código en cualquier lenguaje de programación. Estos conceptos son la base para desarrollar software y resolver problemas mediante la creación de instrucciones que una computadora puede ejecutar. A continuación, se definen y describen los principales conceptos básicos de programación:"
   ]
  },
  {
   "cell_type": "markdown",
   "metadata": {
    "id": "mB3WDxVwkysc"
   },
   "source": [
    "## 1.1. Tipos de datos"
   ]
  },
  {
   "cell_type": "markdown",
   "metadata": {
    "id": "t4dSPCNStrMU"
   },
   "source": [
    "- **Definición**: Los tipos de datos especifican qué tipo de valor puede almacenar una variable, como números enteros, decimales, cadenas de texto o valores booleanos (verdadero/falso).\n",
    "\n",
    "- **Descripción**: Los tipos de datos determinan las operaciones que se pueden realizar con una variable. Por ejemplo, no puedes sumar directamente un número y una palabra.\n",
    "\n",
    "**Tipos básicos de datos**:\n",
    "- Entero (`int`): `42`\n",
    "- Flotante (`float`): `3.14`\n",
    "- Cadena (`string`): `\"Hola\"`\n",
    "- Booleano (`bool`): `True` o `False`\n",
    "- Especial (`NoneType`): `None`\n",
    "\n"
   ]
  },
  {
   "cell_type": "markdown",
   "metadata": {
    "id": "5BvTVf5rDW5Z"
   },
   "source": [
    "Ejemplos de datos tipo Entero (`int`) y Flotande (`float`)"
   ]
  },
  {
   "cell_type": "code",
   "execution_count": 1,
   "metadata": {
    "colab": {
     "base_uri": "https://localhost:8080/"
    },
    "id": "UIsCEIlIgbdk",
    "outputId": "5c0462dc-b663-4a58-dd1f-a4299c83642b"
   },
   "outputs": [
    {
     "name": "stdout",
     "output_type": "stream",
     "text": [
      "<class 'int'>\n",
      "25\n"
     ]
    }
   ],
   "source": [
    "dato_int = 25\n",
    "dato_float= 20.000001\n",
    "\n",
    "print(type(dato_int))\n",
    "print(dato_int)"
   ]
  },
  {
   "cell_type": "markdown",
   "metadata": {
    "id": "4rCfX3zf6z01"
   },
   "source": [
    "Ejemplo de datos tipo cadena de caracteres (`str`)"
   ]
  },
  {
   "cell_type": "code",
   "execution_count": 2,
   "metadata": {
    "colab": {
     "base_uri": "https://localhost:8080/"
    },
    "id": "qAPgJG_a6xzp",
    "outputId": "595843c3-c4f1-4a72-a7ad-35c930c26921"
   },
   "outputs": [
    {
     "name": "stdout",
     "output_type": "stream",
     "text": [
      "<class 'str'>\n",
      "hola\n"
     ]
    }
   ],
   "source": [
    "dato_str1 = \"hola\"\n",
    "dato_str2 = \"mundo\"\n",
    "dato_str3 = \"2024\"\n",
    "\n",
    "print(type(dato_str1))\n",
    "print(dato_str1)"
   ]
  },
  {
   "cell_type": "markdown",
   "metadata": {
    "id": "tGYV0Ui_69MY"
   },
   "source": [
    "Ejemplo de datos tipo booleano"
   ]
  },
  {
   "cell_type": "code",
   "execution_count": 3,
   "metadata": {
    "colab": {
     "base_uri": "https://localhost:8080/"
    },
    "id": "H-spLSVi69WD",
    "outputId": "1e3cdd8b-e0e6-4a80-ec44-949dc179d8be"
   },
   "outputs": [
    {
     "name": "stdout",
     "output_type": "stream",
     "text": [
      "<class 'bool'>\n",
      "True\n"
     ]
    }
   ],
   "source": [
    "dato_bool1 = True\n",
    "dato_bool2 = False\n",
    "\n",
    "print(type(dato_bool1))\n",
    "print(dato_bool1)\n"
   ]
  },
  {
   "cell_type": "markdown",
   "metadata": {
    "id": "uc-hX3vI7GRK"
   },
   "source": [
    "Ejemplo de datos tipo especial.\n",
    "En Python, `None` es un tipo de dato especial que representa la ausencia de un valor o un valor nulo. No es lo mismo que 0, una cadena vacía (`\"\"`), o `False`."
   ]
  },
  {
   "cell_type": "code",
   "execution_count": 4,
   "metadata": {
    "colab": {
     "base_uri": "https://localhost:8080/"
    },
    "id": "Nmu3rRDu7GZG",
    "outputId": "0ad30b57-b379-447f-ef55-05f254622e34"
   },
   "outputs": [
    {
     "name": "stdout",
     "output_type": "stream",
     "text": [
      "None\n",
      "<class 'NoneType'>\n"
     ]
    }
   ],
   "source": [
    "data_none= None\n",
    "\n",
    "print(data_none)\n",
    "print(type(data_none))"
   ]
  },
  {
   "cell_type": "markdown",
   "metadata": {
    "id": "AEbfwTi24CVY"
   },
   "source": [
    "## 1.2. Variables"
   ]
  },
  {
   "cell_type": "markdown",
   "metadata": {
    "id": "-zRN63ZZ5yV4"
   },
   "source": [
    "- **Definición**: Una variable es un espacio en la memoria de la computadora que almacena un valor, el cual puede cambiar durante la ejecución de un programa.\n",
    "\n",
    "- **Descripción**: Las variables tienen un nombre y un tipo de dato (como números, texto o booleanos). Actúan como contenedores para guardar información que el programa usará o modificará.\n",
    "\n",
    "- **Ejemplo**: En Python, `edad = 25` define una variable llamada `edad` con el valor 25."
   ]
  },
  {
   "cell_type": "markdown",
   "metadata": {
    "id": "l2BtGorVeBy5"
   },
   "source": [
    "## 1.2. Operadores matemáticos"
   ]
  },
  {
   "cell_type": "markdown",
   "metadata": {
    "id": "RUX6Of-cGbo0"
   },
   "source": [
    "En Python, los operadores matemáticos son símbolos especiales que se utilizan para realizar operaciones aritméticas sobre valores (llamados operandos). Estos operadores permiten ejecutar cálculos, manipular números y construir expresiones matemáticas complejas."
   ]
  },
  {
   "cell_type": "code",
   "execution_count": 5,
   "metadata": {
    "colab": {
     "base_uri": "https://localhost:8080/"
    },
    "id": "Rs-wkNHggoys",
    "outputId": "610c1deb-b10f-4bc7-993b-8fdc3789ac5b"
   },
   "outputs": [
    {
     "name": "stdout",
     "output_type": "stream",
     "text": [
      "suma = 45.000001\n",
      "<class 'float'>\n",
      "exponente =  25\n",
      "cociente = 1.8\n",
      "cociente_entero = 1\n",
      "residuo = 4\n"
     ]
    }
   ],
   "source": [
    "# suma\n",
    "suma = dato_int + dato_float\n",
    "\n",
    "# exponencial\n",
    "exponente = 5**2\n",
    "\n",
    "# division\n",
    "cociente = 9/5\n",
    "cociente_entero = 9//5\n",
    "residuo = 9%5\n",
    "\n",
    "print(\"suma =\",suma)\n",
    "print(type(suma))\n",
    "print(\"exponente = \",exponente)\n",
    "print(\"cociente =\", cociente)\n",
    "print(\"cociente_entero =\", cociente_entero)\n",
    "print(\"residuo =\",residuo)"
   ]
  },
  {
   "cell_type": "markdown",
   "metadata": {
    "id": "wP734_5vw62H"
   },
   "source": [
    "## 1.3. Importar paquetes o librerías en Python"
   ]
  },
  {
   "cell_type": "markdown",
   "metadata": {
    "id": "bkPfUbC42jFm"
   },
   "source": [
    "En Python, las librerías y los paquetes son conceptos fundamentales que permiten organizar, reutilizar y compartir código. Aunque a menudo se usan indistintamente, tienen significados técnicos específicos.\n",
    "\n",
    "* **Paquetes**: Un paquete es una forma de organizar módulos de Python en directorios (carpetas). Un directorio se considera un paquete si contiene un archivo llamado` __init__.py`. Este archivo, que puede estar vacío, le dice a Python que el directorio debe ser tratado como un paquete. Los paquetes se utilizan para agrupar módulos relacionados y crear una estructura jerárquica, lo que facilita la gestión de proyectos grandes.\n",
    "\n",
    "* **Librerías**: Una librería (o biblioteca) es un término más general que se refiere a una colección de código ya escrito que puedes usar en tu propio programa. Las librerías de Python se distribuyen comúnmente como paquetes, pero el término \"librería\" se enfoca en la funcionalidad que proporcionan. Por ejemplo, **Pandas** y **Numpy** son librerías muy populares que se instalan como paquetes.\n",
    "\n",
    ":::{figure} https://github.com/vrrp/sachabook_modulo1/blob/main/docs/images/preambulo/cajaHerramientas.png?raw=true\n",
    ":name: fig:cajaHerramientas\n",
    ":align: center\n",
    "\n",
    ":::\n",
    "\n",
    "```\n",
    "paquete:\n",
    "        aplicacion_01\n",
    "        aplicacion_02\n",
    "        . . . . . . .\n",
    "        aplicacion_n\n",
    "```\n",
    "\n",
    "Formas de importar un paquete y sus aplicaciones\n",
    "\n",
    "**Primera forma**\n",
    "```\n",
    "import paquete as pp\n",
    "\n",
    "var = paquete.aplicacion_01(arg)\n",
    "```\n",
    "\n",
    "**Segunda forma**\n",
    "```\n",
    "import paquete as pp\n",
    "\n",
    "var = pp.aplicacion_01(arg)\n",
    "```\n",
    "\n",
    "**Tercera forma**\n",
    "```\n",
    "from paquete import (aplicacion_01, aplicacion_04)\n",
    "\n",
    "var_01 = aplicacion_01(arg)\n",
    "var_02 = aplicacion_04(arg)\n",
    "```"
   ]
  },
  {
   "cell_type": "code",
   "execution_count": 6,
   "metadata": {
    "colab": {
     "base_uri": "https://localhost:8080/"
    },
    "id": "Z1ub1j7NhJb2",
    "outputId": "d294bd2e-5d1a-401f-d434-34e099f4a818"
   },
   "outputs": [
    {
     "name": "stdout",
     "output_type": "stream",
     "text": [
      "3.141592653589793\n",
      "3.141592653589793\n",
      "2.718281828459045\n",
      "2.718281828459045\n"
     ]
    }
   ],
   "source": [
    "import math\n",
    "import numpy as np\n",
    "\n",
    "pi_math = math.pi\n",
    "pi_np = np.pi\n",
    "print(pi_math)\n",
    "print(pi_np)\n",
    "\n",
    "n_euler_math = math.e\n",
    "n_euler_np = np.e\n",
    "print(n_euler_math)\n",
    "print(n_euler_np)"
   ]
  },
  {
   "cell_type": "markdown",
   "metadata": {
    "id": "Yy8UfA4DBHRK"
   },
   "source": [
    "## 1.4. Funciones algebraicas\n",
    "\n",
    "Una función algebraica es un tipo de función matemática que puede ser definida mediante operaciones algebraicas básicas: suma, resta, multiplicación, división, potenciación (con exponentes racionales) y radicación. En otras palabras, son funciones que se pueden expresar a través de un número finito de estas operaciones, a partir de la variable independiente\n",
    "\n",
    "Las funciones que no se pueden construir de esta manera se conocen como funciones trascendentes, y estas incluyen las funciones trigonométricas (seno, coseno), exponenciales y logarítmicas."
   ]
  },
  {
   "cell_type": "markdown",
   "metadata": {
    "id": "Xav56FXZETpG"
   },
   "source": [
    "**Exponencial**\n",
    "\n",
    "$ y=f(x) = b^{x}$"
   ]
  },
  {
   "cell_type": "code",
   "execution_count": 7,
   "metadata": {
    "colab": {
     "base_uri": "https://localhost:8080/"
    },
    "id": "_nexlWVTET2J",
    "outputId": "c4b181ef-da92-4fae-c5bd-411ae1dd0120"
   },
   "outputs": [
    {
     "name": "stdout",
     "output_type": "stream",
     "text": [
      "15.154262241479259\n"
     ]
    }
   ],
   "source": [
    "y1 = n_euler_math**n_euler_np\n",
    "print(y1)"
   ]
  },
  {
   "cell_type": "markdown",
   "metadata": {
    "id": "RZtdvnjKE7ZK"
   },
   "source": [
    "**Valor absoluto**\n",
    "\n",
    "si: $x<0, y = f(x) = |x| = (-1) \\times x$\n",
    "\n",
    "si: $x>0, y = f(x) = |x| = x$"
   ]
  },
  {
   "cell_type": "code",
   "execution_count": 8,
   "metadata": {
    "colab": {
     "base_uri": "https://localhost:8080/"
    },
    "id": "QpI6EKXnE7nX",
    "outputId": "191298c1-41d0-4c89-a17e-8cfed7480e27"
   },
   "outputs": [
    {
     "name": "stdout",
     "output_type": "stream",
     "text": [
      "25\n"
     ]
    }
   ],
   "source": [
    "# funcion valor absoluto\n",
    "y2 = np.abs(-1*dato_int)\n",
    "print(y2)"
   ]
  },
  {
   "cell_type": "markdown",
   "metadata": {
    "id": "GnO__b5bFuUq"
   },
   "source": [
    "**Raíz cuadrada**\n",
    "\n",
    "$y=f(x) = \\sqrt{x} = x^{\\frac{1}{2}}$"
   ]
  },
  {
   "cell_type": "code",
   "execution_count": 9,
   "metadata": {
    "colab": {
     "base_uri": "https://localhost:8080/"
    },
    "id": "Rk1RlquPFuga",
    "outputId": "00d8b870-bd66-4f94-fbf3-fda6788953f6"
   },
   "outputs": [
    {
     "name": "stdout",
     "output_type": "stream",
     "text": [
      "5.0\n"
     ]
    }
   ],
   "source": [
    "#funcion raiz cuadrada\n",
    "y3 = np.sqrt(dato_int)\n",
    "print(y3)"
   ]
  },
  {
   "cell_type": "markdown",
   "metadata": {
    "id": "VGTKdjsyGadG"
   },
   "source": [
    "**Raiz general**\n",
    "\n",
    "y = f(x) = $\\sqrt[n]{x^m}= \\frac{m}{n}$"
   ]
  },
  {
   "cell_type": "code",
   "execution_count": 10,
   "metadata": {
    "colab": {
     "base_uri": "https://localhost:8080/"
    },
    "id": "WWjWS8rpGam-",
    "outputId": "df3ed6c3-a5cd-4ce1-da21-60116a4c7b15"
   },
   "outputs": [
    {
     "name": "stdout",
     "output_type": "stream",
     "text": [
      "4.999999999999999\n"
     ]
    }
   ],
   "source": [
    "y4 = 125**(1/3)\n",
    "print(y4)"
   ]
  },
  {
   "cell_type": "markdown",
   "metadata": {
    "id": "B470V5e_HgNt"
   },
   "source": [
    "**Logaritmo**\n",
    "\n",
    "$y = log_{b}x $\n",
    "\n",
    "$x = b^y$"
   ]
  },
  {
   "cell_type": "code",
   "execution_count": 11,
   "metadata": {
    "colab": {
     "base_uri": "https://localhost:8080/"
    },
    "id": "8WLUCF5phBaA",
    "outputId": "3b660f55-fa2d-492d-9036-66f2fe246e39"
   },
   "outputs": [
    {
     "name": "stdout",
     "output_type": "stream",
     "text": [
      "1.0\n",
      "1.0\n",
      "1.0\n"
     ]
    }
   ],
   "source": [
    "# funcion logaritmo de 10 en base 10\n",
    "y5 = np.log10(10)\n",
    "print(y5)\n",
    "\n",
    "# funcion logaritmo de 2 en base 2\n",
    "y6 = np.log2(2)\n",
    "print(y6)\n",
    "\n",
    "# funcion logaritmo de e en base e\n",
    "y7 = np.log(n_euler_np)\n",
    "print(y7)"
   ]
  },
  {
   "cell_type": "markdown",
   "metadata": {
    "id": "sre1z5_3eRLu"
   },
   "source": [
    "## 1.5. Operadores de comparación\n",
    "Los operadores de comparación son símbolos que se utilizan en la programación y las matemáticas para comparar dos valores. Estos operadores evalúan la relación entre los valores y devuelven un resultado booleano: `True` (verdadero) si la comparación es correcta, o `False` (falso) si no lo es. Son fundamentales en la lógica de control de flujo, ya que determinan el camino que debe seguir un programa, por ejemplo, en sentencias if, else o while."
   ]
  },
  {
   "cell_type": "code",
   "execution_count": 12,
   "metadata": {
    "colab": {
     "base_uri": "https://localhost:8080/"
    },
    "id": "T87u0UAkgt_9",
    "outputId": "1a4560e9-adef-43ee-d7aa-1f12c56e1da9"
   },
   "outputs": [
    {
     "name": "stdout",
     "output_type": "stream",
     "text": [
      "<class 'bool'> False\n",
      "<class 'bool'> True\n",
      "<class 'bool'> True\n",
      "<class 'bool'> False\n",
      "<class 'bool'> True\n",
      "<class 'bool'> False\n"
     ]
    }
   ],
   "source": [
    "# operadores relacionales\n",
    "# comparacion (==)\n",
    "comp01 = dato_int == dato_float\n",
    "\n",
    "# diferencia (!=)\n",
    "comp02 = dato_int != dato_float\n",
    "\n",
    "# mayor que  (>)\n",
    "comp03 = dato_int > dato_float\n",
    "\n",
    "# menor que  (<)\n",
    "comp04 = dato_int < dato_float\n",
    "\n",
    "# mayor o igual que  (>=)\n",
    "comp05 = dato_int >= dato_float\n",
    "\n",
    "# menor o igual que  (<=)\n",
    "comp06 = dato_int <= dato_float\n",
    "\n",
    "print(type(comp01), comp01)\n",
    "print(type(comp02), comp02)\n",
    "print(type(comp03), comp03)\n",
    "print(type(comp04), comp04)\n",
    "print(type(comp05), comp05)\n",
    "print(type(comp06), comp06)"
   ]
  },
  {
   "cell_type": "markdown",
   "metadata": {
    "id": "MgDuU21Uebv3"
   },
   "source": [
    "## 1.6. Estrucuturas de Control I: Condicionales `if`, `else` y `elif`"
   ]
  },
  {
   "cell_type": "markdown",
   "metadata": {
    "id": "8r9g7WPoO1FJ"
   },
   "source": [
    "Las estructuras de control en Python son construcciones de programación que permiten modificar el flujo de ejecución de un programa. En lugar de ejecutar las instrucciones de forma secuencial de arriba a abajo, estas estructuras dirigen el programa para que tome decisiones, repita acciones o ejecute bloques de código específicos.\n",
    "\n",
    "Las estructuras de control condicionales también denominadas estructuras de selección, permiten que el programa tome decisiones. El bloque de código sólo se ejecuta si se cumple una condición específica."
   ]
  },
  {
   "cell_type": "code",
   "execution_count": 13,
   "metadata": {
    "colab": {
     "base_uri": "https://localhost:8080/"
    },
    "id": "Rwi9Vu8Jhdpn",
    "outputId": "3c4e1604-bd5e-47a2-a652-9fe2e09bcd84"
   },
   "outputs": [
    {
     "name": "stdout",
     "output_type": "stream",
     "text": [
      "var es entero\n",
      "segunda accion de if\n"
     ]
    }
   ],
   "source": [
    "# condicionales: if, elif, else\n",
    "var = 23\n",
    "\n",
    "if type(var)==int:\n",
    "  print(\"var es entero\")\n",
    "  print(\"segunda accion de if\")\n",
    "else:\n",
    "  print(\"var no es un numero entero\")"
   ]
  },
  {
   "cell_type": "code",
   "execution_count": 14,
   "metadata": {
    "colab": {
     "base_uri": "https://localhost:8080/"
    },
    "id": "eBWy8gcrhlDi",
    "outputId": "884152b8-e5bc-4f7a-dfce-0ad9a8e92512"
   },
   "outputs": [
    {
     "name": "stdout",
     "output_type": "stream",
     "text": [
      "(3) 7 == 7 True\n"
     ]
    }
   ],
   "source": [
    "# condicionales: if, elif, else\n",
    "a = 7\n",
    "b = 7\n",
    "\n",
    "if a > b:\n",
    "    print(\"(1)\", a,\">\",b ,a > b)\n",
    "\n",
    "elif a < b:\n",
    "    print(\"(2)\", a,\"<\",b ,a < b)\n",
    "\n",
    "elif a == b:\n",
    "    print(\"(3)\", a,\"==\",b ,a == b)"
   ]
  },
  {
   "cell_type": "markdown",
   "metadata": {
    "id": "NnfLSuLUe1Gn"
   },
   "source": [
    "## 1.7. Funciones: Parte I\n",
    "\n",
    "En Python, una función es un bloque de código reutilizable que realiza una tarea específica. Se define con la palabra clave `def`, seguida del nombre de la función y paréntesis (). Las funciones pueden recibir datos como parámetros y devolver un resultado\n",
    "\n"
   ]
  },
  {
   "cell_type": "markdown",
   "metadata": {
    "id": "tEpVd2RWbowb"
   },
   "source": [
    "**Ejemplo**: Implementar una función `area_cuadrado` para determinar el área de un cuadrado, ecuación xx.\n",
    "\n",
    "\\begin{align}\n",
    "area_{cuad} = l^{2}\n",
    "\\end{align}\n",
    "\n",
    ":::{math}\n",
    ":name: eq:pfinal\n",
    " PF = \\sum_{i=1}^n  \\frac{lab_{(i)} }{n}\n",
    ":::"
   ]
  },
  {
   "cell_type": "code",
   "execution_count": 15,
   "metadata": {
    "id": "tmrVYVakhvNa"
   },
   "outputs": [],
   "source": [
    "def area_cuadrado(lado):\n",
    "  area = lado**2\n",
    "  return area"
   ]
  },
  {
   "cell_type": "code",
   "execution_count": 16,
   "metadata": {
    "colab": {
     "base_uri": "https://localhost:8080/"
    },
    "id": "J8r4mgz31cH8",
    "outputId": "ce968c0a-3c43-459b-f6b9-f3cf6eb3323c"
   },
   "outputs": [
    {
     "name": "stdout",
     "output_type": "stream",
     "text": [
      "16\n"
     ]
    }
   ],
   "source": [
    "ac1 = area_cuadrado(4)\n",
    "print(ac1)"
   ]
  },
  {
   "cell_type": "markdown",
   "metadata": {
    "id": "fF-4tWY6dO7e"
   },
   "source": [
    "**Ejemplo**: Implementar la función convert_temp para convertir valores de temperatura de grados Celsius a la escala Kelvin y Fahrenheit.\n",
    "\n",
    "$K = °C + 273.15 $\n",
    "\n",
    "$F = \\frac{9}{5}\\times°C +32$"
   ]
  },
  {
   "cell_type": "code",
   "execution_count": 17,
   "metadata": {
    "id": "Kr4PZNR0h3VW"
   },
   "outputs": [],
   "source": [
    "def convert_temp(tc, tipo):\n",
    "  if tipo==\"K\":\n",
    "    temp = tc + 273.15\n",
    "\n",
    "  elif tipo==\"F\":\n",
    "    temp = 9/5*tc + 32\n",
    "\n",
    "  return temp\n"
   ]
  },
  {
   "cell_type": "code",
   "execution_count": 18,
   "metadata": {
    "colab": {
     "base_uri": "https://localhost:8080/"
    },
    "id": "Y3_tOBH1h63y",
    "outputId": "e05fa0b2-c2ad-4a7e-f790-d5ce8d81b434"
   },
   "outputs": [
    {
     "data": {
      "text/plain": [
       "212.0"
      ]
     },
     "execution_count": 18,
     "metadata": {},
     "output_type": "execute_result"
    }
   ],
   "source": [
    "convert_temp(100, \"F\")\n"
   ]
  },
  {
   "cell_type": "code",
   "execution_count": 19,
   "metadata": {
    "id": "whKO3swBd0Sh"
   },
   "outputs": [],
   "source": [
    "temp_F = convert_temp(100, \"F\")"
   ]
  },
  {
   "cell_type": "code",
   "execution_count": 20,
   "metadata": {
    "colab": {
     "base_uri": "https://localhost:8080/"
    },
    "id": "m93li4wAd7E4",
    "outputId": "0438403e-fddb-48b7-fbe7-6e0e9c773b60"
   },
   "outputs": [
    {
     "name": "stdout",
     "output_type": "stream",
     "text": [
      "212.0\n"
     ]
    }
   ],
   "source": [
    "print(temp_F)"
   ]
  },
  {
   "cell_type": "markdown",
   "metadata": {
    "id": "QBDDGo6Zcokb"
   },
   "source": [
    "# **II. Estructura de datos**\n",
    "Una **estructura de datos** es una forma de organizar y almacenar información en la memoria de una computadora para que pueda ser utilizada de manera eficiente. En Python, estos objetos permiten manejar colecciones de datos, facilitando tareas como buscar, ordenar, insertar y eliminar elementos."
   ]
  },
  {
   "cell_type": "markdown",
   "metadata": {
    "id": "14aaXz81hSMT"
   },
   "source": []
  },
  {
   "cell_type": "markdown",
   "metadata": {
    "id": "IL9t0pqGiGXp"
   },
   "source": [
    "## 2.1. Cadenas\n",
    "En Python, una cadena es una secuencia inmutable de caracteres. Esto significa que una vez que se crea una cadena, su contenido no se puede cambiar. Las cadenas se utilizan para representar texto, como nombres, oraciones, o cualquier otro tipo de dato textual."
   ]
  },
  {
   "cell_type": "code",
   "execution_count": 21,
   "metadata": {
    "colab": {
     "base_uri": "https://localhost:8080/"
    },
    "id": "mMBHEIG-sR44",
    "outputId": "f582ce38-a449-4fd9-9cb4-80537255a211"
   },
   "outputs": [
    {
     "name": "stdout",
     "output_type": "stream",
     "text": [
      "las estaciones del año son: verano, otoño, invierno y primavera\n",
      "63\n",
      " estaciones\n",
      "<class 'str'>\n"
     ]
    }
   ],
   "source": [
    "# Estructuras tipo cadena de caracteres\n",
    "var_cadena = \"las estaciones del año son: verano, otoño, invierno y primavera\"\n",
    "\n",
    "print(var_cadena)\n",
    "print(len(var_cadena))\n",
    "\n",
    "print(var_cadena[3:14])\n",
    "print(type(var_cadena))"
   ]
  },
  {
   "cell_type": "code",
   "execution_count": 22,
   "metadata": {
    "colab": {
     "base_uri": "https://localhost:8080/"
    },
    "id": "KUrTh14d6Vhf",
    "outputId": "f5813356-c1ce-4ac2-b832-d2e4dafad0b2"
   },
   "outputs": [
    {
     "name": "stdout",
     "output_type": "stream",
     "text": [
      "algunos departamentos de Perú son: Lima, Ica, Arequipa y Tacna\n",
      "62\n",
      "Lima\n",
      "<class 'str'>\n"
     ]
    }
   ],
   "source": [
    "departamentos_peru = \"algunos departamentos de Perú son: Lima, Ica, Arequipa y Tacna\"\n",
    "\n",
    "print(departamentos_peru)\n",
    "print(len(departamentos_peru))\n",
    "print(departamentos_peru[35:39])\n",
    "print(type(departamentos_peru))\n"
   ]
  },
  {
   "cell_type": "code",
   "execution_count": 23,
   "metadata": {
    "colab": {
     "base_uri": "https://localhost:8080/"
    },
    "id": "n5IHBFQH8zWy",
    "outputId": "49dd6183-3b6a-41d1-9239-00b25ef8d21e"
   },
   "outputs": [
    {
     "name": "stdout",
     "output_type": "stream",
     "text": [
      "['algunos', 'departamentos', 'de', 'Perú', 'son:', 'Lima,', 'Ica,', 'Arequipa', 'y', 'Tacna']\n",
      "<class 'list'>\n"
     ]
    }
   ],
   "source": [
    "separar_frase = departamentos_peru.split(\" \")\n",
    "\n",
    "print(separar_frase)\n",
    "print(type(separar_frase))"
   ]
  },
  {
   "cell_type": "markdown",
   "metadata": {
    "id": "WWIUrs0NiN_g"
   },
   "source": [
    "## 2.2. Listas\n",
    "Las listas son colecciones ordenadas y mutables, lo que significa que puedes añadir, eliminar o modificar elementos después de su creación. Son muy versátiles y se usan comúnmente para almacenar elementos del mismo tipo, aunque pueden contener datos de diferentes tipos."
   ]
  },
  {
   "cell_type": "code",
   "execution_count": 24,
   "metadata": {
    "colab": {
     "base_uri": "https://localhost:8080/"
    },
    "id": "VTi4J4S8sai7",
    "outputId": "864a0c0d-8499-4c21-85f2-95030c5060c3"
   },
   "outputs": [
    {
     "name": "stdout",
     "output_type": "stream",
     "text": [
      "['hola', 2024, 'mundo', 2024.5]\n",
      "4\n",
      "hola\n",
      "['hola', 2024, 'mundo', 'Peru 2025']\n",
      "<class 'int'>\n"
     ]
    }
   ],
   "source": [
    "# listas\n",
    "lista_01 = [\"hola\", 2024, \"mundo\", 2024.5]\n",
    "\n",
    "print(lista_01)\n",
    "print(len(lista_01))\n",
    "print(lista_01[0])\n",
    "\n",
    "lista_01[3]= \"Peru 2025\"\n",
    "print(lista_01)\n",
    "\n",
    "print(type(lista_01[1]))"
   ]
  },
  {
   "cell_type": "markdown",
   "metadata": {
    "id": "tadKhSASLNSM"
   },
   "source": [
    "Operaciones con listas"
   ]
  },
  {
   "cell_type": "code",
   "execution_count": 25,
   "metadata": {
    "id": "NizPnfLPUjQu"
   },
   "outputs": [],
   "source": [
    "lista_02 = [12,3,3,2]\n",
    "\n",
    "lista_03 = [1,2,3,4]"
   ]
  },
  {
   "cell_type": "markdown",
   "metadata": {
    "id": "xho-RPtsM6E5"
   },
   "source": [
    "Concatenar o juntar dos listas"
   ]
  },
  {
   "cell_type": "code",
   "execution_count": 26,
   "metadata": {
    "colab": {
     "base_uri": "https://localhost:8080/"
    },
    "id": "uxBHNK6fU0Pb",
    "outputId": "ce719ce1-396e-4766-a5fe-e2f5ada09354"
   },
   "outputs": [
    {
     "name": "stdout",
     "output_type": "stream",
     "text": [
      "[12, 3, 3, 2, 1, 2, 3, 4]\n"
     ]
    }
   ],
   "source": [
    "suma_lista23 = lista_02 + lista_03\n",
    "print(suma_lista23)"
   ]
  },
  {
   "cell_type": "markdown",
   "metadata": {
    "id": "z0hNYMcvNABE"
   },
   "source": [
    "reproducir una lista"
   ]
  },
  {
   "cell_type": "code",
   "execution_count": 27,
   "metadata": {
    "colab": {
     "base_uri": "https://localhost:8080/"
    },
    "id": "aCRXt9PpWAaX",
    "outputId": "188b9ebb-e754-41a3-9fff-edb0a7ac5990"
   },
   "outputs": [
    {
     "name": "stdout",
     "output_type": "stream",
     "text": [
      "[1, 2, 3, 4, 1, 2, 3, 4, 1, 2, 3, 4]\n"
     ]
    }
   ],
   "source": [
    "prod_lista23 = 3* lista_03\n",
    "print(prod_lista23)"
   ]
  },
  {
   "cell_type": "markdown",
   "metadata": {
    "id": "hQ7_4bc6MbyS"
   },
   "source": [
    "Agregar o insertar datos nuevos en una lista"
   ]
  },
  {
   "cell_type": "code",
   "execution_count": 28,
   "metadata": {
    "colab": {
     "base_uri": "https://localhost:8080/"
    },
    "id": "zd16t3DMMb__",
    "outputId": "2ade5981-3f8d-482f-89c6-488882d5e070"
   },
   "outputs": [
    {
     "name": "stdout",
     "output_type": "stream",
     "text": [
      "[12, 3, 3, 2, 10]\n"
     ]
    }
   ],
   "source": [
    "lista_02.append(10)\n",
    "print(lista_02)"
   ]
  },
  {
   "cell_type": "code",
   "execution_count": 29,
   "metadata": {
    "colab": {
     "base_uri": "https://localhost:8080/"
    },
    "id": "3L6jZh1hMidd",
    "outputId": "a5442554-7673-419a-836c-87f83bfb3dca"
   },
   "outputs": [
    {
     "name": "stdout",
     "output_type": "stream",
     "text": [
      "[12, 3, 3, 2, 10, 'hola tierra', '2024']\n"
     ]
    }
   ],
   "source": [
    "lista_02.append(\"hola tierra\")\n",
    "lista_02.append(\"2024\")\n",
    "print(lista_02)"
   ]
  },
  {
   "cell_type": "markdown",
   "metadata": {
    "id": "-GClABMlNN-m"
   },
   "source": [
    "Insertar o agregar un dato nuevo en una posición específica de una lista"
   ]
  },
  {
   "cell_type": "code",
   "execution_count": 30,
   "metadata": {
    "colab": {
     "base_uri": "https://localhost:8080/"
    },
    "id": "nlWDQPN3NOJx",
    "outputId": "4004baf6-ea9b-4580-a485-06417f1b5885"
   },
   "outputs": [
    {
     "name": "stdout",
     "output_type": "stream",
     "text": [
      "[12, 3, 3, 2, 10, 'hola tierra', 'siempre feliz', '2024']\n"
     ]
    }
   ],
   "source": [
    "lista_02.insert(6, \"siempre feliz\")\n",
    "\n",
    "print(lista_02)"
   ]
  },
  {
   "cell_type": "markdown",
   "metadata": {
    "id": "2rcDNJfWiRDN"
   },
   "source": [
    "## 2.3. Array 1D\n",
    "\n",
    "Un array 1D de NumPy es una estructura de datos fundamental en la biblioteca NumPy de Python, diseñada para almacenar una colección de elementos del mismo tipo de datos, como números enteros o de punto flotante. A diferencia de las listas estándar de Python, los arrays de NumPy están optimizados para operaciones matemáticas y científicas, lo que los hace significativamente más rápidos y eficientes en el manejo de grandes volúmenes de datos numéricos."
   ]
  },
  {
   "cell_type": "code",
   "execution_count": 31,
   "metadata": {
    "colab": {
     "base_uri": "https://localhost:8080/"
    },
    "id": "X29sQVzotB-K",
    "outputId": "180aa08d-5ba1-4518-8f89-73c17fd8f7f2"
   },
   "outputs": [
    {
     "name": "stdout",
     "output_type": "stream",
     "text": [
      "[ 1  2  3  4  5  6  7  8  9 10 11 12]\n",
      "<class 'numpy.ndarray'>\n",
      "12\n"
     ]
    }
   ],
   "source": [
    "import numpy as np\n",
    "\n",
    "# array 1D: np.array()\n",
    "array_meses_num = np.array([1,2,3,4,5,6,7,8,9,10,11,12])\n",
    "\n",
    "print(array_meses_num)\n",
    "print(type(array_meses_num))\n",
    "print(len(array_meses_num))"
   ]
  },
  {
   "cell_type": "markdown",
   "metadata": {
    "id": "XjG0KtU2RnCX"
   },
   "source": [
    "Generar un array usando la función `arange` del paquete Numpy"
   ]
  },
  {
   "cell_type": "code",
   "execution_count": 32,
   "metadata": {
    "colab": {
     "base_uri": "https://localhost:8080/"
    },
    "id": "pAlNpDNktd4p",
    "outputId": "9f5eb3e4-df8d-4d8e-ca5b-d1b7dc858bb7"
   },
   "outputs": [
    {
     "name": "stdout",
     "output_type": "stream",
     "text": [
      "[-20.  -19.5 -19.  -18.5 -18.  -17.5 -17.  -16.5 -16.  -15.5 -15.  -14.5\n",
      " -14.  -13.5 -13.  -12.5 -12.  -11.5 -11.  -10.5 -10.   -9.5  -9.   -8.5\n",
      "  -8.   -7.5  -7.   -6.5  -6.   -5.5  -5.   -4.5  -4.   -3.5  -3.   -2.5\n",
      "  -2.   -1.5  -1.   -0.5   0.    0.5   1.    1.5   2.    2.5   3.    3.5\n",
      "   4.    4.5   5.    5.5   6.    6.5   7.    7.5   8.    8.5   9.    9.5]\n",
      "60\n"
     ]
    }
   ],
   "source": [
    "# array 1D: np.arange(val_i, num_vals, incremento)\n",
    "array_arange01 = np.arange(-20, 10, 0.5)\n",
    "\n",
    "print(array_arange01)\n",
    "print(len(array_arange01))"
   ]
  },
  {
   "cell_type": "markdown",
   "metadata": {
    "id": "oRJpsh_MRwhK"
   },
   "source": [
    "Generar un array usando la función `zeros` del paquete Numpy"
   ]
  },
  {
   "cell_type": "code",
   "execution_count": 33,
   "metadata": {
    "colab": {
     "base_uri": "https://localhost:8080/"
    },
    "id": "RP4QqQk_tvZ6",
    "outputId": "25bccac1-8381-4f16-c828-11ab256cacc2"
   },
   "outputs": [
    {
     "name": "stdout",
     "output_type": "stream",
     "text": [
      "[0. 0. 0. 0.]\n",
      "<class 'numpy.ndarray'>\n",
      "4\n",
      "1\n",
      "(4,)\n"
     ]
    }
   ],
   "source": [
    "# array 1D: np.zeros()\n",
    "array_zeros01 = np.zeros(4)\n",
    "\n",
    "print(array_zeros01)\n",
    "print(type(array_zeros01))\n",
    "print(len(array_zeros01))\n",
    "print(np.ndim(array_zeros01))\n",
    "print(np.shape(array_zeros01))"
   ]
  },
  {
   "cell_type": "markdown",
   "metadata": {
    "id": "VfrD9NmXSDt3"
   },
   "source": [
    "Remplazar todos los valores de un array con valores `nan`"
   ]
  },
  {
   "cell_type": "code",
   "execution_count": 34,
   "metadata": {
    "colab": {
     "base_uri": "https://localhost:8080/"
    },
    "id": "9w6OPKyrO8Nx",
    "outputId": "39e43b97-56b7-4e91-9fdb-44c500ed8c19"
   },
   "outputs": [
    {
     "name": "stdout",
     "output_type": "stream",
     "text": [
      "[nan nan nan nan]\n"
     ]
    }
   ],
   "source": [
    "array_zeros01[...] = np.nan\n",
    "print(array_zeros01)"
   ]
  },
  {
   "cell_type": "markdown",
   "metadata": {
    "id": "MlTCdwqyO76A"
   },
   "source": [
    "Editar array `nan` con datos numéricos"
   ]
  },
  {
   "cell_type": "code",
   "execution_count": 35,
   "metadata": {
    "colab": {
     "base_uri": "https://localhost:8080/"
    },
    "id": "TkXPdKTWSD5P",
    "outputId": "a25c3162-7102-46c2-db99-a271e1b50113"
   },
   "outputs": [
    {
     "name": "stdout",
     "output_type": "stream",
     "text": [
      "2024\n"
     ]
    },
    {
     "ename": "NameError",
     "evalue": "name 'var_lista01' is not defined",
     "output_type": "error",
     "traceback": [
      "\u001b[31m---------------------------------------------------------------------------\u001b[39m",
      "\u001b[31mNameError\u001b[39m                                 Traceback (most recent call last)",
      "\u001b[36mCell\u001b[39m\u001b[36m \u001b[39m\u001b[32mIn[35]\u001b[39m\u001b[32m, line 3\u001b[39m\n\u001b[32m      1\u001b[39m \u001b[38;5;28mprint\u001b[39m(lista_01[\u001b[32m1\u001b[39m])\n\u001b[32m----> \u001b[39m\u001b[32m3\u001b[39m array_zeros01[\u001b[32m2\u001b[39m]= \u001b[43mvar_lista01\u001b[49m[\u001b[32m1\u001b[39m]\n\u001b[32m      4\u001b[39m \u001b[38;5;28mprint\u001b[39m(array_zeros01)\n",
      "\u001b[31mNameError\u001b[39m: name 'var_lista01' is not defined"
     ]
    }
   ],
   "source": [
    "print(lista_01[1])\n",
    "\n",
    "array_zeros01[2]= var_lista01[1]\n",
    "print(array_zeros01)"
   ]
  },
  {
   "cell_type": "markdown",
   "metadata": {
    "id": "8ni6TgWLVwgQ"
   },
   "source": [
    "Operaciones con arrays."
   ]
  },
  {
   "cell_type": "code",
   "execution_count": 172,
   "metadata": {
    "colab": {
     "base_uri": "https://localhost:8080/"
    },
    "id": "1hzJaV-oVwpe",
    "outputId": "20bae4a7-5440-4d84-ab22-fc6ac1df4ec2"
   },
   "outputs": [
    {
     "name": "stdout",
     "output_type": "stream",
     "text": [
      "[ 2  4  6  8 10 12 14 16 18 20 22 24]\n"
     ]
    }
   ],
   "source": [
    "prod_escalar = 2*array_meses_num\n",
    "print(prod_escalar)"
   ]
  },
  {
   "cell_type": "markdown",
   "metadata": {
    "id": "ADMYySbWWHHt"
   },
   "source": []
  },
  {
   "cell_type": "code",
   "execution_count": 177,
   "metadata": {
    "colab": {
     "base_uri": "https://localhost:8080/"
    },
    "id": "Q2NDFzNRm0QB",
    "outputId": "dfb2c13c-ff40-4f4b-a48c-47228685acc5"
   },
   "outputs": [
    {
     "name": "stdout",
     "output_type": "stream",
     "text": [
      "[10.  10.5 11.  11.5 12.  12.5 13.  13.5 14.  14.5 15.  15.5 16.  16.5\n",
      " 17.  17.5 18.  18.5 19.  19.5 20.  20.5 21.  21.5 22.  22.5 23.  23.5\n",
      " 24.  24.5 25.  25.5 26.  26.5 27.  27.5 28.  28.5 29.  29.5 30.  30.5\n",
      " 31.  31.5 32.  32.5 33.  33.5 34.  34.5]\n"
     ]
    }
   ],
   "source": [
    "temp_aire = np.arange(10, 35, 0.5)\n",
    "print(temp_aire)"
   ]
  },
  {
   "cell_type": "markdown",
   "metadata": {
    "id": "iwseHD-HWIhp"
   },
   "source": [
    "Generar fechas dato usando la función `date_range` del paquete Pandas."
   ]
  },
  {
   "cell_type": "code",
   "execution_count": 178,
   "metadata": {
    "colab": {
     "base_uri": "https://localhost:8080/"
    },
    "id": "33Aen7mfTgD1",
    "outputId": "db4cc80f-98e5-4096-8cfa-c25b52d0469d"
   },
   "outputs": [
    {
     "name": "stdout",
     "output_type": "stream",
     "text": [
      "DatetimeIndex(['1984-01-01', '1984-01-02', '1984-01-03', '1984-01-04',\n",
      "               '1984-01-05', '1984-01-06', '1984-01-07', '1984-01-08',\n",
      "               '1984-01-09', '1984-01-10', '1984-01-11', '1984-01-12',\n",
      "               '1984-01-13', '1984-01-14', '1984-01-15', '1984-01-16',\n",
      "               '1984-01-17', '1984-01-18', '1984-01-19', '1984-01-20',\n",
      "               '1984-01-21', '1984-01-22', '1984-01-23', '1984-01-24',\n",
      "               '1984-01-25', '1984-01-26', '1984-01-27', '1984-01-28',\n",
      "               '1984-01-29', '1984-01-30', '1984-01-31', '1984-02-01',\n",
      "               '1984-02-02', '1984-02-03', '1984-02-04', '1984-02-05',\n",
      "               '1984-02-06', '1984-02-07', '1984-02-08', '1984-02-09',\n",
      "               '1984-02-10', '1984-02-11', '1984-02-12', '1984-02-13',\n",
      "               '1984-02-14', '1984-02-15', '1984-02-16', '1984-02-17',\n",
      "               '1984-02-18', '1984-02-19'],\n",
      "              dtype='datetime64[ns]', freq='D')\n"
     ]
    }
   ],
   "source": [
    "# importar pandas\n",
    "import pandas as pd\n",
    "\n",
    "#fechas = pd.date_range(start='1984-01-01', end='1984-01-30', freq='D')\n",
    "fechas = pd.date_range(start='1984-01-01', periods=len(temp_aire), freq='D')\n",
    "#fechas = pd.date_range(start=pd.to_datetime('today'), periods=len(temp_aire), freq='D').sttftime('%Y-%m-%d')\n",
    "print(fechas)"
   ]
  },
  {
   "cell_type": "markdown",
   "metadata": {
    "id": "22w0kI61s6yv"
   },
   "source": [
    "## 2.4. Data Frame"
   ]
  },
  {
   "cell_type": "markdown",
   "metadata": {
    "id": "zK_5BChGxm2l"
   },
   "source": [
    "Un **DataFrame** es una estructura de datos bidimensional, similar a una hoja de cálculo o a una tabla de una base de datos. Se compone de filas y columnas, donde cada columna puede tener un tipo de dato diferente (números, texto, booleanos, etc.) y cada fila representa una observación o registro. Es uno de los objetos más importantes de Pandas y la base para el análisis y la manipulación de datos en Python.\n",
    "\n",
    "---\n",
    "\n",
    "**Descripción y características clave**\n",
    "\n",
    "* **Estructura de tabla**: Un DataFrame se parece a una tabla de Excel o a un `SELECT` de una base de datos. Tiene **etiquetas de columna** (nombres para cada columna) y un **índice de fila** que permite acceder a los registros.\n",
    "\n",
    "* **Heterogeneidad de datos**: A diferencia de los arrays de NumPy, donde todos los elementos deben ser del mismo tipo, cada columna en un DataFrame puede contener datos de un tipo distinto. Esto lo hace ideal para trabajar con datos del mundo real, que suelen ser una mezcla de números, texto, fechas, etc.\n",
    "\n",
    "* **Manipulación de datos**: Pandas ofrece un conjunto de herramientas muy eficientes para trabajar con DataFrames, permitiendo realizar operaciones como:\n",
    "    * **Filtrado y selección**: Se pueden seleccionar filas o columnas basándose en condiciones específicas.\n",
    "    * **Limpieza de datos**: Manejar valores faltantes (`NaN`), eliminar duplicados o corregir errores.\n",
    "    * **Análisis**: Realizar cálculos estadísticos (media, mediana, desviación estándar), agrupar datos, y unirlos con otros DataFrames.\n",
    "    * **Entrada y salida (I/O)**: Es muy fácil leer datos desde archivos (CSV, Excel, JSON) y escribir resultados en los mismos formatos.\n",
    "\n",
    "En resumen, el DataFrame de Pandas simplifica la manipulación y el análisis de datos complejos, proporcionando una estructura intuitiva y herramientas potentes para que los científicos de datos y los analistas trabajen de forma productiva."
   ]
  },
  {
   "cell_type": "code",
   "execution_count": 208,
   "metadata": {
    "colab": {
     "base_uri": "https://localhost:8080/"
    },
    "id": "sZjbkvLNsgKb",
    "outputId": "34ffb827-ba35-4276-f4ce-778be095aaf6"
   },
   "outputs": [
    {
     "name": "stdout",
     "output_type": "stream",
     "text": [
      "Empty DataFrame\n",
      "Columns: []\n",
      "Index: []\n"
     ]
    }
   ],
   "source": [
    "# crear data frame\n",
    "df = pd.DataFrame()\n",
    "\n",
    "print(df)"
   ]
  },
  {
   "cell_type": "markdown",
   "metadata": {
    "id": "awHtCv2SXFEj"
   },
   "source": [
    "Insertar datos de `fechas` en el data frame `df`"
   ]
  },
  {
   "cell_type": "code",
   "execution_count": 209,
   "metadata": {
    "colab": {
     "base_uri": "https://localhost:8080/"
    },
    "collapsed": true,
    "id": "hEhKL7kdNV5m",
    "outputId": "e115ef8f-bd2c-488a-fe68-173f623d0e12"
   },
   "outputs": [
    {
     "name": "stdout",
     "output_type": "stream",
     "text": [
      "        fecha\n",
      "0  1984-01-01\n",
      "1  1984-01-02\n",
      "2  1984-01-03\n",
      "3  1984-01-04\n",
      "4  1984-01-05\n",
      "5  1984-01-06\n",
      "6  1984-01-07\n",
      "7  1984-01-08\n",
      "8  1984-01-09\n",
      "9  1984-01-10\n",
      "10 1984-01-11\n",
      "11 1984-01-12\n",
      "12 1984-01-13\n",
      "13 1984-01-14\n",
      "14 1984-01-15\n",
      "15 1984-01-16\n",
      "16 1984-01-17\n",
      "17 1984-01-18\n",
      "18 1984-01-19\n",
      "19 1984-01-20\n",
      "20 1984-01-21\n",
      "21 1984-01-22\n",
      "22 1984-01-23\n",
      "23 1984-01-24\n",
      "24 1984-01-25\n",
      "25 1984-01-26\n",
      "26 1984-01-27\n",
      "27 1984-01-28\n",
      "28 1984-01-29\n",
      "29 1984-01-30\n",
      "30 1984-01-31\n",
      "31 1984-02-01\n",
      "32 1984-02-02\n",
      "33 1984-02-03\n",
      "34 1984-02-04\n",
      "35 1984-02-05\n",
      "36 1984-02-06\n",
      "37 1984-02-07\n",
      "38 1984-02-08\n",
      "39 1984-02-09\n",
      "40 1984-02-10\n",
      "41 1984-02-11\n",
      "42 1984-02-12\n",
      "43 1984-02-13\n",
      "44 1984-02-14\n",
      "45 1984-02-15\n",
      "46 1984-02-16\n",
      "47 1984-02-17\n",
      "48 1984-02-18\n",
      "49 1984-02-19\n"
     ]
    }
   ],
   "source": [
    "df[\"fecha\"]= fechas\n",
    "print(df)"
   ]
  },
  {
   "cell_type": "markdown",
   "metadata": {
    "id": "ZejSYoOyXPfA"
   },
   "source": [
    "Insertar datos de temperatura del aire (`temp_aire`) en el data frame `df`"
   ]
  },
  {
   "cell_type": "code",
   "execution_count": 210,
   "metadata": {
    "colab": {
     "base_uri": "https://localhost:8080/"
    },
    "collapsed": true,
    "id": "C8eU86tPusdh",
    "outputId": "569ca44e-da8f-40d0-ae10-47ac15a5643b"
   },
   "outputs": [
    {
     "name": "stdout",
     "output_type": "stream",
     "text": [
      "       fecha  temperatura\n",
      "0 1984-01-01         10.0\n",
      "1 1984-01-02         10.5\n",
      "2 1984-01-03         11.0\n",
      "3 1984-01-04         11.5\n",
      "4 1984-01-05         12.0\n"
     ]
    }
   ],
   "source": [
    "df[\"temperatura\"]= temp_aire\n",
    "print(df.head(n=5))"
   ]
  },
  {
   "cell_type": "markdown",
   "metadata": {
    "id": "dwf6kCfPXGTb"
   },
   "source": [
    "Estimar la humedad relativa (`hr`) en función de datos de temperatura del aire (`temp_aire`) e insertar el resultado en el data frame `df`"
   ]
  },
  {
   "cell_type": "code",
   "execution_count": 211,
   "metadata": {
    "colab": {
     "base_uri": "https://localhost:8080/"
    },
    "collapsed": true,
    "id": "pkeLi8AVuDUZ",
    "outputId": "d14cc723-6f80-4819-c425-c16c5a071ada"
   },
   "outputs": [
    {
     "name": "stdout",
     "output_type": "stream",
     "text": [
      "       fecha  temperatura  humedad_relativa\n",
      "0 1984-01-01         10.0             30.60\n",
      "1 1984-01-02         10.5             31.85\n",
      "2 1984-01-03         11.0             33.10\n",
      "3 1984-01-04         11.5             34.35\n",
      "4 1984-01-05         12.0             35.60\n"
     ]
    }
   ],
   "source": [
    "hr = 2.5*temp_aire +5.6\n",
    "\n",
    "df[\"humedad_relativa\"] = hr\n",
    "print(df.head(n=5))"
   ]
  },
  {
   "cell_type": "code",
   "execution_count": 212,
   "metadata": {
    "colab": {
     "base_uri": "https://localhost:8080/"
    },
    "id": "lBC0WyGgvVMG",
    "outputId": "80f52070-3d2d-4587-e081-99752519ec37"
   },
   "outputs": [
    {
     "name": "stdout",
     "output_type": "stream",
     "text": [
      "150\n",
      "(50, 3)\n",
      "Index(['fecha', 'temperatura', 'humedad_relativa'], dtype='object')\n"
     ]
    }
   ],
   "source": [
    "# numero total de elementos o medidas del data frame\n",
    "print(df.size)\n",
    "\n",
    "# dimensiones del data frame\n",
    "print(df.shape)\n",
    "\n",
    "# nombres de las columnas\n",
    "print(df.columns)"
   ]
  },
  {
   "cell_type": "markdown",
   "metadata": {
    "id": "tKuin15-RkUC"
   },
   "source": [
    "## 2.5. Estructuras de Control II: bucle `for`"
   ]
  },
  {
   "cell_type": "markdown",
   "metadata": {
    "id": "KTX7dQmKDPGB"
   },
   "source": [
    "Las estructuras de control tipo bucle (o loop) en Python son construcciones de código que permiten ejecutar un bloque de instrucciones de manera repetida. Su propósito principal es automatizar tareas que deben realizarse múltiples veces, ya sea un número fijo de veces o hasta que se cumpla una condición específica."
   ]
  },
  {
   "cell_type": "markdown",
   "metadata": {
    "id": "AM-t_yri1Ox7"
   },
   "source": [
    "El bucle `for` se utiliza para iterar sobre una secuencia de elementos, como una lista, una tupla, un diccionario o una cadena de texto. La iteración se detiene automáticamente una vez que se han procesado todos los elementos de la secuencia."
   ]
  },
  {
   "cell_type": "markdown",
   "metadata": {
    "id": "H9rNgj31c4-W"
   },
   "source": [
    "Control de flujo: **for**\n",
    "\n",
    "\n",
    "```\n",
    "for arg01 in arg02:\n",
    "    aplicacion_01\n",
    "    aplicacion_02\n",
    "       ........\n",
    "    aplicacion_n\n",
    "```\n",
    "\n"
   ]
  },
  {
   "cell_type": "markdown",
   "metadata": {
    "id": "SDjLM8cl2YNI"
   },
   "source": [
    "**Ejemplo**: Uso de del bucle `for` en estructura de datos lista"
   ]
  },
  {
   "cell_type": "markdown",
   "metadata": {
    "id": "QrA6T2SKbE3K"
   },
   "source": [
    "\n",
    "\n",
    "```\n",
    "lista_01 = [\"hola\", 2024, \"mundo\", 2024.5]\n",
    "              |       |      |       |\n",
    "              v       v      v       v\n",
    "              0       1      2       3\n",
    "```\n",
    "\n"
   ]
  },
  {
   "cell_type": "code",
   "execution_count": 186,
   "metadata": {
    "colab": {
     "base_uri": "https://localhost:8080/"
    },
    "id": "z3-iN5_pRyAE",
    "outputId": "1e99735f-ef54-455f-bde4-546f70972640"
   },
   "outputs": [
    {
     "name": "stdout",
     "output_type": "stream",
     "text": [
      "hola\n",
      "2024\n"
     ]
    }
   ],
   "source": [
    "print(lista_01[0])\n",
    "print(lista_01[1])"
   ]
  },
  {
   "cell_type": "code",
   "execution_count": 187,
   "metadata": {
    "colab": {
     "base_uri": "https://localhost:8080/"
    },
    "id": "HAr8xAB7cUHX",
    "outputId": "e6b91c9c-3377-4a86-92f4-126296c3bcb3"
   },
   "outputs": [
    {
     "name": "stdout",
     "output_type": "stream",
     "text": [
      "4\n"
     ]
    }
   ],
   "source": [
    "n_elem = len(lista_01)\n",
    "print(n_elem)"
   ]
  },
  {
   "cell_type": "code",
   "execution_count": 189,
   "metadata": {
    "colab": {
     "base_uri": "https://localhost:8080/"
    },
    "id": "vsoq3omzcULQ",
    "outputId": "c1d50269-33e2-4639-c76e-423714d0dbdb"
   },
   "outputs": [
    {
     "name": "stdout",
     "output_type": "stream",
     "text": [
      "hola\n",
      "2024\n",
      "mundo\n",
      "2024.5\n"
     ]
    }
   ],
   "source": [
    "for i in range(n_elem):\n",
    "  print(lista_01[i])"
   ]
  },
  {
   "cell_type": "markdown",
   "metadata": {
    "id": "lv1VC4gvaEI6"
   },
   "source": [
    "Analisis exploratorio y procesamiento de la variable `lista_01`"
   ]
  },
  {
   "cell_type": "code",
   "execution_count": 191,
   "metadata": {
    "colab": {
     "base_uri": "https://localhost:8080/"
    },
    "id": "RJ2yVwNAaEUH",
    "outputId": "38f162d8-22d1-438e-dbf2-04368498b594"
   },
   "outputs": [
    {
     "name": "stdout",
     "output_type": "stream",
     "text": [
      "2024\n"
     ]
    }
   ],
   "source": [
    "for i in range(n_elem):\n",
    "  if type(lista_01[i])==int:\n",
    "    lista_01[i]= str(lista_01[i])\n",
    "    print(lista_01[i])"
   ]
  },
  {
   "cell_type": "code",
   "execution_count": 194,
   "metadata": {
    "colab": {
     "base_uri": "https://localhost:8080/"
    },
    "id": "40BVDJbaa58R",
    "outputId": "a7d8804a-417f-44e5-c67c-96f21cc5f7e7"
   },
   "outputs": [
    {
     "name": "stdout",
     "output_type": "stream",
     "text": [
      "['hola', '2024', 'mundo', 2024.5]\n"
     ]
    }
   ],
   "source": [
    "print(lista_01)"
   ]
  },
  {
   "cell_type": "markdown",
   "metadata": {
    "id": "NeKCOlxQppdf"
   },
   "source": [
    "**Ejemplo**: Uso de del bucle `for` en estructura de datos Data Frame"
   ]
  },
  {
   "cell_type": "code",
   "execution_count": 213,
   "metadata": {
    "colab": {
     "base_uri": "https://localhost:8080/"
    },
    "id": "TuKPfR1xpqRw",
    "outputId": "08d18f9c-8c25-4298-87dc-37cc29579ecf"
   },
   "outputs": [
    {
     "name": "stdout",
     "output_type": "stream",
     "text": [
      "       fecha  temperatura  humedad_relativa\n",
      "0 1984-01-01         10.0             30.60\n",
      "1 1984-01-02         10.5             31.85\n",
      "2 1984-01-03         11.0             33.10\n",
      "3 1984-01-04         11.5             34.35\n",
      "4 1984-01-05         12.0             35.60\n"
     ]
    }
   ],
   "source": [
    "print(df.head(n=5))"
   ]
  },
  {
   "cell_type": "code",
   "execution_count": 214,
   "metadata": {
    "colab": {
     "base_uri": "https://localhost:8080/"
    },
    "id": "kKPihKDx3SRd",
    "outputId": "7baf2518-76c7-4fc6-d39f-0d66f9047390"
   },
   "outputs": [
    {
     "name": "stdout",
     "output_type": "stream",
     "text": [
      "                     fecha  temperatura  humedad_relativa\n",
      "count                   50     50.00000         50.000000\n",
      "mean   1984-01-25 12:00:00     22.25000         61.225000\n",
      "min    1984-01-01 00:00:00     10.00000         30.600000\n",
      "25%    1984-01-13 06:00:00     16.12500         45.912500\n",
      "50%    1984-01-25 12:00:00     22.25000         61.225000\n",
      "75%    1984-02-06 18:00:00     28.37500         76.537500\n",
      "max    1984-02-19 00:00:00     34.50000         91.850000\n",
      "std                    NaN      7.28869         18.221725\n"
     ]
    }
   ],
   "source": [
    "print(df.describe())"
   ]
  },
  {
   "cell_type": "code",
   "execution_count": 216,
   "metadata": {
    "id": "L86xShZf5xsR"
   },
   "outputs": [],
   "source": [
    "# Usando un bucle for (menos eficiente para DataFrames grandes)\n",
    "estaciones = []\n",
    "\n",
    "for data in df[\"temperatura\"]:\n",
    "  if data > 28:\n",
    "    estaciones.append(\"verano\")\n",
    "  else:\n",
    "    estaciones.append(np.nan)"
   ]
  },
  {
   "cell_type": "code",
   "execution_count": 205,
   "metadata": {
    "colab": {
     "base_uri": "https://localhost:8080/"
    },
    "id": "GBz1z_SQblZX",
    "outputId": "f3417971-52b6-48dd-fe03-134c1ac73c2b"
   },
   "outputs": [
    {
     "name": "stdout",
     "output_type": "stream",
     "text": [
      "[nan, nan, nan, nan, nan, nan, nan, nan, nan, nan, nan, nan, nan, nan, nan, nan, nan, nan, nan, nan, nan, nan, nan, nan, nan, nan, nan, nan, nan, nan, nan, nan, nan, nan, nan, nan, nan, 'verano', 'verano', 'verano', 'verano', 'verano', 'verano', 'verano', 'verano', 'verano', 'verano', 'verano', 'verano', 'verano']\n"
     ]
    }
   ],
   "source": [
    "print(estaciones)"
   ]
  },
  {
   "cell_type": "code",
   "execution_count": 217,
   "metadata": {
    "colab": {
     "base_uri": "https://localhost:8080/"
    },
    "id": "8ZNlBcg2cEOx",
    "outputId": "7cb8b4ce-9e4b-454f-dc49-e18eda8216e4"
   },
   "outputs": [
    {
     "name": "stdout",
     "output_type": "stream",
     "text": [
      "       fecha  temperatura  humedad_relativa\n",
      "0 1984-01-01         10.0             30.60\n",
      "1 1984-01-02         10.5             31.85\n",
      "2 1984-01-03         11.0             33.10\n",
      "3 1984-01-04         11.5             34.35\n",
      "4 1984-01-05         12.0             35.60\n"
     ]
    }
   ],
   "source": [
    "print(df.head(n=5))"
   ]
  },
  {
   "cell_type": "code",
   "execution_count": 220,
   "metadata": {
    "id": "Pc9l-6MIbj24"
   },
   "outputs": [],
   "source": [
    "df[\"estacion\"] = estaciones"
   ]
  },
  {
   "cell_type": "code",
   "execution_count": 221,
   "metadata": {
    "colab": {
     "base_uri": "https://localhost:8080/"
    },
    "id": "8RiWTjeicknx",
    "outputId": "c2f3fc76-05aa-4897-c1db-a9b95c3ade3a"
   },
   "outputs": [
    {
     "name": "stdout",
     "output_type": "stream",
     "text": [
      "        fecha  temperatura  humedad_relativa estacion\n",
      "0  1984-01-01         10.0             30.60      NaN\n",
      "1  1984-01-02         10.5             31.85      NaN\n",
      "2  1984-01-03         11.0             33.10      NaN\n",
      "3  1984-01-04         11.5             34.35      NaN\n",
      "4  1984-01-05         12.0             35.60      NaN\n",
      "5  1984-01-06         12.5             36.85      NaN\n",
      "6  1984-01-07         13.0             38.10      NaN\n",
      "7  1984-01-08         13.5             39.35      NaN\n",
      "8  1984-01-09         14.0             40.60      NaN\n",
      "9  1984-01-10         14.5             41.85      NaN\n",
      "10 1984-01-11         15.0             43.10      NaN\n",
      "11 1984-01-12         15.5             44.35      NaN\n",
      "12 1984-01-13         16.0             45.60      NaN\n",
      "13 1984-01-14         16.5             46.85      NaN\n",
      "14 1984-01-15         17.0             48.10      NaN\n",
      "15 1984-01-16         17.5             49.35      NaN\n",
      "16 1984-01-17         18.0             50.60      NaN\n",
      "17 1984-01-18         18.5             51.85      NaN\n",
      "18 1984-01-19         19.0             53.10      NaN\n",
      "19 1984-01-20         19.5             54.35      NaN\n",
      "20 1984-01-21         20.0             55.60      NaN\n",
      "21 1984-01-22         20.5             56.85      NaN\n",
      "22 1984-01-23         21.0             58.10      NaN\n",
      "23 1984-01-24         21.5             59.35      NaN\n",
      "24 1984-01-25         22.0             60.60      NaN\n",
      "25 1984-01-26         22.5             61.85      NaN\n",
      "26 1984-01-27         23.0             63.10      NaN\n",
      "27 1984-01-28         23.5             64.35      NaN\n",
      "28 1984-01-29         24.0             65.60      NaN\n",
      "29 1984-01-30         24.5             66.85      NaN\n",
      "30 1984-01-31         25.0             68.10      NaN\n",
      "31 1984-02-01         25.5             69.35      NaN\n",
      "32 1984-02-02         26.0             70.60      NaN\n",
      "33 1984-02-03         26.5             71.85      NaN\n",
      "34 1984-02-04         27.0             73.10      NaN\n",
      "35 1984-02-05         27.5             74.35      NaN\n",
      "36 1984-02-06         28.0             75.60      NaN\n",
      "37 1984-02-07         28.5             76.85   verano\n",
      "38 1984-02-08         29.0             78.10   verano\n",
      "39 1984-02-09         29.5             79.35   verano\n",
      "40 1984-02-10         30.0             80.60   verano\n",
      "41 1984-02-11         30.5             81.85   verano\n",
      "42 1984-02-12         31.0             83.10   verano\n",
      "43 1984-02-13         31.5             84.35   verano\n",
      "44 1984-02-14         32.0             85.60   verano\n",
      "45 1984-02-15         32.5             86.85   verano\n",
      "46 1984-02-16         33.0             88.10   verano\n",
      "47 1984-02-17         33.5             89.35   verano\n",
      "48 1984-02-18         34.0             90.60   verano\n",
      "49 1984-02-19         34.5             91.85   verano\n"
     ]
    }
   ],
   "source": [
    "print(df)"
   ]
  },
  {
   "cell_type": "markdown",
   "metadata": {
    "id": "47u68zUVR0Gf"
   },
   "source": [
    "## 2.6. Funciones: Parte II"
   ]
  },
  {
   "cell_type": "code",
   "execution_count": 234,
   "metadata": {
    "id": "_syZMVXVR1Gj"
   },
   "outputs": [],
   "source": [
    "df[\"temp_K\"] = convert_temp(df[\"temperatura\"], \"K\")"
   ]
  },
  {
   "cell_type": "code",
   "execution_count": 235,
   "metadata": {
    "colab": {
     "base_uri": "https://localhost:8080/"
    },
    "id": "4dzrb8D0eGQP",
    "outputId": "acae5fce-4839-449c-d825-532b1bc40531"
   },
   "outputs": [
    {
     "name": "stdout",
     "output_type": "stream",
     "text": [
      "       fecha  temperatura  humedad_relativa estacion  temp_K\n",
      "0 1984-01-01         10.0             30.60      NaN  283.15\n",
      "1 1984-01-02         10.5             31.85      NaN  283.65\n",
      "2 1984-01-03         11.0             33.10      NaN  284.15\n",
      "3 1984-01-04         11.5             34.35      NaN  284.65\n",
      "4 1984-01-05         12.0             35.60      NaN  285.15\n"
     ]
    }
   ],
   "source": [
    "print(df.head(n=5))"
   ]
  },
  {
   "cell_type": "markdown",
   "metadata": {
    "id": "soydKrE0mpsQ"
   },
   "source": [
    "# **III. Referencias**\n",
    "\n",
    "**Libros y manuales**\n",
    "\n",
    "- Libro de estadisitica con python\n",
    "\n",
    "  https://www.editorial-sciela.org/index.php/sciela/article/view/16/49\n",
    "\n",
    "- Introducción a la teoria de probabilidades\n",
    "\n",
    "  https://ciladi.org/wp-content/uploads/Version_final_Introduccion-Probabilidad-Python-vf_Bayas-3.pdf\n",
    "\n",
    "- Guía practica de análsis exploratorio de python\n",
    "\n",
    "  https://datos.gob.es/sites/default/files/doc/file/guia_eda_python.pdf\n",
    "\n",
    "\n",
    "**Cursos en linea**\n",
    "\n",
    "- Estadística W3School:\n",
    "\n",
    "  https://www.w3schools.com/statistics/index.php\n",
    "\n",
    "- Estadística con python:\n",
    "\n",
    "  https://docs.python.org/es/3/library/statistics.html\n",
    "\n",
    "- Kaggle:\n",
    "\n",
    "  https://www.kaggle.com/code/saurav9786/statistics-for-data-scientists\n",
    "\n",
    "**Aplicaciones IA**\n",
    "\n",
    "- Gemini iA\n",
    "\n",
    "  https://gemini.google.com\n",
    "\n",
    "- DeepSeek\n",
    "\n",
    "  https://www.deepseek.com/\n",
    "\n",
    "- Chat GPT\n",
    "\n",
    "  https://chatgpt.com/\n",
    "\n",
    "- Claude IA\n",
    "\n",
    "  https://claude.ai/\n",
    "\n",
    "- Julius IA:\n",
    "\n",
    "  https://julius.ai\n",
    "\n"
   ]
  }
 ],
 "metadata": {
  "colab": {
   "provenance": [],
   "toc_visible": true
  },
  "kernelspec": {
   "display_name": "Python 3",
   "name": "python3"
  },
  "language_info": {
   "codemirror_mode": {
    "name": "ipython",
    "version": 3
   },
   "file_extension": ".py",
   "mimetype": "text/x-python",
   "name": "python",
   "nbconvert_exporter": "python",
   "pygments_lexer": "ipython3",
   "version": "3.13.5"
  }
 },
 "nbformat": 4,
 "nbformat_minor": 0
}