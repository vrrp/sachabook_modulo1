{
  "nbformat": 4,
  "nbformat_minor": 0,
  "metadata": {
    "colab": {
      "provenance": [],
      "toc_visible": true
    },
    "kernelspec": {
      "name": "python3",
      "display_name": "Python 3"
    },
    "language_info": {
      "name": "python"
    }
  },
  "cells": [
    {
      "cell_type": "markdown",
      "source": [
        "# **Programación Básica con Python**"
      ],
      "metadata": {
        "id": "aF6cju-OqrtS"
      }
    },
    {
      "cell_type": "markdown",
      "source": [
        "# **I. Conceptos básicos de programación**"
      ],
      "metadata": {
        "id": "CUBz2hqKAPmI"
      }
    },
    {
      "cell_type": "markdown",
      "source": [
        "## 1.1. Tipos de datos y variables"
      ],
      "metadata": {
        "id": "mB3WDxVwkysc"
      }
    },
    {
      "cell_type": "markdown",
      "source": [
        "Tipos fundamentales de datos definidos en Python."
      ],
      "metadata": {
        "id": "t4dSPCNStrMU"
      }
    },
    {
      "cell_type": "code",
      "source": [
        "# data caracter\n",
        "#----------------------\n",
        "var_1 = \"hola\"\n",
        "var_2 = 2025\n",
        "var_3 = \"15\"\n",
        "var_4 = None\n",
        "var_5 = True\n",
        "va_6 = False\n",
        "\n",
        "print(\"esto es el contenido de la variable var_1 = \",var_1, \", que es tipo no numerico\")\n",
        "print(type(var_1))\n",
        "print(type(var_2))\n",
        "print(type(var_3))"
      ],
      "metadata": {
        "colab": {
          "base_uri": "https://localhost:8080/"
        },
        "id": "UIsCEIlIgbdk",
        "outputId": "fabc767a-d3ee-46b5-b99a-a170109d693b"
      },
      "execution_count": null,
      "outputs": [
        {
          "output_type": "stream",
          "name": "stdout",
          "text": [
            "esto es el contenido de la variable var_1 =  hola , que es tipo no numerico\n",
            "<class 'str'>\n",
            "<class 'int'>\n",
            "<class 'str'>\n"
          ]
        }
      ]
    },
    {
      "cell_type": "code",
      "source": [
        "# Datos y variables numericas\n",
        "#-----------------------------\n",
        "num_int = 25\n",
        "num_float= 20.000001\n",
        "\n",
        "print(type(num_int), type(num_float))"
      ],
      "metadata": {
        "colab": {
          "base_uri": "https://localhost:8080/"
        },
        "id": "_ZHcpO49ghIV",
        "outputId": "2457e3a2-ce43-4c2e-fe5f-7bae1e7eff68"
      },
      "execution_count": null,
      "outputs": [
        {
          "output_type": "stream",
          "name": "stdout",
          "text": [
            "<class 'int'> <class 'float'>\n"
          ]
        }
      ]
    },
    {
      "cell_type": "markdown",
      "source": [
        "## 1.2. Operadores matemáticos"
      ],
      "metadata": {
        "id": "l2BtGorVeBy5"
      }
    },
    {
      "cell_type": "code",
      "source": [
        "# suma\n",
        "suma = num_int + num_float\n",
        "\n",
        "# exponencial\n",
        "exponente = 5**2\n",
        "\n",
        "# division\n",
        "cociente = 9/5\n",
        "cociente_entero = 9//5\n",
        "residuo = 9%5\n",
        "\n",
        "print(\"suma =\",suma)\n",
        "print(type(suma))\n",
        "print(\"exponente = \",exponente)\n",
        "print(\"cociente =\", cociente)\n",
        "print(\"cociente_entero =\", cociente_entero)\n",
        "print(\"residuo =\",residuo)"
      ],
      "metadata": {
        "colab": {
          "base_uri": "https://localhost:8080/"
        },
        "id": "Rs-wkNHggoys",
        "outputId": "fcdf8c40-c9ae-4ce1-c2ee-6b91e8a4adc1"
      },
      "execution_count": null,
      "outputs": [
        {
          "output_type": "stream",
          "name": "stdout",
          "text": [
            "suma = 45.000001\n",
            "<class 'float'>\n",
            "exponente =  25\n",
            "cociente = 1.8\n",
            "cociente_entero = 1\n",
            "residuo = 4\n",
            "resto 1\n"
          ]
        }
      ]
    },
    {
      "cell_type": "markdown",
      "source": [
        "## 1.3. Importar paquetes o librerías en Python"
      ],
      "metadata": {
        "id": "wP734_5vw62H"
      }
    },
    {
      "cell_type": "markdown",
      "source": [
        "En Python, un paquete o librería (los términos a menudo se usan indistintamente, aunque \"paquete\" tiene una estructura más específica) es una colección organizada de módulos.\n",
        "\n",
        "```\n",
        "paquete:\n",
        "        aplicacion_01\n",
        "        aplicacion_02\n",
        "        . . . . . . .\n",
        "        aplicacion_n\n",
        "```\n",
        "\n",
        "Formas de importar un paquete y sus aplicaciones\n",
        "\n",
        "**Primera forma**\n",
        "```\n",
        "import paquete as pp\n",
        "\n",
        "var = paquete.aplicacion_01(arg)\n",
        "```\n",
        "\n",
        "**Segunda forma**\n",
        "```\n",
        "import paquete as pp\n",
        "\n",
        "var = pp.aplicacion_01(arg)\n",
        "```\n",
        "\n",
        "**Tercera forma**\n",
        "```\n",
        "from paquete import (aplicacion_01, aplicacion_04)\n",
        "\n",
        "var_01 = aplicacion_01(arg)\n",
        "var_02 = aplicacion_04(arg)\n",
        "```"
      ],
      "metadata": {
        "id": "bkPfUbC42jFm"
      }
    },
    {
      "cell_type": "code",
      "source": [
        "import math\n",
        "import numpy as np\n",
        "\n",
        "pi_math = math.pi\n",
        "pi_np = np.pi\n",
        "print(pi_math)\n",
        "print(pi_np)\n",
        "n_euler_math = math.e\n",
        "n_euler_np = np.e\n",
        "print(n_euler_math)\n",
        "print(n_euler_np)"
      ],
      "metadata": {
        "colab": {
          "base_uri": "https://localhost:8080/"
        },
        "id": "Z1ub1j7NhJb2",
        "outputId": "c86bb750-d13d-45c4-f1d8-84b5970ef825"
      },
      "execution_count": null,
      "outputs": [
        {
          "output_type": "stream",
          "name": "stdout",
          "text": [
            "3.141592653589793\n",
            "3.141592653589793\n",
            "2.718281828459045\n",
            "2.718281828459045\n"
          ]
        }
      ]
    },
    {
      "cell_type": "markdown",
      "source": [
        "## 1.4. Funciones algebraicas"
      ],
      "metadata": {
        "id": "Yy8UfA4DBHRK"
      }
    },
    {
      "cell_type": "markdown",
      "source": [
        "**Exponencial**\n",
        "\n",
        "$ y = b^{a}$"
      ],
      "metadata": {
        "id": "Xav56FXZETpG"
      }
    },
    {
      "cell_type": "code",
      "source": [
        "y1 = n_euler_math**n_euler_math\n",
        "print(y1)"
      ],
      "metadata": {
        "id": "_nexlWVTET2J"
      },
      "execution_count": null,
      "outputs": []
    },
    {
      "cell_type": "markdown",
      "source": [
        "**Valor absoluto**\n",
        "\n",
        "si: $a<0, y = |a| = (-1) \\times a$\n",
        "\n",
        "si: $a>0, y = |a| = a$"
      ],
      "metadata": {
        "id": "RZtdvnjKE7ZK"
      }
    },
    {
      "cell_type": "code",
      "source": [
        "# funcion valor absoluto\n",
        "y2 = np.abs(-1*num_int)\n",
        "print(y2)"
      ],
      "metadata": {
        "id": "QpI6EKXnE7nX"
      },
      "execution_count": null,
      "outputs": []
    },
    {
      "cell_type": "markdown",
      "source": [
        "**Raíz cuadrada**\n",
        "\n",
        "$y = \\sqrt{b} = b^{\\frac{1}{2}}$"
      ],
      "metadata": {
        "id": "GnO__b5bFuUq"
      }
    },
    {
      "cell_type": "code",
      "source": [
        "#funcion raiz cuadrada\n",
        "y3 = np.sqrt(num_int)\n",
        "print(y3)"
      ],
      "metadata": {
        "id": "Rk1RlquPFuga"
      },
      "execution_count": null,
      "outputs": []
    },
    {
      "cell_type": "markdown",
      "source": [
        "**Raiz general**\n",
        "\n",
        "$\\sqrt[n]{b^m}= b\\frac{m}{n}$"
      ],
      "metadata": {
        "id": "VGTKdjsyGadG"
      }
    },
    {
      "cell_type": "code",
      "source": [
        "y4 = 125**(1/3)\n",
        "print(y4)"
      ],
      "metadata": {
        "id": "WWjWS8rpGam-"
      },
      "execution_count": null,
      "outputs": []
    },
    {
      "cell_type": "markdown",
      "source": [
        "**Logaritmo**\n",
        "\n",
        "$y = log_{b}x $\n",
        "\n",
        "$x = b^y$"
      ],
      "metadata": {
        "id": "B470V5e_HgNt"
      }
    },
    {
      "cell_type": "code",
      "source": [
        "# funcion logaritmo de 10 en base 10\n",
        "y5 = np.log10(10)\n",
        "print(y5)\n",
        "\n",
        "# funcion logaritmo de 2 en base 2\n",
        "y6 = np.log2(2)\n",
        "print(y6)\n",
        "\n",
        "# funcion logaritmo de e en base e\n",
        "y7 = np.log(n_euler_math)\n",
        "print(y7)"
      ],
      "metadata": {
        "colab": {
          "base_uri": "https://localhost:8080/"
        },
        "id": "8WLUCF5phBaA",
        "outputId": "b5a256f9-2d50-4741-86dd-9999caca8f71"
      },
      "execution_count": null,
      "outputs": [
        {
          "output_type": "stream",
          "name": "stdout",
          "text": [
            "1.0\n",
            "1.0\n",
            "1.0\n"
          ]
        }
      ]
    },
    {
      "cell_type": "markdown",
      "source": [
        "## 1.5. Operadores de comparación"
      ],
      "metadata": {
        "id": "sre1z5_3eRLu"
      }
    },
    {
      "cell_type": "code",
      "source": [
        "# operadores relacionales\n",
        "# comparacion (==)\n",
        "comp01 = num_int == num_float\n",
        "\n",
        "# diferente (!=)\n",
        "comp02 = num_int != num_float\n",
        "\n",
        "# mayor que  (>)\n",
        "comp03 = num_int > num_float\n",
        "\n",
        "# menor que  (<)\n",
        "comp04 = num_int < num_float\n",
        "\n",
        "# mayor o igual que  (>=)\n",
        "comp05 = num_int >= num_float\n",
        "\n",
        "# menor o igual que  (<=)\n",
        "comp06 = num_int <= num_float\n",
        "\n",
        "print(type(comp01), comp01)\n",
        "print(type(comp02), comp02)\n",
        "print(type(comp03), comp03)\n",
        "print(type(comp04), comp04)\n",
        "print(type(comp05), comp05)\n",
        "print(type(comp06), comp06)"
      ],
      "metadata": {
        "colab": {
          "base_uri": "https://localhost:8080/"
        },
        "id": "T87u0UAkgt_9",
        "outputId": "708ae81a-e2f1-4cef-e614-3589c35e6288"
      },
      "execution_count": null,
      "outputs": [
        {
          "output_type": "stream",
          "name": "stdout",
          "text": [
            "<class 'bool'> False\n",
            "<class 'bool'> True\n",
            "<class 'bool'> True\n",
            "<class 'bool'> False\n",
            "<class 'bool'> True\n",
            "<class 'bool'> False\n"
          ]
        }
      ]
    },
    {
      "cell_type": "markdown",
      "source": [
        "## 1.6. Condiciones"
      ],
      "metadata": {
        "id": "MgDuU21Uebv3"
      }
    },
    {
      "cell_type": "code",
      "source": [
        "# condicionales: if, elif, else\n",
        "var = 23\n",
        "\n",
        "if type(var)==int:\n",
        "  print(\"var es valor entero\")\n",
        "  print(\"segunda accion de if\")\n",
        "else:\n",
        "  print(\"var no es un numero entero\")"
      ],
      "metadata": {
        "colab": {
          "base_uri": "https://localhost:8080/"
        },
        "id": "Rwi9Vu8Jhdpn",
        "outputId": "d40cfca8-cd4f-43cc-cb78-0d414ccf26dd"
      },
      "execution_count": null,
      "outputs": [
        {
          "output_type": "stream",
          "name": "stdout",
          "text": [
            "var es valor entero\n",
            "segunda accion de if\n"
          ]
        }
      ]
    },
    {
      "cell_type": "code",
      "source": [
        "# condicionales: if, elif, else\n",
        "a = 7\n",
        "b = 7\n",
        "\n",
        "if a > b:\n",
        "    print(\"(1)\", a,\">\",b ,a > b)\n",
        "\n",
        "elif a < b:\n",
        "    print(\"(2)\", a,\"<\",b ,a < b)\n",
        "\n",
        "elif a == b:\n",
        "    print(\"(3)\", a,\"==\",b ,a == b)"
      ],
      "metadata": {
        "colab": {
          "base_uri": "https://localhost:8080/"
        },
        "id": "eBWy8gcrhlDi",
        "outputId": "a604f3bb-7466-4c5a-9730-ec03d64dd3bb"
      },
      "execution_count": null,
      "outputs": [
        {
          "output_type": "stream",
          "name": "stdout",
          "text": [
            "(3) 7 == 7 True\n"
          ]
        }
      ]
    },
    {
      "cell_type": "markdown",
      "source": [
        "## 1.7. Funciones: Parte I"
      ],
      "metadata": {
        "id": "NnfLSuLUe1Gn"
      }
    },
    {
      "cell_type": "code",
      "source": [
        "def area_cuadrado(lado):\n",
        "  area = lado**2\n",
        "  return area"
      ],
      "metadata": {
        "id": "tmrVYVakhvNa"
      },
      "execution_count": null,
      "outputs": []
    },
    {
      "cell_type": "code",
      "source": [
        "ac1 = area_cuadrado(4)\n",
        "print(ac1)"
      ],
      "metadata": {
        "colab": {
          "base_uri": "https://localhost:8080/"
        },
        "id": "J8r4mgz31cH8",
        "outputId": "f23bf898-fcc8-407e-bdb1-007ef4ca5b33"
      },
      "execution_count": null,
      "outputs": [
        {
          "output_type": "stream",
          "name": "stdout",
          "text": [
            "16\n"
          ]
        }
      ]
    },
    {
      "cell_type": "code",
      "source": [
        "def convert_temp(data, tipo):\n",
        "  if tipo==\"K\":\n",
        "    temp = data + 273.15\n",
        "    print(temp)\n",
        "  elif tipo==\"F\":\n",
        "    temp = (data) * 9/5 + 32\n",
        "    print(temp)"
      ],
      "metadata": {
        "id": "Kr4PZNR0h3VW"
      },
      "execution_count": null,
      "outputs": []
    },
    {
      "cell_type": "code",
      "source": [
        "convert_temp(100, \"F\")\n",
        "convert_temp(10, \"F\")\n",
        "convert_temp(100, \"K\")"
      ],
      "metadata": {
        "colab": {
          "base_uri": "https://localhost:8080/"
        },
        "id": "Y3_tOBH1h63y",
        "outputId": "407fbda5-b5f3-48b9-b8e4-147c7e0f1c42"
      },
      "execution_count": null,
      "outputs": [
        {
          "output_type": "stream",
          "name": "stdout",
          "text": [
            "212.0\n",
            "50.0\n",
            "373.15\n"
          ]
        }
      ]
    },
    {
      "cell_type": "markdown",
      "source": [
        "# **II. Estructura de datos**"
      ],
      "metadata": {
        "id": "QBDDGo6Zcokb"
      }
    },
    {
      "cell_type": "markdown",
      "source": [
        "## 2.1. Cadenas"
      ],
      "metadata": {
        "id": "IL9t0pqGiGXp"
      }
    },
    {
      "cell_type": "code",
      "source": [
        "# Estructuras tipo cadena de caracteres\n",
        "var_cadena = \"las estaciones del año son: verano, otoño, invierno y primavera\"\n",
        "\n",
        "print(var_cadena)\n",
        "print(len(var_cadena))\n",
        "\n",
        "print(var_cadena[3:14])\n",
        "print(type(var_cadena))"
      ],
      "metadata": {
        "colab": {
          "base_uri": "https://localhost:8080/"
        },
        "id": "mMBHEIG-sR44",
        "outputId": "c41368c7-2401-480f-90e0-c99676713715"
      },
      "execution_count": null,
      "outputs": [
        {
          "output_type": "stream",
          "name": "stdout",
          "text": [
            "las estaciones del año son: verano, otoño, invierno y primavera\n",
            "63\n",
            " estaciones\n",
            "<class 'str'>\n"
          ]
        }
      ]
    },
    {
      "cell_type": "code",
      "source": [
        "departamentos_peru = \"algunos departamentos de Perú son: Lima, Ica, Arequipa y Tacna\"\n",
        "\n",
        "print(departamentos_peru)\n",
        "print(len(departamentos_peru))\n",
        "print(departamentos_peru[35:39])\n",
        "print(type(departamentos_peru))\n"
      ],
      "metadata": {
        "colab": {
          "base_uri": "https://localhost:8080/"
        },
        "id": "KUrTh14d6Vhf",
        "outputId": "a4abf2c7-e469-4538-e35d-90c437702a96"
      },
      "execution_count": null,
      "outputs": [
        {
          "output_type": "stream",
          "name": "stdout",
          "text": [
            "algunos departamentos de Perú son: Lima, Ica, Arequipa y Tacna\n",
            "62\n",
            "Lima\n",
            "<class 'str'>\n"
          ]
        }
      ]
    },
    {
      "cell_type": "code",
      "source": [
        "separar_frase = departamentos_peru.split()\n",
        "\n",
        "print(separar_frase)\n",
        "print(type(separar_frase))"
      ],
      "metadata": {
        "colab": {
          "base_uri": "https://localhost:8080/"
        },
        "id": "n5IHBFQH8zWy",
        "outputId": "6fb9a07c-7017-44ba-9b82-019bdb087af1"
      },
      "execution_count": null,
      "outputs": [
        {
          "output_type": "stream",
          "name": "stdout",
          "text": [
            "['algunos', 'departamentos', 'de', 'Perú', 'son:', 'Lima,', 'Ica,', 'Arequipa', 'y', 'Tacna']\n",
            "<class 'list'>\n"
          ]
        }
      ]
    },
    {
      "cell_type": "markdown",
      "source": [
        "## 2.2. Listas"
      ],
      "metadata": {
        "id": "WWIUrs0NiN_g"
      }
    },
    {
      "cell_type": "code",
      "source": [
        "# listas\n",
        "var_lista01 = [\"hola\", 2024, \"mundo\", 2024.5]\n",
        "\n",
        "print(var_lista01)\n",
        "print(len(var_lista01))\n",
        "print(var_lista01[0])\n",
        "\n",
        "var_lista01[3]= \"Peru 2025\"\n",
        "print(var_lista01)\n",
        "\n",
        "print(type(var_lista01[1]))"
      ],
      "metadata": {
        "colab": {
          "base_uri": "https://localhost:8080/"
        },
        "id": "VTi4J4S8sai7",
        "outputId": "4d833918-06c4-4a6c-fe93-71a4652d2335"
      },
      "execution_count": null,
      "outputs": [
        {
          "output_type": "stream",
          "name": "stdout",
          "text": [
            "['hola', 2024, 'mundo', 2024.5]\n",
            "4\n",
            "hola\n",
            "['hola', 2024, 'mundo', 'Peru 2025']\n",
            "<class 'int'>\n"
          ]
        }
      ]
    },
    {
      "cell_type": "code",
      "source": [
        "lista_02 = [12,3,3,2]\n",
        "\n",
        "lista_03 = [1,2,3,4]"
      ],
      "metadata": {
        "id": "NizPnfLPUjQu"
      },
      "execution_count": null,
      "outputs": []
    },
    {
      "cell_type": "code",
      "source": [
        "suma_lista23 = lista_02 + lista_03\n",
        "print(suma_lista23)"
      ],
      "metadata": {
        "colab": {
          "base_uri": "https://localhost:8080/"
        },
        "id": "uxBHNK6fU0Pb",
        "outputId": "7eff7f04-36a1-4557-968c-1e118ca1c87c"
      },
      "execution_count": null,
      "outputs": [
        {
          "output_type": "stream",
          "name": "stdout",
          "text": [
            "[12, 3, 3, 2, 1, 2, 3, 4]\n"
          ]
        }
      ]
    },
    {
      "cell_type": "code",
      "source": [
        "prod_lista23 = 3* lista_03\n",
        "print(prod_lista23)"
      ],
      "metadata": {
        "colab": {
          "base_uri": "https://localhost:8080/"
        },
        "id": "aCRXt9PpWAaX",
        "outputId": "9a343fc5-f13a-4ffd-c7cd-338046f1e11c"
      },
      "execution_count": null,
      "outputs": [
        {
          "output_type": "stream",
          "name": "stdout",
          "text": [
            "[1, 2, 3, 4, 1, 2, 3, 4, 1, 2, 3, 4]\n"
          ]
        }
      ]
    },
    {
      "cell_type": "markdown",
      "source": [
        "## 2.3. Array 1D"
      ],
      "metadata": {
        "id": "2rcDNJfWiRDN"
      }
    },
    {
      "cell_type": "code",
      "source": [
        "import numpy as np\n",
        "\n",
        "# array 1D: np.array()\n",
        "array_meses_num = np.array([1,2,3,4,5,6,7,8,9,10,11,12])\n",
        "\n",
        "print(array_meses_num)\n",
        "print(type(array_meses_num))\n",
        "print(len(array_meses_num))"
      ],
      "metadata": {
        "colab": {
          "base_uri": "https://localhost:8080/"
        },
        "id": "X29sQVzotB-K",
        "outputId": "e96b2454-d5d7-457a-b91a-1430db4c623c"
      },
      "execution_count": null,
      "outputs": [
        {
          "output_type": "stream",
          "name": "stdout",
          "text": [
            "[ 1  2  3  4  5  6  7  8  9 10 11 12]\n",
            "<class 'numpy.ndarray'>\n",
            "12\n"
          ]
        }
      ]
    },
    {
      "cell_type": "code",
      "source": [
        "# array 1D: np.arange(val_i, num_vals, incremento)\n",
        "array_arange01 = np.arange(-20, 10, 0.5)\n",
        "\n",
        "print(array_arange01)\n",
        "print(len(array_arange01))"
      ],
      "metadata": {
        "colab": {
          "base_uri": "https://localhost:8080/"
        },
        "id": "pAlNpDNktd4p",
        "outputId": "c670a57c-702a-4962-f7ac-44178a9e6ead"
      },
      "execution_count": null,
      "outputs": [
        {
          "output_type": "stream",
          "name": "stdout",
          "text": [
            "[-20.  -19.5 -19.  -18.5 -18.  -17.5 -17.  -16.5 -16.  -15.5 -15.  -14.5\n",
            " -14.  -13.5 -13.  -12.5 -12.  -11.5 -11.  -10.5 -10.   -9.5  -9.   -8.5\n",
            "  -8.   -7.5  -7.   -6.5  -6.   -5.5  -5.   -4.5  -4.   -3.5  -3.   -2.5\n",
            "  -2.   -1.5  -1.   -0.5   0.    0.5   1.    1.5   2.    2.5   3.    3.5\n",
            "   4.    4.5   5.    5.5   6.    6.5   7.    7.5   8.    8.5   9.    9.5]\n",
            "60\n"
          ]
        }
      ]
    },
    {
      "cell_type": "code",
      "source": [
        "# array 1D: np.zeros()\n",
        "array_zeros01 = np.zeros(4)\n",
        "\n",
        "print(array_zeros01)\n",
        "print(type(array_zeros01))\n",
        "print(len(array_zeros01))\n",
        "print(np.ndim(array_zeros01))\n",
        "print(np.shape(array_zeros01))\n",
        "\n",
        "print(var_lista01[1])\n",
        "array_zeros01[2]= var_lista01[1]\n",
        "print(array_zeros01)"
      ],
      "metadata": {
        "colab": {
          "base_uri": "https://localhost:8080/"
        },
        "id": "RP4QqQk_tvZ6",
        "outputId": "66f634f7-0243-42de-8e54-2386352d405e"
      },
      "execution_count": null,
      "outputs": [
        {
          "output_type": "stream",
          "name": "stdout",
          "text": [
            "[0. 0. 0. 0.]\n",
            "<class 'numpy.ndarray'>\n",
            "4\n",
            "1\n",
            "(4,)\n",
            "2024\n",
            "[   0.    0. 2024.    0.]\n"
          ]
        }
      ]
    },
    {
      "cell_type": "markdown",
      "source": [
        "Operaciones con arrays."
      ],
      "metadata": {
        "id": "8ni6TgWLVwgQ"
      }
    },
    {
      "cell_type": "code",
      "source": [
        "prod_escalar = 2*array_meses_num\n",
        "print(prod_escalar)"
      ],
      "metadata": {
        "colab": {
          "base_uri": "https://localhost:8080/"
        },
        "id": "1hzJaV-oVwpe",
        "outputId": "d966f2b3-9cc7-406f-8dd7-0d55683d4264"
      },
      "execution_count": null,
      "outputs": [
        {
          "output_type": "stream",
          "name": "stdout",
          "text": [
            "[ 2  4  6  8 10 12 14 16 18 20 22 24]\n"
          ]
        }
      ]
    },
    {
      "cell_type": "code",
      "source": [
        "array_linespace = np.linspace(1,10,12)\n",
        "print(array_linespace)"
      ],
      "metadata": {
        "colab": {
          "base_uri": "https://localhost:8080/"
        },
        "id": "5DGIedl4WgG4",
        "outputId": "e54d9450-26de-4246-cd56-23644a98522b"
      },
      "execution_count": null,
      "outputs": [
        {
          "output_type": "stream",
          "name": "stdout",
          "text": [
            "[ 1.          1.81818182  2.63636364  3.45454545  4.27272727  5.09090909\n",
            "  5.90909091  6.72727273  7.54545455  8.36363636  9.18181818 10.        ]\n"
          ]
        }
      ]
    },
    {
      "cell_type": "code",
      "source": [],
      "metadata": {
        "id": "N6q63OXHW-vL"
      },
      "execution_count": null,
      "outputs": []
    },
    {
      "cell_type": "markdown",
      "source": [
        "## 2.4. Data Frame"
      ],
      "metadata": {
        "id": "22w0kI61s6yv"
      }
    },
    {
      "cell_type": "code",
      "source": [
        "# data frame\n",
        "import pandas as pd\n",
        "\n",
        "# crear data frame\n",
        "df = pd.DataFrame()\n",
        "\n",
        "print(df)"
      ],
      "metadata": {
        "colab": {
          "base_uri": "https://localhost:8080/"
        },
        "id": "sZjbkvLNsgKb",
        "outputId": "d1fafca8-af12-4f6f-a2ec-7c8d3c581314"
      },
      "execution_count": null,
      "outputs": [
        {
          "output_type": "stream",
          "name": "stdout",
          "text": [
            "Empty DataFrame\n",
            "Columns: []\n",
            "Index: []\n"
          ]
        }
      ]
    },
    {
      "cell_type": "code",
      "source": [
        "data = np.linspace(0, 2, 20)\n",
        "temp_aire = 18*(1 + np.sin(2 * np.pi * data))\n",
        "print(temp_aire)"
      ],
      "metadata": {
        "colab": {
          "base_uri": "https://localhost:8080/"
        },
        "id": "Q2NDFzNRm0QB",
        "outputId": "0697ea96-ca64-4095-bb1c-e3772950b835"
      },
      "execution_count": null,
      "outputs": [
        {
          "output_type": "stream",
          "name": "stdout",
          "text": [
            "[18.         28.58013454 35.11901729 35.11901729 28.58013454 18.\n",
            "  7.41986546  0.88098271  0.88098271  7.41986546 18.         28.58013454\n",
            " 35.11901729 35.11901729 28.58013454 18.          7.41986546  0.88098271\n",
            "  0.88098271  7.41986546]\n"
          ]
        }
      ]
    },
    {
      "cell_type": "code",
      "source": [
        "fechas = pd.date_range(start=pd.to_datetime('today'), periods=len(temp_aire), freq='D')\n",
        "#fechas = pd.date_range(start=pd.to_datetime('today'), periods=len(temp_aire), freq='D').sttftime('%Y-%m-%d')\n",
        "print(fechas)"
      ],
      "metadata": {
        "colab": {
          "base_uri": "https://localhost:8080/"
        },
        "id": "33Aen7mfTgD1",
        "outputId": "689c4f71-c18a-4b7d-cb84-18514264899c"
      },
      "execution_count": null,
      "outputs": [
        {
          "output_type": "stream",
          "name": "stdout",
          "text": [
            "DatetimeIndex(['2025-08-08 21:39:42.582551', '2025-08-09 21:39:42.582551',\n",
            "               '2025-08-10 21:39:42.582551', '2025-08-11 21:39:42.582551',\n",
            "               '2025-08-12 21:39:42.582551', '2025-08-13 21:39:42.582551',\n",
            "               '2025-08-14 21:39:42.582551', '2025-08-15 21:39:42.582551',\n",
            "               '2025-08-16 21:39:42.582551', '2025-08-17 21:39:42.582551',\n",
            "               '2025-08-18 21:39:42.582551', '2025-08-19 21:39:42.582551',\n",
            "               '2025-08-20 21:39:42.582551', '2025-08-21 21:39:42.582551',\n",
            "               '2025-08-22 21:39:42.582551', '2025-08-23 21:39:42.582551',\n",
            "               '2025-08-24 21:39:42.582551', '2025-08-25 21:39:42.582551',\n",
            "               '2025-08-26 21:39:42.582551', '2025-08-27 21:39:42.582551'],\n",
            "              dtype='datetime64[ns]', freq='D')\n"
          ]
        }
      ]
    },
    {
      "cell_type": "code",
      "source": [
        "df[\"temperatura\"]= temp_aire\n",
        "print(df)"
      ],
      "metadata": {
        "colab": {
          "base_uri": "https://localhost:8080/"
        },
        "id": "C8eU86tPusdh",
        "outputId": "94c4d4eb-40c9-41ec-d358-7f4f1b4bf8db"
      },
      "execution_count": null,
      "outputs": [
        {
          "output_type": "stream",
          "name": "stdout",
          "text": [
            "    temperatura                      fecha\n",
            "0     18.000000 2025-08-08 21:36:59.977562\n",
            "1     28.580135 2025-08-09 21:36:59.977562\n",
            "2     35.119017 2025-08-10 21:36:59.977562\n",
            "3     35.119017 2025-08-11 21:36:59.977562\n",
            "4     28.580135 2025-08-12 21:36:59.977562\n",
            "5     18.000000 2025-08-13 21:36:59.977562\n",
            "6      7.419865 2025-08-14 21:36:59.977562\n",
            "7      0.880983 2025-08-15 21:36:59.977562\n",
            "8      0.880983 2025-08-16 21:36:59.977562\n",
            "9      7.419865 2025-08-17 21:36:59.977562\n",
            "10    18.000000 2025-08-18 21:36:59.977562\n",
            "11    28.580135 2025-08-19 21:36:59.977562\n",
            "12    35.119017 2025-08-20 21:36:59.977562\n",
            "13    35.119017 2025-08-21 21:36:59.977562\n",
            "14    28.580135 2025-08-22 21:36:59.977562\n",
            "15    18.000000 2025-08-23 21:36:59.977562\n",
            "16     7.419865 2025-08-24 21:36:59.977562\n",
            "17     0.880983 2025-08-25 21:36:59.977562\n",
            "18     0.880983 2025-08-26 21:36:59.977562\n",
            "19     7.419865 2025-08-27 21:36:59.977562\n"
          ]
        }
      ]
    },
    {
      "cell_type": "code",
      "source": [
        "df[\"fecha\"]= fechas\n",
        "print(df)"
      ],
      "metadata": {
        "colab": {
          "base_uri": "https://localhost:8080/"
        },
        "id": "hEhKL7kdNV5m",
        "outputId": "a25df955-4d0c-47d0-f140-10513664a930"
      },
      "execution_count": null,
      "outputs": [
        {
          "output_type": "stream",
          "name": "stdout",
          "text": [
            "    temperatura                      fecha\n",
            "0     18.000000 2025-08-08 21:39:42.582551\n",
            "1     28.580135 2025-08-09 21:39:42.582551\n",
            "2     35.119017 2025-08-10 21:39:42.582551\n",
            "3     35.119017 2025-08-11 21:39:42.582551\n",
            "4     28.580135 2025-08-12 21:39:42.582551\n",
            "5     18.000000 2025-08-13 21:39:42.582551\n",
            "6      7.419865 2025-08-14 21:39:42.582551\n",
            "7      0.880983 2025-08-15 21:39:42.582551\n",
            "8      0.880983 2025-08-16 21:39:42.582551\n",
            "9      7.419865 2025-08-17 21:39:42.582551\n",
            "10    18.000000 2025-08-18 21:39:42.582551\n",
            "11    28.580135 2025-08-19 21:39:42.582551\n",
            "12    35.119017 2025-08-20 21:39:42.582551\n",
            "13    35.119017 2025-08-21 21:39:42.582551\n",
            "14    28.580135 2025-08-22 21:39:42.582551\n",
            "15    18.000000 2025-08-23 21:39:42.582551\n",
            "16     7.419865 2025-08-24 21:39:42.582551\n",
            "17     0.880983 2025-08-25 21:39:42.582551\n",
            "18     0.880983 2025-08-26 21:39:42.582551\n",
            "19     7.419865 2025-08-27 21:39:42.582551\n"
          ]
        }
      ]
    },
    {
      "cell_type": "code",
      "source": [
        "hr = 2.5*temp_aire +5.6\n",
        "\n",
        "df[\"humedad_relativa\"] = hr\n",
        "print(df)"
      ],
      "metadata": {
        "colab": {
          "base_uri": "https://localhost:8080/"
        },
        "id": "pkeLi8AVuDUZ",
        "outputId": "9da820e5-89b2-47ee-c6bc-59b95a27822a"
      },
      "execution_count": null,
      "outputs": [
        {
          "output_type": "stream",
          "name": "stdout",
          "text": [
            "    temperatura  datos_decimales  humedad_relativa\n",
            "0     18.000000              0.0         50.600000\n",
            "1     28.580135              0.1         77.050336\n",
            "2     35.119017              0.2         93.397543\n",
            "3     35.119017              0.3         93.397543\n",
            "4     28.580135              0.4         77.050336\n",
            "5     18.000000              0.5         50.600000\n",
            "6      7.419865              0.6         24.149664\n",
            "7      0.880983              0.7          7.802457\n",
            "8      0.880983              0.8          7.802457\n",
            "9      7.419865              0.9         24.149664\n",
            "10    18.000000              1.0         50.600000\n",
            "11    28.580135              1.1         77.050336\n",
            "12    35.119017              1.2         93.397543\n",
            "13    35.119017              1.3         93.397543\n",
            "14    28.580135              1.4         77.050336\n",
            "15    18.000000              1.5         50.600000\n",
            "16     7.419865              1.6         24.149664\n",
            "17     0.880983              1.7          7.802457\n",
            "18     0.880983              1.8          7.802457\n",
            "19     7.419865              1.9         24.149664\n"
          ]
        }
      ]
    },
    {
      "cell_type": "code",
      "source": [
        "# numero total de elementos o medidas del data frame\n",
        "print(df.size)\n",
        "\n",
        "# dimensiones del data frame\n",
        "print(df.shape)\n",
        "\n",
        "# nombres de las columnas\n",
        "print(df.columns)"
      ],
      "metadata": {
        "colab": {
          "base_uri": "https://localhost:8080/"
        },
        "id": "lBC0WyGgvVMG",
        "outputId": "52931016-eeaf-40a1-fe22-929bbeadf8ec"
      },
      "execution_count": null,
      "outputs": [
        {
          "output_type": "stream",
          "name": "stdout",
          "text": [
            "40\n",
            "(20, 2)\n",
            "Index(['temperatura', 'fecha'], dtype='object')\n"
          ]
        }
      ]
    },
    {
      "cell_type": "markdown",
      "source": [
        "## 2.5. Control de flujo"
      ],
      "metadata": {
        "id": "tKuin15-RkUC"
      }
    },
    {
      "cell_type": "markdown",
      "source": [
        "\n",
        "\n",
        "```\n",
        "var_lista01 = [\"hola\", 2024, \"mundo\", 2024.5]\n",
        "                  0      1      2       3\n",
        "```\n",
        "\n"
      ],
      "metadata": {
        "id": "QrA6T2SKbE3K"
      }
    },
    {
      "cell_type": "code",
      "source": [
        "var_lista01[0] = \"Hello!\""
      ],
      "metadata": {
        "id": "5SDyCmP0cEiV"
      },
      "execution_count": null,
      "outputs": []
    },
    {
      "cell_type": "code",
      "source": [
        "print(var_lista01[0])\n",
        "print(var_lista01[1])"
      ],
      "metadata": {
        "id": "z3-iN5_pRyAE",
        "colab": {
          "base_uri": "https://localhost:8080/"
        },
        "outputId": "5f96c771-4bdc-40b6-fd7f-4439e479e366"
      },
      "execution_count": null,
      "outputs": [
        {
          "output_type": "stream",
          "name": "stdout",
          "text": [
            "Hello!\n",
            "2024\n"
          ]
        }
      ]
    },
    {
      "cell_type": "markdown",
      "source": [
        "Control de flujo: **for**\n",
        "\n",
        "\n",
        "```\n",
        "for arg01 in arg02:\n",
        "  aplicacion_01\n",
        "  aplicacion_02\n",
        "    ........\n",
        "  aplicacion_n\n",
        "```\n",
        "\n"
      ],
      "metadata": {
        "id": "H9rNgj31c4-W"
      }
    },
    {
      "cell_type": "markdown",
      "source": [
        ">Control de flujo **for** sobre  **listas**"
      ],
      "metadata": {
        "id": "J5VSUNDwpXEn"
      }
    },
    {
      "cell_type": "code",
      "source": [
        "n_elem = len(var_lista01)\n",
        "print(n_elem)"
      ],
      "metadata": {
        "colab": {
          "base_uri": "https://localhost:8080/"
        },
        "id": "HAr8xAB7cUHX",
        "outputId": "e4e63dd4-dad3-4974-9914-f90d833ff22a"
      },
      "execution_count": null,
      "outputs": [
        {
          "output_type": "stream",
          "name": "stdout",
          "text": [
            "4\n"
          ]
        }
      ]
    },
    {
      "cell_type": "code",
      "source": [
        "for i in range(n_elem):\n",
        "  print(var_lista01[i])"
      ],
      "metadata": {
        "colab": {
          "base_uri": "https://localhost:8080/"
        },
        "id": "vsoq3omzcULQ",
        "outputId": "8cbd284b-d022-4c6c-c153-255ceef16811"
      },
      "execution_count": null,
      "outputs": [
        {
          "output_type": "stream",
          "name": "stdout",
          "text": [
            "Hello!\n",
            "2024\n",
            "mundo\n",
            "Peru 2025\n"
          ]
        }
      ]
    },
    {
      "cell_type": "markdown",
      "source": [
        ">Control de flujo **for** a  **data frame**"
      ],
      "metadata": {
        "id": "NeKCOlxQppdf"
      }
    },
    {
      "cell_type": "code",
      "source": [],
      "metadata": {
        "id": "TuKPfR1xpqRw"
      },
      "execution_count": null,
      "outputs": []
    },
    {
      "cell_type": "markdown",
      "source": [
        "## 2.6. Funciones: Parte II"
      ],
      "metadata": {
        "id": "47u68zUVR0Gf"
      }
    },
    {
      "cell_type": "code",
      "source": [],
      "metadata": {
        "id": "_syZMVXVR1Gj"
      },
      "execution_count": null,
      "outputs": []
    },
    {
      "cell_type": "markdown",
      "source": [
        "# **III. Referencias**\n",
        "\n",
        "**Libros y manuales**\n",
        "\n",
        "- Libro de estadisitica con python\n",
        "\n",
        "  https://www.editorial-sciela.org/index.php/sciela/article/view/16/49\n",
        "\n",
        "- Introducción a la teoria de probabilidades\n",
        "\n",
        "  https://ciladi.org/wp-content/uploads/Version_final_Introduccion-Probabilidad-Python-vf_Bayas-3.pdf\n",
        "\n",
        "- Guía practica de análsis exploratorio de python\n",
        "\n",
        "  https://datos.gob.es/sites/default/files/doc/file/guia_eda_python.pdf\n",
        "\n",
        "\n",
        "**Cursos en linea**\n",
        "\n",
        "- Estadística W3School:\n",
        "\n",
        "  https://www.w3schools.com/statistics/index.php\n",
        "\n",
        "- Estadística con python:\n",
        "\n",
        "  https://docs.python.org/es/3/library/statistics.html\n",
        "\n",
        "- Kaggle:\n",
        "\n",
        "  https://www.kaggle.com/code/saurav9786/statistics-for-data-scientists\n",
        "\n",
        "**Aplicaciones IA**\n",
        "\n",
        "- Gemini iA\n",
        "\n",
        "  https://gemini.google.com\n",
        "\n",
        "- DeepSeek\n",
        "\n",
        "  https://www.deepseek.com/\n",
        "\n",
        "- Chat GPT\n",
        "\n",
        "  https://chatgpt.com/\n",
        "\n",
        "- Claude IA\n",
        "\n",
        "  https://claude.ai/\n",
        "\n",
        "- Julius IA:\n",
        "\n",
        "  https://julius.ai\n",
        "\n"
      ],
      "metadata": {
        "id": "soydKrE0mpsQ"
      }
    }
  ]
}