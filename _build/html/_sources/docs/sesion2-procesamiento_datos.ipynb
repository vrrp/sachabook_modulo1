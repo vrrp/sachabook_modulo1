{
  "nbformat": 4,
  "nbformat_minor": 0,
  "metadata": {
    "colab": {
      "provenance": [],
      "toc_visible": true
    },
    "kernelspec": {
      "name": "python3",
      "display_name": "Python 3"
    },
    "language_info": {
      "name": "python"
    }
  },
  "cells": [
    {
      "cell_type": "markdown",
      "source": [
        "# **2. Manejo, Preprocesamiento y Procesamiento de datos**"
      ],
      "metadata": {
        "id": "2HH0qrj7ogO9"
      }
    },
    {
      "cell_type": "markdown",
      "source": [
        "| Etapa                | Objetivo principal                | Ejemplos                                     |\n",
        "| -------------------- | --------------------------------- | -------------------------------------------- |\n",
        "| **Manejo**           | Administración y control de datos | Almacenamiento, seguridad, bases de datos    |\n",
        "| **Preprocesamiento** | Preparar datos para el análisis   | Analisis exploratorio, control de calidad, normalización, codificación        |\n",
        "| **Procesamiento**    | Extraer conocimiento de los datos | Estadística, machine learning, visualización |\n"
      ],
      "metadata": {
        "id": "NRGjfR4KPodW"
      }
    },
    {
      "cell_type": "markdown",
      "source": [
        "Estos tres procesos son interdependientes y forman parte del flujo de trabajo en cualquier proyecto de análisis de datos o ciencia de datos."
      ],
      "metadata": {
        "id": "fFxYSvHMQDCz"
      }
    },
    {
      "cell_type": "markdown",
      "source": [
        "# **I. Gestión de directorios y archivos en la nube**"
      ],
      "metadata": {
        "id": "s7BplYqWcu3v"
      }
    },
    {
      "cell_type": "markdown",
      "source": [
        "La gestión de archivos y directorios en Google Drive es el proceso de organizar, proteger y compartir información digital en la nube, aprovechando sus funciones de colaboración en tiempo real, control de versiones, permisos de acceso y sincronización multiplataforma, lo que facilita el trabajo individual y grupal de manera eficiente."
      ],
      "metadata": {
        "id": "_WGFJhlgMkIQ"
      }
    },
    {
      "cell_type": "markdown",
      "source": [
        "## 1.1. Montar Google drive a Colaboratory"
      ],
      "metadata": {
        "id": "6IVpqO5tairu"
      }
    },
    {
      "cell_type": "markdown",
      "source": [
        "Montar Google Drive en Colab es el proceso mediante el cual el entorno de ejecución de Colab obtiene acceso autorizado a los archivos de Google Drive, de forma que se pueden leer, escribir y modificar archivos durante la sesión."
      ],
      "metadata": {
        "id": "Siwin-CeSZZM"
      }
    },
    {
      "cell_type": "code",
      "source": [
        "from google.colab import drive\n",
        "drive.mount('/content/drive')"
      ],
      "metadata": {
        "colab": {
          "base_uri": "https://localhost:8080/"
        },
        "collapsed": true,
        "id": "flR_83SGDY9E",
        "outputId": "b9bfe736-1b45-4069-993b-e19727e83506"
      },
      "execution_count": null,
      "outputs": [
        {
          "output_type": "stream",
          "name": "stdout",
          "text": [
            "Mounted at /content/drive\n"
          ]
        }
      ]
    },
    {
      "cell_type": "markdown",
      "source": [
        "## 1.2. Explorar contenido de Google Drive"
      ],
      "metadata": {
        "id": "bnyJGs2hEm1B"
      }
    },
    {
      "cell_type": "markdown",
      "source": [
        "Explorar contenido de Google Drive se refiere a la acción de navegar, buscar, visualizar y gestionar los archivos y carpetas almacenados en Google Drive, la plataforma de almacenamiento en la nube de Google.\n",
        "\n"
      ],
      "metadata": {
        "id": "XMr9QY3pGg-V"
      }
    },
    {
      "cell_type": "code",
      "source": [
        "import os\n",
        "\n",
        "ruta_drive =\"/content/drive/MyDrive/\"\n",
        "\n",
        "print(os.listdir(ruta_drive))"
      ],
      "metadata": {
        "colab": {
          "base_uri": "https://localhost:8080/"
        },
        "id": "9N8i2JBS1Ybm",
        "outputId": "e90d7fae-fa40-4713-a1d2-16c48d898c50"
      },
      "execution_count": null,
      "outputs": [
        {
          "output_type": "stream",
          "name": "stdout",
          "text": [
            "['Osystemgoes', 'latex', 'maestria_met', 'models', 'igp', 'grupo_unmsm', 'make_books_latex', 'make_paper', 'proyectos', 'tools', 'varios', 'documentos', 'cursos_talleres', 'datasample', 'utec', 'fiware', 'Classroom', 'ingles', 'work_job', 'Postulaciones', 'serie de tiempo', 'Google Earth', 'contaminantes_atmosfericos', 'inventario_csv', 'informes', 'Shapes', 'actividades_TDR', 'book_cluster', 'resultados', 'oefa_control_calidad', 'wrfchem_app', 'sacha', 'Colab Notebooks', 'consultorias_pagos', 'EstadisticaIA2025', 'Google AI Studio', 'Estadistica2025_estudiantes', 'Estadistica2025_Tareas_estudiantes', 'Estadistica4Finanzas', 'agroexportacion_peru', 'Bruce-Gedeck-Estadistica-Practica-para-Ciencia-de-Datos-con-R-y-Python.pdf', 'Bioestadistica', 'Base_datos', 'Ciencia_datos_pythonAI', 'clase_jose.ipynb', 'estadistica_python_ai_modulo1', 'InteractiveSheet_2025-09-05_21_40_48.gsheet']\n"
          ]
        }
      ]
    },
    {
      "cell_type": "markdown",
      "source": [
        "El bloque de código de la siguiente celda permite visualizar el contenido de Google Drive enumerado de manera vertical."
      ],
      "metadata": {
        "id": "p7GP_RGsMMWx"
      }
    },
    {
      "cell_type": "code",
      "source": [
        "lista_dir_drive = os.listdir(ruta_drive)\n",
        "n_elem = len(lista_dir_drive)\n",
        "print(f\"Numero de elementos: {n_elem}\")\n",
        "\n",
        "for i in range(n_elem):\n",
        "  print(f\"({i}) {lista_dir_drive[i]}\")"
      ],
      "metadata": {
        "colab": {
          "base_uri": "https://localhost:8080/"
        },
        "id": "UmaMZ1tKbTPY",
        "outputId": "21b3754e-8dd5-4993-dfc2-b18273bb4ca9"
      },
      "execution_count": null,
      "outputs": [
        {
          "output_type": "stream",
          "name": "stdout",
          "text": [
            "Numero de elementos: 47\n",
            "(0) Osystemgoes\n",
            "(1) latex\n",
            "(2) maestria_met\n",
            "(3) models\n",
            "(4) igp\n",
            "(5) grupo_unmsm\n",
            "(6) make_books_latex\n",
            "(7) make_paper\n",
            "(8) proyectos\n",
            "(9) tools\n",
            "(10) varios\n",
            "(11) documentos\n",
            "(12) cursos_talleres\n",
            "(13) datasample\n",
            "(14) utec\n",
            "(15) fiware\n",
            "(16) Classroom\n",
            "(17) ingles\n",
            "(18) work_job\n",
            "(19) Postulaciones\n",
            "(20) serie de tiempo\n",
            "(21) Google Earth\n",
            "(22) contaminantes_atmosfericos\n",
            "(23) inventario_csv\n",
            "(24) informes\n",
            "(25) Shapes\n",
            "(26) actividades_TDR\n",
            "(27) book_cluster\n",
            "(28) resultados\n",
            "(29) oefa_control_calidad\n",
            "(30) wrfchem_app\n",
            "(31) sacha\n",
            "(32) Colab Notebooks\n",
            "(33) consultorias_pagos\n",
            "(34) EstadisticaIA2025\n",
            "(35) Google AI Studio\n",
            "(36) Estadistica2025_estudiantes\n",
            "(37) Estadistica2025_Tareas_estudiantes\n",
            "(38) Estadistica4Finanzas\n",
            "(39) agroexportacion_peru\n",
            "(40) Bruce-Gedeck-Estadistica-Practica-para-Ciencia-de-Datos-con-R-y-Python.pdf\n",
            "(41) Bioestadistica\n",
            "(42) Base_datos\n",
            "(43) Ciencia_datos_pythonAI\n",
            "(44) clase_jose.ipynb\n",
            "(45) estadistica_python_ai_modulo1\n",
            "(46) InteractiveSheet_2025-09-05_21_40_48.gsheet\n"
          ]
        }
      ]
    },
    {
      "cell_type": "markdown",
      "source": [
        "Definir la función **`explorar_drive`** para explorar de manera más eficiente y rápida las carpertas y sub carpetas que se encuentran en Google Drive."
      ],
      "metadata": {
        "id": "AEJM8QCGMN-p"
      }
    },
    {
      "cell_type": "code",
      "source": [
        "def explorar_drive(nombre_carpeta):\n",
        "  import os\n",
        "  ruta_drive =\"/content/drive/MyDrive/\"\n",
        "  contenido_carpeta = os.listdir(ruta_drive + nombre_carpeta)\n",
        "  n_elem = len(contenido_carpeta)\n",
        "\n",
        "  print(f\"Ruta: {ruta_drive + nombre_carpeta}\")\n",
        "  print(f\"Numero de elementos: {n_elem}\")\n",
        "\n",
        "  for i in range(n_elem):\n",
        "    print(f\"({i}) {contenido_carpeta[i]}\")"
      ],
      "metadata": {
        "id": "aNuxVIPfz5ZD"
      },
      "execution_count": null,
      "outputs": []
    },
    {
      "cell_type": "markdown",
      "source": [
        "Forma de usar la función **`explorar_drive`** para explorar el contenido de Google Drive."
      ],
      "metadata": {
        "id": "iq1aFj94NzAP"
      }
    },
    {
      "cell_type": "code",
      "source": [
        "explorar_drive(\"Base_datos\")"
      ],
      "metadata": {
        "id": "gwV0Nozaf1TK",
        "colab": {
          "base_uri": "https://localhost:8080/"
        },
        "outputId": "fe84f8eb-18eb-42f3-f512-967323e19bf0"
      },
      "execution_count": null,
      "outputs": [
        {
          "output_type": "stream",
          "name": "stdout",
          "text": [
            "Ruta: /content/drive/MyDrive/Base_datos\n",
            "Numero de elementos: 4\n",
            "(0) fuente_de_datos.gdoc\n",
            "(1) shapes\n",
            "(2) biomedicina\n",
            "(3) meteorologia\n"
          ]
        }
      ]
    },
    {
      "cell_type": "code",
      "source": [
        "explorar_drive(\"Ciencia_datos_pythonAI/\")"
      ],
      "metadata": {
        "colab": {
          "base_uri": "https://localhost:8080/"
        },
        "id": "5hynQSmi1KxH",
        "outputId": "77f1ec65-6a28-4fa7-a855-b61eb35771cf"
      },
      "execution_count": null,
      "outputs": [
        {
          "output_type": "stream",
          "name": "stdout",
          "text": [
            "Ruta: /content/drive/MyDrive/Ciencia_datos_pythonAI/\n",
            "Numero de elementos: 3\n",
            "(0) Modulo_01\n",
            "(1) Modulo_02\n",
            "(2) Modulo_03\n"
          ]
        }
      ]
    },
    {
      "cell_type": "markdown",
      "source": [
        "# **II. Importar base de datos**"
      ],
      "metadata": {
        "id": "3zD6DHn3PVt6"
      }
    },
    {
      "cell_type": "markdown",
      "source": [
        "**¿Qué es una base de datos?**\n",
        "\n",
        "Una base de datos es una colección organizada de información o datos estructurados, que normalmente se almacena electrónicamente en un sistema de computadora. Esencialmente, es un sistema diseñado para almacenar, gestionar y recuperar grandes cantidades de información de manera eficiente."
      ],
      "metadata": {
        "id": "HLrKfg_XQmJy"
      }
    },
    {
      "cell_type": "markdown",
      "source": [
        "pregunta para gemini: efinir, describir, detallar y comparar tipos de datos cuantitativos y cualitativos. Finalmente dar tres ejemplos de cada uno de ellos."
      ],
      "metadata": {
        "id": "9B11_2x8Q-aa"
      }
    },
    {
      "cell_type": "markdown",
      "source": [
        "**Datos Cuantitativos:**\n",
        "* **Definición:** Los datos cuantitativos (discretos ó contínuos) son aquellos que se pueden medir y expresar numéricamente. Responden a la pregunta \"¿cuánto?\" o \"¿cuántos?\". Estos datos se pueden someter a operaciones matemáticas y análisis estadísticos.\n",
        "\n",
        "* **Descripción:** Son datos numéricos que representan magnitudes, cantidades, frecuencias, etc. Tienen un orden natural y distancias significativas entre sus valores.\n",
        "\n"
      ],
      "metadata": {
        "id": "Szor2deNRg0-"
      }
    },
    {
      "cell_type": "markdown",
      "source": [
        "**Datos Cualitativos:**\n",
        "* **Definición:** Los datos cualitativos son aquellos que describen cualidades, características o atributos. No se pueden medir numéricamente de manera significativa. Responden a la pregunta \"¿cómo?\" o \"¿qué tipo?\".\n",
        "\n",
        "* **Descripción:**  Son datos que representan categorías o etiquetas. No tienen un orden numérico inherente y las operaciones matemáticas no suelen ser aplicables a menos que se codifiquen."
      ],
      "metadata": {
        "id": "DRvLnBijSc9J"
      }
    },
    {
      "cell_type": "markdown",
      "source": [
        "**Comparación entre Datos Cuantitativos y Cualitativos:**\n",
        "\n",
        "\n",
        "| Característica       | Datos Cuantitativos                     | Datos Cualitativos                       |\n",
        "| :------------------- | :-------------------------------------- | :--------------------------------------- |\n",
        "| **Naturaleza**       | Numérica, medible                       | Categórica, descriptiva                  |\n",
        "| **Responde a**       | ¿Cuánto? ¿Cuántos?                      | ¿Cómo? ¿Qué tipo?                        |\n",
        "| **Operaciones Mat.** | Sí (suma, promedio, etc.)               | No (a menos que se codifiquen)           |\n",
        "| **Orden**            | Sí, orden natural                       | Nominal: No; Ordinal: Sí (jerarquía)     |\n",
        "| **Análisis Típico**  | Estadísticas descriptivas (media, desv. estándar), regresión, etc. | Frecuencias, proporciones, análisis de texto, etc. |\n",
        "| **Visualización**    | Histogramas, líneas, dispersión         | Barras, circulares                       |\n",
        "| **Objetividad**      | Generalmente objetivo                   | Puede ser subjetivo                      |"
      ],
      "metadata": {
        "id": "jf46-eaXSnmp"
      }
    },
    {
      "cell_type": "markdown",
      "source": [
        "## 2.1. Importar archivos en formato EXCEL"
      ],
      "metadata": {
        "id": "_MN3nCnzzj8x"
      }
    },
    {
      "cell_type": "markdown",
      "source": [
        "Las mediciones de temperatura del aire, humedad relativa y radiación solar (variables ambientales), realizadas por una estación meteorológica en un punto geográfico específico son datos **cuantitativos contínuos**."
      ],
      "metadata": {
        "id": "KeSq-hArsvdt"
      }
    },
    {
      "cell_type": "code",
      "source": [
        "excel_data_file = \"/content/drive/MyDrive/Base_datos/meteorologia/data_estacion_madrid.xlsx\""
      ],
      "metadata": {
        "id": "5RkDFeXl2rlH"
      },
      "execution_count": null,
      "outputs": []
    },
    {
      "cell_type": "code",
      "source": [
        "# immportando el archivo Excel\n",
        "import pandas as pd\n",
        "\n",
        "df_met = pd.read_excel(excel_data_file)\n",
        "print(df_met)"
      ],
      "metadata": {
        "colab": {
          "base_uri": "https://localhost:8080/"
        },
        "id": "mdhJrUxZ3_A0",
        "outputId": "dfd86fa6-45f0-4c36-d301-480431e97863"
      },
      "execution_count": null,
      "outputs": [
        {
          "output_type": "stream",
          "name": "stdout",
          "text": [
            "     Unnamed: 0      fecha  temp_aire         hr   rxn_solar\n",
            "0             0 2021-01-01   3.625000  73.583333   99.833333\n",
            "1             1 2021-01-02   1.329167  60.625000   74.333333\n",
            "2             2 2021-01-03   1.920833  63.958333  101.500000\n",
            "3             3 2021-01-04   3.433333  57.791667  101.958333\n",
            "4             4 2021-01-05   0.445833  69.541667  106.666667\n",
            "..          ...        ...        ...        ...         ...\n",
            "329         329 2021-11-26   5.562500  69.875000   87.833333\n",
            "330         330 2021-11-27   5.500000  61.500000   93.041667\n",
            "331         331 2021-11-28   4.783333  60.291667  117.750000\n",
            "332         332 2021-11-29  10.112500  61.541667  108.750000\n",
            "333         333 2021-11-30   6.691667  74.000000  102.958333\n",
            "\n",
            "[334 rows x 5 columns]\n"
          ]
        }
      ]
    },
    {
      "cell_type": "markdown",
      "source": [
        "## 2.2. Importar archivos en formato CSV"
      ],
      "metadata": {
        "id": "5fqV67DEq17A"
      }
    },
    {
      "cell_type": "markdown",
      "source": [
        "Importar archivos en formato CSV (Comma-Separated Values, o Valores Separados por Comas) consiste en el proceso de cargar o transferir datos almacenados en un archivo CSV a un programa, aplicación o base de datos para su procesamiento, análisis o almacenamiento. Un archivo CSV es un formato de texto plano que organiza datos en filas y columnas, donde los valores están separados por comas (u otros delimitadores, como punto y coma o tabulaciones) y cada fila representa un registro."
      ],
      "metadata": {
        "id": "8j-bGuqwUxaS"
      }
    },
    {
      "cell_type": "markdown",
      "source": [
        "* <a href=\"https://www.datosabiertos.gob.pe\">Plataforma Nacional de Datos Abiertos</a>.\n",
        "\n",
        "* Datos para caso estudio: <a href=\"https://www.datosabiertos.gob.pe/dataset/anemia/resource/938f2caf-41c1-4d2f-aa27-0d940a34b1ed#{}\">Anemia</a>."
      ],
      "metadata": {
        "id": "PW-FSPUKxefL"
      }
    },
    {
      "cell_type": "code",
      "source": [
        "csv_data_file = \"/content/drive/My Drive/Base_datos/biomedicina/TB_DIGTEL_ANEMIA_TRATAMIENTOS.csv\"\n",
        "\n",
        "df_anemia = pd.read_csv(csv_data_file)\n",
        "print(df_anemia)"
      ],
      "metadata": {
        "colab": {
          "base_uri": "https://localhost:8080/"
        },
        "id": "cBH4mFsl4mgr",
        "outputId": "79de8955-2ee3-403c-c928-d8a579b97ad7"
      },
      "execution_count": null,
      "outputs": [
        {
          "output_type": "stream",
          "name": "stdout",
          "text": [
            "       Sexo  id_persona  Edad Tipo_edad  id_ubigeo  Fecha_atencion    Etapa  \\\n",
            "0         F    41031388    20         A        NaN        20230208  18a-29a   \n",
            "1         F    40489600     2         A     1128.0        20230107  00a-11a   \n",
            "2         M    40315865     1         A        NaN        20230207  00a-11a   \n",
            "3         F    38917347    19         D     1460.0        20210511  00a-11a   \n",
            "4         M    40507941     3         A     1668.0        20230224  00a-11a   \n",
            "...     ...         ...   ...       ...        ...             ...      ...   \n",
            "248888    M     9206744     6         A     1631.0        20230119  00a-11a   \n",
            "248889    M    25824229     4         A      163.0        20210528  00a-11a   \n",
            "248890    F    19472530     6         A     1161.0        20230107  00a-11a   \n",
            "248891    F    33840534     4         A      242.0        20210412  00a-11a   \n",
            "248892    F    19486739    84         A     1703.0        20230525     60a+   \n",
            "\n",
            "        Diagnostico Tipo_Dx  Lab  id_eess  \n",
            "0          99199.17       D  SF3     5942  \n",
            "1          99199.17       D  SF3     6856  \n",
            "2          99199.17       D  SF1    27109  \n",
            "3          99199.17       D  SF1       16  \n",
            "4          99199.17       D   TA     2978  \n",
            "...             ...     ...  ...      ...  \n",
            "248888     99199.17       D  SF2     3263  \n",
            "248889     99199.17       D  SF1     1819  \n",
            "248890     99199.17       D  SF2     5217  \n",
            "248891     99199.17       D  SF1     1812  \n",
            "248892     99199.17       D  SF1     3161  \n",
            "\n",
            "[248893 rows x 11 columns]\n"
          ]
        }
      ]
    },
    {
      "cell_type": "markdown",
      "source": [
        "# **III. Preprocesamiento de datos**"
      ],
      "metadata": {
        "id": "X6MawcGyc2Pu"
      }
    },
    {
      "cell_type": "markdown",
      "source": [
        "Dado que los datos suelen estar incompletos, inconsistentes o con errores, el preprocesamiento busca mejorar su calidad y estructuración. Es un paso fundamental para garantizar resultados confiables en **análisis estadístico**, **machine learning** o **inteligencia artificial**."
      ],
      "metadata": {
        "id": "YAdPqhp0doDh"
      }
    },
    {
      "cell_type": "markdown",
      "source": [
        "## 3.1. Análisis exploratorio de datos"
      ],
      "metadata": {
        "id": "wvcZH4Hhrrss"
      }
    },
    {
      "cell_type": "markdown",
      "source": [
        "El Análisis Exploratorio de Datos (EDA) es una metodología para analizar conjuntos de datos y resumir sus características principales, a menudo usando medidas estadísticas y métodos visuales. El objetivo del EDA es comprender los datos, descubrir patrones, detectar anomalías y probar hipótesis antes de realizar un modelado formal. No es un enfoque formal de modelado estadístico, sino más bien una filosofía para ver y comprender los datos.\n",
        "\n",
        "**¿En qué consiste el EDA?**\n",
        "\n",
        "* **Resumen de datos:** Calcular estadísticas descriptivas (media, mediana, desviación estándar, cuartiles, etc.) para comprender la distribución y las características centrales de las variables.\n",
        "\n",
        "* **Identificación de valores faltantes:** Detectar y cuantificar la presencia de valores nulos o faltantes en el conjunto de datos.\n",
        "\n",
        "* **Detección de valores atípicos:** Identificar observaciones que se desvían significativamente de otras observaciones y que podrían indicar un error de medición o una característica inusual del fenómeno que se está estudiando."
      ],
      "metadata": {
        "id": "FBjIMz8sq2JM"
      }
    },
    {
      "cell_type": "markdown",
      "source": [
        "**Métodos en Python y Pandas para EDA:**\n",
        "\n",
        "Pandas es la biblioteca fundamental en Python para la manipulación y análisis de datos, y ofrece numerosos métodos para realizar EDA:\n",
        "\n",
        "*   **`.head()` y `.tail()`:** Muestran las primeras o últimas filas del DataFrame, respectivamente, para obtener una vista rápida de los datos.\n",
        "*   **`.info()`:** Proporciona un resumen conciso del DataFrame, incluyendo el índice, los tipos de datos de las columnas, el número de valores no nulos y el uso de memoria.\n",
        "*   **`.describe()`:** Genera estadísticas descriptivas (conteo, media, desviación estándar, mínimo, cuartiles, máximo) para las columnas numéricas. Se puede usar `.describe(include='all')` para incluir columnas no numéricas.\n",
        "*   **`.shape`:** Atributo que devuelve una tupla que representa las dimensiones del DataFrame (número de filas, número de columnas).\n",
        "*   **`.columns`:** Atributo que devuelve un objeto Index que contiene los nombres de las columnas.\n",
        "*   **`.value_counts()`:** Para Series, devuelve una Serie que contiene los recuentos de valores únicos. Útil para variables categóricas.\n",
        "<!-- *   **`.unique()` y `.nunique()`:** Devuelven los valores únicos en una Serie y el número de valores únicos, respectivamente.-->\n",
        "*   **`.isnull()` / `.isna()` y `.sum()`:** Se utilizan en combinación para contar los valores faltantes por columna.\n",
        "<!-- *   **`.duplicated()` y `.drop_duplicates()`:** Ayudan a identificar y eliminar filas duplicadas.-->\n",
        "<!-- *   **`.corr()`:** Calcula la correlación de Pearson (por defecto) entre las columnas numéricas.-->\n",
        "*   **`.groupby()`:** Permite agrupar datos por una o más columnas para realizar análisis agregados.\n",
        "\n",
        "Además de **Pandas**, bibliotecas como **Matplotlib** y **Seaborn** son esenciales para la visualización de datos en el EDA."
      ],
      "metadata": {
        "id": "_arAaEMWuWQu"
      }
    },
    {
      "cell_type": "markdown",
      "source": [
        "### 3.1.1. Ambientales"
      ],
      "metadata": {
        "id": "YLtVkXvifjiP"
      }
    },
    {
      "cell_type": "markdown",
      "source": [
        "Los datos ambientales abarcan una amplia variedad de información relacionada con los elementos del medio ambiente, como el aire, el agua, el suelo, la biodiversidad, el clima y los recursos naturales. Se obtienen a través de métodos como observaciones directas, sensores, análisis de laboratorio, imágenes satelitales o modelos predictivos. Estos datos son fundamentales para evaluar el estado del medio ambiente, identificar problemas como la contaminación o el cambio climático, y tomar decisiones informadas en políticas ambientales, planificación urbana o conservación."
      ],
      "metadata": {
        "id": "coWh_YRPKoqD"
      }
    },
    {
      "cell_type": "code",
      "source": [
        "print(df_met.info())"
      ],
      "metadata": {
        "colab": {
          "base_uri": "https://localhost:8080/"
        },
        "id": "N6J5wL5ORaz9",
        "outputId": "a286fe6b-b30f-480d-fed6-21ad5549b528"
      },
      "execution_count": null,
      "outputs": [
        {
          "output_type": "stream",
          "name": "stdout",
          "text": [
            "<class 'pandas.core.frame.DataFrame'>\n",
            "RangeIndex: 334 entries, 0 to 333\n",
            "Data columns (total 5 columns):\n",
            " #   Column      Non-Null Count  Dtype         \n",
            "---  ------      --------------  -----         \n",
            " 0   Unnamed: 0  334 non-null    int64         \n",
            " 1   fecha       334 non-null    datetime64[ns]\n",
            " 2   temp_aire   334 non-null    float64       \n",
            " 3   hr          334 non-null    float64       \n",
            " 4   rxn_solar   334 non-null    float64       \n",
            "dtypes: datetime64[ns](1), float64(3), int64(1)\n",
            "memory usage: 13.2 KB\n",
            "None\n"
          ]
        }
      ]
    },
    {
      "cell_type": "code",
      "source": [
        "# Contar valores nulos por columna usando isna()\n",
        "valores_nulos_por_columna = df_met.isna().sum()\n",
        "print(\"Valores nulos por columna:\")\n",
        "print(valores_nulos_por_columna)"
      ],
      "metadata": {
        "colab": {
          "base_uri": "https://localhost:8080/"
        },
        "id": "ItouTtetiLzf",
        "outputId": "c9d89d03-95c9-4997-b00a-581d4d2ef541"
      },
      "execution_count": null,
      "outputs": [
        {
          "output_type": "stream",
          "name": "stdout",
          "text": [
            "Valores nulos por columna:\n",
            "Unnamed: 0    0\n",
            "fecha         0\n",
            "temp_aire     0\n",
            "hr            0\n",
            "rxn_solar     0\n",
            "dtype: int64\n"
          ]
        }
      ]
    },
    {
      "cell_type": "code",
      "source": [
        "# Contar el total de valores nulos en todo el DataFrame\n",
        "total_valores_nulos = df_met.isna().sum().sum()\n",
        "print(f\"\\nTotal de valores nulos en el DataFrame: {total_valores_nulos}\")"
      ],
      "metadata": {
        "colab": {
          "base_uri": "https://localhost:8080/"
        },
        "id": "GpNm0cPYYXKv",
        "outputId": "6b7bcc02-8435-4ac3-e3f7-72927be1eebb"
      },
      "execution_count": null,
      "outputs": [
        {
          "output_type": "stream",
          "name": "stdout",
          "text": [
            "\n",
            "Total de valores nulos en el DataFrame: 0\n"
          ]
        }
      ]
    },
    {
      "cell_type": "code",
      "source": [
        "nombres_columnas_met = df_met.columns.values.tolist()\n",
        "print(nombres_columnas_met)\n",
        "print(type(nombres_columnas_met))"
      ],
      "metadata": {
        "colab": {
          "base_uri": "https://localhost:8080/"
        },
        "id": "-VPZIWTK6Y-L",
        "outputId": "30fa3e1e-10aa-4dae-8276-0d9dcea73e9d"
      },
      "execution_count": null,
      "outputs": [
        {
          "output_type": "stream",
          "name": "stdout",
          "text": [
            "['Unnamed: 0', 'fecha', 'temp_aire', 'hr', 'rxn_solar']\n",
            "<class 'list'>\n"
          ]
        }
      ]
    },
    {
      "cell_type": "code",
      "source": [
        "met_interes = df_met[[ \"rxn_solar\", \"hr\", \"temp_aire\"]]\n",
        "print(met_interes)"
      ],
      "metadata": {
        "colab": {
          "base_uri": "https://localhost:8080/"
        },
        "id": "A3HeB8b06wvi",
        "outputId": "5e21c25a-03df-4a08-fb48-b46043115191"
      },
      "execution_count": null,
      "outputs": [
        {
          "output_type": "stream",
          "name": "stdout",
          "text": [
            "      rxn_solar         hr  temp_aire\n",
            "0     99.833333  73.583333   3.625000\n",
            "1     74.333333  60.625000   1.329167\n",
            "2    101.500000  63.958333   1.920833\n",
            "3    101.958333  57.791667   3.433333\n",
            "4    106.666667  69.541667   0.445833\n",
            "..          ...        ...        ...\n",
            "329   87.833333  69.875000   5.562500\n",
            "330   93.041667  61.500000   5.500000\n",
            "331  117.750000  60.291667   4.783333\n",
            "332  108.750000  61.541667  10.112500\n",
            "333  102.958333  74.000000   6.691667\n",
            "\n",
            "[334 rows x 3 columns]\n"
          ]
        }
      ]
    },
    {
      "cell_type": "code",
      "source": [
        "print(met_interes.describe())"
      ],
      "metadata": {
        "colab": {
          "base_uri": "https://localhost:8080/"
        },
        "id": "Dz37IytN9-wC",
        "outputId": "62de7136-efd3-4b7a-910b-76902adb681a"
      },
      "execution_count": null,
      "outputs": [
        {
          "output_type": "stream",
          "name": "stdout",
          "text": [
            "        rxn_solar          hr   temp_aire\n",
            "count  334.000000  334.000000  334.000000\n",
            "mean   207.164172   57.978917   15.556999\n",
            "std     96.113257   17.174558    7.641851\n",
            "min     14.583333   23.583333   -4.841667\n",
            "25%    130.625000   45.031250   10.026042\n",
            "50%    199.625000   57.937500   14.929167\n",
            "75%    293.416667   70.885417   21.714583\n",
            "max    369.958333  100.000000   31.920833\n"
          ]
        }
      ]
    },
    {
      "cell_type": "code",
      "source": [
        "print(met_interes.describe()[\"hr\"])"
      ],
      "metadata": {
        "colab": {
          "base_uri": "https://localhost:8080/"
        },
        "id": "NJI7ywNO7uMZ",
        "outputId": "7d76e819-50c9-4d0d-8171-6227d4b5a2e8"
      },
      "execution_count": null,
      "outputs": [
        {
          "output_type": "stream",
          "name": "stdout",
          "text": [
            "count    334.000000\n",
            "mean      57.978917\n",
            "std       17.174558\n",
            "min       23.583333\n",
            "25%       45.031250\n",
            "50%       57.937500\n",
            "75%       70.885417\n",
            "max      100.000000\n",
            "Name: hr, dtype: float64\n"
          ]
        }
      ]
    },
    {
      "cell_type": "code",
      "source": [
        "std_hr = met_interes.describe()[\"hr\"][\"std\"]\n",
        "p75_hr = met_interes.describe()[\"hr\"][\"75%\"]\n",
        "print(std_hr)\n",
        "print(p75_hr)\n",
        "suma = std_hr + p75_hr\n",
        "print(suma)\n",
        "\n",
        "producto= std_hr * p75_hr\n",
        "print(producto)"
      ],
      "metadata": {
        "colab": {
          "base_uri": "https://localhost:8080/"
        },
        "id": "pDcS-A9a7yQm",
        "outputId": "1e4652fe-cf5f-4f68-d4d3-d7ffcf4fea9b"
      },
      "execution_count": null,
      "outputs": [
        {
          "output_type": "stream",
          "name": "stdout",
          "text": [
            "17.174557680329734\n",
            "70.88541666666667\n",
            "88.0599743469964\n",
            "1217.4256772358733\n"
          ]
        }
      ]
    },
    {
      "cell_type": "code",
      "source": [
        "fil_rxs = df_met[(df_met[\"rxn_solar\"]>=300) & (df_met[\"rxn_solar\"]<=360)]\n",
        "\n",
        "print(fil_rxs)\n",
        "print(fil_rxs.shape)"
      ],
      "metadata": {
        "colab": {
          "base_uri": "https://localhost:8080/"
        },
        "id": "b6fPBNiIq4tT",
        "outputId": "b4640c76-8730-48ff-99ec-eca9b37f243c"
      },
      "execution_count": null,
      "outputs": [
        {
          "output_type": "stream",
          "name": "stdout",
          "text": [
            "     Unnamed: 0      fecha  temp_aire         hr   rxn_solar\n",
            "106         106 2021-04-17   8.916667  43.416667  308.916667\n",
            "107         107 2021-04-18  10.641667  46.458333  304.708333\n",
            "123         123 2021-05-04  14.425000  62.541667  331.375000\n",
            "124         124 2021-05-05  17.350000  47.083333  330.166667\n",
            "125         125 2021-05-06  18.420833  47.000000  331.791667\n",
            "..          ...        ...        ...        ...         ...\n",
            "223         223 2021-08-12  29.416667  35.291667  306.500000\n",
            "227         227 2021-08-16  27.720833  23.583333  306.416667\n",
            "228         228 2021-08-17  24.191667  32.375000  311.125000\n",
            "231         231 2021-08-20  26.283333  40.041667  300.791667\n",
            "232         232 2021-08-21  26.433333  27.208333  302.541667\n",
            "\n",
            "[71 rows x 5 columns]\n",
            "(71, 5)\n"
          ]
        }
      ]
    },
    {
      "cell_type": "code",
      "source": [
        "print(df_met)\n",
        "\n",
        "print(df_met.loc[1,\"hr\"])\n",
        "print(df_met.iloc[1,3])   # [fila, columna] indexacion considerando todo el data frame"
      ],
      "metadata": {
        "colab": {
          "base_uri": "https://localhost:8080/"
        },
        "id": "O1XjQZncB57V",
        "outputId": "d9ad21b0-dc1c-41c5-af05-fc6e92792cad"
      },
      "execution_count": null,
      "outputs": [
        {
          "output_type": "stream",
          "name": "stdout",
          "text": [
            "     Unnamed: 0      fecha  temp_aire         hr   rxn_solar\n",
            "0             0 2021-01-01   3.625000  73.583333   99.833333\n",
            "1             1 2021-01-02   1.329167  60.625000   74.333333\n",
            "2             2 2021-01-03   1.920833  63.958333  101.500000\n",
            "3             3 2021-01-04   3.433333  57.791667  101.958333\n",
            "4             4 2021-01-05   0.445833  69.541667  106.666667\n",
            "..          ...        ...        ...        ...         ...\n",
            "329         329 2021-11-26   5.562500  69.875000   87.833333\n",
            "330         330 2021-11-27   5.500000  61.500000   93.041667\n",
            "331         331 2021-11-28   4.783333  60.291667  117.750000\n",
            "332         332 2021-11-29  10.112500  61.541667  108.750000\n",
            "333         333 2021-11-30   6.691667  74.000000  102.958333\n",
            "\n",
            "[334 rows x 5 columns]\n",
            "60.625\n",
            "60.625\n"
          ]
        }
      ]
    },
    {
      "cell_type": "markdown",
      "source": [
        "### 3.1.2. Biomedicos"
      ],
      "metadata": {
        "id": "w8HEMPjmfxR8"
      }
    },
    {
      "cell_type": "markdown",
      "source": [
        "Los datos biomédicos son información generada a partir de la observación, medición, análisis o experimentación en el ámbito de las ciencias biomédicas, que abarcan disciplinas como la medicina, la biología, la biotecnología y la salud pública. Estos datos se refieren a características biológicas, fisiológicas, genéticas, clínicas o moleculares de organismos vivos, especialmente humanos, y se utilizan para estudiar, diagnosticar, tratar o prevenir enfermedades, así como para avanzar en la investigación científica."
      ],
      "metadata": {
        "id": "KJlw_1-nL8ZV"
      }
    },
    {
      "cell_type": "code",
      "source": [
        "print(df_anemia)"
      ],
      "metadata": {
        "colab": {
          "base_uri": "https://localhost:8080/"
        },
        "id": "Z1fnuReu0Be2",
        "outputId": "938f9bab-a225-4c29-859a-46b98ba2b7f4"
      },
      "execution_count": null,
      "outputs": [
        {
          "output_type": "stream",
          "name": "stdout",
          "text": [
            "       Sexo  id_persona  Edad Tipo_edad  id_ubigeo  Fecha_atencion    Etapa  \\\n",
            "0         F    41031388    20         A        NaN        20230208  18a-29a   \n",
            "1         F    40489600     2         A     1128.0        20230107  00a-11a   \n",
            "2         M    40315865     1         A        NaN        20230207  00a-11a   \n",
            "3         F    38917347    19         D     1460.0        20210511  00a-11a   \n",
            "4         M    40507941     3         A     1668.0        20230224  00a-11a   \n",
            "...     ...         ...   ...       ...        ...             ...      ...   \n",
            "248888    M     9206744     6         A     1631.0        20230119  00a-11a   \n",
            "248889    M    25824229     4         A      163.0        20210528  00a-11a   \n",
            "248890    F    19472530     6         A     1161.0        20230107  00a-11a   \n",
            "248891    F    33840534     4         A      242.0        20210412  00a-11a   \n",
            "248892    F    19486739    84         A     1703.0        20230525     60a+   \n",
            "\n",
            "        Diagnostico Tipo_Dx  Lab  id_eess  \n",
            "0          99199.17       D  SF3     5942  \n",
            "1          99199.17       D  SF3     6856  \n",
            "2          99199.17       D  SF1    27109  \n",
            "3          99199.17       D  SF1       16  \n",
            "4          99199.17       D   TA     2978  \n",
            "...             ...     ...  ...      ...  \n",
            "248888     99199.17       D  SF2     3263  \n",
            "248889     99199.17       D  SF1     1819  \n",
            "248890     99199.17       D  SF2     5217  \n",
            "248891     99199.17       D  SF1     1812  \n",
            "248892     99199.17       D  SF1     3161  \n",
            "\n",
            "[248893 rows x 11 columns]\n"
          ]
        }
      ]
    },
    {
      "cell_type": "code",
      "source": [
        "print(df_anemia.info())"
      ],
      "metadata": {
        "colab": {
          "base_uri": "https://localhost:8080/"
        },
        "id": "tRnkolkxSP9H",
        "outputId": "488cda91-fe97-421c-89e9-05af3f051244"
      },
      "execution_count": null,
      "outputs": [
        {
          "output_type": "stream",
          "name": "stdout",
          "text": [
            "<class 'pandas.core.frame.DataFrame'>\n",
            "RangeIndex: 248893 entries, 0 to 248892\n",
            "Data columns (total 11 columns):\n",
            " #   Column          Non-Null Count   Dtype  \n",
            "---  ------          --------------   -----  \n",
            " 0   Sexo            248893 non-null  object \n",
            " 1   id_persona      248893 non-null  int64  \n",
            " 2   Edad            248893 non-null  int64  \n",
            " 3   Tipo_edad       248893 non-null  object \n",
            " 4   id_ubigeo       243110 non-null  float64\n",
            " 5   Fecha_atencion  248893 non-null  int64  \n",
            " 6   Etapa           248893 non-null  object \n",
            " 7   Diagnostico     248893 non-null  float64\n",
            " 8   Tipo_Dx         248893 non-null  object \n",
            " 9   Lab             248893 non-null  object \n",
            " 10  id_eess         248893 non-null  int64  \n",
            "dtypes: float64(2), int64(4), object(5)\n",
            "memory usage: 20.9+ MB\n",
            "None\n"
          ]
        }
      ]
    },
    {
      "cell_type": "code",
      "source": [
        "print(df_anemia.isnull())"
      ],
      "metadata": {
        "colab": {
          "base_uri": "https://localhost:8080/"
        },
        "id": "nigiMFrlzxj1",
        "outputId": "d20207b6-7db3-4081-fc47-c28a739a3309"
      },
      "execution_count": null,
      "outputs": [
        {
          "output_type": "stream",
          "name": "stdout",
          "text": [
            "         Sexo  id_persona   Edad  Tipo_edad  id_ubigeo  Fecha_atencion  Etapa  \\\n",
            "0       False       False  False      False       True           False  False   \n",
            "1       False       False  False      False      False           False  False   \n",
            "2       False       False  False      False       True           False  False   \n",
            "3       False       False  False      False      False           False  False   \n",
            "4       False       False  False      False      False           False  False   \n",
            "...       ...         ...    ...        ...        ...             ...    ...   \n",
            "248888  False       False  False      False      False           False  False   \n",
            "248889  False       False  False      False      False           False  False   \n",
            "248890  False       False  False      False      False           False  False   \n",
            "248891  False       False  False      False      False           False  False   \n",
            "248892  False       False  False      False      False           False  False   \n",
            "\n",
            "        Diagnostico  Tipo_Dx    Lab  id_eess  \n",
            "0             False    False  False    False  \n",
            "1             False    False  False    False  \n",
            "2             False    False  False    False  \n",
            "3             False    False  False    False  \n",
            "4             False    False  False    False  \n",
            "...             ...      ...    ...      ...  \n",
            "248888        False    False  False    False  \n",
            "248889        False    False  False    False  \n",
            "248890        False    False  False    False  \n",
            "248891        False    False  False    False  \n",
            "248892        False    False  False    False  \n",
            "\n",
            "[248893 rows x 11 columns]\n"
          ]
        }
      ]
    },
    {
      "cell_type": "code",
      "source": [
        "print(df_anemia.isnull().sum())"
      ],
      "metadata": {
        "colab": {
          "base_uri": "https://localhost:8080/"
        },
        "id": "IbH-cwwS0Q1N",
        "outputId": "e9fcfc94-74fe-4da6-d931-1f3e6c997359"
      },
      "execution_count": null,
      "outputs": [
        {
          "output_type": "stream",
          "name": "stdout",
          "text": [
            "Sexo                 0\n",
            "id_persona           0\n",
            "Edad                 0\n",
            "Tipo_edad            0\n",
            "id_ubigeo         5783\n",
            "Fecha_atencion       0\n",
            "Etapa                0\n",
            "Diagnostico          0\n",
            "Tipo_Dx              0\n",
            "Lab                  0\n",
            "id_eess              0\n",
            "dtype: int64\n"
          ]
        }
      ]
    },
    {
      "cell_type": "markdown",
      "source": [
        "## 3.2. Control de calidad de datos"
      ],
      "metadata": {
        "id": "APMFfOeVrGTq"
      }
    },
    {
      "cell_type": "markdown",
      "source": [
        "Este paso es crucial para mejorar la calidad de los datos y garantizar que sean adecuados para su análisis. Las tareas comunes incluyen:\n",
        "\n",
        "* **Limpieza de datos**: Eliminar valores nulos, duplicados o datos inconsistentes (por ejemplo, corregir errores tipográficos o formatos incoherentes).\n",
        "\n",
        "* **Eliminación de ruido**: Identificar y mitigar datos atípicos o irrelevantes que puedan distorsionar los resultados.\n",
        "\n",
        "* **Imputación**: Rellenar valores faltantes con técnicas como la media, mediana o interpolación."
      ],
      "metadata": {
        "id": "Xw7pQRgurCw5"
      }
    },
    {
      "cell_type": "code",
      "source": [
        "def encontrar_nan(df):\n",
        "    # Verificar valores NaN en cada columna\n",
        "    nan_por_columna = df.isna().sum()\n",
        "\n",
        "    # Verificar valores NaN en todo el DataFrame\n",
        "    total_nan = df.isna().sum().sum()\n",
        "\n",
        "    # Mostrar resultados\n",
        "    print(\"DataFrame original:\")\n",
        "    print(\"\\nValores NaN por columna:\")\n",
        "    print(nan_por_columna)\n",
        "    print(f\"\\nTotal de valores NaN en el DataFrame: {total_nan}\")"
      ],
      "metadata": {
        "id": "LCHGAGMWLU85"
      },
      "execution_count": null,
      "outputs": []
    },
    {
      "cell_type": "markdown",
      "source": [
        "### 3.2.1. Ambientales"
      ],
      "metadata": {
        "id": "mCVB8sLUjDrh"
      }
    },
    {
      "cell_type": "code",
      "source": [
        "encontrar_nan(df_met)"
      ],
      "metadata": {
        "colab": {
          "base_uri": "https://localhost:8080/"
        },
        "id": "8DZ4wGmYwkIC",
        "outputId": "f61df878-a4ad-40b3-e203-50cf72b3cab0"
      },
      "execution_count": null,
      "outputs": [
        {
          "output_type": "stream",
          "name": "stdout",
          "text": [
            "DataFrame original:\n",
            "\n",
            "Valores NaN por columna:\n",
            "Unnamed: 0    0\n",
            "fecha         0\n",
            "temp_aire     0\n",
            "hr            0\n",
            "rxn_solar     0\n",
            "dtype: int64\n",
            "\n",
            "Total de valores NaN en el DataFrame: 0\n"
          ]
        }
      ]
    },
    {
      "cell_type": "code",
      "source": [
        "df_met_nan = df_met.copy()\n",
        "print(df_met_nan)"
      ],
      "metadata": {
        "colab": {
          "base_uri": "https://localhost:8080/"
        },
        "id": "5S_xfCZK4fvX",
        "outputId": "dca7a897-d763-4c48-b1bd-fb5cdec81232"
      },
      "execution_count": null,
      "outputs": [
        {
          "output_type": "stream",
          "name": "stdout",
          "text": [
            "     Unnamed: 0      fecha  temp_aire         hr   rxn_solar\n",
            "0             0 2021-01-01   3.625000  73.583333   99.833333\n",
            "1             1 2021-01-02   1.329167  60.625000   74.333333\n",
            "2             2 2021-01-03   1.920833  63.958333  101.500000\n",
            "3             3 2021-01-04   3.433333  57.791667  101.958333\n",
            "4             4 2021-01-05   0.445833  69.541667  106.666667\n",
            "..          ...        ...        ...        ...         ...\n",
            "329         329 2021-11-26   5.562500  69.875000   87.833333\n",
            "330         330 2021-11-27   5.500000  61.500000   93.041667\n",
            "331         331 2021-11-28   4.783333  60.291667  117.750000\n",
            "332         332 2021-11-29  10.112500  61.541667  108.750000\n",
            "333         333 2021-11-30   6.691667  74.000000  102.958333\n",
            "\n",
            "[334 rows x 5 columns]\n"
          ]
        }
      ]
    },
    {
      "cell_type": "markdown",
      "source": [
        "Editar un data frame usando valores `nan`"
      ],
      "metadata": {
        "id": "hdHpsOcf5dag"
      }
    },
    {
      "cell_type": "code",
      "source": [
        "import numpy as np\n",
        "\n",
        "df_met_nan.loc[1,\"hr\"]= np.nan\n",
        "\n",
        "df_met_nan.iloc[4,3]= np.nan\n",
        "\n",
        "df_met_nan.loc[1,\"temp_aire\"]= np.nan\n",
        "\n",
        "print(df_met_nan)"
      ],
      "metadata": {
        "colab": {
          "base_uri": "https://localhost:8080/"
        },
        "id": "a5n-0I2XBxK_",
        "outputId": "c9878046-f234-4458-fce1-0db3cd3be330"
      },
      "execution_count": null,
      "outputs": [
        {
          "output_type": "stream",
          "name": "stdout",
          "text": [
            "     Unnamed: 0      fecha  temp_aire         hr   rxn_solar\n",
            "0             0 2021-01-01   3.625000  73.583333   99.833333\n",
            "1             1 2021-01-02        NaN        NaN   74.333333\n",
            "2             2 2021-01-03   1.920833  63.958333  101.500000\n",
            "3             3 2021-01-04   3.433333  57.791667  101.958333\n",
            "4             4 2021-01-05   0.445833        NaN  106.666667\n",
            "..          ...        ...        ...        ...         ...\n",
            "329         329 2021-11-26   5.562500  69.875000   87.833333\n",
            "330         330 2021-11-27   5.500000  61.500000   93.041667\n",
            "331         331 2021-11-28   4.783333  60.291667  117.750000\n",
            "332         332 2021-11-29  10.112500  61.541667  108.750000\n",
            "333         333 2021-11-30   6.691667  74.000000  102.958333\n",
            "\n",
            "[334 rows x 5 columns]\n"
          ]
        }
      ]
    },
    {
      "cell_type": "code",
      "source": [
        "encontrar_nan(df_met_nan)"
      ],
      "metadata": {
        "colab": {
          "base_uri": "https://localhost:8080/"
        },
        "id": "VaP8M0UUkvVo",
        "outputId": "f0a87028-4cdf-4b6a-e1f7-a98ab109a097"
      },
      "execution_count": null,
      "outputs": [
        {
          "output_type": "stream",
          "name": "stdout",
          "text": [
            "DataFrame original:\n",
            "\n",
            "Valores NaN por columna:\n",
            "Unnamed: 0    0\n",
            "fecha         0\n",
            "temp_aire     1\n",
            "hr            2\n",
            "rxn_solar     0\n",
            "dtype: int64\n",
            "\n",
            "Total de valores NaN en el DataFrame: 3\n"
          ]
        }
      ]
    },
    {
      "cell_type": "markdown",
      "source": [
        "Eliminar datos `nan` y `null` empleando el método drop de un data frame"
      ],
      "metadata": {
        "id": "VY6Acrra88sX"
      }
    },
    {
      "cell_type": "code",
      "source": [
        "df_met_dropnan = df_met_nan.dropna()\n",
        "print(df_met_dropnan)"
      ],
      "metadata": {
        "colab": {
          "base_uri": "https://localhost:8080/"
        },
        "id": "Az_2ou3U9FLe",
        "outputId": "f8f83345-d1e7-424a-9a1a-607c365a54f3"
      },
      "execution_count": null,
      "outputs": [
        {
          "output_type": "stream",
          "name": "stdout",
          "text": [
            "     Unnamed: 0      fecha  temp_aire         hr   rxn_solar\n",
            "0             0 2021-01-01   3.625000  73.583333   99.833333\n",
            "2             2 2021-01-03   1.920833  63.958333  101.500000\n",
            "3             3 2021-01-04   3.433333  57.791667  101.958333\n",
            "5             5 2021-01-06  -0.045833  69.000000  106.625000\n",
            "6             6 2021-01-07  -0.708333  82.416667   14.583333\n",
            "..          ...        ...        ...        ...         ...\n",
            "329         329 2021-11-26   5.562500  69.875000   87.833333\n",
            "330         330 2021-11-27   5.500000  61.500000   93.041667\n",
            "331         331 2021-11-28   4.783333  60.291667  117.750000\n",
            "332         332 2021-11-29  10.112500  61.541667  108.750000\n",
            "333         333 2021-11-30   6.691667  74.000000  102.958333\n",
            "\n",
            "[332 rows x 5 columns]\n"
          ]
        }
      ]
    },
    {
      "cell_type": "markdown",
      "source": [
        "Completar datos `nan`y `null` empleando técnicas de interpolación"
      ],
      "metadata": {
        "id": "_3bjuw-S882o"
      }
    },
    {
      "cell_type": "code",
      "source": [
        "df_met_nan_interpolado = df_met_nan.interpolate() # method: linear\n",
        "#df_met_interpolado = df_met_nan.interpolate(method=\"spline\", order=2) # method: polynomial, spline\n",
        "\n",
        "print(df_met_nan_interpolado)"
      ],
      "metadata": {
        "colab": {
          "base_uri": "https://localhost:8080/"
        },
        "id": "e2tw4IB19Wir",
        "outputId": "b6fd6150-8628-4942-be19-4b7370ff9bed"
      },
      "execution_count": null,
      "outputs": [
        {
          "output_type": "stream",
          "name": "stdout",
          "text": [
            "     Unnamed: 0      fecha  temp_aire         hr   rxn_solar\n",
            "0             0 2021-01-01   3.625000  73.583333   99.833333\n",
            "1             1 2021-01-02   2.772917  68.770833   74.333333\n",
            "2             2 2021-01-03   1.920833  63.958333  101.500000\n",
            "3             3 2021-01-04   3.433333  57.791667  101.958333\n",
            "4             4 2021-01-05   0.445833  63.395833  106.666667\n",
            "..          ...        ...        ...        ...         ...\n",
            "329         329 2021-11-26   5.562500  69.875000   87.833333\n",
            "330         330 2021-11-27   5.500000  61.500000   93.041667\n",
            "331         331 2021-11-28   4.783333  60.291667  117.750000\n",
            "332         332 2021-11-29  10.112500  61.541667  108.750000\n",
            "333         333 2021-11-30   6.691667  74.000000  102.958333\n",
            "\n",
            "[334 rows x 5 columns]\n"
          ]
        }
      ]
    },
    {
      "cell_type": "markdown",
      "source": [
        "### 3.2.2. Biomédicos"
      ],
      "metadata": {
        "id": "8BgRso-wljH8"
      }
    },
    {
      "cell_type": "code",
      "source": [
        "encontrar_nan(df_anemia)"
      ],
      "metadata": {
        "id": "dqMy6L5mwohD",
        "colab": {
          "base_uri": "https://localhost:8080/"
        },
        "outputId": "ff210483-980e-44df-cb1d-f31c2bf0646e"
      },
      "execution_count": null,
      "outputs": [
        {
          "output_type": "stream",
          "name": "stdout",
          "text": [
            "DataFrame original:\n",
            "\n",
            "Valores NaN por columna:\n",
            "Sexo                 0\n",
            "id_persona           0\n",
            "Edad                 0\n",
            "Tipo_edad            0\n",
            "id_ubigeo         5783\n",
            "Fecha_atencion       0\n",
            "Etapa                0\n",
            "Diagnostico          0\n",
            "Tipo_Dx              0\n",
            "Lab                  0\n",
            "id_eess              0\n",
            "dtype: int64\n",
            "\n",
            "Total de valores NaN en el DataFrame: 5783\n"
          ]
        }
      ]
    },
    {
      "cell_type": "markdown",
      "source": [
        "Hacer una copia del data frame `df_anemia` en `df_anemia_nan`"
      ],
      "metadata": {
        "id": "oimcXNNz57wx"
      }
    },
    {
      "cell_type": "code",
      "source": [
        "df_anemia_nan = df_anemia.copy()\n",
        "print(df_anemia_nan)"
      ],
      "metadata": {
        "colab": {
          "base_uri": "https://localhost:8080/"
        },
        "id": "EHn0ACajwvco",
        "outputId": "96e704fe-5539-4435-af62-0b713068970a"
      },
      "execution_count": null,
      "outputs": [
        {
          "output_type": "stream",
          "name": "stdout",
          "text": [
            "       Sexo  id_persona  Edad Tipo_edad  id_ubigeo  Fecha_atencion    Etapa  \\\n",
            "0         F    41031388    20         A        NaN        20230208  18a-29a   \n",
            "1         F    40489600     2         A     1128.0        20230107  00a-11a   \n",
            "2         M    40315865     1         A        NaN        20230207  00a-11a   \n",
            "3         F    38917347    19         D     1460.0        20210511  00a-11a   \n",
            "4         M    40507941     3         A     1668.0        20230224  00a-11a   \n",
            "...     ...         ...   ...       ...        ...             ...      ...   \n",
            "248888    M     9206744     6         A     1631.0        20230119  00a-11a   \n",
            "248889    M    25824229     4         A      163.0        20210528  00a-11a   \n",
            "248890    F    19472530     6         A     1161.0        20230107  00a-11a   \n",
            "248891    F    33840534     4         A      242.0        20210412  00a-11a   \n",
            "248892    F    19486739    84         A     1703.0        20230525     60a+   \n",
            "\n",
            "        Diagnostico Tipo_Dx  Lab  id_eess  \n",
            "0          99199.17       D  SF3     5942  \n",
            "1          99199.17       D  SF3     6856  \n",
            "2          99199.17       D  SF1    27109  \n",
            "3          99199.17       D  SF1       16  \n",
            "4          99199.17       D   TA     2978  \n",
            "...             ...     ...  ...      ...  \n",
            "248888     99199.17       D  SF2     3263  \n",
            "248889     99199.17       D  SF1     1819  \n",
            "248890     99199.17       D  SF2     5217  \n",
            "248891     99199.17       D  SF1     1812  \n",
            "248892     99199.17       D  SF1     3161  \n",
            "\n",
            "[248893 rows x 11 columns]\n"
          ]
        }
      ]
    },
    {
      "cell_type": "markdown",
      "source": [
        "Eliminar datos `nan` y `null` empleando el método drop de un data frame"
      ],
      "metadata": {
        "id": "ZuY1-CEo6HGY"
      }
    },
    {
      "cell_type": "code",
      "source": [
        "df_anemia_dropnan = df_anemia_nan.dropna()\n",
        "print(df_anemia_dropnan)"
      ],
      "metadata": {
        "colab": {
          "base_uri": "https://localhost:8080/"
        },
        "id": "UgaSA-C73zki",
        "outputId": "0bb30ac7-5ff9-41fe-ee47-e5717993d24f"
      },
      "execution_count": null,
      "outputs": [
        {
          "output_type": "stream",
          "name": "stdout",
          "text": [
            "       Sexo  id_persona  Edad Tipo_edad  id_ubigeo  Fecha_atencion    Etapa  \\\n",
            "1         F    40489600     2         A     1128.0        20230107  00a-11a   \n",
            "3         F    38917347    19         D     1460.0        20210511  00a-11a   \n",
            "4         M    40507941     3         A     1668.0        20230224  00a-11a   \n",
            "9         M    38878621     1         A      653.0        20210630  00a-11a   \n",
            "25        M    39373911     2         A     1517.0        20230124  00a-11a   \n",
            "...     ...         ...   ...       ...        ...             ...      ...   \n",
            "248888    M     9206744     6         A     1631.0        20230119  00a-11a   \n",
            "248889    M    25824229     4         A      163.0        20210528  00a-11a   \n",
            "248890    F    19472530     6         A     1161.0        20230107  00a-11a   \n",
            "248891    F    33840534     4         A      242.0        20210412  00a-11a   \n",
            "248892    F    19486739    84         A     1703.0        20230525     60a+   \n",
            "\n",
            "        Diagnostico Tipo_Dx  Lab  id_eess  \n",
            "1          99199.17       D  SF3     6856  \n",
            "3          99199.17       D  SF1       16  \n",
            "4          99199.17       D   TA     2978  \n",
            "9          99199.17       D   TA     4297  \n",
            "25         99199.17       D  SF1     2823  \n",
            "...             ...     ...  ...      ...  \n",
            "248888     99199.17       D  SF2     3263  \n",
            "248889     99199.17       D  SF1     1819  \n",
            "248890     99199.17       D  SF2     5217  \n",
            "248891     99199.17       D  SF1     1812  \n",
            "248892     99199.17       D  SF1     3161  \n",
            "\n",
            "[243110 rows x 11 columns]\n"
          ]
        }
      ]
    },
    {
      "cell_type": "code",
      "source": [
        "encontrar_nan(df_anemia_dropnan)"
      ],
      "metadata": {
        "colab": {
          "base_uri": "https://localhost:8080/"
        },
        "id": "bDA-UryK3-zo",
        "outputId": "31b7c6a4-c4be-44f8-a404-252c32e2d615"
      },
      "execution_count": null,
      "outputs": [
        {
          "output_type": "stream",
          "name": "stdout",
          "text": [
            "DataFrame original:\n",
            "\n",
            "Valores NaN por columna:\n",
            "Sexo              0\n",
            "id_persona        0\n",
            "Edad              0\n",
            "Tipo_edad         0\n",
            "id_ubigeo         0\n",
            "Fecha_atencion    0\n",
            "Etapa             0\n",
            "Diagnostico       0\n",
            "Tipo_Dx           0\n",
            "Lab               0\n",
            "id_eess           0\n",
            "dtype: int64\n",
            "\n",
            "Total de valores NaN en el DataFrame: 0\n"
          ]
        }
      ]
    },
    {
      "cell_type": "markdown",
      "source": [
        "# **IV. Referencias**\n",
        "\n",
        "**Libros y manuales**\n",
        "\n",
        "- Libro de estadisitica con python\n",
        "\n",
        "  https://www.editorial-sciela.org/index.php/sciela/article/view/16/49\n",
        "\n",
        "- Introducción a la teoria de probabilidades\n",
        "\n",
        "  https://ciladi.org/wp-content/uploads/Version_final_Introduccion-Probabilidad-Python-vf_Bayas-3.pdf\n",
        "\n",
        "- Guía practica de análsis exploratorio de python\n",
        "\n",
        "  https://datos.gob.es/sites/default/files/doc/file/guia_eda_python.pdf\n",
        "\n",
        "\n",
        "**Cursos en linea**\n",
        "\n",
        "- Estadística W3School:\n",
        "\n",
        "  https://www.w3schools.com/statistics/index.php\n",
        "\n",
        "- Estadística con python:\n",
        "\n",
        "  https://docs.python.org/es/3/library/statistics.html\n",
        "\n",
        "- Kaggle:\n",
        "\n",
        "  https://www.kaggle.com/code/saurav9786/statistics-for-data-scientists\n",
        "\n",
        "**Aplicaciones IA**\n",
        "\n",
        "- Gemini iA\n",
        "\n",
        "  https://gemini.google.com\n",
        "\n",
        "- DeepSeek\n",
        "\n",
        "  https://www.deepseek.com/\n",
        "\n",
        "- Chat GPT\n",
        "\n",
        "  https://chatgpt.com/\n",
        "\n",
        "- Claude IA\n",
        "\n",
        "  https://claude.ai/\n",
        "\n",
        "- Julius IA:\n",
        "\n",
        "  https://julius.ai\n",
        "\n"
      ],
      "metadata": {
        "id": "soydKrE0mpsQ"
      }
    },
    {
      "cell_type": "markdown",
      "source": [],
      "metadata": {
        "id": "lZTFSnY50qDa"
      }
    }
  ]
}