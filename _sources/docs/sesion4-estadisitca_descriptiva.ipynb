{
  "nbformat": 4,
  "nbformat_minor": 0,
  "metadata": {
    "colab": {
      "provenance": [],
      "toc_visible": true
    },
    "kernelspec": {
      "name": "python3",
      "display_name": "Python 3"
    },
    "language_info": {
      "name": "python"
    }
  },
  "cells": [
    {
      "cell_type": "markdown",
      "source": [
        "# **4. Estadística Descriptiva**"
      ],
      "metadata": {
        "id": "XbtawbUlh9jq"
      }
    },
    {
      "cell_type": "markdown",
      "source": [
        "# **I. Gestión de directorios y archivos en la nube**"
      ],
      "metadata": {
        "id": "s7BplYqWcu3v"
      }
    },
    {
      "cell_type": "markdown",
      "source": [
        "La gestión de archivos y directorios en Google Drive es el proceso de organizar, proteger y compartir información digital en la nube, aprovechando sus funciones de colaboración en tiempo real, control de versiones, permisos de acceso y sincronización multiplataforma, lo que facilita el trabajo individual y grupal de manera eficiente."
      ],
      "metadata": {
        "id": "VDHpi0uCoAXM"
      }
    },
    {
      "cell_type": "markdown",
      "source": [
        "## 1.1. Montar Google drive a Colaboratory\n",
        "\n",
        "\n"
      ],
      "metadata": {
        "id": "6IVpqO5tairu"
      }
    },
    {
      "cell_type": "markdown",
      "source": [
        "Montar Google Drive en Colab es el proceso mediante el cual el entorno de ejecución de Colab obtiene acceso autorizado a los archivos de Google Drive, de forma que se pueden leer, escribir y modificar archivos durante la sesión."
      ],
      "metadata": {
        "id": "5tj86ErcoDb5"
      }
    },
    {
      "cell_type": "code",
      "source": [
        "from google.colab import drive\n",
        "drive.mount('/content/drive')"
      ],
      "metadata": {
        "id": "EermASthz-j4",
        "outputId": "1382c8ca-832b-4230-e4b6-3fb410471981",
        "colab": {
          "base_uri": "https://localhost:8080/"
        }
      },
      "execution_count": 1,
      "outputs": [
        {
          "output_type": "stream",
          "name": "stdout",
          "text": [
            "Mounted at /content/drive\n"
          ]
        }
      ]
    },
    {
      "cell_type": "markdown",
      "source": [
        "## 1.2. Explorar contenido de Google Drive"
      ],
      "metadata": {
        "id": "EziXrQr6oXNl"
      }
    },
    {
      "cell_type": "markdown",
      "source": [
        "Explorar contenido de Google Drive se refiere a la acción de navegar, buscar, visualizar y gestionar los archivos y carpetas almacenados en Google Drive, la plataforma de almacenamiento en la nube de Google.\n",
        "\n"
      ],
      "metadata": {
        "id": "LcSQZ6gcoXYe"
      }
    },
    {
      "cell_type": "code",
      "source": [
        "def listar_carpeta(ruta_carpeta):\n",
        "  import os\n",
        "  ruta_drive =\"/content/drive/MyDrive/\"\n",
        "  contenido_carpeta = os.listdir(ruta_drive + ruta_carpeta)\n",
        "  n_elem = len(contenido_carpeta)\n",
        "\n",
        "  print(f\"Ruta: {ruta_drive + ruta_carpeta}\")\n",
        "  print(f\"Numero de elementos: {n_elem}\")\n",
        "\n",
        "  for i in range(n_elem):\n",
        "    print(f\"({i}) {contenido_carpeta[i]}\")"
      ],
      "metadata": {
        "id": "j0emLB_gj_aL"
      },
      "execution_count": 2,
      "outputs": []
    },
    {
      "cell_type": "markdown",
      "source": [
        "La siguiente celda de código, genera una lista de archivos y directorios contenidos en el directorio ó carpeta **`Base_datos`**"
      ],
      "metadata": {
        "id": "ttuXLdIr4K_5"
      }
    },
    {
      "cell_type": "code",
      "source": [
        "listar_carpeta(\"Base_datos\")"
      ],
      "metadata": {
        "colab": {
          "base_uri": "https://localhost:8080/"
        },
        "id": "ls5bCggemEtL",
        "outputId": "f1b83ccb-21f7-4a69-e2d2-defe9cfa8790"
      },
      "execution_count": 3,
      "outputs": [
        {
          "output_type": "stream",
          "name": "stdout",
          "text": [
            "Ruta: /content/drive/MyDrive/Base_datos\n",
            "Numero de elementos: 4\n",
            "(0) fuente_de_datos.gdoc\n",
            "(1) shapes\n",
            "(2) biomedicina\n",
            "(3) meteorologia\n"
          ]
        }
      ]
    },
    {
      "cell_type": "markdown",
      "source": [
        "La siguiente celda de código, genera una lista de archivos y directorios contenidos en el directorio ó carpeta **`Base_datos/biomedicina`**"
      ],
      "metadata": {
        "id": "qL23MF7x40Ce"
      }
    },
    {
      "cell_type": "code",
      "source": [
        "listar_carpeta(\"Base_datos/biomedicina\")"
      ],
      "metadata": {
        "colab": {
          "base_uri": "https://localhost:8080/"
        },
        "id": "uFLfoRlynIkl",
        "outputId": "fd717f6b-3ff8-4954-eda1-2a17f040214d"
      },
      "execution_count": 4,
      "outputs": [
        {
          "output_type": "stream",
          "name": "stdout",
          "text": [
            "Ruta: /content/drive/MyDrive/Base_datos/biomedicina\n",
            "Numero de elementos: 12\n",
            "(0) datos_abiertos_vigilancia_dengue_2000_2023.csv\n",
            "(1) datos_abiertos_vigilancia_malaria_2000_2008.csv\n",
            "(2) datos_abiertos_vigilancia_malaria_2009_2023.csv\n",
            "(3) Dataset_ExamenesLaboratorio_ConsultaExterna_PatologíasRelacionadas_Diabetes_202001_202404.csv\n",
            "(4) datos_abiertos_vigilancia_zoonosis_2000_2023.csv\n",
            "(5) datos_abiertos_vigilancia_iras_2000_2023.csv\n",
            "(6) datos_abiertos_vigilancia_enfermedad_carrion_2000_2023.csv\n",
            "(7) pmGenoma_25Septiembre2021.csv\n",
            "(8) pmGenoma_27Sep2023.csv\n",
            "(9) TB_DIGTEL_ANEMIA_TRATAMIENTOS.csv\n",
            "(10) primeras_100_filas_anemia.xlsx\n",
            "(11) primeras_100_filas_anemia.gsheet\n"
          ]
        }
      ]
    },
    {
      "cell_type": "markdown",
      "source": [
        "La siguiente celda de código, genera una lista de archivos y directorios contenidos en el directorio ó carpeta **`Base_datos/meteorologia`**"
      ],
      "metadata": {
        "id": "_plN0auZ57vb"
      }
    },
    {
      "cell_type": "code",
      "source": [
        "listar_carpeta(\"Base_datos/meteorologia\")"
      ],
      "metadata": {
        "colab": {
          "base_uri": "https://localhost:8080/"
        },
        "id": "wZof6b9onImO",
        "outputId": "8dcc8b32-2045-4176-d512-d84f5bd9b2c7"
      },
      "execution_count": 5,
      "outputs": [
        {
          "output_type": "stream",
          "name": "stdout",
          "text": [
            "Ruta: /content/drive/MyDrive/Base_datos/meteorologia\n",
            "Numero de elementos: 1\n",
            "(0) data_estacion_madrid.xlsx\n"
          ]
        }
      ]
    },
    {
      "cell_type": "markdown",
      "source": [
        "# **II. Importar base de datos**"
      ],
      "metadata": {
        "id": "XkGYz2A2Ki4Y"
      }
    },
    {
      "cell_type": "markdown",
      "source": [
        "## 2.1. Preparar entorno"
      ],
      "metadata": {
        "id": "PrFaPewH8WVL"
      }
    },
    {
      "cell_type": "code",
      "source": [
        "# Paquete especializado en metodos numericos\n",
        "import numpy as np\n",
        "\n",
        "# Paquete especialozado manejo de estructuras de datos tipo tablas (Data Frames)\n",
        "import pandas as pd\n",
        "\n",
        "# Paquetes especializado para generar graficas\n",
        "import seaborn as sns\n",
        "import matplotlib.pyplot as plt\n",
        "\n",
        "# Paquete especializados de estadística y metodos numéricos\n",
        "from scipy import stats\n",
        "\n",
        "# Paquete especializado en estadística\n",
        "import statsmodels.api as sm\n",
        "import statsmodels.formula.api as smf"
      ],
      "metadata": {
        "id": "N2OtN1vm8WgO"
      },
      "execution_count": 6,
      "outputs": []
    },
    {
      "cell_type": "markdown",
      "source": [
        "## 2.2. Archivos en formato EXCEL\n",
        "\n"
      ],
      "metadata": {
        "id": "_MN3nCnzzj8x"
      }
    },
    {
      "cell_type": "markdown",
      "source": [
        "Las mediciones de temperatura del aire, humedad relativa y radiación solar (variables ambientales), realizadas por una estación meteorológica en un punto geográfico específico son datos **cuantitativos contínuos**."
      ],
      "metadata": {
        "id": "oHK5c59m6GCK"
      }
    },
    {
      "cell_type": "code",
      "source": [
        "excel_data_file = \"/content/drive/MyDrive/Base_datos/meteorologia/data_estacion_madrid.xlsx\""
      ],
      "metadata": {
        "id": "5RkDFeXl2rlH"
      },
      "execution_count": 9,
      "outputs": []
    },
    {
      "cell_type": "code",
      "source": [
        "# immportando el archivo Excel\n",
        "df_excel = pd.read_excel(excel_data_file)\n",
        "print(df_excel)"
      ],
      "metadata": {
        "colab": {
          "base_uri": "https://localhost:8080/"
        },
        "id": "mdhJrUxZ3_A0",
        "outputId": "27520ad0-8bf6-443e-9a79-af63d67fc694"
      },
      "execution_count": 8,
      "outputs": [
        {
          "output_type": "stream",
          "name": "stdout",
          "text": [
            "     Unnamed: 0      fecha  temp_aire         hr   rxn_solar\n",
            "0             0 2021-01-01   3.625000  73.583333   99.833333\n",
            "1             1 2021-01-02   1.329167  60.625000   74.333333\n",
            "2             2 2021-01-03   1.920833  63.958333  101.500000\n",
            "3             3 2021-01-04   3.433333  57.791667  101.958333\n",
            "4             4 2021-01-05   0.445833  69.541667  106.666667\n",
            "..          ...        ...        ...        ...         ...\n",
            "329         329 2021-11-26   5.562500  69.875000   87.833333\n",
            "330         330 2021-11-27   5.500000  61.500000   93.041667\n",
            "331         331 2021-11-28   4.783333  60.291667  117.750000\n",
            "332         332 2021-11-29  10.112500  61.541667  108.750000\n",
            "333         333 2021-11-30   6.691667  74.000000  102.958333\n",
            "\n",
            "[334 rows x 5 columns]\n"
          ]
        }
      ]
    },
    {
      "cell_type": "code",
      "source": [
        "df_met = df_excel.copy()\n",
        "print(df_met)"
      ],
      "metadata": {
        "colab": {
          "base_uri": "https://localhost:8080/"
        },
        "id": "WontZZXAjqqU",
        "outputId": "68612664-bab1-4b14-a6ae-faa360ccc395"
      },
      "execution_count": 10,
      "outputs": [
        {
          "output_type": "stream",
          "name": "stdout",
          "text": [
            "     Unnamed: 0      fecha  temp_aire         hr   rxn_solar\n",
            "0             0 2021-01-01   3.625000  73.583333   99.833333\n",
            "1             1 2021-01-02   1.329167  60.625000   74.333333\n",
            "2             2 2021-01-03   1.920833  63.958333  101.500000\n",
            "3             3 2021-01-04   3.433333  57.791667  101.958333\n",
            "4             4 2021-01-05   0.445833  69.541667  106.666667\n",
            "..          ...        ...        ...        ...         ...\n",
            "329         329 2021-11-26   5.562500  69.875000   87.833333\n",
            "330         330 2021-11-27   5.500000  61.500000   93.041667\n",
            "331         331 2021-11-28   4.783333  60.291667  117.750000\n",
            "332         332 2021-11-29  10.112500  61.541667  108.750000\n",
            "333         333 2021-11-30   6.691667  74.000000  102.958333\n",
            "\n",
            "[334 rows x 5 columns]\n"
          ]
        }
      ]
    },
    {
      "cell_type": "markdown",
      "source": [
        "## 2.3. Archivos en formato CSV"
      ],
      "metadata": {
        "id": "5fqV67DEq17A"
      }
    },
    {
      "cell_type": "markdown",
      "source": [
        "Importar archivos en formato CSV (Comma-Separated Values, o Valores Separados por Comas) consiste en el proceso de cargar o transferir datos almacenados en un archivo CSV a un programa, aplicación o base de datos para su procesamiento, análisis o almacenamiento. Un archivo CSV es un formato de texto plano que organiza datos en filas y columnas, donde los valores están separados por comas (u otros delimitadores, como punto y coma o tabulaciones) y cada fila representa un registro."
      ],
      "metadata": {
        "id": "CRh_LLJc6IqZ"
      }
    },
    {
      "cell_type": "code",
      "source": [
        "csv_data_file = \"/content/drive/My Drive/Base_datos/biomedicina/TB_DIGTEL_ANEMIA_TRATAMIENTOS.csv\"\n",
        "\n",
        "df_csv = pd.read_csv(csv_data_file)\n",
        "print(df_csv)"
      ],
      "metadata": {
        "colab": {
          "base_uri": "https://localhost:8080/"
        },
        "id": "cBH4mFsl4mgr",
        "outputId": "756b8da9-7073-459b-92c9-a56770a6c229"
      },
      "execution_count": 12,
      "outputs": [
        {
          "output_type": "stream",
          "name": "stdout",
          "text": [
            "       Sexo  id_persona  Edad Tipo_edad  id_ubigeo  Fecha_atencion    Etapa  \\\n",
            "0         F    41031388    20         A        NaN        20230208  18a-29a   \n",
            "1         F    40489600     2         A     1128.0        20230107  00a-11a   \n",
            "2         M    40315865     1         A        NaN        20230207  00a-11a   \n",
            "3         F    38917347    19         D     1460.0        20210511  00a-11a   \n",
            "4         M    40507941     3         A     1668.0        20230224  00a-11a   \n",
            "...     ...         ...   ...       ...        ...             ...      ...   \n",
            "248888    M     9206744     6         A     1631.0        20230119  00a-11a   \n",
            "248889    M    25824229     4         A      163.0        20210528  00a-11a   \n",
            "248890    F    19472530     6         A     1161.0        20230107  00a-11a   \n",
            "248891    F    33840534     4         A      242.0        20210412  00a-11a   \n",
            "248892    F    19486739    84         A     1703.0        20230525     60a+   \n",
            "\n",
            "        Diagnostico Tipo_Dx  Lab  id_eess  \n",
            "0          99199.17       D  SF3     5942  \n",
            "1          99199.17       D  SF3     6856  \n",
            "2          99199.17       D  SF1    27109  \n",
            "3          99199.17       D  SF1       16  \n",
            "4          99199.17       D   TA     2978  \n",
            "...             ...     ...  ...      ...  \n",
            "248888     99199.17       D  SF2     3263  \n",
            "248889     99199.17       D  SF1     1819  \n",
            "248890     99199.17       D  SF2     5217  \n",
            "248891     99199.17       D  SF1     1812  \n",
            "248892     99199.17       D  SF1     3161  \n",
            "\n",
            "[248893 rows x 11 columns]\n"
          ]
        }
      ]
    },
    {
      "cell_type": "code",
      "source": [
        "df_anemia = df_csv.copy()\n",
        "print(df_anemia)"
      ],
      "metadata": {
        "colab": {
          "base_uri": "https://localhost:8080/"
        },
        "id": "0m6gGfvsLnU2",
        "outputId": "fe5b84dd-dc24-41e6-b286-8a46e477ac4b"
      },
      "execution_count": 13,
      "outputs": [
        {
          "output_type": "stream",
          "name": "stdout",
          "text": [
            "       Sexo  id_persona  Edad Tipo_edad  id_ubigeo  Fecha_atencion    Etapa  \\\n",
            "0         F    41031388    20         A        NaN        20230208  18a-29a   \n",
            "1         F    40489600     2         A     1128.0        20230107  00a-11a   \n",
            "2         M    40315865     1         A        NaN        20230207  00a-11a   \n",
            "3         F    38917347    19         D     1460.0        20210511  00a-11a   \n",
            "4         M    40507941     3         A     1668.0        20230224  00a-11a   \n",
            "...     ...         ...   ...       ...        ...             ...      ...   \n",
            "248888    M     9206744     6         A     1631.0        20230119  00a-11a   \n",
            "248889    M    25824229     4         A      163.0        20210528  00a-11a   \n",
            "248890    F    19472530     6         A     1161.0        20230107  00a-11a   \n",
            "248891    F    33840534     4         A      242.0        20210412  00a-11a   \n",
            "248892    F    19486739    84         A     1703.0        20230525     60a+   \n",
            "\n",
            "        Diagnostico Tipo_Dx  Lab  id_eess  \n",
            "0          99199.17       D  SF3     5942  \n",
            "1          99199.17       D  SF3     6856  \n",
            "2          99199.17       D  SF1    27109  \n",
            "3          99199.17       D  SF1       16  \n",
            "4          99199.17       D   TA     2978  \n",
            "...             ...     ...  ...      ...  \n",
            "248888     99199.17       D  SF2     3263  \n",
            "248889     99199.17       D  SF1     1819  \n",
            "248890     99199.17       D  SF2     5217  \n",
            "248891     99199.17       D  SF1     1812  \n",
            "248892     99199.17       D  SF1     3161  \n",
            "\n",
            "[248893 rows x 11 columns]\n"
          ]
        }
      ]
    },
    {
      "cell_type": "markdown",
      "source": [
        "# **III. Estadística Descriptiva**"
      ],
      "metadata": {
        "id": "R4fBkMOJc-K_"
      }
    },
    {
      "cell_type": "markdown",
      "source": [
        "La **estadística descriptiva** tiene como objetivo resumir, organizar y presentar datos de manera clara y comprensible, permitiendo identificar patrones, tendencias o características principales de un conjunto de datos sin hacer inferencias sobre una población mayor."
      ],
      "metadata": {
        "id": "Op3cPh6m6mxi"
      }
    },
    {
      "cell_type": "markdown",
      "source": [
        "## 3.1. Organizar datos\n",
        "\n",
        "* Tablas de frecuencias (absolutas, relativas, acumuladas)\n",
        "* Distribuciones de frecuencia\n",
        "* Percentiles y cuartiles\n",
        "\n"
      ],
      "metadata": {
        "id": "c8a3cMThMVgR"
      }
    },
    {
      "cell_type": "markdown",
      "source": [
        "### 3.1.1. Tablas de frecuencia"
      ],
      "metadata": {
        "id": "4Se_OyTxNPem"
      }
    },
    {
      "cell_type": "code",
      "metadata": {
        "colab": {
          "base_uri": "https://localhost:8080/"
        },
        "id": "130b564f",
        "outputId": "977d4a1a-c610-47fa-ea0a-c8626cd863b8"
      },
      "source": [
        "# Calcular la tabla de frecuencias absolutas para la columna 'Sexo'\n",
        "frecuencia_absoluta_sexo = df_anemia['Sexo'].value_counts()\n",
        "print(\"Tabla de Frecuencia Absoluta para 'Sexo':\")\n",
        "print(frecuencia_absoluta_sexo)"
      ],
      "execution_count": 17,
      "outputs": [
        {
          "output_type": "stream",
          "name": "stdout",
          "text": [
            "Tabla de Frecuencia Absoluta para 'Sexo':\n",
            "Sexo\n",
            "M    126255\n",
            "F    122638\n",
            "Name: count, dtype: int64\n"
          ]
        }
      ]
    },
    {
      "cell_type": "code",
      "metadata": {
        "colab": {
          "base_uri": "https://localhost:8080/"
        },
        "id": "512d3ac2",
        "outputId": "2c51c946-962f-418c-89bf-990e02334cf3"
      },
      "source": [
        "# Calcular la tabla de frecuencias relativas para la columna 'Sexo'\n",
        "frecuencia_relativa_sexo = df_anemia['Sexo'].value_counts(normalize=True)\n",
        "print(\"\\nTabla de Frecuencia Relativa para 'Sexo':\")\n",
        "print(frecuencia_relativa_sexo)"
      ],
      "execution_count": 18,
      "outputs": [
        {
          "output_type": "stream",
          "name": "stdout",
          "text": [
            "\n",
            "Tabla de Frecuencia Relativa para 'Sexo':\n",
            "Sexo\n",
            "M    0.507266\n",
            "F    0.492734\n",
            "Name: proportion, dtype: float64\n"
          ]
        }
      ]
    },
    {
      "cell_type": "markdown",
      "source": [
        "### 3.1.2. Distribuciones de frecuencia"
      ],
      "metadata": {
        "id": "hsFSHb6VOiPQ"
      }
    },
    {
      "cell_type": "code",
      "source": [],
      "metadata": {
        "id": "635EKrlrOmXZ"
      },
      "execution_count": null,
      "outputs": []
    },
    {
      "cell_type": "markdown",
      "source": [
        "### 3.1.3. Percentiles y cuartiles"
      ],
      "metadata": {
        "id": "5TIVnuqxOml6"
      }
    },
    {
      "cell_type": "markdown",
      "source": [
        "$Q_1$ (Percentil 25): Posición = $\\frac{25(n+1)}{100} = \\frac{n+1}{4}$$\\frac{25(n+1)}{100} = \\frac{n+1}{4}$"
      ],
      "metadata": {
        "id": "3iorcy35Un5n"
      }
    },
    {
      "cell_type": "markdown",
      "source": [
        "## 3.2. Medidas de tendencia central"
      ],
      "metadata": {
        "id": "bEst03D9rSih"
      }
    },
    {
      "cell_type": "markdown",
      "source": [
        "### 3.2.1. Media aritmética"
      ],
      "metadata": {
        "id": "qOzEsy8uPC3k"
      }
    },
    {
      "cell_type": "markdown",
      "source": [
        "$x = (x_{1}, x_{2}, \\dots, x_{n})$\n",
        "\n",
        "$$\\overline{x} = \\frac{1}{n} \\sum_{i=1}^{n}x_{i}$$(eq:mediaAritmetica)"
      ],
      "metadata": {
        "id": "j2IG4bSxQYUL"
      }
    },
    {
      "cell_type": "code",
      "source": [],
      "metadata": {
        "id": "FCK4CSiaPQ5q"
      },
      "execution_count": null,
      "outputs": []
    },
    {
      "cell_type": "markdown",
      "source": [
        "### 3.2.2. Mediana y moda"
      ],
      "metadata": {
        "id": "kvniUmdYPRGR"
      }
    },
    {
      "cell_type": "markdown",
      "source": [
        "## 3.3. Medidas de dispesión"
      ],
      "metadata": {
        "id": "z3LbDn7FOL97"
      }
    },
    {
      "cell_type": "markdown",
      "source": [
        "### 3.3.1. Varianza"
      ],
      "metadata": {
        "id": "M0xTLgaTPn2b"
      }
    },
    {
      "cell_type": "markdown",
      "source": [
        "$x = (x_{1}, x_{2}, \\dots, x_{n})$\n",
        "\n",
        "$$\\mathbf{S}_{x}=\\mathbf{\\sigma}^{2}_{x} = \\frac{1}{n}\\sum_{i=1}^{n}(x_{i} -\\bar{x})^{2}$$(eq:varianza)"
      ],
      "metadata": {
        "id": "61vE3qHNRWGh"
      }
    },
    {
      "cell_type": "code",
      "source": [],
      "metadata": {
        "id": "ntv59mZvPtXb"
      },
      "execution_count": null,
      "outputs": []
    },
    {
      "cell_type": "markdown",
      "source": [
        "### 3.3.2. Desviación estándar"
      ],
      "metadata": {
        "id": "2EoOsWjuPtiw"
      }
    },
    {
      "cell_type": "markdown",
      "source": [
        "$x = (x_{1}, x_{2}, \\dots, x_{n})$\n",
        "\n",
        "$$\\mathbf{\\sigma}_{x} = \\sqrt{\\frac{1}{n}\\sum_{i=1}^{n}(x_{i} - \\bar{x})^{2}}$$(eq:desviacionEstandar)"
      ],
      "metadata": {
        "id": "60R4Da0dSBpm"
      }
    },
    {
      "cell_type": "code",
      "source": [],
      "metadata": {
        "id": "jJY4uhaUP0PO"
      },
      "execution_count": null,
      "outputs": []
    },
    {
      "cell_type": "markdown",
      "source": [
        "### 3.3.3. Rango intercuartil"
      ],
      "metadata": {
        "id": "TblVfUJKP0bg"
      }
    },
    {
      "cell_type": "markdown",
      "source": [
        "$x = (x_{1}, x_{2}, \\dots, x_{n})$\n",
        "\n",
        "$$RIQ = Q_{3} - Q_{1}$$(eq:rangoIntercuartil)"
      ],
      "metadata": {
        "id": "OwmiBmS7Sfdy"
      }
    },
    {
      "cell_type": "code",
      "source": [],
      "metadata": {
        "id": "UsxQG4gdP_bW"
      },
      "execution_count": null,
      "outputs": []
    },
    {
      "cell_type": "markdown",
      "source": [
        "### 3.4. Medidas de relación"
      ],
      "metadata": {
        "id": "0-5ZiOkMW1Jv"
      }
    },
    {
      "cell_type": "markdown",
      "source": [
        "### 3.4.1. Covarianza"
      ],
      "metadata": {
        "id": "73M1jCf-W8W3"
      }
    },
    {
      "cell_type": "markdown",
      "source": [
        "Sean $x$ e $y$ dos conjuntos de datos:\n",
        "\n",
        "$x = (x_{1}, x_{2}, \\dots, x_{n})$\n",
        "\n",
        "$y = (y_{1}, y_{2}, \\dots, y_{n})$\n",
        "\n",
        "$$\\mathbf{S}_{xy} = \\frac{1}{n}\\sum_{i=1}^{n}(x_{i} - \\bar{x})(y_{i} - \\bar{y})$$(eq:covarianza)"
      ],
      "metadata": {
        "id": "Ul-AEjejXAjA"
      }
    },
    {
      "cell_type": "markdown",
      "source": [
        "# **IV. Referencias**\n",
        "\n",
        "**Libros y manuales**\n",
        "\n",
        "- Libro de estadisitica con python\n",
        "\n",
        "  https://www.editorial-sciela.org/index.php/sciela/article/view/16/49\n",
        "\n",
        "- Introducción a la teoria de probabilidades\n",
        "\n",
        "  https://ciladi.org/wp-content/uploads/Version_final_Introduccion-Probabilidad-Python-vf_Bayas-3.pdf\n",
        "\n",
        "- Guía practica de análsis exploratorio de python\n",
        "\n",
        "  https://datos.gob.es/sites/default/files/doc/file/guia_eda_python.pdf\n",
        "\n",
        "\n",
        "**Cursos en linea**\n",
        "\n",
        "- Estadística W3School:\n",
        "\n",
        "  https://www.w3schools.com/statistics/index.php\n",
        "\n",
        "- Estadística con python:\n",
        "\n",
        "  https://docs.python.org/es/3/library/statistics.html\n",
        "\n",
        "- Kaggle:\n",
        "\n",
        "  https://www.kaggle.com/code/saurav9786/statistics-for-data-scientists\n",
        "\n",
        "**Aplicaciones IA**\n",
        "\n",
        "- Gemini iA\n",
        "\n",
        "  https://gemini.google.com\n",
        "\n",
        "- DeepSeek\n",
        "\n",
        "  https://www.deepseek.com/\n",
        "\n",
        "- Chat GPT\n",
        "\n",
        "  https://chatgpt.com/\n",
        "\n",
        "- Claude IA\n",
        "\n",
        "  https://claude.ai/\n",
        "\n",
        "- Julius IA:\n",
        "\n",
        "  https://julius.ai\n",
        "\n"
      ],
      "metadata": {
        "id": "soydKrE0mpsQ"
      }
    }
  ]
}