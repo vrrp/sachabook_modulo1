{
  "nbformat": 4,
  "nbformat_minor": 0,
  "metadata": {
    "colab": {
      "provenance": [],
      "toc_visible": true
    },
    "kernelspec": {
      "name": "python3",
      "display_name": "Python 3"
    },
    "language_info": {
      "name": "python"
    }
  },
  "cells": [
    {
      "cell_type": "markdown",
      "source": [
        "# **4. Estadística Descriptiva**"
      ],
      "metadata": {
        "id": "XbtawbUlh9jq"
      }
    },
    {
      "cell_type": "markdown",
      "source": [
        "# **I. Gestión de directorios y archivos en la nube**"
      ],
      "metadata": {
        "id": "s7BplYqWcu3v"
      }
    },
    {
      "cell_type": "markdown",
      "source": [
        "La gestión de archivos y directorios en Google Drive es el proceso de organizar, proteger y compartir información digital en la nube, aprovechando sus funciones de colaboración en tiempo real, control de versiones, permisos de acceso y sincronización multiplataforma, lo que facilita el trabajo individual y grupal de manera eficiente."
      ],
      "metadata": {
        "id": "VDHpi0uCoAXM"
      }
    },
    {
      "cell_type": "markdown",
      "source": [
        "## 1.1. Montar Google drive a Colaboratory\n",
        "\n",
        "\n"
      ],
      "metadata": {
        "id": "6IVpqO5tairu"
      }
    },
    {
      "cell_type": "markdown",
      "source": [
        "Montar Google Drive en Colab es el proceso mediante el cual el entorno de ejecución de Colab obtiene acceso autorizado a los archivos de Google Drive, de forma que se pueden leer, escribir y modificar archivos durante la sesión."
      ],
      "metadata": {
        "id": "5tj86ErcoDb5"
      }
    },
    {
      "cell_type": "code",
      "source": [
        "from google.colab import drive\n",
        "drive.mount('/content/drive')"
      ],
      "metadata": {
        "id": "EermASthz-j4",
        "outputId": "c4b54e70-3915-4b80-9673-b73dd32a7b80",
        "colab": {
          "base_uri": "https://localhost:8080/"
        }
      },
      "execution_count": null,
      "outputs": [
        {
          "output_type": "stream",
          "name": "stdout",
          "text": [
            "Mounted at /content/drive\n"
          ]
        }
      ]
    },
    {
      "cell_type": "markdown",
      "source": [
        "## 1.2. Explorar contenido de Google Drive"
      ],
      "metadata": {
        "id": "EziXrQr6oXNl"
      }
    },
    {
      "cell_type": "markdown",
      "source": [
        "Explorar contenido de Google Drive se refiere a la acción de navegar, buscar, visualizar y gestionar los archivos y carpetas almacenados en Google Drive, la plataforma de almacenamiento en la nube de Google.\n",
        "\n"
      ],
      "metadata": {
        "id": "LcSQZ6gcoXYe"
      }
    },
    {
      "cell_type": "code",
      "source": [
        "def listar_carpeta(ruta_carpeta):\n",
        "  import os\n",
        "  ruta_drive =\"/content/drive/MyDrive/\"\n",
        "  contenido_carpeta = os.listdir(ruta_drive + ruta_carpeta)\n",
        "  n_elem = len(contenido_carpeta)\n",
        "\n",
        "  print(f\"Ruta: {ruta_drive + ruta_carpeta}\")\n",
        "  print(f\"Numero de elementos: {n_elem}\")\n",
        "\n",
        "  for i in range(n_elem):\n",
        "    print(f\"({i}) {contenido_carpeta[i]}\")"
      ],
      "metadata": {
        "id": "j0emLB_gj_aL"
      },
      "execution_count": null,
      "outputs": []
    },
    {
      "cell_type": "markdown",
      "source": [
        "La siguiente celda de código, genera una lista de archivos y directorios contenidos en el directorio ó carpeta **`Base_datos`**"
      ],
      "metadata": {
        "id": "ttuXLdIr4K_5"
      }
    },
    {
      "cell_type": "code",
      "source": [
        "listar_carpeta(\"Base_datos\")"
      ],
      "metadata": {
        "colab": {
          "base_uri": "https://localhost:8080/"
        },
        "id": "ls5bCggemEtL",
        "outputId": "85083ba1-5850-4e47-848b-9e034cb7de01"
      },
      "execution_count": null,
      "outputs": [
        {
          "output_type": "stream",
          "name": "stdout",
          "text": [
            "Ruta: /content/drive/MyDrive/Base_datos\n",
            "Numero de elementos: 4\n",
            "(0) fuente_de_datos.gdoc\n",
            "(1) shapes\n",
            "(2) biomedicina\n",
            "(3) meteorologia\n"
          ]
        }
      ]
    },
    {
      "cell_type": "markdown",
      "source": [
        "La siguiente celda de código, genera una lista de archivos y directorios contenidos en el directorio ó carpeta **`Base_datos/biomedicina`**"
      ],
      "metadata": {
        "id": "qL23MF7x40Ce"
      }
    },
    {
      "cell_type": "code",
      "source": [
        "listar_carpeta(\"Base_datos/biomedicina\")"
      ],
      "metadata": {
        "colab": {
          "base_uri": "https://localhost:8080/"
        },
        "id": "uFLfoRlynIkl",
        "outputId": "e29df321-e89f-4695-eb9d-3dfd6651af0f"
      },
      "execution_count": null,
      "outputs": [
        {
          "output_type": "stream",
          "name": "stdout",
          "text": [
            "Ruta: /content/drive/MyDrive/Base_datos/biomedicina\n",
            "Numero de elementos: 12\n",
            "(0) datos_abiertos_vigilancia_dengue_2000_2023.csv\n",
            "(1) datos_abiertos_vigilancia_malaria_2000_2008.csv\n",
            "(2) datos_abiertos_vigilancia_malaria_2009_2023.csv\n",
            "(3) Dataset_ExamenesLaboratorio_ConsultaExterna_PatologíasRelacionadas_Diabetes_202001_202404.csv\n",
            "(4) datos_abiertos_vigilancia_zoonosis_2000_2023.csv\n",
            "(5) datos_abiertos_vigilancia_iras_2000_2023.csv\n",
            "(6) datos_abiertos_vigilancia_enfermedad_carrion_2000_2023.csv\n",
            "(7) pmGenoma_25Septiembre2021.csv\n",
            "(8) pmGenoma_27Sep2023.csv\n",
            "(9) TB_DIGTEL_ANEMIA_TRATAMIENTOS.csv\n",
            "(10) primeras_100_filas_anemia.xlsx\n",
            "(11) primeras_100_filas_anemia.gsheet\n"
          ]
        }
      ]
    },
    {
      "cell_type": "markdown",
      "source": [
        "La siguiente celda de código, genera una lista de archivos y directorios contenidos en el directorio ó carpeta **`Base_datos/meteorologia`**"
      ],
      "metadata": {
        "id": "_plN0auZ57vb"
      }
    },
    {
      "cell_type": "code",
      "source": [
        "listar_carpeta(\"Base_datos/meteorologia\")"
      ],
      "metadata": {
        "colab": {
          "base_uri": "https://localhost:8080/"
        },
        "id": "wZof6b9onImO",
        "outputId": "9bea0e88-d38f-48bf-8a3d-a0ea79c8489a"
      },
      "execution_count": null,
      "outputs": [
        {
          "output_type": "stream",
          "name": "stdout",
          "text": [
            "Ruta: /content/drive/MyDrive/Base_datos/meteorologia\n",
            "Numero de elementos: 1\n",
            "(0) data_estacion_madrid.xlsx\n"
          ]
        }
      ]
    },
    {
      "cell_type": "markdown",
      "source": [
        "# **II. Importar base de datos**"
      ],
      "metadata": {
        "id": "XkGYz2A2Ki4Y"
      }
    },
    {
      "cell_type": "markdown",
      "source": [
        "## 2.1. Preparar entorno"
      ],
      "metadata": {
        "id": "PrFaPewH8WVL"
      }
    },
    {
      "cell_type": "code",
      "source": [
        "# Paquete especializado en metodos numericos\n",
        "import numpy as np\n",
        "\n",
        "# Paquete especialozado manejo de estructuras de datos tipo tablas (Data Frames)\n",
        "import pandas as pd\n",
        "\n",
        "# Paquetes especializado para generar graficas\n",
        "import seaborn as sns\n",
        "import matplotlib.pyplot as plt\n",
        "\n",
        "# Paquete especializados de estadística y metodos numéricos\n",
        "from scipy import stats\n",
        "\n",
        "# Paquete especializado en estadística\n",
        "import statsmodels.api as sm\n",
        "import statsmodels.formula.api as smf"
      ],
      "metadata": {
        "id": "N2OtN1vm8WgO"
      },
      "execution_count": null,
      "outputs": []
    },
    {
      "cell_type": "markdown",
      "source": [
        "## 2.2. Archivos en formato EXCEL\n",
        "\n"
      ],
      "metadata": {
        "id": "_MN3nCnzzj8x"
      }
    },
    {
      "cell_type": "markdown",
      "source": [
        "Las mediciones de temperatura del aire, humedad relativa y radiación solar (variables ambientales), realizadas por una estación meteorológica en un punto geográfico específico son datos **cuantitativos contínuos**."
      ],
      "metadata": {
        "id": "oHK5c59m6GCK"
      }
    },
    {
      "cell_type": "code",
      "source": [
        "excel_data_file = \"/content/drive/MyDrive/Base_datos/meteorologia/data_estacion_madrid.xlsx\""
      ],
      "metadata": {
        "id": "5RkDFeXl2rlH"
      },
      "execution_count": null,
      "outputs": []
    },
    {
      "cell_type": "code",
      "source": [
        "# immportando el archivo Excel\n",
        "df_excel = pd.read_excel(excel_data_file)\n",
        "print(df_excel)"
      ],
      "metadata": {
        "colab": {
          "base_uri": "https://localhost:8080/"
        },
        "id": "mdhJrUxZ3_A0",
        "outputId": "c4c15d13-2710-46a8-dfb4-abe756fde62f"
      },
      "execution_count": null,
      "outputs": [
        {
          "output_type": "stream",
          "name": "stdout",
          "text": [
            "     Unnamed: 0      fecha  temp_aire         hr   rxn_solar\n",
            "0             0 2021-01-01   3.625000  73.583333   99.833333\n",
            "1             1 2021-01-02   1.329167  60.625000   74.333333\n",
            "2             2 2021-01-03   1.920833  63.958333  101.500000\n",
            "3             3 2021-01-04   3.433333  57.791667  101.958333\n",
            "4             4 2021-01-05   0.445833  69.541667  106.666667\n",
            "..          ...        ...        ...        ...         ...\n",
            "329         329 2021-11-26   5.562500  69.875000   87.833333\n",
            "330         330 2021-11-27   5.500000  61.500000   93.041667\n",
            "331         331 2021-11-28   4.783333  60.291667  117.750000\n",
            "332         332 2021-11-29  10.112500  61.541667  108.750000\n",
            "333         333 2021-11-30   6.691667  74.000000  102.958333\n",
            "\n",
            "[334 rows x 5 columns]\n"
          ]
        }
      ]
    },
    {
      "cell_type": "code",
      "source": [
        "df_met = df_excel.copy()\n",
        "print(df_met)"
      ],
      "metadata": {
        "colab": {
          "base_uri": "https://localhost:8080/"
        },
        "id": "WontZZXAjqqU",
        "outputId": "8d4339da-f3cf-4232-e5b8-1a21620d9a77"
      },
      "execution_count": null,
      "outputs": [
        {
          "output_type": "stream",
          "name": "stdout",
          "text": [
            "     Unnamed: 0      fecha  temp_aire         hr   rxn_solar\n",
            "0             0 2021-01-01   3.625000  73.583333   99.833333\n",
            "1             1 2021-01-02   1.329167  60.625000   74.333333\n",
            "2             2 2021-01-03   1.920833  63.958333  101.500000\n",
            "3             3 2021-01-04   3.433333  57.791667  101.958333\n",
            "4             4 2021-01-05   0.445833  69.541667  106.666667\n",
            "..          ...        ...        ...        ...         ...\n",
            "329         329 2021-11-26   5.562500  69.875000   87.833333\n",
            "330         330 2021-11-27   5.500000  61.500000   93.041667\n",
            "331         331 2021-11-28   4.783333  60.291667  117.750000\n",
            "332         332 2021-11-29  10.112500  61.541667  108.750000\n",
            "333         333 2021-11-30   6.691667  74.000000  102.958333\n",
            "\n",
            "[334 rows x 5 columns]\n"
          ]
        }
      ]
    },
    {
      "cell_type": "markdown",
      "source": [
        "## 2.3. Archivos en formato CSV"
      ],
      "metadata": {
        "id": "5fqV67DEq17A"
      }
    },
    {
      "cell_type": "markdown",
      "source": [
        "Importar archivos en formato CSV (Comma-Separated Values, o Valores Separados por Comas) consiste en el proceso de cargar o transferir datos almacenados en un archivo CSV a un programa, aplicación o base de datos para su procesamiento, análisis o almacenamiento. Un archivo CSV es un formato de texto plano que organiza datos en filas y columnas, donde los valores están separados por comas (u otros delimitadores, como punto y coma o tabulaciones) y cada fila representa un registro."
      ],
      "metadata": {
        "id": "CRh_LLJc6IqZ"
      }
    },
    {
      "cell_type": "code",
      "source": [
        "csv_data_file = \"/content/drive/My Drive/Base_datos/biomedicina/TB_DIGTEL_ANEMIA_TRATAMIENTOS.csv\"\n",
        "\n",
        "df_csv = pd.read_csv(csv_data_file)\n",
        "print(df_csv)"
      ],
      "metadata": {
        "colab": {
          "base_uri": "https://localhost:8080/"
        },
        "id": "cBH4mFsl4mgr",
        "outputId": "45cbfe78-99ee-482f-cabd-cb3061ed0fa6"
      },
      "execution_count": null,
      "outputs": [
        {
          "output_type": "stream",
          "name": "stdout",
          "text": [
            "       Sexo  id_persona  Edad Tipo_edad  id_ubigeo  Fecha_atencion    Etapa  \\\n",
            "0         F    41031388    20         A        NaN        20230208  18a-29a   \n",
            "1         F    40489600     2         A     1128.0        20230107  00a-11a   \n",
            "2         M    40315865     1         A        NaN        20230207  00a-11a   \n",
            "3         F    38917347    19         D     1460.0        20210511  00a-11a   \n",
            "4         M    40507941     3         A     1668.0        20230224  00a-11a   \n",
            "...     ...         ...   ...       ...        ...             ...      ...   \n",
            "248888    M     9206744     6         A     1631.0        20230119  00a-11a   \n",
            "248889    M    25824229     4         A      163.0        20210528  00a-11a   \n",
            "248890    F    19472530     6         A     1161.0        20230107  00a-11a   \n",
            "248891    F    33840534     4         A      242.0        20210412  00a-11a   \n",
            "248892    F    19486739    84         A     1703.0        20230525     60a+   \n",
            "\n",
            "        Diagnostico Tipo_Dx  Lab  id_eess  \n",
            "0          99199.17       D  SF3     5942  \n",
            "1          99199.17       D  SF3     6856  \n",
            "2          99199.17       D  SF1    27109  \n",
            "3          99199.17       D  SF1       16  \n",
            "4          99199.17       D   TA     2978  \n",
            "...             ...     ...  ...      ...  \n",
            "248888     99199.17       D  SF2     3263  \n",
            "248889     99199.17       D  SF1     1819  \n",
            "248890     99199.17       D  SF2     5217  \n",
            "248891     99199.17       D  SF1     1812  \n",
            "248892     99199.17       D  SF1     3161  \n",
            "\n",
            "[248893 rows x 11 columns]\n"
          ]
        }
      ]
    },
    {
      "cell_type": "code",
      "source": [
        "df_anemia = df_csv.copy()\n",
        "print(df_anemia)"
      ],
      "metadata": {
        "colab": {
          "base_uri": "https://localhost:8080/"
        },
        "id": "0m6gGfvsLnU2",
        "outputId": "fd28d64a-165d-4582-fcbd-c4125b1e835f"
      },
      "execution_count": null,
      "outputs": [
        {
          "output_type": "stream",
          "name": "stdout",
          "text": [
            "       Sexo  id_persona  Edad Tipo_edad  id_ubigeo  Fecha_atencion    Etapa  \\\n",
            "0         F    41031388    20         A        NaN        20230208  18a-29a   \n",
            "1         F    40489600     2         A     1128.0        20230107  00a-11a   \n",
            "2         M    40315865     1         A        NaN        20230207  00a-11a   \n",
            "3         F    38917347    19         D     1460.0        20210511  00a-11a   \n",
            "4         M    40507941     3         A     1668.0        20230224  00a-11a   \n",
            "...     ...         ...   ...       ...        ...             ...      ...   \n",
            "248888    M     9206744     6         A     1631.0        20230119  00a-11a   \n",
            "248889    M    25824229     4         A      163.0        20210528  00a-11a   \n",
            "248890    F    19472530     6         A     1161.0        20230107  00a-11a   \n",
            "248891    F    33840534     4         A      242.0        20210412  00a-11a   \n",
            "248892    F    19486739    84         A     1703.0        20230525     60a+   \n",
            "\n",
            "        Diagnostico Tipo_Dx  Lab  id_eess  \n",
            "0          99199.17       D  SF3     5942  \n",
            "1          99199.17       D  SF3     6856  \n",
            "2          99199.17       D  SF1    27109  \n",
            "3          99199.17       D  SF1       16  \n",
            "4          99199.17       D   TA     2978  \n",
            "...             ...     ...  ...      ...  \n",
            "248888     99199.17       D  SF2     3263  \n",
            "248889     99199.17       D  SF1     1819  \n",
            "248890     99199.17       D  SF2     5217  \n",
            "248891     99199.17       D  SF1     1812  \n",
            "248892     99199.17       D  SF1     3161  \n",
            "\n",
            "[248893 rows x 11 columns]\n"
          ]
        }
      ]
    },
    {
      "cell_type": "markdown",
      "source": [
        "# **III. Estadística Descriptiva**"
      ],
      "metadata": {
        "id": "R4fBkMOJc-K_"
      }
    },
    {
      "cell_type": "markdown",
      "source": [
        "La **estadística descriptiva** tiene como objetivo resumir, organizar y presentar datos de manera clara y comprensible, permitiendo identificar patrones, tendencias o características principales de un conjunto de datos sin hacer inferencias sobre una población mayor."
      ],
      "metadata": {
        "id": "Op3cPh6m6mxi"
      }
    },
    {
      "cell_type": "markdown",
      "source": [
        "## 3.1. Organizar Datos\n",
        "\n"
      ],
      "metadata": {
        "id": "c8a3cMThMVgR"
      }
    },
    {
      "cell_type": "markdown",
      "metadata": {
        "id": "84f5805c"
      },
      "source": [
        "Organizar datos es el proceso fundamental en estadística descriptiva que implica estructurar y preparar un conjunto de datos para su análisis. Este proceso busca facilitar la comprensión, identificación de patrones, cálculo de medidas resumen y la visualización de la información.\n",
        "\n",
        "Las principales formas de organizar datos incluyen:\n",
        "\n",
        "*   **Tablas de Frecuencia**\n",
        "*   **Distribuciones de Frecuencia**\n",
        "*   **Percentiles y cuartiles**\n",
        "\n",
        "La organización adecuada de los datos es el primer paso crucial antes de calcular medidas de tendencia central, dispersión o realizar visualizaciones, ya que permite tener una visión clara y concisa de la información disponible."
      ]
    },
    {
      "cell_type": "markdown",
      "source": [
        "### 3.1.1. Tablas de frecuencia"
      ],
      "metadata": {
        "id": "4Se_OyTxNPem"
      }
    },
    {
      "cell_type": "markdown",
      "source": [
        "Resumen la distribución de una variable, mostrando cuántas veces aparece cada valor o categoría. Esto puede ser en términos de frecuencia absoluta (conteo) o frecuencia relativa (proporción o porcentaje)."
      ],
      "metadata": {
        "id": "E_HuXYBVV1h1"
      }
    },
    {
      "cell_type": "code",
      "metadata": {
        "colab": {
          "base_uri": "https://localhost:8080/"
        },
        "id": "130b564f",
        "outputId": "075dccbb-4fd3-4d01-f1cf-ba171d64c3a0"
      },
      "source": [
        "# Calcular la tabla de frecuencias absolutas para la columna 'Sexo'\n",
        "frecuencia_absoluta_sexo = df_anemia['Sexo'].value_counts()\n",
        "print(\"Tabla de Frecuencia Absoluta para 'Sexo':\")\n",
        "print(frecuencia_absoluta_sexo)"
      ],
      "execution_count": null,
      "outputs": [
        {
          "output_type": "stream",
          "name": "stdout",
          "text": [
            "Tabla de Frecuencia Absoluta para 'Sexo':\n",
            "Sexo\n",
            "M    126255\n",
            "F    122638\n",
            "Name: count, dtype: int64\n"
          ]
        }
      ]
    },
    {
      "cell_type": "code",
      "metadata": {
        "colab": {
          "base_uri": "https://localhost:8080/"
        },
        "id": "512d3ac2",
        "outputId": "7bb08763-1338-4c06-ce33-8e71af91f6ed"
      },
      "source": [
        "# Calcular la tabla de frecuencias relativas para la columna 'Sexo'\n",
        "frecuencia_relativa_sexo = df_anemia['Sexo'].value_counts(normalize=True)\n",
        "print(\"\\nTabla de Frecuencia Relativa para 'Sexo':\")\n",
        "print(frecuencia_relativa_sexo)"
      ],
      "execution_count": null,
      "outputs": [
        {
          "output_type": "stream",
          "name": "stdout",
          "text": [
            "\n",
            "Tabla de Frecuencia Relativa para 'Sexo':\n",
            "Sexo\n",
            "M    0.507266\n",
            "F    0.492734\n",
            "Name: proportion, dtype: float64\n"
          ]
        }
      ]
    },
    {
      "cell_type": "markdown",
      "source": [
        "### 3.1.2. Distribuciones de frecuencia"
      ],
      "metadata": {
        "id": "hsFSHb6VOiPQ"
      }
    },
    {
      "cell_type": "markdown",
      "source": [
        "Similar a las tablas de frecuencia, pero a menudo utilizadas para datos cuantitativos continuos, donde los datos se agrupan en intervalos o clases. Esto ayuda a visualizar la forma de la distribución de los datos."
      ],
      "metadata": {
        "id": "yPI1B0mIVit9"
      }
    },
    {
      "cell_type": "code",
      "source": [
        "fig, axes = plt.subplots(nrows=1, ncols=1, figsize=(6, 2))\n",
        "axes.hist(df_met[\"temp_aire\"], bins=50, color='skyblue', edgecolor='black', density=False, alpha=0.7)\n",
        "axes.set_title(\"Distribucion de Temperaturas\")\n",
        "axes.grid(True, linestyle=\"--\")\n",
        "plt.show()"
      ],
      "metadata": {
        "id": "635EKrlrOmXZ",
        "colab": {
          "base_uri": "https://localhost:8080/",
          "height": 237
        },
        "outputId": "c5e25a06-b73d-4d87-9ef7-f68812c0aa8a"
      },
      "execution_count": null,
      "outputs": [
        {
          "output_type": "display_data",
          "data": {
            "text/plain": [
              "<Figure size 600x200 with 1 Axes>"
            ],
            "image/png": "[encoded data removed]"
          },
          "metadata": {}
        }
      ]
    },
    {
      "cell_type": "code",
      "source": [
        "fig, axes = plt.subplots(nrows=1, ncols=1, figsize=(6, 2))\n",
        "axes.hist(df_anemia[\"Edad\"], bins=50, color='purple', edgecolor='black', density=False, alpha=0.7)\n",
        "axes.set_title(\"Distribucion de Temperaturas\")\n",
        "axes.grid(True, linestyle=\"--\")\n",
        "plt.show()"
      ],
      "metadata": {
        "colab": {
          "base_uri": "https://localhost:8080/",
          "height": 237
        },
        "id": "5bzlLrD5sDoY",
        "outputId": "89a2e9f3-7a10-46f4-be37-b2e62acef57f"
      },
      "execution_count": null,
      "outputs": [
        {
          "output_type": "display_data",
          "data": {
            "text/plain": [
              "<Figure size 600x200 with 1 Axes>"
            ],
            "image/png": "[encoded data removed]"
          },
          "metadata": {}
        }
      ]
    },
    {
      "cell_type": "markdown",
      "source": [
        "### 3.1.3. Percentiles y cuartiles"
      ],
      "metadata": {
        "id": "5TIVnuqxOml6"
      }
    },
    {
      "cell_type": "markdown",
      "metadata": {
        "id": "83e770f9"
      },
      "source": [
        "### Percentiles y cuartiles\n",
        "\n",
        "Los percentiles y cuartiles son medidas de posición que dividen un conjunto de datos ordenado en partes iguales, proporcionando información sobre la distribución de los valores.\n",
        "\n",
        "*   **Percentiles:** Los percentiles dividen un conjunto de datos ordenado en 100 partes iguales. El percentil Pk es el valor por debajo del cual se encuentra el k% de los datos. Por ejemplo, el percentil 90 (P90) es el valor por debajo del cual se encuentra el 90% de los datos. Son útiles para entender la distribución de datos y comparar un valor individual con el resto del conjunto.\n",
        "\n",
        "*   **Cuartiles:** Los cuartiles son percentiles específicos que dividen el conjunto de datos ordenado en cuatro partes iguales:\n",
        "    *   **Primer cuartil (Q1):** Corresponde al percentil 25 (P25). Es el valor por debajo del cual se encuentra el 25% de los datos.\n",
        "    *   **Segundo cuartil (Q2):** Corresponde al percentil 50 (P50). Es la mediana, el valor que divide el conjunto de datos en dos mitades iguales.\n",
        "    *   **Tercer cuartil (Q3):** Corresponde al percentil 75 (P75). Es el valor por debajo del cual se encuentra el 75% de los datos.\n",
        "\n"
      ]
    },
    {
      "cell_type": "code",
      "metadata": {
        "colab": {
          "base_uri": "https://localhost:8080/"
        },
        "id": "d68bc661",
        "outputId": "039b567e-0612-49e9-ba8e-13fa63530cb7"
      },
      "source": [
        "# Calcular cuartiles (Q1, Q2, Q3)\n",
        "quartiles_hr = df_met['hr'].quantile([0.25, 0.5, 0.75])\n",
        "print(\"Cuartiles para 'hr':\")\n",
        "print(quartiles_hr)\n",
        "\n",
        "# Calcular percentiles (ejemplo: P10, P90)\n",
        "percentiles_hr = df_met['hr'].quantile([0.1, 0.9])\n",
        "print(\"\\nPercentiles para 'hr' (P10 y P90):\")\n",
        "print(percentiles_hr)\n",
        "\n",
        "# Calcular percentiles personalizados (ejemplo: P5, P50, P95)\n",
        "percentiles_personalizados_hr = df_met['hr'].quantile([0.05, 0.5, 0.95])\n",
        "print(\"\\nPercentiles personalizados para 'hr' (P5, P50 y P95):\")\n",
        "print(percentiles_personalizados_hr)"
      ],
      "execution_count": null,
      "outputs": [
        {
          "output_type": "stream",
          "name": "stdout",
          "text": [
            "Cuartiles para 'hr':\n",
            "0.25    45.031250\n",
            "0.50    57.937500\n",
            "0.75    70.885417\n",
            "Name: hr, dtype: float64\n",
            "\n",
            "Percentiles para 'hr' (P10 y P90):\n",
            "0.1    35.116667\n",
            "0.9    80.579167\n",
            "Name: hr, dtype: float64\n",
            "\n",
            "Percentiles personalizados para 'hr' (P5, P50 y P95):\n",
            "0.05    30.233333\n",
            "0.50    57.937500\n",
            "0.95    87.295833\n",
            "Name: hr, dtype: float64\n"
          ]
        }
      ]
    },
    {
      "cell_type": "markdown",
      "source": [
        "## 3.2. Medidas de Tendencia Central"
      ],
      "metadata": {
        "id": "bEst03D9rSih"
      }
    },
    {
      "cell_type": "markdown",
      "metadata": {
        "id": "927b4b3e"
      },
      "source": [
        "Las medidas de tendencia central son valores que buscan ubicar el centro de un conjunto de datos. Son estadísticas que resumen un conjunto de valores en un solo número que representa el \"centro\" o valor típico de la distribución. Son fundamentales para comprender la distribución de los datos y comparar diferentes conjuntos de datos.\n",
        "\n",
        "Las principales medidas de tendencia central son:\n",
        "\n",
        "*   **Media aritmética**\n",
        "*   **Mediana**\n",
        "*   **Moda**\n",
        "\n",
        "**¿Para qué sirven las medidas de tendencia central?**\n",
        "\n",
        "*   **Resumir datos:** Proporcionan un valor único que representa el conjunto de datos, facilitando su comprensión.\n",
        "*   **Comparar conjuntos de datos:** Permiten comparar el \"centro\" de diferentes distribuciones de datos.\n",
        "*   **Identificar valores típicos:** Ayudan a determinar cuál es el valor más representativo o común en un conjunto de datos.\n",
        "*   **Base para análisis posteriores:** Son el punto de partida para calcular otras medidas estadísticas y realizar análisis más complejos."
      ]
    },
    {
      "cell_type": "markdown",
      "source": [
        "### 3.2.1. Media aritmética"
      ],
      "metadata": {
        "id": "qOzEsy8uPC3k"
      }
    },
    {
      "cell_type": "markdown",
      "source": [
        "La media aritmética ($\\overline{x}$) es la suma de todos los valores en un conjunto de datos dividida por el número total de valores. Es la medida de tendencia central más común, pero es sensible a los valores atípicos (extremos)."
      ],
      "metadata": {
        "id": "_S-xQR76YF4A"
      }
    },
    {
      "cell_type": "markdown",
      "source": [
        "Sea $x$ una muestra de una población de **$n$** elementos.\n",
        "\n",
        "$x = (x_{1}, x_{2}, \\dots, x_{n})$\n",
        "\n",
        "$$\\overline{x} = \\frac{1}{n} \\sum_{i=1}^{n}x_{i}$$(eq:mediaAritmetica)"
      ],
      "metadata": {
        "id": "j2IG4bSxQYUL"
      }
    },
    {
      "cell_type": "code",
      "source": [
        "print(np.mean(df_met[\"temp_aire\"]))"
      ],
      "metadata": {
        "id": "FCK4CSiaPQ5q",
        "colab": {
          "base_uri": "https://localhost:8080/"
        },
        "outputId": "aeb6b105-46c2-404e-d8d8-4327ef78eb2d"
      },
      "execution_count": null,
      "outputs": [
        {
          "output_type": "stream",
          "name": "stdout",
          "text": [
            "15.556998502994013\n"
          ]
        }
      ]
    },
    {
      "cell_type": "code",
      "source": [
        "print(df_met[\"temp_aire\"].mean())"
      ],
      "metadata": {
        "colab": {
          "base_uri": "https://localhost:8080/"
        },
        "id": "oIXfnI9yzEjQ",
        "outputId": "9075e1d2-6515-4074-e453-62f90bd140ec"
      },
      "execution_count": null,
      "outputs": [
        {
          "output_type": "stream",
          "name": "stdout",
          "text": [
            "15.556998502994013\n"
          ]
        }
      ]
    },
    {
      "cell_type": "code",
      "source": [
        "print(stats.tmean(df_met[\"temp_aire\"]))"
      ],
      "metadata": {
        "colab": {
          "base_uri": "https://localhost:8080/"
        },
        "id": "L9jPU93pz_4n",
        "outputId": "b6285c71-e832-4c67-c6ce-80bf0f688ea7"
      },
      "execution_count": null,
      "outputs": [
        {
          "output_type": "stream",
          "name": "stdout",
          "text": [
            "15.556998502994013\n"
          ]
        }
      ]
    },
    {
      "cell_type": "markdown",
      "source": [
        "### 3.2.2. Mediana y moda"
      ],
      "metadata": {
        "id": "kvniUmdYPRGR"
      }
    },
    {
      "cell_type": "markdown",
      "source": [
        "La **mediana** el valor medio de un conjunto de datos cuando los datos están ordenados de menor a mayor. Si el número de datos es impar, la mediana es el valor central. Si el número de datos es par, la mediana es el promedio de los dos valores centrales. La mediana es menos sensible a los valores atípicos que la media.\n",
        "\n",
        "\n",
        "\n",
        "\n"
      ],
      "metadata": {
        "id": "sOA1xqU4YOhr"
      }
    },
    {
      "cell_type": "code",
      "source": [
        "print(np.median(df_met[\"hr\"]))"
      ],
      "metadata": {
        "colab": {
          "base_uri": "https://localhost:8080/"
        },
        "id": "H1UfbXbo0qxn",
        "outputId": "5188695f-85df-4a29-dad7-a3dcf9d39ce6"
      },
      "execution_count": null,
      "outputs": [
        {
          "output_type": "stream",
          "name": "stdout",
          "text": [
            "57.9375\n"
          ]
        }
      ]
    },
    {
      "cell_type": "code",
      "metadata": {
        "colab": {
          "base_uri": "https://localhost:8080/"
        },
        "id": "593d58dd",
        "outputId": "c9c50bdb-6b8f-49fc-bfae-07f25ff35d21"
      },
      "source": [
        "# Calcular la mediana para la columna 'hr'\n",
        "mediana_hr = df_met['hr'].median()\n",
        "print(\"Mediana para 'hr':\")\n",
        "print(mediana_hr)"
      ],
      "execution_count": null,
      "outputs": [
        {
          "output_type": "stream",
          "name": "stdout",
          "text": [
            "Mediana para 'hr':\n",
            "57.9375\n"
          ]
        }
      ]
    },
    {
      "cell_type": "markdown",
      "source": [
        " Por otro lado, la **moda** el valor que aparece con mayor frecuencia en un conjunto de datos. Un conjunto de datos puede tener una moda (unimodal), varias modas (multimodal) o ninguna moda. La moda es útil para datos categóricos o discretos."
      ],
      "metadata": {
        "id": "y18L70-W0ljg"
      }
    },
    {
      "cell_type": "code",
      "metadata": {
        "colab": {
          "base_uri": "https://localhost:8080/"
        },
        "id": "f39489fc",
        "outputId": "8591cb3d-30ea-4002-c0a5-6536dc2f6415"
      },
      "source": [
        "# Calcular la moda para la columna 'hr'\n",
        "moda_hr = df_met['hr'].mode()\n",
        "print(\"Moda para 'hr':\")\n",
        "print(moda_hr)"
      ],
      "execution_count": null,
      "outputs": [
        {
          "output_type": "stream",
          "name": "stdout",
          "text": [
            "Moda para 'hr':\n",
            "0    49.291667\n",
            "1    62.541667\n",
            "2    72.291667\n",
            "Name: hr, dtype: float64\n"
          ]
        }
      ]
    },
    {
      "cell_type": "markdown",
      "source": [
        "**Interpretación del resultado:**\n",
        " La moda para `'hr'` muestra tres valores (49.29, 62.54, y 72.29) porque estos tres valores aparecen con la misma frecuencia más alta en el conjunto de datos de la columna 'hr'. Esto significa que la distribución de 'hr' es multimodal, específicamente trimodal en este caso.\n",
        "\n"
      ],
      "metadata": {
        "id": "oRsn1sD114RI"
      }
    },
    {
      "cell_type": "code",
      "source": [
        "# Calcular la moda para la columna 'hr'\n",
        "moda_tipoEdad = df_anemia['Tipo_edad'].mode()\n",
        "print(\"Moda para 'Tipo_edad':\")\n",
        "print(moda_tipoEdad)"
      ],
      "metadata": {
        "colab": {
          "base_uri": "https://localhost:8080/"
        },
        "id": "Jshnii-h2p0d",
        "outputId": "096ef521-3acb-446a-f49c-d594a91cbcdf"
      },
      "execution_count": null,
      "outputs": [
        {
          "output_type": "stream",
          "name": "stdout",
          "text": [
            "Moda para 'Tipo_edad':\n",
            "0    A\n",
            "Name: Tipo_edad, dtype: object\n"
          ]
        }
      ]
    },
    {
      "cell_type": "markdown",
      "source": [
        "## 3.3. Medidas de Dispesión"
      ],
      "metadata": {
        "id": "z3LbDn7FOL97"
      }
    },
    {
      "cell_type": "markdown",
      "source": [
        "Las medidas de dispersión son indicadores estadísticos que describen cuánto se alejan o dispersan los valores de un conjunto de datos respecto a una medida de tendencia central (media, mediana).\n",
        "\n",
        "En otras palabras, mientras las medidas de tendencia central (media, mediana, moda) indican el centro de los datos, las medidas de dispersión muestran el grado de variabilidad o la homogeneidad de los datos."
      ],
      "metadata": {
        "id": "FeRWSHEV5WqW"
      }
    },
    {
      "cell_type": "markdown",
      "source": [
        "### 3.3.1. Varianza"
      ],
      "metadata": {
        "id": "M0xTLgaTPn2b"
      }
    },
    {
      "cell_type": "markdown",
      "source": [
        "La varianza es una medida estadística de dispersión que cuantifica cuánto se alejan los valores individuales de un conjunto de datos de su media (promedio). En esencia, mide la variabilidad o la \"dispersión\" de los datos alrededor de la media: una varianza alta indica que los datos están muy dispersos, mientras que una varianza baja significa que los valores están más concentrados cerca de la media.\n",
        "\n",
        "Sea $x$ una muestra de una población de **$n$** elementos.\n",
        "\n",
        "$x = (x_{1}, x_{2}, \\dots, x_{n})$\n",
        "\n",
        "$$\\mathbf{S}_{x}=\\mathbf{\\sigma}^{2}_{x} = \\frac{1}{n}\\sum_{i=1}^{n}(x_{i} -\\bar{x})^{2}$$(eq:varianza)"
      ],
      "metadata": {
        "id": "61vE3qHNRWGh"
      }
    },
    {
      "cell_type": "code",
      "source": [
        "print(np.var(df_met[\"temp_aire\"]))"
      ],
      "metadata": {
        "id": "ntv59mZvPtXb",
        "colab": {
          "base_uri": "https://localhost:8080/"
        },
        "outputId": "2ff61dc8-675b-4e67-9772-6e86d48f2ede"
      },
      "execution_count": null,
      "outputs": [
        {
          "output_type": "stream",
          "name": "stdout",
          "text": [
            "58.22304353384678\n"
          ]
        }
      ]
    },
    {
      "cell_type": "code",
      "source": [
        "print(df_met[\"temp_aire\"].var())"
      ],
      "metadata": {
        "colab": {
          "base_uri": "https://localhost:8080/"
        },
        "id": "liJlEKyG_kuS",
        "outputId": "227aaf42-d7b1-498b-fdeb-5843b9c9c32b"
      },
      "execution_count": null,
      "outputs": [
        {
          "output_type": "stream",
          "name": "stdout",
          "text": [
            "58.39788750842289\n"
          ]
        }
      ]
    },
    {
      "cell_type": "markdown",
      "source": [
        "### 3.3.2. Desviación estándar"
      ],
      "metadata": {
        "id": "2EoOsWjuPtiw"
      }
    },
    {
      "cell_type": "markdown",
      "source": [
        "La **desviación estándar** ($\\mathbf{\\sigma}$) es una medida estadística de dispersión que indica cuánto se desvían los valores de un conjunto de datos con respecto a su media (promedio). En otras palabras, mide la variabilidad o la dispersión de los datos: una desviación estándar baja indica que los valores están agrupados cerca de la media, mientras que una alta sugiere que los valores están más dispersos.\n",
        "\n",
        "Sea $x$ una muestra de una población de **$n$** elementos.\n",
        "\n",
        "$x = (x_{1}, x_{2}, \\dots, x_{n})$\n",
        "\n",
        "$$\\mathbf{\\sigma}_{x} = \\sqrt{\\frac{1}{n}\\sum_{i=1}^{n}(x_{i} - \\bar{x})^{2}}$$(eq:desviacionEstandar)"
      ],
      "metadata": {
        "id": "60R4Da0dSBpm"
      }
    },
    {
      "cell_type": "code",
      "source": [
        "print(np.std(df_met[\"temp_aire\"]))"
      ],
      "metadata": {
        "id": "jJY4uhaUP0PO",
        "colab": {
          "base_uri": "https://localhost:8080/"
        },
        "outputId": "b7bd5669-90f7-423c-ecfa-682bd3cbb192"
      },
      "execution_count": null,
      "outputs": [
        {
          "output_type": "stream",
          "name": "stdout",
          "text": [
            "7.630402580063962\n"
          ]
        }
      ]
    },
    {
      "cell_type": "code",
      "source": [
        "print(df_met[\"temp_aire\"].std())"
      ],
      "metadata": {
        "colab": {
          "base_uri": "https://localhost:8080/"
        },
        "id": "GTcUbh4BBAkI",
        "outputId": "219b58e9-2aa6-412e-94e9-a58b81a3098e"
      },
      "execution_count": null,
      "outputs": [
        {
          "output_type": "stream",
          "name": "stdout",
          "text": [
            "7.6418510524887155\n"
          ]
        }
      ]
    },
    {
      "cell_type": "markdown",
      "source": [
        "### 3.3.3. Rango intercuartil"
      ],
      "metadata": {
        "id": "TblVfUJKP0bg"
      }
    },
    {
      "cell_type": "markdown",
      "source": [
        "El rango intercuartil (RIQ o IQR, por sus siglas en inglés: Interquartile Range) es una medida de dispersión estadística que representa la diferencia entre el tercer cuartil (Q3) y el primer cuartil (Q1) de un conjunto de datos ordenado. En otras palabras, mide la amplitud del 50% central de los datos, excluyendo los valores extremos, y es una herramienta clave en estadística descriptiva para entender la variabilidad de un conjunto de datos.\n",
        "\n",
        "Sea $x$ una muestra de una población de **$n$** elementos.\n",
        "\n",
        "$x = (x_{1}, x_{2}, \\dots, x_{n})$\n",
        "\n",
        "$$RIQ = Q_{3} - Q_{1}$$(eq:rangoIntercuartil)"
      ],
      "metadata": {
        "id": "OwmiBmS7Sfdy"
      }
    },
    {
      "cell_type": "code",
      "source": [],
      "metadata": {
        "id": "UsxQG4gdP_bW"
      },
      "execution_count": null,
      "outputs": []
    },
    {
      "cell_type": "code",
      "metadata": {
        "colab": {
          "base_uri": "https://localhost:8080/"
        },
        "id": "be3e8e71",
        "outputId": "e10a4cec-8dcc-4ce9-efa4-3e0626e7b052"
      },
      "source": [
        "# Calcular el primer cuartil (Q1) y el tercer cuartil (Q3)\n",
        "Q1_hr = df_met['hr'].quantile(0.25)\n",
        "Q3_hr = df_met['hr'].quantile(0.75)\n",
        "\n",
        "# Calcular el Rango Intercuartil (RIQ)\n",
        "RIQ_hr = Q3_hr - Q1_hr\n",
        "\n",
        "print(f\"El Rango Intercuartil (RIQ) para 'hr' es: {RIQ_hr}\")"
      ],
      "execution_count": null,
      "outputs": [
        {
          "output_type": "stream",
          "name": "stdout",
          "text": [
            "El Rango Intercuartil (RIQ) para 'hr' es: 25.85416666666667\n"
          ]
        }
      ]
    },
    {
      "cell_type": "markdown",
      "source": [
        "### 3.4. Medidas de Asociación"
      ],
      "metadata": {
        "id": "0-5ZiOkMW1Jv"
      }
    },
    {
      "cell_type": "markdown",
      "source": [
        "En estadística, además de las medidas de tendencia central y dispersión, existen las medidas de relación o correlación, que cuantifican la intensidad y dirección de la asociación entre dos o más variables."
      ],
      "metadata": {
        "id": "MD1nWp9CEDrB"
      }
    },
    {
      "cell_type": "markdown",
      "source": [
        "### 3.4.1. Covarianza"
      ],
      "metadata": {
        "id": "73M1jCf-W8W3"
      }
    },
    {
      "cell_type": "markdown",
      "source": [
        "La covarianza es una medida estadística que indica el grado de asociación lineal entre dos variables aleatorias.\n",
        "\n",
        "Sea $x$ é $y$ dos muestras distintas de **$n$** elementos.\n",
        "\n",
        "$x = (x_{1}, x_{2}, \\dots, x_{n})$\n",
        "\n",
        "$y = (y_{1}, y_{2}, \\dots, y_{n})$\n",
        "\n",
        "$$\\mathbf{S}_{xy} = \\frac{1}{n}\\sum_{i=1}^{n}(x_{i} - \\bar{x})(y_{i} - \\bar{y})$$(eq:covarianza)"
      ],
      "metadata": {
        "id": "Ul-AEjejXAjA"
      }
    },
    {
      "cell_type": "code",
      "metadata": {
        "colab": {
          "base_uri": "https://localhost:8080/"
        },
        "id": "2ad57591",
        "outputId": "5dd6003d-52ca-4817-a2d8-db51c847d576"
      },
      "source": [
        "# Extraer las columnas como arrays de numpy\n",
        "temp_aire_np = df_met['temp_aire'].values\n",
        "rxn_solar_np = df_met['rxn_solar'].values\n",
        "\n",
        "# Calcular la matriz de covarianza usando numpy\n",
        "cov_matrix = np.cov(temp_aire_np, rxn_solar_np)\n",
        "\n",
        "# La covarianza entre las dos variables es el elemento fuera de la diagonal\n",
        "covarianza_np = cov_matrix[0, 1]\n",
        "\n",
        "print(f\"La covarianza entre 'temp_aire' y 'rxn_solar' usando numpy es: {covarianza_np}\")"
      ],
      "execution_count": null,
      "outputs": [
        {
          "output_type": "stream",
          "name": "stdout",
          "text": [
            "La covarianza entre 'temp_aire' y 'rxn_solar' usando numpy es: 548.19588369245\n"
          ]
        }
      ]
    },
    {
      "cell_type": "code",
      "metadata": {
        "colab": {
          "base_uri": "https://localhost:8080/"
        },
        "id": "472f7908",
        "outputId": "9bfe6ce2-2ca8-45ca-85d5-826f3fe39b8a"
      },
      "source": [
        "# Calcular la covarianza entre 'temp_aire' y 'rxn_solar'\n",
        "covarianza_temp_rxn = df_met['temp_aire'].cov(df_met['rxn_solar'])\n",
        "print(f\"La covarianza entre 'temp_aire' y 'rxn_solar' es: {covarianza_temp_rxn}\")"
      ],
      "execution_count": null,
      "outputs": [
        {
          "output_type": "stream",
          "name": "stdout",
          "text": [
            "La covarianza entre 'temp_aire' y 'rxn_solar' es: 548.19588369245\n"
          ]
        }
      ]
    },
    {
      "cell_type": "markdown",
      "source": [
        "### 3.4.1 Coeficiente de correlación de Pearson"
      ],
      "metadata": {
        "id": "CMsDMWrvFEp_"
      }
    },
    {
      "cell_type": "markdown",
      "source": [
        "El **coeficiente de correlación de Pearson** ($r$) mide la fuerza y dirección de la relación lineal entre dos variables cuantitativas.\n",
        "\n",
        "Sea $x$ é $y$ dos muestras distintas de **$n$** elementos.\n",
        "\n",
        "$x = (x_{1}, x_{2}, \\dots, x_{n})$\n",
        "\n",
        "$y = (y_{1}, y_{2}, \\dots, y_{n})$\n",
        "\n",
        "$$\n",
        "r = \\frac{\\sum_{i=1}^{n} (x_i - \\bar{x})(y_i - \\bar{y})}{\\sqrt{\\sum_{i=1}^{n} (x_i - \\bar{x})^2} \\; \\sqrt{\\sum_{i=1}^{n} (y_i - \\bar{y})^2}}\n",
        "$$(eq:correlacionPearson)\n",
        "\n"
      ],
      "metadata": {
        "id": "YmKCKItaFP_h"
      }
    },
    {
      "cell_type": "code",
      "metadata": {
        "colab": {
          "base_uri": "https://localhost:8080/"
        },
        "id": "0f6d4ca4",
        "outputId": "9d4bef30-9767-4f46-e92d-597776735f1b"
      },
      "source": [
        "# Calcular el coeficiente de Pearson usando pandas\n",
        "pearson_corr_pandas = df_met['temp_aire'].corr(df_met['rxn_solar'])\n",
        "print(f\"Coeficiente de Pearson (pandas): {pearson_corr_pandas}\")\n",
        "\n",
        "# Calcular el coeficiente de Pearson usando numpy\n",
        "pearson_corr_numpy = np.corrcoef(df_met['temp_aire'], df_met['rxn_solar'])[0, 1]\n",
        "print(f\"Coeficiente de Pearson (numpy): {pearson_corr_numpy}\")\n",
        "\n",
        "# Calcular el coeficiente de Pearson usando scipy.stats\n",
        "pearson_corr_stats, _ = stats.pearsonr(df_met['temp_aire'], df_met['rxn_solar'])\n",
        "print(f\"Coeficiente de Pearson (scipy.stats): {pearson_corr_stats}\")"
      ],
      "execution_count": null,
      "outputs": [
        {
          "output_type": "stream",
          "name": "stdout",
          "text": [
            "Coeficiente de Pearson (pandas): 0.7463695395822112\n",
            "Coeficiente de Pearson (numpy): 0.7463695395822112\n",
            "Coeficiente de Pearson (scipy.stats): 0.7463695395822112\n"
          ]
        }
      ]
    },
    {
      "cell_type": "markdown",
      "source": [
        "# **IV. Referencias**\n",
        "\n",
        "**Libros y manuales**\n",
        "\n",
        "- [Libro de estadisitica con python]( https://www.editorial-sciela.org/index.php/sciela/article/view/16/49)\n",
        "\n",
        "\n",
        "\n",
        "- [Introducción a la teoria de probabilidades](https://ciladi.org/wp-content/uploads/Version_final_Introduccion-Probabilidad-Python-vf_Bayas-3.pdf)\n",
        "\n",
        "  \n",
        "\n",
        "- [Guía practica de análsis exploratorio de python](https://datos.gob.es/sites/default/files/doc/file/guia_eda_python.pdf)\n",
        "\n",
        "\n",
        "**Cursos en linea**\n",
        "\n",
        "- [Estadística W3School](https://www.w3schools.com/statistics/index.php)\n",
        "\n",
        "- [Estadística con python](https://docs.python.org/es/3/library/statistics.html)\n",
        "\n",
        "- [Kaggle](https://www.kaggle.com/code/saurav9786/statistics-for-data-scientists)\n",
        "\n",
        "**Chatbots de inteligencia artifical**\n",
        "\n",
        "[Gemini iA](https://gemini.google.com), [DeepSeek](https://www.deepseek.com/), [Chat GPT](https://chatgpt.com/), [Claude IA](https://claude.ai/) y [Julius IA](https://julius.ai)\n",
        "\n"
      ],
      "metadata": {
        "id": "soydKrE0mpsQ"
      }
    }
  ]
}